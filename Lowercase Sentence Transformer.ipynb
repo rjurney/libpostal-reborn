{
 "cells": [
  {
   "cell_type": "code",
   "execution_count": 2,
   "id": "2d1d27d2-ffef-40a2-aa45-b5855c36cc38",
   "metadata": {},
   "outputs": [],
   "source": [
    "import json\n",
    "import logging\n",
    "import os\n",
    "import random\n",
    "import re\n",
    "import sys\n",
    "import time\n",
    "import warnings\n",
    "from numbers import Number\n",
    "from typing import Callable, Dict, List, Literal, Sequence, Tuple, Union\n",
    "\n",
    "import matplotlib.pyplot as plt\n",
    "import numpy as np\n",
    "import pandas as pd\n",
    "import pyarrow as pa\n",
    "import pyarrow.parquet as pq\n",
    "import pyarrow.dataset as ds\n",
    "import pytest\n",
    "import random\n",
    "import seaborn as sns\n",
    "import torch\n",
    "import torch.nn as nn\n",
    "import torch.nn.functional as F\n",
    "import wandb\n",
    "from datasets import Dataset\n",
    "from fuzzywuzzy import fuzz\n",
    "\n",
    "from postal.parser import parse_address\n",
    "from scipy.spatial import distance\n",
    "from sklearn.metrics import (\n",
    "    accuracy_score,\n",
    "    precision_recall_curve,\n",
    "    precision_recall_fscore_support,\n",
    "    precision_score,\n",
    "    recall_score,\n",
    "    f1_score,\n",
    "    roc_auc_score,\n",
    "    roc_curve,\n",
    "    auc\n",
    ")\n",
    "from sklearn.model_selection import train_test_split\n",
    "from sentence_transformers import InputExample, SentenceTransformer, SentencesDataset, SentenceTransformerTrainer, losses\n",
    "from sentence_transformers.evaluation import EmbeddingSimilarityEvaluator, SimilarityFunction, BinaryClassificationEvaluator\n",
    "from sentence_transformers.model_card import SentenceTransformerModelCardData\n",
    "from sentence_transformers.training_args import BatchSamplers, SentenceTransformerTrainingArguments\n",
    "from tenacity import retry\n",
    "from torch.utils.data import DataLoader\n",
    "from torch.optim import RAdam\n",
    "from tqdm.autonotebook import tqdm\n",
    "from transformers import AutoTokenizer, AutoModel, EarlyStoppingCallback, TrainingArguments, Trainer\n",
    "from transformers.integrations import WandbCallback\n",
    "\n",
    "from utils import (\n",
    "    augment_gold_labels,\n",
    "    compute_sbert_metrics,\n",
    "    compute_classifier_metrics,\n",
    "    format_dataset,\n",
    "    gold_label_report,\n",
    "    preprocess_logits_for_metrics,\n",
    "    structured_encode_address,\n",
    "    tokenize_function,\n",
    "    to_dict,\n",
    "    save_custom_model,\n",
    "    load_custom_model,\n",
    ")"
   ]
  },
  {
   "cell_type": "code",
   "execution_count": 3,
   "id": "fa237d5a-7e6d-47f5-a74c-ead8b43c8e90",
   "metadata": {},
   "outputs": [],
   "source": [
    "RANDOM_SEED = 31337\n",
    "\n",
    "random.seed(RANDOM_SEED)\n",
    "np.random.seed(RANDOM_SEED)\n",
    "torch.manual_seed(RANDOM_SEED)\n",
    "torch.mps.manual_seed(RANDOM_SEED)"
   ]
  },
  {
   "cell_type": "code",
   "execution_count": 4,
   "id": "dc2b8fc5-da12-44a4-ae03-03110722728a",
   "metadata": {},
   "outputs": [],
   "source": [
    "logging.basicConfig(stream=sys.stderr, level=logging.ERROR)\n",
    "\n",
    "logger = logging.getLogger(__name__)"
   ]
  },
  {
   "cell_type": "code",
   "execution_count": 5,
   "id": "9e6d96b8-82cb-4b40-8f81-002af35b6e5f",
   "metadata": {},
   "outputs": [],
   "source": [
    "warnings.simplefilter('ignore', FutureWarning)"
   ]
  },
  {
   "cell_type": "code",
   "execution_count": 6,
   "id": "308eed41-61ac-4b10-87a1-248eb1fd3f4c",
   "metadata": {},
   "outputs": [],
   "source": [
    "os.environ[\"WANDB_LOG_MODEL\"] = \"end\"\n",
    "os.environ[\"WANDB_WATCH\"] = \"gradients\"\n",
    "os.environ[\"WANDB_PROJECT\"] = \"libpostal-reborn\"\n",
    "os.environ[\"WANDB_DISABLED\"] = \"false\"\n",
    "os.environ[\"WANDB_IGNORE_GLOBS\"] = \".env\""
   ]
  },
  {
   "cell_type": "code",
   "execution_count": 7,
   "id": "be17a702-3250-4bee-bdd9-a0e0dba03494",
   "metadata": {},
   "outputs": [],
   "source": [
    "os.environ[\"WANDB_MODE\"] = \"online\""
   ]
  },
  {
   "cell_type": "code",
   "execution_count": 8,
   "id": "34469b1c-a8e0-4321-aad8-6c97db706f03",
   "metadata": {},
   "outputs": [],
   "source": [
    "os.environ[\"HF_ENDPOINT\"] = \"https://huggingface.co/\""
   ]
  },
  {
   "cell_type": "code",
   "execution_count": 9,
   "id": "95a0b5d7-4747-4539-95a3-60dd6fed0929",
   "metadata": {},
   "outputs": [],
   "source": [
    "os.environ[\"TOKENIZERS_PARALLELISM\"] = \"false\""
   ]
  },
  {
   "cell_type": "code",
   "execution_count": 10,
   "id": "470efbd7-98b1-4cd5-ae0c-f2258f3bc40c",
   "metadata": {},
   "outputs": [],
   "source": [
    "pd.set_option(\"display.max_rows\", 40)\n",
    "pd.set_option(\"display.max_columns\", None)"
   ]
  },
  {
   "cell_type": "code",
   "execution_count": 11,
   "id": "68b2edfc-cd70-4def-a829-2ecdc6d7bc8b",
   "metadata": {},
   "outputs": [
    {
     "data": {
      "text/plain": [
       "device(type='cuda')"
      ]
     },
     "execution_count": 11,
     "metadata": {},
     "output_type": "execute_result"
    }
   ],
   "source": [
    "# Check for CUDA or MPS availability and set the device\n",
    "if torch.backends.mps.is_available():\n",
    "    device = torch.device(\"mps\")\n",
    "    logger.debug(\"Using Apple GPU acceleration\")\n",
    "elif torch.cuda.is_available():\n",
    "    device = torch.device(\"cuda\")\n",
    "    logger.debug(\"Using NVIDIA CUDA GPU acceleration\")\n",
    "else:\n",
    "    device = \"cpu\"\n",
    "    logger.debug(\"Using CPU for ML\")\n",
    "\n",
    "device"
   ]
  },
  {
   "cell_type": "code",
   "execution_count": 12,
   "id": "83d3b8a0-c952-4140-b612-6044e0a3a7b1",
   "metadata": {},
   "outputs": [
    {
     "name": "stderr",
     "output_type": "stream",
     "text": [
      "\u001b[34m\u001b[1mwandb\u001b[0m: Currently logged in as: \u001b[33mrjurney\u001b[0m. Use \u001b[1m`wandb login --relogin`\u001b[0m to force relogin\n"
     ]
    },
    {
     "data": {
      "text/plain": [
       "True"
      ]
     },
     "execution_count": 12,
     "metadata": {},
     "output_type": "execute_result"
    }
   ],
   "source": [
    "# Login to wandb. Comment out if you already haven't via `wandb login` from a CLI\n",
    "wandb.login()"
   ]
  },
  {
   "cell_type": "markdown",
   "id": "8e494a22-223d-4c1c-834c-3d17cf8ab285",
   "metadata": {},
   "source": [
    "## Load our Datasets"
   ]
  },
  {
   "cell_type": "code",
   "execution_count": 14,
   "id": "22198f41-91f5-4542-8db2-ddab19e0b79d",
   "metadata": {},
   "outputs": [],
   "source": [
    "gold_df = pd.read_csv(\"data/gold.csv\")"
   ]
  },
  {
   "cell_type": "code",
   "execution_count": 15,
   "id": "4d0e8980-8eb8-455e-a5a3-31b3597b1bc9",
   "metadata": {},
   "outputs": [
    {
     "data": {
      "text/html": [
       "<div>\n",
       "<style scoped>\n",
       "    .dataframe tbody tr th:only-of-type {\n",
       "        vertical-align: middle;\n",
       "    }\n",
       "\n",
       "    .dataframe tbody tr th {\n",
       "        vertical-align: top;\n",
       "    }\n",
       "\n",
       "    .dataframe thead th {\n",
       "        text-align: right;\n",
       "    }\n",
       "</style>\n",
       "<table border=\"1\" class=\"dataframe\">\n",
       "  <thead>\n",
       "    <tr style=\"text-align: right;\">\n",
       "      <th></th>\n",
       "      <th>Address1</th>\n",
       "      <th>Address2</th>\n",
       "      <th>Description</th>\n",
       "      <th>Label</th>\n",
       "    </tr>\n",
       "  </thead>\n",
       "  <tbody>\n",
       "    <tr>\n",
       "      <th>0</th>\n",
       "      <td>123 E Main St, Springfield, IL 62701</td>\n",
       "      <td>123 East Main Street, Springfield, Illinois 62701</td>\n",
       "      <td>Different directional prefix formats for same ...</td>\n",
       "      <td>1.0</td>\n",
       "    </tr>\n",
       "    <tr>\n",
       "      <th>1</th>\n",
       "      <td>456 W Elm St, Boston, MA 02118</td>\n",
       "      <td>456 West Elm Street, Boston, Massachusetts 02118</td>\n",
       "      <td>Different directional prefix formats for same ...</td>\n",
       "      <td>1.0</td>\n",
       "    </tr>\n",
       "    <tr>\n",
       "      <th>2</th>\n",
       "      <td>789 S Oak St, Denver, CO 80203</td>\n",
       "      <td>789 South Oak Street, Denver, Colorado 80203</td>\n",
       "      <td>Different directional prefix formats for same ...</td>\n",
       "      <td>1.0</td>\n",
       "    </tr>\n",
       "    <tr>\n",
       "      <th>3</th>\n",
       "      <td>321 N Pine St, Seattle, WA 98101</td>\n",
       "      <td>321 North Pine Street, Seattle, Washington 98101</td>\n",
       "      <td>Different directional prefix formats for same ...</td>\n",
       "      <td>1.0</td>\n",
       "    </tr>\n",
       "    <tr>\n",
       "      <th>4</th>\n",
       "      <td>654 E Maple St, Austin, TX 73301</td>\n",
       "      <td>654 East Maple Street, Austin, Texas 73301</td>\n",
       "      <td>Different directional prefix formats for same ...</td>\n",
       "      <td>1.0</td>\n",
       "    </tr>\n",
       "    <tr>\n",
       "      <th>5</th>\n",
       "      <td>987 W Cedar St, San Francisco, CA 94102</td>\n",
       "      <td>987 West Cedar Street, San Francisco, Californ...</td>\n",
       "      <td>Different directional prefix formats for same ...</td>\n",
       "      <td>1.0</td>\n",
       "    </tr>\n",
       "    <tr>\n",
       "      <th>6</th>\n",
       "      <td>246 S Birch St, New York, NY 10001</td>\n",
       "      <td>246 South Birch Street, New York, New York 10001</td>\n",
       "      <td>Different directional prefix formats for same ...</td>\n",
       "      <td>1.0</td>\n",
       "    </tr>\n",
       "    <tr>\n",
       "      <th>7</th>\n",
       "      <td>135 N Cedar Ave, Chicago, IL 60601</td>\n",
       "      <td>135 North Cedar Avenue, Chicago, Illinois 60601</td>\n",
       "      <td>Different directional prefix formats for same ...</td>\n",
       "      <td>1.0</td>\n",
       "    </tr>\n",
       "    <tr>\n",
       "      <th>8</th>\n",
       "      <td>864 E Pine Ave, Los Angeles, CA 90001</td>\n",
       "      <td>864 East Pine Avenue, Los Angeles, California ...</td>\n",
       "      <td>Different directional prefix formats for same ...</td>\n",
       "      <td>1.0</td>\n",
       "    </tr>\n",
       "    <tr>\n",
       "      <th>9</th>\n",
       "      <td>753 W Spruce St, Houston, TX 77001</td>\n",
       "      <td>753 West Spruce Street, Houston, Texas 77001</td>\n",
       "      <td>Different directional prefix formats for same ...</td>\n",
       "      <td>1.0</td>\n",
       "    </tr>\n",
       "    <tr>\n",
       "      <th>10</th>\n",
       "      <td>159 S Maple Ave, Phoenix, AZ 85001</td>\n",
       "      <td>159 South Maple Avenue, Phoenix, Arizona 85001</td>\n",
       "      <td>Different directional prefix formats for same ...</td>\n",
       "      <td>1.0</td>\n",
       "    </tr>\n",
       "    <tr>\n",
       "      <th>11</th>\n",
       "      <td>357 N Oak St, Philadelphia, PA 19102</td>\n",
       "      <td>357 North Oak Street, Philadelphia, Pennsylvan...</td>\n",
       "      <td>Different directional prefix formats for same ...</td>\n",
       "      <td>1.0</td>\n",
       "    </tr>\n",
       "    <tr>\n",
       "      <th>12</th>\n",
       "      <td>468 E Birch Ave, San Antonio, TX 78201</td>\n",
       "      <td>468 East Birch Avenue, San Antonio, Texas 78201</td>\n",
       "      <td>Different directional prefix formats for same ...</td>\n",
       "      <td>1.0</td>\n",
       "    </tr>\n",
       "    <tr>\n",
       "      <th>13</th>\n",
       "      <td>579 W Cedar St, Dallas, TX 75201</td>\n",
       "      <td>579 West Cedar Street, Dallas, Texas 75201</td>\n",
       "      <td>Different directional prefix formats for same ...</td>\n",
       "      <td>1.0</td>\n",
       "    </tr>\n",
       "    <tr>\n",
       "      <th>14</th>\n",
       "      <td>681 S Pine Ave, San Jose, CA 95101</td>\n",
       "      <td>681 South Pine Avenue, San Jose, California 95101</td>\n",
       "      <td>Different directional prefix formats for same ...</td>\n",
       "      <td>1.0</td>\n",
       "    </tr>\n",
       "    <tr>\n",
       "      <th>15</th>\n",
       "      <td>792 N Maple St, Jacksonville, FL 32201</td>\n",
       "      <td>792 North Maple Street, Jacksonville, Florida ...</td>\n",
       "      <td>Different directional prefix formats for same ...</td>\n",
       "      <td>1.0</td>\n",
       "    </tr>\n",
       "    <tr>\n",
       "      <th>16</th>\n",
       "      <td>903 E Oak St, Columbus, OH 43201</td>\n",
       "      <td>903 East Oak Street, Columbus, Ohio 43201</td>\n",
       "      <td>Different directional prefix formats for same ...</td>\n",
       "      <td>1.0</td>\n",
       "    </tr>\n",
       "    <tr>\n",
       "      <th>17</th>\n",
       "      <td>104 W Elm Ave, Charlotte, NC 28201</td>\n",
       "      <td>104 West Elm Avenue, Charlotte, North Carolina...</td>\n",
       "      <td>Different directional prefix formats for same ...</td>\n",
       "      <td>1.0</td>\n",
       "    </tr>\n",
       "    <tr>\n",
       "      <th>18</th>\n",
       "      <td>215 S Cedar St, Indianapolis, IN 46201</td>\n",
       "      <td>215 South Cedar Street, Indianapolis, Indiana ...</td>\n",
       "      <td>Different directional prefix formats for same ...</td>\n",
       "      <td>1.0</td>\n",
       "    </tr>\n",
       "    <tr>\n",
       "      <th>19</th>\n",
       "      <td>326 N Pine Ave, Fort Worth, TX 76101</td>\n",
       "      <td>326 North Pine Avenue, Fort Worth, Texas 76101</td>\n",
       "      <td>Different directional prefix formats for same ...</td>\n",
       "      <td>1.0</td>\n",
       "    </tr>\n",
       "  </tbody>\n",
       "</table>\n",
       "</div>"
      ],
      "text/plain": [
       "                                   Address1  \\\n",
       "0      123 E Main St, Springfield, IL 62701   \n",
       "1            456 W Elm St, Boston, MA 02118   \n",
       "2            789 S Oak St, Denver, CO 80203   \n",
       "3          321 N Pine St, Seattle, WA 98101   \n",
       "4          654 E Maple St, Austin, TX 73301   \n",
       "5   987 W Cedar St, San Francisco, CA 94102   \n",
       "6        246 S Birch St, New York, NY 10001   \n",
       "7        135 N Cedar Ave, Chicago, IL 60601   \n",
       "8     864 E Pine Ave, Los Angeles, CA 90001   \n",
       "9        753 W Spruce St, Houston, TX 77001   \n",
       "10       159 S Maple Ave, Phoenix, AZ 85001   \n",
       "11     357 N Oak St, Philadelphia, PA 19102   \n",
       "12   468 E Birch Ave, San Antonio, TX 78201   \n",
       "13         579 W Cedar St, Dallas, TX 75201   \n",
       "14       681 S Pine Ave, San Jose, CA 95101   \n",
       "15   792 N Maple St, Jacksonville, FL 32201   \n",
       "16         903 E Oak St, Columbus, OH 43201   \n",
       "17       104 W Elm Ave, Charlotte, NC 28201   \n",
       "18   215 S Cedar St, Indianapolis, IN 46201   \n",
       "19     326 N Pine Ave, Fort Worth, TX 76101   \n",
       "\n",
       "                                             Address2  \\\n",
       "0   123 East Main Street, Springfield, Illinois 62701   \n",
       "1    456 West Elm Street, Boston, Massachusetts 02118   \n",
       "2        789 South Oak Street, Denver, Colorado 80203   \n",
       "3    321 North Pine Street, Seattle, Washington 98101   \n",
       "4          654 East Maple Street, Austin, Texas 73301   \n",
       "5   987 West Cedar Street, San Francisco, Californ...   \n",
       "6    246 South Birch Street, New York, New York 10001   \n",
       "7     135 North Cedar Avenue, Chicago, Illinois 60601   \n",
       "8   864 East Pine Avenue, Los Angeles, California ...   \n",
       "9        753 West Spruce Street, Houston, Texas 77001   \n",
       "10     159 South Maple Avenue, Phoenix, Arizona 85001   \n",
       "11  357 North Oak Street, Philadelphia, Pennsylvan...   \n",
       "12    468 East Birch Avenue, San Antonio, Texas 78201   \n",
       "13         579 West Cedar Street, Dallas, Texas 75201   \n",
       "14  681 South Pine Avenue, San Jose, California 95101   \n",
       "15  792 North Maple Street, Jacksonville, Florida ...   \n",
       "16          903 East Oak Street, Columbus, Ohio 43201   \n",
       "17  104 West Elm Avenue, Charlotte, North Carolina...   \n",
       "18  215 South Cedar Street, Indianapolis, Indiana ...   \n",
       "19     326 North Pine Avenue, Fort Worth, Texas 76101   \n",
       "\n",
       "                                          Description  Label  \n",
       "0   Different directional prefix formats for same ...    1.0  \n",
       "1   Different directional prefix formats for same ...    1.0  \n",
       "2   Different directional prefix formats for same ...    1.0  \n",
       "3   Different directional prefix formats for same ...    1.0  \n",
       "4   Different directional prefix formats for same ...    1.0  \n",
       "5   Different directional prefix formats for same ...    1.0  \n",
       "6   Different directional prefix formats for same ...    1.0  \n",
       "7   Different directional prefix formats for same ...    1.0  \n",
       "8   Different directional prefix formats for same ...    1.0  \n",
       "9   Different directional prefix formats for same ...    1.0  \n",
       "10  Different directional prefix formats for same ...    1.0  \n",
       "11  Different directional prefix formats for same ...    1.0  \n",
       "12  Different directional prefix formats for same ...    1.0  \n",
       "13  Different directional prefix formats for same ...    1.0  \n",
       "14  Different directional prefix formats for same ...    1.0  \n",
       "15  Different directional prefix formats for same ...    1.0  \n",
       "16  Different directional prefix formats for same ...    1.0  \n",
       "17  Different directional prefix formats for same ...    1.0  \n",
       "18  Different directional prefix formats for same ...    1.0  \n",
       "19  Different directional prefix formats for same ...    1.0  "
      ]
     },
     "execution_count": 15,
     "metadata": {},
     "output_type": "execute_result"
    }
   ],
   "source": [
    "# If you want to start from here and not run the data augmentation pipeline again...\n",
    "augment_results_df = pd.read_parquet(\"data/training.6.parquet\")\n",
    "\n",
    "augment_results_df.head(20)"
   ]
  },
  {
   "cell_type": "markdown",
   "id": "9e1ed7de-cf9e-4bd2-af0f-1c96a12ab3dd",
   "metadata": {},
   "source": [
    "### Fine-Tuning a Lowercase `SentenceTransformer`\n",
    "\n",
    "Libposstal lowercases the address parts it produces, so we need to train a lowercase `SentenceTransformer` model. We can then load the weights of this pre-trained model as the embedding layers rather than the raw pre-trained embeddings we get from Huggingface Hub."
   ]
  },
  {
   "cell_type": "markdown",
   "id": "e1b26946-c186-418d-b188-07e93582ce74",
   "metadata": {},
   "source": [
    "#### Lowercase our Dataset"
   ]
  },
  {
   "cell_type": "code",
   "execution_count": 16,
   "id": "6cb841b1-93fb-4d76-a65d-2cc983777f83",
   "metadata": {},
   "outputs": [],
   "source": [
    "lower_augment_results_df = augment_results_df.copy(deep=True)\n",
    "\n",
    "lower_augment_results_df[\"Address1\"] = lower_augment_results_df[\"Address1\"].str.lower()\n",
    "lower_augment_results_df[\"Address2\"] = lower_augment_results_df[\"Address2\"].str.lower()"
   ]
  },
  {
   "cell_type": "code",
   "execution_count": 17,
   "id": "1ae700b6-50f0-4f07-b86e-37324d046f83",
   "metadata": {},
   "outputs": [
    {
     "name": "stdout",
     "output_type": "stream",
     "text": [
      "Training data:   8,024\n",
      "Validation data: 1,003\n",
      "Test data        1,003\n"
     ]
    }
   ],
   "source": [
    "train_df, tmp_df = train_test_split(lower_augment_results_df, test_size=0.2, shuffle=True)\n",
    "eval_df, test_df = train_test_split(tmp_df, test_size=0.5, random_state=42, shuffle=True)\n",
    "\n",
    "train_dataset = Dataset.from_dict({\n",
    "    \"sentence1\": train_df[\"Address1\"].tolist(),\n",
    "    \"sentence2\": train_df[\"Address2\"].tolist(),\n",
    "    \"label\": train_df[\"Label\"].tolist(),\n",
    "})\n",
    "\n",
    "eval_dataset = Dataset.from_dict({\n",
    "    \"sentence1\": eval_df[\"Address1\"].tolist(),\n",
    "    \"sentence2\": eval_df[\"Address2\"].tolist(),\n",
    "    \"label\": eval_df[\"Label\"].tolist(),\n",
    "})\n",
    "\n",
    "test_dataset = Dataset.from_dict({\n",
    "    \"sentence1\": test_df[\"Address1\"].tolist(),\n",
    "    \"sentence2\": test_df[\"Address2\"].tolist(),\n",
    "    \"label\": test_df[\"Label\"].tolist(),\n",
    "})\n",
    "\n",
    "print(f\"Training data:   {len(train_df):,}\")\n",
    "print(f\"Validation data: {len(eval_df):,}\")\n",
    "print(f\"Test data        {len(eval_df):,}\")"
   ]
  },
  {
   "cell_type": "code",
   "execution_count": 18,
   "id": "48d12bf1-f89b-4636-9771-fb4f069e27b4",
   "metadata": {},
   "outputs": [],
   "source": [
    "SBERT_MODEL_LOWER = \"sentence-transformers/paraphrase-multilingual-MiniLM-L12-v2\"\n",
    "VARIANT = \"lowercase\"\n",
    "LOWER_MODEL_SAVE_NAME = (SBERT_MODEL_LOWER + \"-\" + VARIANT).replace(\"/\", \"-\")\n",
    "\n",
    "# Make sure these match the values in the data augmentation notebook for accurate loggging and reporting\n",
    "CLONES_PER_RUN = 100\n",
    "RUNS_PER_EXAMPLE = 2\n",
    "\n",
    "EPOCHS = 6\n",
    "BATCH_SIZE = 32\n",
    "PATIENCE = 2\n",
    "LEARNING_RATE = .00005\n",
    "DATASET_MULTIPLE = CLONES_PER_RUN * RUNS_PER_EXAMPLE\n",
    "SBERT_LOWER_OUTPUT_FOLDER = f\"data/fine-tuned-sbert-{LOWER_MODEL_SAVE_NAME}\"\n",
    "SAVE_EVAL_STEPS = 100"
   ]
  },
  {
   "cell_type": "code",
   "execution_count": 19,
   "id": "003a455c-f3ea-4fe3-b7a8-659a832affce",
   "metadata": {},
   "outputs": [
    {
     "data": {
      "text/html": [
       "wandb version 0.17.3 is available!  To upgrade, please run:\n",
       " $ pip install wandb --upgrade"
      ],
      "text/plain": [
       "<IPython.core.display.HTML object>"
      ]
     },
     "metadata": {},
     "output_type": "display_data"
    },
    {
     "data": {
      "text/html": [
       "Tracking run with wandb version 0.17.0"
      ],
      "text/plain": [
       "<IPython.core.display.HTML object>"
      ]
     },
     "metadata": {},
     "output_type": "display_data"
    },
    {
     "data": {
      "text/html": [
       "Run data is saved locally in <code>/home/rjurney/Software/libpostal-reborn/wandb/run-20240630_133413-23f2olp0</code>"
      ],
      "text/plain": [
       "<IPython.core.display.HTML object>"
      ]
     },
     "metadata": {},
     "output_type": "display_data"
    },
    {
     "data": {
      "text/html": [
       "Syncing run <strong><a href='https://wandb.ai/rjurney/libpostal-reborn/runs/23f2olp0' target=\"_blank\">true-meadow-115</a></strong> to <a href='https://wandb.ai/rjurney/libpostal-reborn' target=\"_blank\">Weights & Biases</a> (<a href='https://wandb.me/run' target=\"_blank\">docs</a>)<br/>"
      ],
      "text/plain": [
       "<IPython.core.display.HTML object>"
      ]
     },
     "metadata": {},
     "output_type": "display_data"
    },
    {
     "data": {
      "text/html": [
       " View project at <a href='https://wandb.ai/rjurney/libpostal-reborn' target=\"_blank\">https://wandb.ai/rjurney/libpostal-reborn</a>"
      ],
      "text/plain": [
       "<IPython.core.display.HTML object>"
      ]
     },
     "metadata": {},
     "output_type": "display_data"
    },
    {
     "data": {
      "text/html": [
       " View run at <a href='https://wandb.ai/rjurney/libpostal-reborn/runs/23f2olp0' target=\"_blank\">https://wandb.ai/rjurney/libpostal-reborn/runs/23f2olp0</a>"
      ],
      "text/plain": [
       "<IPython.core.display.HTML object>"
      ]
     },
     "metadata": {},
     "output_type": "display_data"
    },
    {
     "data": {
      "text/html": [
       "<button onClick=\"this.nextSibling.style.display='block';this.style.display='none';\">Display W&B run</button><iframe src='https://wandb.ai/rjurney/libpostal-reborn/runs/23f2olp0?jupyter=true' style='border:none;width:100%;height:420px;display:none;'></iframe>"
      ],
      "text/plain": [
       "<wandb.sdk.wandb_run.Run at 0x7fd1eb8d2fd0>"
      ]
     },
     "execution_count": 19,
     "metadata": {},
     "output_type": "execute_result"
    }
   ],
   "source": [
    "# Initialize Weights & Biases\n",
    "wandb.init(\n",
    "    entity=\"rjurney\",\n",
    "    # set the wandb project where this run will be logged\n",
    "    project=\"libpostal-reborn\",\n",
    "    # track hyperparameters and run metadata\n",
    "    config={\n",
    "        \"variant\": VARIANT,\n",
    "        \"dataset_multiple\": DATASET_MULTIPLE,\n",
    "        \"epochs\": EPOCHS,\n",
    "        \"batch_size\": BATCH_SIZE,\n",
    "        \"patience\": PATIENCE,\n",
    "        \"learning_rate\": LEARNING_RATE,\n",
    "        \"sbert_model\": SBERT_MODEL_LOWER,\n",
    "        \"model_save_name\": LOWER_MODEL_SAVE_NAME,\n",
    "        \"sbert_output_folder\": SBERT_LOWER_OUTPUT_FOLDER,\n",
    "        \"save_eval_steps\": SAVE_EVAL_STEPS,\n",
    "    },\n",
    "    save_code=True,\n",
    ")"
   ]
  },
  {
   "cell_type": "code",
   "execution_count": 20,
   "id": "32ab1c0d-6538-4418-9631-4b0582b6b949",
   "metadata": {},
   "outputs": [
    {
     "data": {
      "application/vnd.jupyter.widget-view+json": {
       "model_id": "9e60fbfb9f674aa2835cc12b5ecb61c7",
       "version_major": 2,
       "version_minor": 0
      },
      "text/plain": [
       "modules.json:   0%|          | 0.00/229 [00:00<?, ?B/s]"
      ]
     },
     "metadata": {},
     "output_type": "display_data"
    },
    {
     "data": {
      "application/vnd.jupyter.widget-view+json": {
       "model_id": "89c7eeedb51947bfbc2d14c45bf685fe",
       "version_major": 2,
       "version_minor": 0
      },
      "text/plain": [
       "config_sentence_transformers.json:   0%|          | 0.00/122 [00:00<?, ?B/s]"
      ]
     },
     "metadata": {},
     "output_type": "display_data"
    },
    {
     "data": {
      "application/vnd.jupyter.widget-view+json": {
       "model_id": "f938d1d005ba46c3916aeaec9a138b32",
       "version_major": 2,
       "version_minor": 0
      },
      "text/plain": [
       "README.md:   0%|          | 0.00/4.12k [00:00<?, ?B/s]"
      ]
     },
     "metadata": {},
     "output_type": "display_data"
    },
    {
     "data": {
      "application/vnd.jupyter.widget-view+json": {
       "model_id": "a108652d67f942a69abdd21679389184",
       "version_major": 2,
       "version_minor": 0
      },
      "text/plain": [
       "sentence_bert_config.json:   0%|          | 0.00/53.0 [00:00<?, ?B/s]"
      ]
     },
     "metadata": {},
     "output_type": "display_data"
    },
    {
     "data": {
      "application/vnd.jupyter.widget-view+json": {
       "model_id": "670f1c6d5fc846f39a5b83d9f86a9d67",
       "version_major": 2,
       "version_minor": 0
      },
      "text/plain": [
       "config.json:   0%|          | 0.00/645 [00:00<?, ?B/s]"
      ]
     },
     "metadata": {},
     "output_type": "display_data"
    },
    {
     "data": {
      "application/vnd.jupyter.widget-view+json": {
       "model_id": "752c0324e71e48d394db2612e3422cb2",
       "version_major": 2,
       "version_minor": 0
      },
      "text/plain": [
       "model.safetensors:   0%|          | 0.00/471M [00:00<?, ?B/s]"
      ]
     },
     "metadata": {},
     "output_type": "display_data"
    },
    {
     "data": {
      "application/vnd.jupyter.widget-view+json": {
       "model_id": "b794892131e64b148499302f8058e913",
       "version_major": 2,
       "version_minor": 0
      },
      "text/plain": [
       "tokenizer_config.json:   0%|          | 0.00/480 [00:00<?, ?B/s]"
      ]
     },
     "metadata": {},
     "output_type": "display_data"
    },
    {
     "data": {
      "application/vnd.jupyter.widget-view+json": {
       "model_id": "a99ac2ca2d3d4279a44460ebca3058ae",
       "version_major": 2,
       "version_minor": 0
      },
      "text/plain": [
       "tokenizer.json:   0%|          | 0.00/9.08M [00:00<?, ?B/s]"
      ]
     },
     "metadata": {},
     "output_type": "display_data"
    },
    {
     "data": {
      "application/vnd.jupyter.widget-view+json": {
       "model_id": "145987b482364d8f8a157c4d150887f3",
       "version_major": 2,
       "version_minor": 0
      },
      "text/plain": [
       "special_tokens_map.json:   0%|          | 0.00/239 [00:00<?, ?B/s]"
      ]
     },
     "metadata": {},
     "output_type": "display_data"
    },
    {
     "data": {
      "application/vnd.jupyter.widget-view+json": {
       "model_id": "a1622fd6516b4b83987bf7da8a8b3809",
       "version_major": 2,
       "version_minor": 0
      },
      "text/plain": [
       "1_Pooling/config.json:   0%|          | 0.00/190 [00:00<?, ?B/s]"
      ]
     },
     "metadata": {},
     "output_type": "display_data"
    }
   ],
   "source": [
    "sbert_model_lower = SentenceTransformer(\n",
    "    SBERT_MODEL_LOWER,\n",
    "    device=device,\n",
    "    model_card_data=SentenceTransformerModelCardData(\n",
    "        language=\"en\",\n",
    "        license=\"apache-2.0\",\n",
    "        model_name=f\"{SBERT_MODEL_LOWER}-address-matcher-{VARIANT}\",\n",
    "    ),\n",
    ")"
   ]
  },
  {
   "cell_type": "code",
   "execution_count": 21,
   "id": "bbcbf1ac-49f7-4f91-b74c-6fe20ed3ca68",
   "metadata": {},
   "outputs": [
    {
     "data": {
      "text/html": [
       "<div>\n",
       "<style scoped>\n",
       "    .dataframe tbody tr th:only-of-type {\n",
       "        vertical-align: middle;\n",
       "    }\n",
       "\n",
       "    .dataframe tbody tr th {\n",
       "        vertical-align: top;\n",
       "    }\n",
       "\n",
       "    .dataframe thead th {\n",
       "        text-align: right;\n",
       "    }\n",
       "</style>\n",
       "<table border=\"1\" class=\"dataframe\">\n",
       "  <thead>\n",
       "    <tr style=\"text-align: right;\">\n",
       "      <th></th>\n",
       "      <th>sentence-transformers/paraphrase-multilingual-MiniLM-L12-v2_cosine_accuracy</th>\n",
       "      <th>sentence-transformers/paraphrase-multilingual-MiniLM-L12-v2_cosine_accuracy_threshold</th>\n",
       "      <th>sentence-transformers/paraphrase-multilingual-MiniLM-L12-v2_cosine_f1</th>\n",
       "      <th>sentence-transformers/paraphrase-multilingual-MiniLM-L12-v2_cosine_f1_threshold</th>\n",
       "      <th>sentence-transformers/paraphrase-multilingual-MiniLM-L12-v2_cosine_precision</th>\n",
       "      <th>sentence-transformers/paraphrase-multilingual-MiniLM-L12-v2_cosine_recall</th>\n",
       "      <th>sentence-transformers/paraphrase-multilingual-MiniLM-L12-v2_cosine_ap</th>\n",
       "      <th>sentence-transformers/paraphrase-multilingual-MiniLM-L12-v2_dot_accuracy</th>\n",
       "      <th>sentence-transformers/paraphrase-multilingual-MiniLM-L12-v2_dot_accuracy_threshold</th>\n",
       "      <th>sentence-transformers/paraphrase-multilingual-MiniLM-L12-v2_dot_f1</th>\n",
       "      <th>sentence-transformers/paraphrase-multilingual-MiniLM-L12-v2_dot_f1_threshold</th>\n",
       "      <th>sentence-transformers/paraphrase-multilingual-MiniLM-L12-v2_dot_precision</th>\n",
       "      <th>sentence-transformers/paraphrase-multilingual-MiniLM-L12-v2_dot_recall</th>\n",
       "      <th>sentence-transformers/paraphrase-multilingual-MiniLM-L12-v2_dot_ap</th>\n",
       "      <th>sentence-transformers/paraphrase-multilingual-MiniLM-L12-v2_manhattan_accuracy</th>\n",
       "      <th>sentence-transformers/paraphrase-multilingual-MiniLM-L12-v2_manhattan_accuracy_threshold</th>\n",
       "      <th>sentence-transformers/paraphrase-multilingual-MiniLM-L12-v2_manhattan_f1</th>\n",
       "      <th>sentence-transformers/paraphrase-multilingual-MiniLM-L12-v2_manhattan_f1_threshold</th>\n",
       "      <th>sentence-transformers/paraphrase-multilingual-MiniLM-L12-v2_manhattan_precision</th>\n",
       "      <th>sentence-transformers/paraphrase-multilingual-MiniLM-L12-v2_manhattan_recall</th>\n",
       "      <th>sentence-transformers/paraphrase-multilingual-MiniLM-L12-v2_manhattan_ap</th>\n",
       "      <th>sentence-transformers/paraphrase-multilingual-MiniLM-L12-v2_euclidean_accuracy</th>\n",
       "      <th>sentence-transformers/paraphrase-multilingual-MiniLM-L12-v2_euclidean_accuracy_threshold</th>\n",
       "      <th>sentence-transformers/paraphrase-multilingual-MiniLM-L12-v2_euclidean_f1</th>\n",
       "      <th>sentence-transformers/paraphrase-multilingual-MiniLM-L12-v2_euclidean_f1_threshold</th>\n",
       "      <th>sentence-transformers/paraphrase-multilingual-MiniLM-L12-v2_euclidean_precision</th>\n",
       "      <th>sentence-transformers/paraphrase-multilingual-MiniLM-L12-v2_euclidean_recall</th>\n",
       "      <th>sentence-transformers/paraphrase-multilingual-MiniLM-L12-v2_euclidean_ap</th>\n",
       "      <th>sentence-transformers/paraphrase-multilingual-MiniLM-L12-v2_max_accuracy</th>\n",
       "      <th>sentence-transformers/paraphrase-multilingual-MiniLM-L12-v2_max_accuracy_threshold</th>\n",
       "      <th>sentence-transformers/paraphrase-multilingual-MiniLM-L12-v2_max_f1</th>\n",
       "      <th>sentence-transformers/paraphrase-multilingual-MiniLM-L12-v2_max_f1_threshold</th>\n",
       "      <th>sentence-transformers/paraphrase-multilingual-MiniLM-L12-v2_max_precision</th>\n",
       "      <th>sentence-transformers/paraphrase-multilingual-MiniLM-L12-v2_max_recall</th>\n",
       "      <th>sentence-transformers/paraphrase-multilingual-MiniLM-L12-v2_max_ap</th>\n",
       "    </tr>\n",
       "  </thead>\n",
       "  <tbody>\n",
       "    <tr>\n",
       "      <th>0</th>\n",
       "      <td>0.585244</td>\n",
       "      <td>0.686361</td>\n",
       "      <td>0.721595</td>\n",
       "      <td>0.517619</td>\n",
       "      <td>0.566215</td>\n",
       "      <td>0.994505</td>\n",
       "      <td>0.497195</td>\n",
       "      <td>0.568295</td>\n",
       "      <td>7.808429</td>\n",
       "      <td>0.715693</td>\n",
       "      <td>7.517566</td>\n",
       "      <td>0.55783</td>\n",
       "      <td>0.998168</td>\n",
       "      <td>0.609015</td>\n",
       "      <td>0.591226</td>\n",
       "      <td>64.763367</td>\n",
       "      <td>0.726547</td>\n",
       "      <td>70.368423</td>\n",
       "      <td>0.570533</td>\n",
       "      <td>1.0</td>\n",
       "      <td>0.488948</td>\n",
       "      <td>0.592223</td>\n",
       "      <td>4.35267</td>\n",
       "      <td>0.726787</td>\n",
       "      <td>4.35267</td>\n",
       "      <td>0.572029</td>\n",
       "      <td>0.996337</td>\n",
       "      <td>0.489592</td>\n",
       "      <td>0.592223</td>\n",
       "      <td>64.763367</td>\n",
       "      <td>0.726787</td>\n",
       "      <td>70.368423</td>\n",
       "      <td>0.572029</td>\n",
       "      <td>1.0</td>\n",
       "      <td>0.609015</td>\n",
       "    </tr>\n",
       "  </tbody>\n",
       "</table>\n",
       "</div>"
      ],
      "text/plain": [
       "   sentence-transformers/paraphrase-multilingual-MiniLM-L12-v2_cosine_accuracy  \\\n",
       "0                                           0.585244                             \n",
       "\n",
       "   sentence-transformers/paraphrase-multilingual-MiniLM-L12-v2_cosine_accuracy_threshold  \\\n",
       "0                                           0.686361                                       \n",
       "\n",
       "   sentence-transformers/paraphrase-multilingual-MiniLM-L12-v2_cosine_f1  \\\n",
       "0                                           0.721595                       \n",
       "\n",
       "   sentence-transformers/paraphrase-multilingual-MiniLM-L12-v2_cosine_f1_threshold  \\\n",
       "0                                           0.517619                                 \n",
       "\n",
       "   sentence-transformers/paraphrase-multilingual-MiniLM-L12-v2_cosine_precision  \\\n",
       "0                                           0.566215                              \n",
       "\n",
       "   sentence-transformers/paraphrase-multilingual-MiniLM-L12-v2_cosine_recall  \\\n",
       "0                                           0.994505                           \n",
       "\n",
       "   sentence-transformers/paraphrase-multilingual-MiniLM-L12-v2_cosine_ap  \\\n",
       "0                                           0.497195                       \n",
       "\n",
       "   sentence-transformers/paraphrase-multilingual-MiniLM-L12-v2_dot_accuracy  \\\n",
       "0                                           0.568295                          \n",
       "\n",
       "   sentence-transformers/paraphrase-multilingual-MiniLM-L12-v2_dot_accuracy_threshold  \\\n",
       "0                                           7.808429                                    \n",
       "\n",
       "   sentence-transformers/paraphrase-multilingual-MiniLM-L12-v2_dot_f1  \\\n",
       "0                                           0.715693                    \n",
       "\n",
       "   sentence-transformers/paraphrase-multilingual-MiniLM-L12-v2_dot_f1_threshold  \\\n",
       "0                                           7.517566                              \n",
       "\n",
       "   sentence-transformers/paraphrase-multilingual-MiniLM-L12-v2_dot_precision  \\\n",
       "0                                            0.55783                           \n",
       "\n",
       "   sentence-transformers/paraphrase-multilingual-MiniLM-L12-v2_dot_recall  \\\n",
       "0                                           0.998168                        \n",
       "\n",
       "   sentence-transformers/paraphrase-multilingual-MiniLM-L12-v2_dot_ap  \\\n",
       "0                                           0.609015                    \n",
       "\n",
       "   sentence-transformers/paraphrase-multilingual-MiniLM-L12-v2_manhattan_accuracy  \\\n",
       "0                                           0.591226                                \n",
       "\n",
       "   sentence-transformers/paraphrase-multilingual-MiniLM-L12-v2_manhattan_accuracy_threshold  \\\n",
       "0                                          64.763367                                          \n",
       "\n",
       "   sentence-transformers/paraphrase-multilingual-MiniLM-L12-v2_manhattan_f1  \\\n",
       "0                                           0.726547                          \n",
       "\n",
       "   sentence-transformers/paraphrase-multilingual-MiniLM-L12-v2_manhattan_f1_threshold  \\\n",
       "0                                          70.368423                                    \n",
       "\n",
       "   sentence-transformers/paraphrase-multilingual-MiniLM-L12-v2_manhattan_precision  \\\n",
       "0                                           0.570533                                 \n",
       "\n",
       "   sentence-transformers/paraphrase-multilingual-MiniLM-L12-v2_manhattan_recall  \\\n",
       "0                                                1.0                              \n",
       "\n",
       "   sentence-transformers/paraphrase-multilingual-MiniLM-L12-v2_manhattan_ap  \\\n",
       "0                                           0.488948                          \n",
       "\n",
       "   sentence-transformers/paraphrase-multilingual-MiniLM-L12-v2_euclidean_accuracy  \\\n",
       "0                                           0.592223                                \n",
       "\n",
       "   sentence-transformers/paraphrase-multilingual-MiniLM-L12-v2_euclidean_accuracy_threshold  \\\n",
       "0                                            4.35267                                          \n",
       "\n",
       "   sentence-transformers/paraphrase-multilingual-MiniLM-L12-v2_euclidean_f1  \\\n",
       "0                                           0.726787                          \n",
       "\n",
       "   sentence-transformers/paraphrase-multilingual-MiniLM-L12-v2_euclidean_f1_threshold  \\\n",
       "0                                            4.35267                                    \n",
       "\n",
       "   sentence-transformers/paraphrase-multilingual-MiniLM-L12-v2_euclidean_precision  \\\n",
       "0                                           0.572029                                 \n",
       "\n",
       "   sentence-transformers/paraphrase-multilingual-MiniLM-L12-v2_euclidean_recall  \\\n",
       "0                                           0.996337                              \n",
       "\n",
       "   sentence-transformers/paraphrase-multilingual-MiniLM-L12-v2_euclidean_ap  \\\n",
       "0                                           0.489592                          \n",
       "\n",
       "   sentence-transformers/paraphrase-multilingual-MiniLM-L12-v2_max_accuracy  \\\n",
       "0                                           0.592223                          \n",
       "\n",
       "   sentence-transformers/paraphrase-multilingual-MiniLM-L12-v2_max_accuracy_threshold  \\\n",
       "0                                          64.763367                                    \n",
       "\n",
       "   sentence-transformers/paraphrase-multilingual-MiniLM-L12-v2_max_f1  \\\n",
       "0                                           0.726787                    \n",
       "\n",
       "   sentence-transformers/paraphrase-multilingual-MiniLM-L12-v2_max_f1_threshold  \\\n",
       "0                                          70.368423                              \n",
       "\n",
       "   sentence-transformers/paraphrase-multilingual-MiniLM-L12-v2_max_precision  \\\n",
       "0                                           0.572029                           \n",
       "\n",
       "   sentence-transformers/paraphrase-multilingual-MiniLM-L12-v2_max_recall  \\\n",
       "0                                                1.0                        \n",
       "\n",
       "   sentence-transformers/paraphrase-multilingual-MiniLM-L12-v2_max_ap  \n",
       "0                                           0.609015                   "
      ]
     },
     "execution_count": 21,
     "metadata": {},
     "output_type": "execute_result"
    }
   ],
   "source": [
    "# Initialize the evaluator\n",
    "binary_acc_evaluator = BinaryClassificationEvaluator(\n",
    "    sentences1=eval_dataset[\"sentence1\"],\n",
    "    sentences2=eval_dataset[\"sentence2\"],\n",
    "    labels=eval_dataset[\"label\"],\n",
    "    name=SBERT_MODEL_LOWER,\n",
    ")\n",
    "pd.DataFrame([binary_acc_evaluator(sbert_model_lower)])"
   ]
  },
  {
   "cell_type": "code",
   "execution_count": 22,
   "id": "f56b8b5c-0563-4a39-ac17-03aba06b24cc",
   "metadata": {},
   "outputs": [
    {
     "data": {
      "text/html": [
       "\n",
       "    <div>\n",
       "      \n",
       "      <progress value='32' max='16' style='width:300px; height:20px; vertical-align: middle;'></progress>\n",
       "      [16/16 00:33]\n",
       "    </div>\n",
       "    "
      ],
      "text/plain": [
       "<IPython.core.display.HTML object>"
      ]
     },
     "metadata": {},
     "output_type": "display_data"
    },
    {
     "data": {
      "text/html": [
       "\n",
       "    <div>\n",
       "      \n",
       "      <progress value='756' max='756' style='width:300px; height:20px; vertical-align: middle;'></progress>\n",
       "      [756/756 04:10, Epoch 6/6]\n",
       "    </div>\n",
       "    <table border=\"1\" class=\"dataframe\">\n",
       "  <thead>\n",
       " <tr style=\"text-align: left;\">\n",
       "      <th>Step</th>\n",
       "      <th>Training Loss</th>\n",
       "      <th>Validation Loss</th>\n",
       "      <th>Sentence-transformers/paraphrase-multilingual-minilm-l12-v2 Cosine Accuracy</th>\n",
       "      <th>Sentence-transformers/paraphrase-multilingual-minilm-l12-v2 Cosine Accuracy Threshold</th>\n",
       "      <th>Sentence-transformers/paraphrase-multilingual-minilm-l12-v2 Cosine F1</th>\n",
       "      <th>Sentence-transformers/paraphrase-multilingual-minilm-l12-v2 Cosine F1 Threshold</th>\n",
       "      <th>Sentence-transformers/paraphrase-multilingual-minilm-l12-v2 Cosine Precision</th>\n",
       "      <th>Sentence-transformers/paraphrase-multilingual-minilm-l12-v2 Cosine Recall</th>\n",
       "      <th>Sentence-transformers/paraphrase-multilingual-minilm-l12-v2 Cosine Ap</th>\n",
       "      <th>Sentence-transformers/paraphrase-multilingual-minilm-l12-v2 Dot Accuracy</th>\n",
       "      <th>Sentence-transformers/paraphrase-multilingual-minilm-l12-v2 Dot Accuracy Threshold</th>\n",
       "      <th>Sentence-transformers/paraphrase-multilingual-minilm-l12-v2 Dot F1</th>\n",
       "      <th>Sentence-transformers/paraphrase-multilingual-minilm-l12-v2 Dot F1 Threshold</th>\n",
       "      <th>Sentence-transformers/paraphrase-multilingual-minilm-l12-v2 Dot Precision</th>\n",
       "      <th>Sentence-transformers/paraphrase-multilingual-minilm-l12-v2 Dot Recall</th>\n",
       "      <th>Sentence-transformers/paraphrase-multilingual-minilm-l12-v2 Dot Ap</th>\n",
       "      <th>Sentence-transformers/paraphrase-multilingual-minilm-l12-v2 Manhattan Accuracy</th>\n",
       "      <th>Sentence-transformers/paraphrase-multilingual-minilm-l12-v2 Manhattan Accuracy Threshold</th>\n",
       "      <th>Sentence-transformers/paraphrase-multilingual-minilm-l12-v2 Manhattan F1</th>\n",
       "      <th>Sentence-transformers/paraphrase-multilingual-minilm-l12-v2 Manhattan F1 Threshold</th>\n",
       "      <th>Sentence-transformers/paraphrase-multilingual-minilm-l12-v2 Manhattan Precision</th>\n",
       "      <th>Sentence-transformers/paraphrase-multilingual-minilm-l12-v2 Manhattan Recall</th>\n",
       "      <th>Sentence-transformers/paraphrase-multilingual-minilm-l12-v2 Manhattan Ap</th>\n",
       "      <th>Sentence-transformers/paraphrase-multilingual-minilm-l12-v2 Euclidean Accuracy</th>\n",
       "      <th>Sentence-transformers/paraphrase-multilingual-minilm-l12-v2 Euclidean Accuracy Threshold</th>\n",
       "      <th>Sentence-transformers/paraphrase-multilingual-minilm-l12-v2 Euclidean F1</th>\n",
       "      <th>Sentence-transformers/paraphrase-multilingual-minilm-l12-v2 Euclidean F1 Threshold</th>\n",
       "      <th>Sentence-transformers/paraphrase-multilingual-minilm-l12-v2 Euclidean Precision</th>\n",
       "      <th>Sentence-transformers/paraphrase-multilingual-minilm-l12-v2 Euclidean Recall</th>\n",
       "      <th>Sentence-transformers/paraphrase-multilingual-minilm-l12-v2 Euclidean Ap</th>\n",
       "      <th>Sentence-transformers/paraphrase-multilingual-minilm-l12-v2 Max Accuracy</th>\n",
       "      <th>Sentence-transformers/paraphrase-multilingual-minilm-l12-v2 Max Accuracy Threshold</th>\n",
       "      <th>Sentence-transformers/paraphrase-multilingual-minilm-l12-v2 Max F1</th>\n",
       "      <th>Sentence-transformers/paraphrase-multilingual-minilm-l12-v2 Max F1 Threshold</th>\n",
       "      <th>Sentence-transformers/paraphrase-multilingual-minilm-l12-v2 Max Precision</th>\n",
       "      <th>Sentence-transformers/paraphrase-multilingual-minilm-l12-v2 Max Recall</th>\n",
       "      <th>Sentence-transformers/paraphrase-multilingual-minilm-l12-v2 Max Ap</th>\n",
       "    </tr>\n",
       "  </thead>\n",
       "  <tbody>\n",
       "    <tr>\n",
       "      <td>100</td>\n",
       "      <td>No log</td>\n",
       "      <td>0.020416</td>\n",
       "      <td>0.818544</td>\n",
       "      <td>0.873032</td>\n",
       "      <td>0.849359</td>\n",
       "      <td>0.810707</td>\n",
       "      <td>0.754986</td>\n",
       "      <td>0.970696</td>\n",
       "      <td>0.889106</td>\n",
       "      <td>0.782652</td>\n",
       "      <td>11.049636</td>\n",
       "      <td>0.807597</td>\n",
       "      <td>9.669561</td>\n",
       "      <td>0.735338</td>\n",
       "      <td>0.895604</td>\n",
       "      <td>0.877909</td>\n",
       "      <td>0.770688</td>\n",
       "      <td>31.891590</td>\n",
       "      <td>0.808652</td>\n",
       "      <td>31.891590</td>\n",
       "      <td>0.740854</td>\n",
       "      <td>0.890110</td>\n",
       "      <td>0.838255</td>\n",
       "      <td>0.768694</td>\n",
       "      <td>1.932054</td>\n",
       "      <td>0.807882</td>\n",
       "      <td>2.102785</td>\n",
       "      <td>0.732143</td>\n",
       "      <td>0.901099</td>\n",
       "      <td>0.838583</td>\n",
       "      <td>0.818544</td>\n",
       "      <td>31.891590</td>\n",
       "      <td>0.849359</td>\n",
       "      <td>31.891590</td>\n",
       "      <td>0.754986</td>\n",
       "      <td>0.970696</td>\n",
       "      <td>0.889106</td>\n",
       "    </tr>\n",
       "    <tr>\n",
       "      <td>200</td>\n",
       "      <td>No log</td>\n",
       "      <td>0.008793</td>\n",
       "      <td>0.937188</td>\n",
       "      <td>0.874723</td>\n",
       "      <td>0.942883</td>\n",
       "      <td>0.874723</td>\n",
       "      <td>0.933573</td>\n",
       "      <td>0.952381</td>\n",
       "      <td>0.981125</td>\n",
       "      <td>0.846461</td>\n",
       "      <td>11.930910</td>\n",
       "      <td>0.855805</td>\n",
       "      <td>11.643341</td>\n",
       "      <td>0.875479</td>\n",
       "      <td>0.836996</td>\n",
       "      <td>0.929795</td>\n",
       "      <td>0.895314</td>\n",
       "      <td>28.995537</td>\n",
       "      <td>0.904847</td>\n",
       "      <td>32.801125</td>\n",
       "      <td>0.887324</td>\n",
       "      <td>0.923077</td>\n",
       "      <td>0.959320</td>\n",
       "      <td>0.893320</td>\n",
       "      <td>1.879110</td>\n",
       "      <td>0.904425</td>\n",
       "      <td>2.212658</td>\n",
       "      <td>0.875000</td>\n",
       "      <td>0.935897</td>\n",
       "      <td>0.959590</td>\n",
       "      <td>0.937188</td>\n",
       "      <td>28.995537</td>\n",
       "      <td>0.942883</td>\n",
       "      <td>32.801125</td>\n",
       "      <td>0.933573</td>\n",
       "      <td>0.952381</td>\n",
       "      <td>0.981125</td>\n",
       "    </tr>\n",
       "    <tr>\n",
       "      <td>300</td>\n",
       "      <td>No log</td>\n",
       "      <td>0.005658</td>\n",
       "      <td>0.977069</td>\n",
       "      <td>0.895187</td>\n",
       "      <td>0.978841</td>\n",
       "      <td>0.890731</td>\n",
       "      <td>0.983364</td>\n",
       "      <td>0.974359</td>\n",
       "      <td>0.994758</td>\n",
       "      <td>0.883350</td>\n",
       "      <td>12.727057</td>\n",
       "      <td>0.895815</td>\n",
       "      <td>11.313406</td>\n",
       "      <td>0.871750</td>\n",
       "      <td>0.921245</td>\n",
       "      <td>0.954847</td>\n",
       "      <td>0.940179</td>\n",
       "      <td>32.478958</td>\n",
       "      <td>0.944853</td>\n",
       "      <td>32.478958</td>\n",
       "      <td>0.948339</td>\n",
       "      <td>0.941392</td>\n",
       "      <td>0.985463</td>\n",
       "      <td>0.940179</td>\n",
       "      <td>2.108047</td>\n",
       "      <td>0.944954</td>\n",
       "      <td>2.108047</td>\n",
       "      <td>0.946691</td>\n",
       "      <td>0.943223</td>\n",
       "      <td>0.985648</td>\n",
       "      <td>0.977069</td>\n",
       "      <td>32.478958</td>\n",
       "      <td>0.978841</td>\n",
       "      <td>32.478958</td>\n",
       "      <td>0.983364</td>\n",
       "      <td>0.974359</td>\n",
       "      <td>0.994758</td>\n",
       "    </tr>\n",
       "    <tr>\n",
       "      <td>400</td>\n",
       "      <td>No log</td>\n",
       "      <td>0.003839</td>\n",
       "      <td>0.986042</td>\n",
       "      <td>0.840904</td>\n",
       "      <td>0.987250</td>\n",
       "      <td>0.840904</td>\n",
       "      <td>0.981884</td>\n",
       "      <td>0.992674</td>\n",
       "      <td>0.997485</td>\n",
       "      <td>0.907278</td>\n",
       "      <td>11.968544</td>\n",
       "      <td>0.917772</td>\n",
       "      <td>11.968544</td>\n",
       "      <td>0.887179</td>\n",
       "      <td>0.950549</td>\n",
       "      <td>0.972336</td>\n",
       "      <td>0.962114</td>\n",
       "      <td>37.144295</td>\n",
       "      <td>0.965392</td>\n",
       "      <td>37.144295</td>\n",
       "      <td>0.960145</td>\n",
       "      <td>0.970696</td>\n",
       "      <td>0.993148</td>\n",
       "      <td>0.965105</td>\n",
       "      <td>2.361769</td>\n",
       "      <td>0.968037</td>\n",
       "      <td>2.361769</td>\n",
       "      <td>0.965392</td>\n",
       "      <td>0.970696</td>\n",
       "      <td>0.993274</td>\n",
       "      <td>0.986042</td>\n",
       "      <td>37.144295</td>\n",
       "      <td>0.987250</td>\n",
       "      <td>37.144295</td>\n",
       "      <td>0.981884</td>\n",
       "      <td>0.992674</td>\n",
       "      <td>0.997485</td>\n",
       "    </tr>\n",
       "    <tr>\n",
       "      <td>500</td>\n",
       "      <td>0.009900</td>\n",
       "      <td>0.002830</td>\n",
       "      <td>0.989033</td>\n",
       "      <td>0.862158</td>\n",
       "      <td>0.989954</td>\n",
       "      <td>0.862158</td>\n",
       "      <td>0.987250</td>\n",
       "      <td>0.992674</td>\n",
       "      <td>0.998100</td>\n",
       "      <td>0.926221</td>\n",
       "      <td>13.227205</td>\n",
       "      <td>0.932971</td>\n",
       "      <td>13.227205</td>\n",
       "      <td>0.922939</td>\n",
       "      <td>0.943223</td>\n",
       "      <td>0.979756</td>\n",
       "      <td>0.965105</td>\n",
       "      <td>40.160580</td>\n",
       "      <td>0.968440</td>\n",
       "      <td>40.160580</td>\n",
       "      <td>0.953819</td>\n",
       "      <td>0.983516</td>\n",
       "      <td>0.993992</td>\n",
       "      <td>0.965105</td>\n",
       "      <td>2.563063</td>\n",
       "      <td>0.968497</td>\n",
       "      <td>2.662265</td>\n",
       "      <td>0.952212</td>\n",
       "      <td>0.985348</td>\n",
       "      <td>0.994102</td>\n",
       "      <td>0.989033</td>\n",
       "      <td>40.160580</td>\n",
       "      <td>0.989954</td>\n",
       "      <td>40.160580</td>\n",
       "      <td>0.987250</td>\n",
       "      <td>0.992674</td>\n",
       "      <td>0.998100</td>\n",
       "    </tr>\n",
       "    <tr>\n",
       "      <td>600</td>\n",
       "      <td>0.009900</td>\n",
       "      <td>0.002376</td>\n",
       "      <td>0.992024</td>\n",
       "      <td>0.873541</td>\n",
       "      <td>0.992674</td>\n",
       "      <td>0.873541</td>\n",
       "      <td>0.992674</td>\n",
       "      <td>0.992674</td>\n",
       "      <td>0.998440</td>\n",
       "      <td>0.919242</td>\n",
       "      <td>10.647504</td>\n",
       "      <td>0.929504</td>\n",
       "      <td>10.647504</td>\n",
       "      <td>0.885572</td>\n",
       "      <td>0.978022</td>\n",
       "      <td>0.979132</td>\n",
       "      <td>0.967099</td>\n",
       "      <td>37.728771</td>\n",
       "      <td>0.970082</td>\n",
       "      <td>38.218597</td>\n",
       "      <td>0.960503</td>\n",
       "      <td>0.979853</td>\n",
       "      <td>0.994837</td>\n",
       "      <td>0.967099</td>\n",
       "      <td>2.179784</td>\n",
       "      <td>0.970082</td>\n",
       "      <td>2.446755</td>\n",
       "      <td>0.960503</td>\n",
       "      <td>0.979853</td>\n",
       "      <td>0.994916</td>\n",
       "      <td>0.992024</td>\n",
       "      <td>37.728771</td>\n",
       "      <td>0.992674</td>\n",
       "      <td>38.218597</td>\n",
       "      <td>0.992674</td>\n",
       "      <td>0.992674</td>\n",
       "      <td>0.998440</td>\n",
       "    </tr>\n",
       "    <tr>\n",
       "      <td>700</td>\n",
       "      <td>0.009900</td>\n",
       "      <td>0.002222</td>\n",
       "      <td>0.992024</td>\n",
       "      <td>0.875542</td>\n",
       "      <td>0.992674</td>\n",
       "      <td>0.875542</td>\n",
       "      <td>0.992674</td>\n",
       "      <td>0.992674</td>\n",
       "      <td>0.998656</td>\n",
       "      <td>0.931206</td>\n",
       "      <td>11.310286</td>\n",
       "      <td>0.939100</td>\n",
       "      <td>11.310286</td>\n",
       "      <td>0.906303</td>\n",
       "      <td>0.974359</td>\n",
       "      <td>0.981899</td>\n",
       "      <td>0.967099</td>\n",
       "      <td>35.272957</td>\n",
       "      <td>0.969863</td>\n",
       "      <td>36.375000</td>\n",
       "      <td>0.967213</td>\n",
       "      <td>0.972527</td>\n",
       "      <td>0.995215</td>\n",
       "      <td>0.969093</td>\n",
       "      <td>2.332250</td>\n",
       "      <td>0.971844</td>\n",
       "      <td>2.373715</td>\n",
       "      <td>0.963964</td>\n",
       "      <td>0.979853</td>\n",
       "      <td>0.995388</td>\n",
       "      <td>0.992024</td>\n",
       "      <td>35.272957</td>\n",
       "      <td>0.992674</td>\n",
       "      <td>36.375000</td>\n",
       "      <td>0.992674</td>\n",
       "      <td>0.992674</td>\n",
       "      <td>0.998656</td>\n",
       "    </tr>\n",
       "  </tbody>\n",
       "</table><p>"
      ],
      "text/plain": [
       "<IPython.core.display.HTML object>"
      ]
     },
     "metadata": {},
     "output_type": "display_data"
    },
    {
     "data": {
      "application/vnd.jupyter.widget-view+json": {
       "model_id": "",
       "version_major": 2,
       "version_minor": 0
      },
      "text/plain": [
       "Computing widget examples:   0%|          | 0/5 [00:00<?, ?example/s]"
      ]
     },
     "metadata": {},
     "output_type": "display_data"
    },
    {
     "data": {
      "application/vnd.jupyter.widget-view+json": {
       "model_id": "",
       "version_major": 2,
       "version_minor": 0
      },
      "text/plain": [
       "Computing widget examples:   0%|          | 0/5 [00:00<?, ?example/s]"
      ]
     },
     "metadata": {},
     "output_type": "display_data"
    },
    {
     "data": {
      "application/vnd.jupyter.widget-view+json": {
       "model_id": "",
       "version_major": 2,
       "version_minor": 0
      },
      "text/plain": [
       "Computing widget examples:   0%|          | 0/5 [00:00<?, ?example/s]"
      ]
     },
     "metadata": {},
     "output_type": "display_data"
    },
    {
     "data": {
      "application/vnd.jupyter.widget-view+json": {
       "model_id": "",
       "version_major": 2,
       "version_minor": 0
      },
      "text/plain": [
       "Computing widget examples:   0%|          | 0/5 [00:00<?, ?example/s]"
      ]
     },
     "metadata": {},
     "output_type": "display_data"
    },
    {
     "data": {
      "application/vnd.jupyter.widget-view+json": {
       "model_id": "",
       "version_major": 2,
       "version_minor": 0
      },
      "text/plain": [
       "Computing widget examples:   0%|          | 0/5 [00:00<?, ?example/s]"
      ]
     },
     "metadata": {},
     "output_type": "display_data"
    },
    {
     "data": {
      "application/vnd.jupyter.widget-view+json": {
       "model_id": "",
       "version_major": 2,
       "version_minor": 0
      },
      "text/plain": [
       "Computing widget examples:   0%|          | 0/5 [00:00<?, ?example/s]"
      ]
     },
     "metadata": {},
     "output_type": "display_data"
    },
    {
     "data": {
      "application/vnd.jupyter.widget-view+json": {
       "model_id": "",
       "version_major": 2,
       "version_minor": 0
      },
      "text/plain": [
       "Computing widget examples:   0%|          | 0/5 [00:00<?, ?example/s]"
      ]
     },
     "metadata": {},
     "output_type": "display_data"
    },
    {
     "data": {
      "text/plain": [
       "TrainOutput(global_step=756, training_loss=0.007155877966729421, metrics={'train_runtime': 249.0548, 'train_samples_per_second': 193.307, 'train_steps_per_second': 3.035, 'total_flos': 0.0, 'train_loss': 0.007155877966729421, 'epoch': 6.0})"
      ]
     },
     "execution_count": 22,
     "metadata": {},
     "output_type": "execute_result"
    }
   ],
   "source": [
    "# This will rapidly train the embedding model. MultipleNegativesRankingLoss did not work.\n",
    "loss = losses.ContrastiveLoss(model=sbert_model_lower)\n",
    "\n",
    "sbert_args = SentenceTransformerTrainingArguments(\n",
    "    output_dir=SBERT_LOWER_OUTPUT_FOLDER,\n",
    "    num_train_epochs=EPOCHS,\n",
    "    per_device_train_batch_size=BATCH_SIZE,\n",
    "    per_device_eval_batch_size=BATCH_SIZE,\n",
    "    warmup_ratio=0.1,\n",
    "    run_name=SBERT_MODEL_LOWER,\n",
    "    load_best_model_at_end=True,\n",
    "    save_steps=SAVE_EVAL_STEPS,\n",
    "    eval_steps=SAVE_EVAL_STEPS,\n",
    "    save_strategy=\"steps\",\n",
    "    eval_strategy=\"steps\",\n",
    "    greater_is_better=False,\n",
    "    metric_for_best_model=\"eval_loss\",\n",
    "    learning_rate=LEARNING_RATE,\n",
    "    logging_dir=\"./logs\",\n",
    ")\n",
    "\n",
    "trainer = SentenceTransformerTrainer(\n",
    "    model=sbert_model_lower,\n",
    "    args=sbert_args,\n",
    "    train_dataset=train_dataset,\n",
    "    eval_dataset=eval_dataset,\n",
    "    loss=loss,\n",
    "    evaluator=binary_acc_evaluator,\n",
    "    compute_metrics=compute_sbert_metrics,\n",
    "    callbacks=[EarlyStoppingCallback(early_stopping_patience=PATIENCE)],\n",
    ")\n",
    "\n",
    "trainer.evaluate()\n",
    "trainer.train()"
   ]
  },
  {
   "cell_type": "code",
   "execution_count": 23,
   "id": "a028c85b-de20-489e-a5b1-a2d2b4819fad",
   "metadata": {},
   "outputs": [
    {
     "name": "stdout",
     "output_type": "stream",
     "text": [
      "Best model checkpoint path: data/fine-tuned-sbert-sentence-transformers-paraphrase-multilingual-MiniLM-L12-v2-lowercase/checkpoint-700\n"
     ]
    }
   ],
   "source": [
    "print(f\"Best model checkpoint path: {trainer.state.best_model_checkpoint}\")"
   ]
  },
  {
   "cell_type": "code",
   "execution_count": 24,
   "id": "18476ce6-1233-4f17-a0bc-187d837b3f3b",
   "metadata": {},
   "outputs": [
    {
     "data": {
      "text/html": [
       "\n",
       "    <div>\n",
       "      \n",
       "      <progress value='16' max='16' style='width:300px; height:20px; vertical-align: middle;'></progress>\n",
       "      [16/16 00:01]\n",
       "    </div>\n",
       "    "
      ],
      "text/plain": [
       "<IPython.core.display.HTML object>"
      ]
     },
     "metadata": {},
     "output_type": "display_data"
    },
    {
     "data": {
      "text/html": [
       "<div>\n",
       "<style scoped>\n",
       "    .dataframe tbody tr th:only-of-type {\n",
       "        vertical-align: middle;\n",
       "    }\n",
       "\n",
       "    .dataframe tbody tr th {\n",
       "        vertical-align: top;\n",
       "    }\n",
       "\n",
       "    .dataframe thead th {\n",
       "        text-align: right;\n",
       "    }\n",
       "</style>\n",
       "<table border=\"1\" class=\"dataframe\">\n",
       "  <thead>\n",
       "    <tr style=\"text-align: right;\">\n",
       "      <th></th>\n",
       "      <th>eval_loss</th>\n",
       "      <th>eval_sentence-transformers/paraphrase-multilingual-MiniLM-L12-v2_cosine_accuracy</th>\n",
       "      <th>eval_sentence-transformers/paraphrase-multilingual-MiniLM-L12-v2_cosine_accuracy_threshold</th>\n",
       "      <th>eval_sentence-transformers/paraphrase-multilingual-MiniLM-L12-v2_cosine_f1</th>\n",
       "      <th>eval_sentence-transformers/paraphrase-multilingual-MiniLM-L12-v2_cosine_f1_threshold</th>\n",
       "      <th>eval_sentence-transformers/paraphrase-multilingual-MiniLM-L12-v2_cosine_precision</th>\n",
       "      <th>eval_sentence-transformers/paraphrase-multilingual-MiniLM-L12-v2_cosine_recall</th>\n",
       "      <th>eval_sentence-transformers/paraphrase-multilingual-MiniLM-L12-v2_cosine_ap</th>\n",
       "      <th>eval_sentence-transformers/paraphrase-multilingual-MiniLM-L12-v2_dot_accuracy</th>\n",
       "      <th>eval_sentence-transformers/paraphrase-multilingual-MiniLM-L12-v2_dot_accuracy_threshold</th>\n",
       "      <th>eval_sentence-transformers/paraphrase-multilingual-MiniLM-L12-v2_dot_f1</th>\n",
       "      <th>eval_sentence-transformers/paraphrase-multilingual-MiniLM-L12-v2_dot_f1_threshold</th>\n",
       "      <th>eval_sentence-transformers/paraphrase-multilingual-MiniLM-L12-v2_dot_precision</th>\n",
       "      <th>eval_sentence-transformers/paraphrase-multilingual-MiniLM-L12-v2_dot_recall</th>\n",
       "      <th>eval_sentence-transformers/paraphrase-multilingual-MiniLM-L12-v2_dot_ap</th>\n",
       "      <th>eval_sentence-transformers/paraphrase-multilingual-MiniLM-L12-v2_manhattan_accuracy</th>\n",
       "      <th>eval_sentence-transformers/paraphrase-multilingual-MiniLM-L12-v2_manhattan_accuracy_threshold</th>\n",
       "      <th>eval_sentence-transformers/paraphrase-multilingual-MiniLM-L12-v2_manhattan_f1</th>\n",
       "      <th>eval_sentence-transformers/paraphrase-multilingual-MiniLM-L12-v2_manhattan_f1_threshold</th>\n",
       "      <th>eval_sentence-transformers/paraphrase-multilingual-MiniLM-L12-v2_manhattan_precision</th>\n",
       "      <th>eval_sentence-transformers/paraphrase-multilingual-MiniLM-L12-v2_manhattan_recall</th>\n",
       "      <th>eval_sentence-transformers/paraphrase-multilingual-MiniLM-L12-v2_manhattan_ap</th>\n",
       "      <th>eval_sentence-transformers/paraphrase-multilingual-MiniLM-L12-v2_euclidean_accuracy</th>\n",
       "      <th>eval_sentence-transformers/paraphrase-multilingual-MiniLM-L12-v2_euclidean_accuracy_threshold</th>\n",
       "      <th>eval_sentence-transformers/paraphrase-multilingual-MiniLM-L12-v2_euclidean_f1</th>\n",
       "      <th>eval_sentence-transformers/paraphrase-multilingual-MiniLM-L12-v2_euclidean_f1_threshold</th>\n",
       "      <th>eval_sentence-transformers/paraphrase-multilingual-MiniLM-L12-v2_euclidean_precision</th>\n",
       "      <th>eval_sentence-transformers/paraphrase-multilingual-MiniLM-L12-v2_euclidean_recall</th>\n",
       "      <th>eval_sentence-transformers/paraphrase-multilingual-MiniLM-L12-v2_euclidean_ap</th>\n",
       "      <th>eval_sentence-transformers/paraphrase-multilingual-MiniLM-L12-v2_max_accuracy</th>\n",
       "      <th>eval_sentence-transformers/paraphrase-multilingual-MiniLM-L12-v2_max_accuracy_threshold</th>\n",
       "      <th>eval_sentence-transformers/paraphrase-multilingual-MiniLM-L12-v2_max_f1</th>\n",
       "      <th>eval_sentence-transformers/paraphrase-multilingual-MiniLM-L12-v2_max_f1_threshold</th>\n",
       "      <th>eval_sentence-transformers/paraphrase-multilingual-MiniLM-L12-v2_max_precision</th>\n",
       "      <th>eval_sentence-transformers/paraphrase-multilingual-MiniLM-L12-v2_max_recall</th>\n",
       "      <th>eval_sentence-transformers/paraphrase-multilingual-MiniLM-L12-v2_max_ap</th>\n",
       "      <th>eval_runtime</th>\n",
       "      <th>eval_samples_per_second</th>\n",
       "      <th>eval_steps_per_second</th>\n",
       "      <th>epoch</th>\n",
       "    </tr>\n",
       "  </thead>\n",
       "  <tbody>\n",
       "    <tr>\n",
       "      <th>0</th>\n",
       "      <td>0.002222</td>\n",
       "      <td>0.992024</td>\n",
       "      <td>0.875542</td>\n",
       "      <td>0.992674</td>\n",
       "      <td>0.875542</td>\n",
       "      <td>0.992674</td>\n",
       "      <td>0.992674</td>\n",
       "      <td>0.998656</td>\n",
       "      <td>0.931206</td>\n",
       "      <td>11.310286</td>\n",
       "      <td>0.9391</td>\n",
       "      <td>11.310286</td>\n",
       "      <td>0.906303</td>\n",
       "      <td>0.974359</td>\n",
       "      <td>0.981899</td>\n",
       "      <td>0.967099</td>\n",
       "      <td>35.272957</td>\n",
       "      <td>0.969863</td>\n",
       "      <td>36.375</td>\n",
       "      <td>0.967213</td>\n",
       "      <td>0.972527</td>\n",
       "      <td>0.995215</td>\n",
       "      <td>0.969093</td>\n",
       "      <td>2.33225</td>\n",
       "      <td>0.971844</td>\n",
       "      <td>2.373715</td>\n",
       "      <td>0.963964</td>\n",
       "      <td>0.979853</td>\n",
       "      <td>0.995388</td>\n",
       "      <td>0.992024</td>\n",
       "      <td>35.272957</td>\n",
       "      <td>0.992674</td>\n",
       "      <td>36.375</td>\n",
       "      <td>0.992674</td>\n",
       "      <td>0.992674</td>\n",
       "      <td>0.998656</td>\n",
       "      <td>2.0418</td>\n",
       "      <td>491.235</td>\n",
       "      <td>7.836</td>\n",
       "      <td>6.0</td>\n",
       "    </tr>\n",
       "  </tbody>\n",
       "</table>\n",
       "</div>"
      ],
      "text/plain": [
       "   eval_loss  \\\n",
       "0   0.002222   \n",
       "\n",
       "   eval_sentence-transformers/paraphrase-multilingual-MiniLM-L12-v2_cosine_accuracy  \\\n",
       "0                                           0.992024                                  \n",
       "\n",
       "   eval_sentence-transformers/paraphrase-multilingual-MiniLM-L12-v2_cosine_accuracy_threshold  \\\n",
       "0                                           0.875542                                            \n",
       "\n",
       "   eval_sentence-transformers/paraphrase-multilingual-MiniLM-L12-v2_cosine_f1  \\\n",
       "0                                           0.992674                            \n",
       "\n",
       "   eval_sentence-transformers/paraphrase-multilingual-MiniLM-L12-v2_cosine_f1_threshold  \\\n",
       "0                                           0.875542                                      \n",
       "\n",
       "   eval_sentence-transformers/paraphrase-multilingual-MiniLM-L12-v2_cosine_precision  \\\n",
       "0                                           0.992674                                   \n",
       "\n",
       "   eval_sentence-transformers/paraphrase-multilingual-MiniLM-L12-v2_cosine_recall  \\\n",
       "0                                           0.992674                                \n",
       "\n",
       "   eval_sentence-transformers/paraphrase-multilingual-MiniLM-L12-v2_cosine_ap  \\\n",
       "0                                           0.998656                            \n",
       "\n",
       "   eval_sentence-transformers/paraphrase-multilingual-MiniLM-L12-v2_dot_accuracy  \\\n",
       "0                                           0.931206                               \n",
       "\n",
       "   eval_sentence-transformers/paraphrase-multilingual-MiniLM-L12-v2_dot_accuracy_threshold  \\\n",
       "0                                          11.310286                                         \n",
       "\n",
       "   eval_sentence-transformers/paraphrase-multilingual-MiniLM-L12-v2_dot_f1  \\\n",
       "0                                             0.9391                         \n",
       "\n",
       "   eval_sentence-transformers/paraphrase-multilingual-MiniLM-L12-v2_dot_f1_threshold  \\\n",
       "0                                          11.310286                                   \n",
       "\n",
       "   eval_sentence-transformers/paraphrase-multilingual-MiniLM-L12-v2_dot_precision  \\\n",
       "0                                           0.906303                                \n",
       "\n",
       "   eval_sentence-transformers/paraphrase-multilingual-MiniLM-L12-v2_dot_recall  \\\n",
       "0                                           0.974359                             \n",
       "\n",
       "   eval_sentence-transformers/paraphrase-multilingual-MiniLM-L12-v2_dot_ap  \\\n",
       "0                                           0.981899                         \n",
       "\n",
       "   eval_sentence-transformers/paraphrase-multilingual-MiniLM-L12-v2_manhattan_accuracy  \\\n",
       "0                                           0.967099                                     \n",
       "\n",
       "   eval_sentence-transformers/paraphrase-multilingual-MiniLM-L12-v2_manhattan_accuracy_threshold  \\\n",
       "0                                          35.272957                                               \n",
       "\n",
       "   eval_sentence-transformers/paraphrase-multilingual-MiniLM-L12-v2_manhattan_f1  \\\n",
       "0                                           0.969863                               \n",
       "\n",
       "   eval_sentence-transformers/paraphrase-multilingual-MiniLM-L12-v2_manhattan_f1_threshold  \\\n",
       "0                                             36.375                                         \n",
       "\n",
       "   eval_sentence-transformers/paraphrase-multilingual-MiniLM-L12-v2_manhattan_precision  \\\n",
       "0                                           0.967213                                      \n",
       "\n",
       "   eval_sentence-transformers/paraphrase-multilingual-MiniLM-L12-v2_manhattan_recall  \\\n",
       "0                                           0.972527                                   \n",
       "\n",
       "   eval_sentence-transformers/paraphrase-multilingual-MiniLM-L12-v2_manhattan_ap  \\\n",
       "0                                           0.995215                               \n",
       "\n",
       "   eval_sentence-transformers/paraphrase-multilingual-MiniLM-L12-v2_euclidean_accuracy  \\\n",
       "0                                           0.969093                                     \n",
       "\n",
       "   eval_sentence-transformers/paraphrase-multilingual-MiniLM-L12-v2_euclidean_accuracy_threshold  \\\n",
       "0                                            2.33225                                               \n",
       "\n",
       "   eval_sentence-transformers/paraphrase-multilingual-MiniLM-L12-v2_euclidean_f1  \\\n",
       "0                                           0.971844                               \n",
       "\n",
       "   eval_sentence-transformers/paraphrase-multilingual-MiniLM-L12-v2_euclidean_f1_threshold  \\\n",
       "0                                           2.373715                                         \n",
       "\n",
       "   eval_sentence-transformers/paraphrase-multilingual-MiniLM-L12-v2_euclidean_precision  \\\n",
       "0                                           0.963964                                      \n",
       "\n",
       "   eval_sentence-transformers/paraphrase-multilingual-MiniLM-L12-v2_euclidean_recall  \\\n",
       "0                                           0.979853                                   \n",
       "\n",
       "   eval_sentence-transformers/paraphrase-multilingual-MiniLM-L12-v2_euclidean_ap  \\\n",
       "0                                           0.995388                               \n",
       "\n",
       "   eval_sentence-transformers/paraphrase-multilingual-MiniLM-L12-v2_max_accuracy  \\\n",
       "0                                           0.992024                               \n",
       "\n",
       "   eval_sentence-transformers/paraphrase-multilingual-MiniLM-L12-v2_max_accuracy_threshold  \\\n",
       "0                                          35.272957                                         \n",
       "\n",
       "   eval_sentence-transformers/paraphrase-multilingual-MiniLM-L12-v2_max_f1  \\\n",
       "0                                           0.992674                         \n",
       "\n",
       "   eval_sentence-transformers/paraphrase-multilingual-MiniLM-L12-v2_max_f1_threshold  \\\n",
       "0                                             36.375                                   \n",
       "\n",
       "   eval_sentence-transformers/paraphrase-multilingual-MiniLM-L12-v2_max_precision  \\\n",
       "0                                           0.992674                                \n",
       "\n",
       "   eval_sentence-transformers/paraphrase-multilingual-MiniLM-L12-v2_max_recall  \\\n",
       "0                                           0.992674                             \n",
       "\n",
       "   eval_sentence-transformers/paraphrase-multilingual-MiniLM-L12-v2_max_ap  \\\n",
       "0                                           0.998656                         \n",
       "\n",
       "   eval_runtime  eval_samples_per_second  eval_steps_per_second  epoch  \n",
       "0        2.0418                  491.235                  7.836    6.0  "
      ]
     },
     "execution_count": 24,
     "metadata": {},
     "output_type": "execute_result"
    }
   ],
   "source": [
    "pd.DataFrame([trainer.evaluate()])"
   ]
  },
  {
   "cell_type": "markdown",
   "id": "2372f02d-622b-4c7b-943f-15906b462e59",
   "metadata": {},
   "source": [
    "### Save the Best Model\n",
    "\n",
    "Because we used `load_best_model_at_end=True`, our model is now the best one we fine-tuned. Save it."
   ]
  },
  {
   "cell_type": "code",
   "execution_count": 25,
   "id": "a169f22b-36bf-48ec-99cc-7c99efe38376",
   "metadata": {},
   "outputs": [
    {
     "data": {
      "application/vnd.jupyter.widget-view+json": {
       "model_id": "",
       "version_major": 2,
       "version_minor": 0
      },
      "text/plain": [
       "Computing widget examples:   0%|          | 0/5 [00:00<?, ?example/s]"
      ]
     },
     "metadata": {},
     "output_type": "display_data"
    }
   ],
   "source": [
    "trainer.save_model(SBERT_LOWER_OUTPUT_FOLDER)"
   ]
  },
  {
   "cell_type": "code",
   "execution_count": 26,
   "id": "5f6a7a21-fcf9-4def-bc58-06fd7cd5e51a",
   "metadata": {},
   "outputs": [
    {
     "data": {
      "application/vnd.jupyter.widget-view+json": {
       "model_id": "",
       "version_major": 2,
       "version_minor": 0
      },
      "text/plain": [
       "VBox(children=(Label(value='486.341 MB of 486.341 MB uploaded (0.067 MB deduped)\\r'), FloatProgress(value=1.0,…"
      ]
     },
     "metadata": {},
     "output_type": "display_data"
    },
    {
     "data": {
      "text/html": [
       "<style>\n",
       "    table.wandb td:nth-child(1) { padding: 0 10px; text-align: left ; width: auto;} td:nth-child(2) {text-align: left ; width: 100%}\n",
       "    .wandb-row { display: flex; flex-direction: row; flex-wrap: wrap; justify-content: flex-start; width: 100% }\n",
       "    .wandb-col { display: flex; flex-direction: column; flex-basis: 100%; flex: 1; padding: 10px; }\n",
       "    </style>\n",
       "<div class=\"wandb-row\"><div class=\"wandb-col\"><h3>Run history:</h3><br/><table class=\"wandb\"><tr><td>eval/loss</td><td>█▄▂▂▁▁▁▁▁</td></tr><tr><td>eval/runtime</td><td>█▂▄▂▂▁▂▂▂</td></tr><tr><td>eval/samples_per_second</td><td>▁▇▅▇▇█▇▇▇</td></tr><tr><td>eval/sentence-transformers/paraphrase-multilingual-MiniLM-L12-v2_cosine_accuracy</td><td>▁▅▇██████</td></tr><tr><td>eval/sentence-transformers/paraphrase-multilingual-MiniLM-L12-v2_cosine_accuracy_threshold</td><td>▁▇▇█▆▇▇▇▇</td></tr><tr><td>eval/sentence-transformers/paraphrase-multilingual-MiniLM-L12-v2_cosine_ap</td><td>▁▆███████</td></tr><tr><td>eval/sentence-transformers/paraphrase-multilingual-MiniLM-L12-v2_cosine_f1</td><td>▁▄▇██████</td></tr><tr><td>eval/sentence-transformers/paraphrase-multilingual-MiniLM-L12-v2_cosine_f1_threshold</td><td>▁▆██▇▇███</td></tr><tr><td>eval/sentence-transformers/paraphrase-multilingual-MiniLM-L12-v2_cosine_precision</td><td>▁▄▇██████</td></tr><tr><td>eval/sentence-transformers/paraphrase-multilingual-MiniLM-L12-v2_cosine_recall</td><td>█▄▁▅█████</td></tr><tr><td>eval/sentence-transformers/paraphrase-multilingual-MiniLM-L12-v2_dot_accuracy</td><td>▁▅▆▇█████</td></tr><tr><td>eval/sentence-transformers/paraphrase-multilingual-MiniLM-L12-v2_dot_accuracy_threshold</td><td>▁▅▆▇▆█▅▆▆</td></tr><tr><td>eval/sentence-transformers/paraphrase-multilingual-MiniLM-L12-v2_dot_ap</td><td>▁▆▇▇█████</td></tr><tr><td>eval/sentence-transformers/paraphrase-multilingual-MiniLM-L12-v2_dot_f1</td><td>▁▄▅▇▇████</td></tr><tr><td>eval/sentence-transformers/paraphrase-multilingual-MiniLM-L12-v2_dot_f1_threshold</td><td>▁▄▆▆▆█▅▆▆</td></tr><tr><td>eval/sentence-transformers/paraphrase-multilingual-MiniLM-L12-v2_dot_precision</td><td>▁▄▇▇▇█▇██</td></tr><tr><td>eval/sentence-transformers/paraphrase-multilingual-MiniLM-L12-v2_dot_recall</td><td>█▄▁▅▆▆▇▇▇</td></tr><tr><td>eval/sentence-transformers/paraphrase-multilingual-MiniLM-L12-v2_euclidean_accuracy</td><td>▁▄▇▇█████</td></tr><tr><td>eval/sentence-transformers/paraphrase-multilingual-MiniLM-L12-v2_euclidean_accuracy_threshold</td><td>█▁▁▂▂▃▂▂▂</td></tr><tr><td>eval/sentence-transformers/paraphrase-multilingual-MiniLM-L12-v2_euclidean_ap</td><td>▁▆███████</td></tr><tr><td>eval/sentence-transformers/paraphrase-multilingual-MiniLM-L12-v2_euclidean_f1</td><td>▁▃▆▇█████</td></tr><tr><td>eval/sentence-transformers/paraphrase-multilingual-MiniLM-L12-v2_euclidean_f1_threshold</td><td>█▁▁▁▂▃▂▂▂</td></tr><tr><td>eval/sentence-transformers/paraphrase-multilingual-MiniLM-L12-v2_euclidean_precision</td><td>▁▄▆██████</td></tr><tr><td>eval/sentence-transformers/paraphrase-multilingual-MiniLM-L12-v2_euclidean_recall</td><td>█▁▄▄▆▇▇▇▇</td></tr><tr><td>eval/sentence-transformers/paraphrase-multilingual-MiniLM-L12-v2_manhattan_accuracy</td><td>▁▄▇▇█████</td></tr><tr><td>eval/sentence-transformers/paraphrase-multilingual-MiniLM-L12-v2_manhattan_accuracy_threshold</td><td>█▂▁▂▃▃▃▂▂</td></tr><tr><td>eval/sentence-transformers/paraphrase-multilingual-MiniLM-L12-v2_manhattan_ap</td><td>▁▆███████</td></tr><tr><td>eval/sentence-transformers/paraphrase-multilingual-MiniLM-L12-v2_manhattan_f1</td><td>▁▃▆▇█████</td></tr><tr><td>eval/sentence-transformers/paraphrase-multilingual-MiniLM-L12-v2_manhattan_f1_threshold</td><td>█▁▁▁▂▃▂▂▂</td></tr><tr><td>eval/sentence-transformers/paraphrase-multilingual-MiniLM-L12-v2_manhattan_precision</td><td>▁▄▇██████</td></tr><tr><td>eval/sentence-transformers/paraphrase-multilingual-MiniLM-L12-v2_manhattan_recall</td><td>█▁▃▄▆▇▇▆▆</td></tr><tr><td>eval/sentence-transformers/paraphrase-multilingual-MiniLM-L12-v2_max_accuracy</td><td>▁▅▇██████</td></tr><tr><td>eval/sentence-transformers/paraphrase-multilingual-MiniLM-L12-v2_max_accuracy_threshold</td><td>█▂▁▂▃▃▃▂▂</td></tr><tr><td>eval/sentence-transformers/paraphrase-multilingual-MiniLM-L12-v2_max_ap</td><td>▁▆███████</td></tr><tr><td>eval/sentence-transformers/paraphrase-multilingual-MiniLM-L12-v2_max_f1</td><td>▁▄▇██████</td></tr><tr><td>eval/sentence-transformers/paraphrase-multilingual-MiniLM-L12-v2_max_f1_threshold</td><td>█▁▁▁▂▃▂▂▂</td></tr><tr><td>eval/sentence-transformers/paraphrase-multilingual-MiniLM-L12-v2_max_precision</td><td>▁▄▇██████</td></tr><tr><td>eval/sentence-transformers/paraphrase-multilingual-MiniLM-L12-v2_max_recall</td><td>█▄▁▄▇▇▇▇▇</td></tr><tr><td>eval/steps_per_second</td><td>▁▇▅▇▇█▇▇▇</td></tr><tr><td>train/epoch</td><td>▁▂▃▄▅▅▆▇██</td></tr><tr><td>train/global_step</td><td>▁▂▃▄▅▆▆▇▇██</td></tr><tr><td>train/grad_norm</td><td>▁</td></tr><tr><td>train/learning_rate</td><td>▁</td></tr><tr><td>train/loss</td><td>▁</td></tr></table><br/></div><div class=\"wandb-col\"><h3>Run summary:</h3><br/><table class=\"wandb\"><tr><td>eval/loss</td><td>0.00222</td></tr><tr><td>eval/runtime</td><td>2.0418</td></tr><tr><td>eval/samples_per_second</td><td>491.235</td></tr><tr><td>eval/sentence-transformers/paraphrase-multilingual-MiniLM-L12-v2_cosine_accuracy</td><td>0.99202</td></tr><tr><td>eval/sentence-transformers/paraphrase-multilingual-MiniLM-L12-v2_cosine_accuracy_threshold</td><td>0.87554</td></tr><tr><td>eval/sentence-transformers/paraphrase-multilingual-MiniLM-L12-v2_cosine_ap</td><td>0.99866</td></tr><tr><td>eval/sentence-transformers/paraphrase-multilingual-MiniLM-L12-v2_cosine_f1</td><td>0.99267</td></tr><tr><td>eval/sentence-transformers/paraphrase-multilingual-MiniLM-L12-v2_cosine_f1_threshold</td><td>0.87554</td></tr><tr><td>eval/sentence-transformers/paraphrase-multilingual-MiniLM-L12-v2_cosine_precision</td><td>0.99267</td></tr><tr><td>eval/sentence-transformers/paraphrase-multilingual-MiniLM-L12-v2_cosine_recall</td><td>0.99267</td></tr><tr><td>eval/sentence-transformers/paraphrase-multilingual-MiniLM-L12-v2_dot_accuracy</td><td>0.93121</td></tr><tr><td>eval/sentence-transformers/paraphrase-multilingual-MiniLM-L12-v2_dot_accuracy_threshold</td><td>11.31029</td></tr><tr><td>eval/sentence-transformers/paraphrase-multilingual-MiniLM-L12-v2_dot_ap</td><td>0.9819</td></tr><tr><td>eval/sentence-transformers/paraphrase-multilingual-MiniLM-L12-v2_dot_f1</td><td>0.9391</td></tr><tr><td>eval/sentence-transformers/paraphrase-multilingual-MiniLM-L12-v2_dot_f1_threshold</td><td>11.31029</td></tr><tr><td>eval/sentence-transformers/paraphrase-multilingual-MiniLM-L12-v2_dot_precision</td><td>0.9063</td></tr><tr><td>eval/sentence-transformers/paraphrase-multilingual-MiniLM-L12-v2_dot_recall</td><td>0.97436</td></tr><tr><td>eval/sentence-transformers/paraphrase-multilingual-MiniLM-L12-v2_euclidean_accuracy</td><td>0.96909</td></tr><tr><td>eval/sentence-transformers/paraphrase-multilingual-MiniLM-L12-v2_euclidean_accuracy_threshold</td><td>2.33225</td></tr><tr><td>eval/sentence-transformers/paraphrase-multilingual-MiniLM-L12-v2_euclidean_ap</td><td>0.99539</td></tr><tr><td>eval/sentence-transformers/paraphrase-multilingual-MiniLM-L12-v2_euclidean_f1</td><td>0.97184</td></tr><tr><td>eval/sentence-transformers/paraphrase-multilingual-MiniLM-L12-v2_euclidean_f1_threshold</td><td>2.37371</td></tr><tr><td>eval/sentence-transformers/paraphrase-multilingual-MiniLM-L12-v2_euclidean_precision</td><td>0.96396</td></tr><tr><td>eval/sentence-transformers/paraphrase-multilingual-MiniLM-L12-v2_euclidean_recall</td><td>0.97985</td></tr><tr><td>eval/sentence-transformers/paraphrase-multilingual-MiniLM-L12-v2_manhattan_accuracy</td><td>0.9671</td></tr><tr><td>eval/sentence-transformers/paraphrase-multilingual-MiniLM-L12-v2_manhattan_accuracy_threshold</td><td>35.27296</td></tr><tr><td>eval/sentence-transformers/paraphrase-multilingual-MiniLM-L12-v2_manhattan_ap</td><td>0.99522</td></tr><tr><td>eval/sentence-transformers/paraphrase-multilingual-MiniLM-L12-v2_manhattan_f1</td><td>0.96986</td></tr><tr><td>eval/sentence-transformers/paraphrase-multilingual-MiniLM-L12-v2_manhattan_f1_threshold</td><td>36.375</td></tr><tr><td>eval/sentence-transformers/paraphrase-multilingual-MiniLM-L12-v2_manhattan_precision</td><td>0.96721</td></tr><tr><td>eval/sentence-transformers/paraphrase-multilingual-MiniLM-L12-v2_manhattan_recall</td><td>0.97253</td></tr><tr><td>eval/sentence-transformers/paraphrase-multilingual-MiniLM-L12-v2_max_accuracy</td><td>0.99202</td></tr><tr><td>eval/sentence-transformers/paraphrase-multilingual-MiniLM-L12-v2_max_accuracy_threshold</td><td>35.27296</td></tr><tr><td>eval/sentence-transformers/paraphrase-multilingual-MiniLM-L12-v2_max_ap</td><td>0.99866</td></tr><tr><td>eval/sentence-transformers/paraphrase-multilingual-MiniLM-L12-v2_max_f1</td><td>0.99267</td></tr><tr><td>eval/sentence-transformers/paraphrase-multilingual-MiniLM-L12-v2_max_f1_threshold</td><td>36.375</td></tr><tr><td>eval/sentence-transformers/paraphrase-multilingual-MiniLM-L12-v2_max_precision</td><td>0.99267</td></tr><tr><td>eval/sentence-transformers/paraphrase-multilingual-MiniLM-L12-v2_max_recall</td><td>0.99267</td></tr><tr><td>eval/steps_per_second</td><td>7.836</td></tr><tr><td>total_flos</td><td>0.0</td></tr><tr><td>train/epoch</td><td>6.0</td></tr><tr><td>train/global_step</td><td>756</td></tr><tr><td>train/grad_norm</td><td>0.20988</td></tr><tr><td>train/learning_rate</td><td>2e-05</td></tr><tr><td>train/loss</td><td>0.0099</td></tr><tr><td>train_loss</td><td>0.00716</td></tr><tr><td>train_runtime</td><td>249.0548</td></tr><tr><td>train_samples_per_second</td><td>193.307</td></tr><tr><td>train_steps_per_second</td><td>3.035</td></tr></table><br/></div></div>"
      ],
      "text/plain": [
       "<IPython.core.display.HTML object>"
      ]
     },
     "metadata": {},
     "output_type": "display_data"
    },
    {
     "data": {
      "text/html": [
       " View run <strong style=\"color:#cdcd00\">true-meadow-115</strong> at: <a href='https://wandb.ai/rjurney/libpostal-reborn/runs/23f2olp0' target=\"_blank\">https://wandb.ai/rjurney/libpostal-reborn/runs/23f2olp0</a><br/> View project at: <a href='https://wandb.ai/rjurney/libpostal-reborn' target=\"_blank\">https://wandb.ai/rjurney/libpostal-reborn</a><br/>Synced 7 W&B file(s), 0 media file(s), 13 artifact file(s) and 1 other file(s)"
      ],
      "text/plain": [
       "<IPython.core.display.HTML object>"
      ]
     },
     "metadata": {},
     "output_type": "display_data"
    },
    {
     "data": {
      "text/html": [
       "Find logs at: <code>./wandb/run-20240630_133413-23f2olp0/logs</code>"
      ],
      "text/plain": [
       "<IPython.core.display.HTML object>"
      ]
     },
     "metadata": {},
     "output_type": "display_data"
    }
   ],
   "source": [
    "wandb.finish()"
   ]
  },
  {
   "cell_type": "markdown",
   "id": "6e01c634-611b-4309-935f-92d92e85d3ac",
   "metadata": {},
   "source": [
    "### Rewrite our Matchers for Lowercase Duty\n",
    "\n",
    "Need two versions of these to compare the original with their new lowercase cousins."
   ]
  },
  {
   "cell_type": "code",
   "execution_count": 27,
   "id": "dae912a1-7956-44bd-8404-f19f73b80f76",
   "metadata": {},
   "outputs": [],
   "source": [
    "def sbert_compare_lower(address1: str, address2: str) -> float:\n",
    "    \"\"\"sbert_compare - sentence encode each address into a fixed-length text embedding.\n",
    "    Fixed-length means they can be compared with cosine similarity.\"\"\"\n",
    "    embedding1 = sbert_model_lower.encode(address1.lower())\n",
    "    embedding2 = sbert_model_lower.encode(address2.lower())\n",
    "\n",
    "    # Compute cosine similarity\n",
    "    return 1 - distance.cosine(embedding1, embedding2)\n",
    "\n",
    "\n",
    "def sbert_match_lower(row: pd.Series) -> pd.Series:\n",
    "    \"\"\"sbert_match - SentenceTransformer address matching, float iytoyt\"\"\"\n",
    "    return sbert_compare_lower(row[\"Address1\"], row[\"Address2\"])\n",
    "\n",
    "\n",
    "def sbert_compare_binary_lower(address1: str, address2: str, threshold: float = 0.5) -> Literal[0, 1]:\n",
    "    \"\"\"sbert_match - compare and return a binary match\"\"\"\n",
    "    similarity = sbert_compare_lower(address1, address2)\n",
    "    return 1 if similarity >= threshold else 0\n",
    "\n",
    "\n",
    "def sbert_match_binary_lower(row: pd.Series, threshold: float = 0.5) -> pd.Series:\n",
    "    \"\"\"sbert_match_binary - SentenceTransformer address matching, binary output\"\"\"\n",
    "    return sbert_compare_binary_lower(row[\"Address1\"], row[\"Address2\"], threshold=threshold)"
   ]
  },
  {
   "cell_type": "markdown",
   "id": "a29ccddb-2bb7-4e95-9a71-c5fdf57ebb50",
   "metadata": {},
   "source": [
    "### Evaluate ROC Curve to Determine Optimum Similarity Threshold\n",
    "\n",
    "We need to evaluate the ROC Curve of the F1 score to see what it should be set to for our lowercase model too. Recall that the `sbert_match_lower` function has a `threshold: float = 0.5` argument.\n",
    "\n",
    "#### Evaluate on our Augmented Test Dataset\n",
    "\n",
    "First we'll evaluate the ROC curve on our augmented test dataset."
   ]
  },
  {
   "cell_type": "code",
   "execution_count": 28,
   "id": "e502370b-2203-464f-bf69-ccdb6ce43cd2",
   "metadata": {},
   "outputs": [],
   "source": [
    "y_true = test_df[\"Label\"]\n",
    "y_scores = test_df.apply(sbert_match_lower, axis=1)"
   ]
  },
  {
   "cell_type": "code",
   "execution_count": 29,
   "id": "b0413ed0-2f0e-4e98-bb14-80d7abe13031",
   "metadata": {},
   "outputs": [
    {
     "name": "stdout",
     "output_type": "stream",
     "text": [
      "Best Threshold: 0.8714630209955745\n",
      "Best F1 Score: 0.987535953978907\n",
      "AUC-ROC: 0.9979978505751702\n"
     ]
    }
   ],
   "source": [
    "# Compute precision-recall curve\n",
    "precision, recall, thresholds = precision_recall_curve(y_true, y_scores)\n",
    "\n",
    "# Compute F1 score for each threshold\n",
    "f1_scores = [f1_score(y_true, y_scores >= t) for t in thresholds]\n",
    "\n",
    "# Find the threshold that maximizes the F1 score\n",
    "best_threshold_index = np.argmax(f1_scores)\n",
    "best_threshold = thresholds[best_threshold_index]\n",
    "best_f1_score = f1_scores[best_threshold_index]\n",
    "\n",
    "print(f'Best Threshold: {best_threshold}')\n",
    "print(f'Best F1 Score: {best_f1_score}')\n",
    "\n",
    "roc_auc = roc_auc_score(y_true, y_scores)\n",
    "print(f'AUC-ROC: {roc_auc}')"
   ]
  },
  {
   "cell_type": "code",
   "execution_count": 30,
   "id": "19ffec78-d74d-4d40-b735-9cc98bf45d8e",
   "metadata": {},
   "outputs": [
    {
     "data": {
      "image/png": "[encoded data removed]",
      "text/plain": [
       "<Figure size 640x480 with 1 Axes>"
      ]
     },
     "metadata": {},
     "output_type": "display_data"
    }
   ],
   "source": [
    "# Create a DataFrame for Seaborn\n",
    "pr_data = pd.DataFrame({\n",
    "    'Precision': precision[:-1],\n",
    "    'Recall': recall[:-1],\n",
    "    'F1 Score': f1_scores\n",
    "})\n",
    "\n",
    "# Plot Precision-Recall curve using Seaborn\n",
    "sns.lineplot(data=pr_data, x='Recall', y='Precision', marker='o')\n",
    "plt.xlabel('Recall')\n",
    "plt.ylabel('Precision')\n",
    "plt.title('Augmented Test Set Precision-Recall Curve')\n",
    "plt.show()"
   ]
  },
  {
   "cell_type": "markdown",
   "id": "755bd78d-704f-4f85-9724-35a1be923648",
   "metadata": {},
   "source": [
    "### Plot a ROC Curve for our Gold Labeled Data\n",
    "\n",
    "We need to see the ROC Curve for our gold labeled data as well. We care more about performance on this data."
   ]
  },
  {
   "cell_type": "code",
   "execution_count": 31,
   "id": "387419cb-7485-4ace-a47b-2c8b30a02df6",
   "metadata": {},
   "outputs": [],
   "source": [
    "y_true = gold_df[\"Label\"]\n",
    "y_scores = gold_df.apply(sbert_match_lower, axis=1)"
   ]
  },
  {
   "cell_type": "code",
   "execution_count": 32,
   "id": "b8c3eb75-8c18-4a09-be88-a0463d3a0e56",
   "metadata": {},
   "outputs": [
    {
     "name": "stdout",
     "output_type": "stream",
     "text": [
      "Best Threshold: 0.8320894562185885\n",
      "Best F1 Score: 0.8089887640449438\n",
      "AUC-ROC: 0.7888501742160279\n"
     ]
    }
   ],
   "source": [
    "# Compute precision-recall curve\n",
    "precision, recall, thresholds = precision_recall_curve(y_true, y_scores)\n",
    "\n",
    "# Compute F1 score for each threshold\n",
    "f1_scores = [f1_score(y_true, y_scores >= t) for t in thresholds]\n",
    "\n",
    "# Find the threshold that maximizes the F1 score\n",
    "best_threshold_index = np.argmax(f1_scores)\n",
    "best_threshold = thresholds[best_threshold_index]\n",
    "best_f1_score = f1_scores[best_threshold_index]\n",
    "\n",
    "print(f'Best Threshold: {best_threshold}')\n",
    "print(f'Best F1 Score: {best_f1_score}')\n",
    "\n",
    "roc_auc = roc_auc_score(y_true, y_scores)\n",
    "print(f'AUC-ROC: {roc_auc}')"
   ]
  },
  {
   "cell_type": "code",
   "execution_count": 33,
   "id": "b4c88589-362a-43f1-a09f-72162f98da30",
   "metadata": {},
   "outputs": [
    {
     "data": {
      "image/png": "[encoded data removed]",
      "text/plain": [
       "<Figure size 640x480 with 1 Axes>"
      ]
     },
     "metadata": {},
     "output_type": "display_data"
    }
   ],
   "source": [
    "# Create a DataFrame for Seaborn\n",
    "pr_data = pd.DataFrame({\n",
    "    'Precision': precision[:-1],\n",
    "    'Recall': recall[:-1],\n",
    "    'F1 Score': f1_scores\n",
    "})\n",
    "\n",
    "# Plot Precision-Recall curve using Seaborn\n",
    "sns.lineplot(data=pr_data, x='Recall', y='Precision', marker='o')\n",
    "plt.xlabel('Recall')\n",
    "plt.ylabel('Precision')\n",
    "plt.title('Gold Label Precision-Recall Curve')\n",
    "plt.show()"
   ]
  },
  {
   "cell_type": "code",
   "execution_count": 34,
   "id": "66195c98-53d7-4f03-b928-4df786fbc24f",
   "metadata": {},
   "outputs": [
    {
     "data": {
      "text/plain": [
       "0.9319450597090926"
      ]
     },
     "execution_count": 34,
     "metadata": {},
     "output_type": "execute_result"
    }
   ],
   "source": [
    "sbert_compare_lower(\n",
    "    \"nw 5th ave\",\n",
    "    \"northwest 5th avenue\"\n",
    ")"
   ]
  },
  {
   "cell_type": "code",
   "execution_count": 35,
   "id": "1232796d-f3b1-4d29-b5c1-022afb4a89cb",
   "metadata": {},
   "outputs": [
    {
     "data": {
      "text/plain": [
       "0.6700546782579614"
      ]
     },
     "execution_count": 35,
     "metadata": {},
     "output_type": "execute_result"
    }
   ],
   "source": [
    "sbert_compare_lower(\n",
    "    \"101 market square, seattle, wa 98039\",\n",
    "    \"101 davis ct., seattle, wa 98039\"\n",
    ")"
   ]
  },
  {
   "cell_type": "code",
   "execution_count": null,
   "id": "ebf5d512-a8aa-452e-9a36-983a9aec2366",
   "metadata": {},
   "outputs": [],
   "source": []
  }
 ],
 "metadata": {
  "kernelspec": {
   "display_name": "Python 3 (ipykernel)",
   "language": "python",
   "name": "python3"
  },
  "language_info": {
   "codemirror_mode": {
    "name": "ipython",
    "version": 3
   },
   "file_extension": ".py",
   "mimetype": "text/x-python",
   "name": "python",
   "nbconvert_exporter": "python",
   "pygments_lexer": "ipython3",
   "version": "3.11.9"
  }
 },
 "nbformat": 4,
 "nbformat_minor": 5
}
