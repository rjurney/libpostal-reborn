{
 "cells": [
  {
   "cell_type": "markdown",
   "id": "1d0f6845-e53f-4e9b-be24-0e376269f522",
   "metadata": {},
   "source": [
    "# Address Matching Deep Dive\n",
    "\n",
    "This notebook experiments with different ways of comparing addresses in order to demonstrate the power of parsed address comparison."
   ]
  },
  {
   "cell_type": "code",
   "execution_count": 149,
   "id": "8feab8c8-a116-40f9-a882-5a932140af26",
   "metadata": {},
   "outputs": [],
   "source": [
    "import json\n",
    "import logging\n",
    "import os\n",
    "import random\n",
    "import re\n",
    "import sys\n",
    "import time\n",
    "import warnings\n",
    "from numbers import Number\n",
    "from typing import Callable, Dict, List, Literal, Sequence, Tuple, Union\n",
    "\n",
    "import matplotlib.pyplot as plt\n",
    "import numpy as np\n",
    "import pandas as pd\n",
    "import pyarrow as pa\n",
    "import pyarrow.parquet as pq\n",
    "import pyarrow.dataset as ds\n",
    "import pytest\n",
    "import random\n",
    "import seaborn as sns\n",
    "import torch\n",
    "import torch.nn as nn\n",
    "import torch.nn.functional as F\n",
    "import wandb\n",
    "from datasets import Dataset\n",
    "from fuzzywuzzy import fuzz\n",
    "\n",
    "from postal.parser import parse_address\n",
    "from scipy.spatial import distance\n",
    "from sklearn.metrics import (\n",
    "    accuracy_score,\n",
    "    precision_recall_curve,\n",
    "    precision_recall_fscore_support,\n",
    "    precision_score,\n",
    "    recall_score,\n",
    "    f1_score,\n",
    "    roc_auc_score,\n",
    "    roc_curve,\n",
    "    auc\n",
    ")\n",
    "from sklearn.model_selection import train_test_split\n",
    "from sentence_transformers import InputExample, SentenceTransformer, SentencesDataset, SentenceTransformerTrainer, losses\n",
    "from sentence_transformers.evaluation import EmbeddingSimilarityEvaluator, SimilarityFunction, BinaryClassificationEvaluator\n",
    "from sentence_transformers.model_card import SentenceTransformerModelCardData\n",
    "from sentence_transformers.training_args import BatchSamplers, SentenceTransformerTrainingArguments\n",
    "from tenacity import retry\n",
    "from torch.utils.data import DataLoader\n",
    "from torch.optim import RAdam\n",
    "from tqdm.autonotebook import tqdm\n",
    "from transformers import AutoTokenizer, AutoModel, EarlyStoppingCallback, TrainingArguments, Trainer\n",
    "from transformers.integrations import WandbCallback\n",
    "\n",
    "from utils import (\n",
    "    augment_gold_labels,\n",
    "    compute_sbert_metrics,\n",
    "    compute_classifier_metrics,\n",
    "    format_dataset,\n",
    "    gold_label_report,\n",
    "    preprocess_logits_for_metrics,\n",
    "    structured_encode_address,\n",
    "    tokenize_function,\n",
    "    to_dict,\n",
    "    save_custom_model,\n",
    "    load_custom_model,\n",
    ")"
   ]
  },
  {
   "cell_type": "markdown",
   "id": "0578d26d-790c-4fe6-aed7-2529f155f7f6",
   "metadata": {},
   "source": [
    "#### Pin Random Seeds for Reproducibility"
   ]
  },
  {
   "cell_type": "code",
   "execution_count": 150,
   "id": "9b495c03-2aba-4d6b-889b-3b21b56f4d2e",
   "metadata": {},
   "outputs": [],
   "source": [
    "RANDOM_SEED = 31337\n",
    "\n",
    "random.seed(RANDOM_SEED)\n",
    "np.random.seed(RANDOM_SEED)\n",
    "torch.manual_seed(RANDOM_SEED)\n",
    "torch.mps.manual_seed(RANDOM_SEED)"
   ]
  },
  {
   "cell_type": "markdown",
   "id": "20e998da-0660-4274-b000-619b28c3c533",
   "metadata": {},
   "source": [
    "#### Setup Basic Logging"
   ]
  },
  {
   "cell_type": "code",
   "execution_count": 151,
   "id": "e508b00c-0011-4845-a4d6-cd131ec5b6e2",
   "metadata": {},
   "outputs": [],
   "source": [
    "logging.basicConfig(stream=sys.stderr, level=logging.ERROR)\n",
    "\n",
    "logger = logging.getLogger(__name__)"
   ]
  },
  {
   "cell_type": "markdown",
   "id": "2912a2be-9e56-4bf9-94fc-3dbcfd02ef17",
   "metadata": {},
   "source": [
    "#### Ignore Warnings"
   ]
  },
  {
   "cell_type": "code",
   "execution_count": 152,
   "id": "18cd4a2c-f1f5-4c82-8c15-a52dc87db947",
   "metadata": {},
   "outputs": [],
   "source": [
    "warnings.simplefilter('ignore', FutureWarning)"
   ]
  },
  {
   "cell_type": "markdown",
   "id": "78ba8945-a02c-4661-a865-c03ee6eecebe",
   "metadata": {},
   "source": [
    "#### Configure Weights & Biases\n",
    "\n",
    "`wandb` needs some environment variables to work."
   ]
  },
  {
   "cell_type": "code",
   "execution_count": 153,
   "id": "9491984a-c9fb-40d5-8fb0-743b77d15c21",
   "metadata": {},
   "outputs": [],
   "source": [
    "os.environ[\"WANDB_LOG_MODEL\"] = \"end\"\n",
    "os.environ[\"WANDB_WATCH\"] = \"gradients\"\n",
    "os.environ[\"WANDB_PROJECT\"] = \"libpostal-reborn\"\n",
    "os.environ[\"WANDB_DISABLED\"] = \"false\"\n",
    "os.environ[\"WANDB_IGNORE_GLOBS\"] = \".env\""
   ]
  },
  {
   "cell_type": "markdown",
   "id": "9006aa62-5aac-4bd2-900e-09b8107903e3",
   "metadata": {},
   "source": [
    "#### Optionally Disable `wandb` Uploads\n",
    "\n",
    "Weights and Biases can be slow..."
   ]
  },
  {
   "cell_type": "code",
   "execution_count": 154,
   "id": "17afaccb-e7db-48a5-aaff-561804821337",
   "metadata": {},
   "outputs": [],
   "source": [
    "os.environ[\"WANDB_MODE\"] = \"offline\""
   ]
  },
  {
   "cell_type": "markdown",
   "id": "79e1d411-e2a5-4824-9309-ff50861a0e19",
   "metadata": {},
   "source": [
    "#### Configure Huggingface APIs"
   ]
  },
  {
   "cell_type": "code",
   "execution_count": 155,
   "id": "62d0d44b-c38a-48ca-a3b1-895b5b8c320b",
   "metadata": {},
   "outputs": [],
   "source": [
    "os.environ[\"HF_ENDPOINT\"] = \"https://huggingface.co/\""
   ]
  },
  {
   "cell_type": "markdown",
   "id": "ef7462e0-b3d1-4d76-bd7a-803cbd2f3446",
   "metadata": {},
   "source": [
    "#### Configure Huggingface APIs\n",
    "\n",
    "Squash any warnings..."
   ]
  },
  {
   "cell_type": "code",
   "execution_count": 156,
   "id": "5fcde550-79a6-4333-967e-c80d555de5b8",
   "metadata": {},
   "outputs": [],
   "source": [
    "os.environ[\"TOKENIZERS_PARALLELISM\"] = \"false\""
   ]
  },
  {
   "cell_type": "markdown",
   "id": "42913e46-e5db-4eff-9410-5a8449d4cbf6",
   "metadata": {},
   "source": [
    "#### Configure Pandas to Show More Rows"
   ]
  },
  {
   "cell_type": "code",
   "execution_count": 157,
   "id": "b2d4cb15-b201-4f34-8917-d292dd2a1876",
   "metadata": {},
   "outputs": [],
   "source": [
    "pd.set_option(\"display.max_rows\", 40)\n",
    "pd.set_option(\"display.max_columns\", None)"
   ]
  },
  {
   "cell_type": "markdown",
   "id": "aad42226-1abc-4c29-b68d-659d330ba1f9",
   "metadata": {},
   "source": [
    "### Use CUDA or MPS if Avaialable\n",
    "\n",
    "CPU training and even inference with sentence transformers and deep learning models is quite slow. Since all machine learning in this library is based on [PyTorch](https://pytorch.org/get-started/locally/), we can assign all ML operations to a GPU in this one block of code. Otherwise we default to CPU without acceleration. The notebook is still workable in this mode, you just may need to grab a cup of tea or coffee while you wait for it to train the Sentence-BERT model below."
   ]
  },
  {
   "cell_type": "code",
   "execution_count": 158,
   "id": "1051aa37-26b7-496a-8182-f10cfa1f5f6d",
   "metadata": {},
   "outputs": [
    {
     "data": {
      "text/plain": [
       "device(type='mps')"
      ]
     },
     "execution_count": 158,
     "metadata": {},
     "output_type": "execute_result"
    }
   ],
   "source": [
    "# Check for CUDA or MPS availability and set the device\n",
    "if torch.backends.mps.is_available():\n",
    "    device = torch.device(\"mps\")\n",
    "    logger.debug(\"Using Apple GPU acceleration\")\n",
    "elif torch.cuda.is_available():\n",
    "    device = torch.device(\"cuda\")\n",
    "    logger.debug(\"Using NVIDIA CUDA GPU acceleration\")\n",
    "else:\n",
    "    device = \"cpu\"\n",
    "    logger.debug(\"Using CPU for ML\")\n",
    "\n",
    "device"
   ]
  },
  {
   "cell_type": "markdown",
   "id": "921a41eb-4e6b-4d64-a3b4-46013524e37c",
   "metadata": {},
   "source": [
    "### Use Weights & Biases for Logging Metrics\n",
    "\n",
    "Weights & Biases has a free account for individuals with public projects. Using it will produce charts during our training runs that anyone can view. You can create your own project for this notebook and login with that key to log your own training runs.\n",
    "\n",
    "You may need to run the following command from your shell before the next cell, otherwise you will have to paste your project key into the \n",
    "\n",
    "```bash\n",
    "wandb login\n",
    "```"
   ]
  },
  {
   "cell_type": "code",
   "execution_count": 159,
   "id": "d98cdf2f-fcb9-495e-9201-80f9e07d9070",
   "metadata": {},
   "outputs": [
    {
     "name": "stderr",
     "output_type": "stream",
     "text": [
      "\u001b[34m\u001b[1mwandb\u001b[0m: \u001b[33mWARNING\u001b[0m Calling wandb.login() after wandb.init() has no effect.\n"
     ]
    },
    {
     "data": {
      "text/plain": [
       "True"
      ]
     },
     "execution_count": 159,
     "metadata": {},
     "output_type": "execute_result"
    }
   ],
   "source": [
    "# Login to wandb. Comment out if you already haven't via `wandb login` from a CLI\n",
    "wandb.login()"
   ]
  },
  {
   "cell_type": "markdown",
   "id": "85701b19-a5e1-42c4-9ace-8d88d96f893f",
   "metadata": {},
   "source": [
    "## Implementing a Structured Address Matcher\n",
    "\n",
    "Let's start our exercise by using the structured address data provided by [Libpostal](https://github.com/openvenues/libpostal) to parse them for matching. We write a function for each address part to deal with missing fields without duplicating a lot of logic.\n",
    "\n",
    "We start with something quite literal and basic. We'll improve it as we go."
   ]
  },
  {
   "cell_type": "code",
   "execution_count": 12,
   "id": "44031098-15b5-45ef-b1d0-8a51a9838bd6",
   "metadata": {},
   "outputs": [],
   "source": [
    "def parse_match_address(address1: str, address2: str) -> Literal[0, 1]:\n",
    "    \"\"\"parse_match_address implements address matching using the precise, parsed structure of addresses.\"\"\"\n",
    "    address1 = to_dict(parse_address(address1))\n",
    "    address2 = to_dict(parse_address(address2))\n",
    "\n",
    "    def match_road(address1: Dict, address2: Dict) -> Literal[0, 1]:\n",
    "        \"\"\"match_road - literal road matching, negative if either lacks a road\"\"\"\n",
    "        if (\"road\" in address1) and (\"road\" in address2):\n",
    "            if address1[\"road\"] == address2[\"road\"]:\n",
    "                logger.debug(\"road match\")\n",
    "                return 1\n",
    "            else:\n",
    "                logger.debug(\"road mismatch\")\n",
    "                return 0\n",
    "        logger.debug(\"road mismatch\")\n",
    "        return 0\n",
    "\n",
    "    def match_house_number(address1: Dict, address2: Dict) -> Literal[0, 1]:\n",
    "        \"\"\"match_house_number - literal house number matching, negative if either lacks a house_number\"\"\"\n",
    "        if (\"house_number\" in address1) and (\"house_number\" in address2):\n",
    "            if address1[\"house_number\"] == address2[\"house_number\"]:\n",
    "                logger.debug(\"house_number match\")\n",
    "                return 1\n",
    "            else:\n",
    "                logger.debug(\"house_number mismatch\")\n",
    "                return 0\n",
    "        logger.debug(\"house_number mistmatch\")\n",
    "        return 0\n",
    "\n",
    "    def match_unit(address1: Dict, address2: Dict) -> Literal[0, 1]:\n",
    "        \"\"\"match_unit - note a missing unit in both is a match\"\"\"\n",
    "        if \"unit\" in address1:\n",
    "            if \"unit\" in address2:\n",
    "                logger.debug(\"unit match\")\n",
    "                return 1 if (address1[\"unit\"] == address2[\"unit\"]) else 0\n",
    "            else:\n",
    "                logger.debug(\"unit mismatch\")\n",
    "                return 0\n",
    "        if \"unit\" in address2:\n",
    "            if \"unit\" in address1:\n",
    "                logger.debug(\"unit match\")\n",
    "                return 1 if (address1[\"unit\"] == address2[\"unit\"]) else 0\n",
    "            else:\n",
    "                logger.debug(\"unit mismatch\")\n",
    "                return 0\n",
    "        # Neither address has a unit, which is a default match\n",
    "        return 1\n",
    "\n",
    "    def match_postcode(address1: Dict, address2: Dict) -> Literal[0, 1]:\n",
    "        \"\"\"match_postcode - literal matching, negative if either lacks a postal code\"\"\"\n",
    "        if (\"postcode\" in address1) and (\"postcode\" in address2):\n",
    "            if address1[\"postcode\"] == address2[\"postcode\"]:\n",
    "                logger.debug(\"postcode match\")\n",
    "                return 1\n",
    "            else:\n",
    "                logger.debug(\"postcode mismatch\")\n",
    "                return 0\n",
    "        logger.debug(\"postcode mismatch\")\n",
    "        return 0\n",
    "\n",
    "    def match_country(address1: Dict, address2: Dict) -> Literal[0, 1]:\n",
    "        \"\"\"match_country - literal country matching - pass if both don't have one\"\"\"\n",
    "        if (\"country\" in address1) and (\"country\" in address2):\n",
    "            if address1[\"country\"] == address2[\"country\"]:\n",
    "                logger.debug(\"country match\")\n",
    "                return 1\n",
    "            else:\n",
    "                logger.debug(\"country mismatch\")\n",
    "                return 0\n",
    "        # One or none countries should match\n",
    "        logger.debug(\"country match\")\n",
    "        return 1\n",
    "\n",
    "    # Combine the above to get a complete address matcher\n",
    "    if (\n",
    "        match_road(address1, address2)\n",
    "        and match_house_number(address1, address2)\n",
    "        and match_unit(address1, address2)\n",
    "        and match_postcode(address1, address2)\n",
    "        and match_country(address1, address2)\n",
    "    ):\n",
    "        logger.debug(\"overall match\")\n",
    "        return 1\n",
    "    else:\n",
    "        logger.debug(\"overall mismatch\")\n",
    "        return 0"
   ]
  },
  {
   "cell_type": "code",
   "execution_count": 13,
   "id": "a9f67113-6f5f-45cb-9f4c-4ee0a4362de1",
   "metadata": {},
   "outputs": [
    {
     "data": {
      "text/plain": [
       "1"
      ]
     },
     "execution_count": 13,
     "metadata": {},
     "output_type": "execute_result"
    }
   ],
   "source": [
    "# Yup down to house_number ...\n",
    "parse_match_address(\n",
    "    \"3413 Sean Way, Lawrenceville, GA 30044\",\n",
    "    \"3413 Sean Way Lawrenceville, GA, 30044\",\n",
    ")"
   ]
  },
  {
   "cell_type": "code",
   "execution_count": 14,
   "id": "3ea361bd-56df-4980-a060-1d7e743af38e",
   "metadata": {},
   "outputs": [
    {
     "data": {
      "text/plain": [
       "97"
      ]
     },
     "execution_count": 14,
     "metadata": {},
     "output_type": "execute_result"
    }
   ],
   "source": [
    "fuzz.ratio(\n",
    "    \"3413 Sean Way, Lawrenceville, GA 30044\",\n",
    "    \"3413 Sean Way Lawrenceville, GA, 30044\",\n",
    ")"
   ]
  },
  {
   "cell_type": "code",
   "execution_count": 15,
   "id": "797ace98-a912-4c45-b178-6c6201f58bf9",
   "metadata": {},
   "outputs": [
    {
     "data": {
      "text/plain": [
       "1"
      ]
     },
     "execution_count": 15,
     "metadata": {},
     "output_type": "execute_result"
    }
   ],
   "source": [
    "# Yup down to unit ...\n",
    "parse_match_address(\n",
    "    \"120 Ralph McGill Blvd, Apt 101, Atlanta, GA 30308, USA\",\n",
    "    \"120 Ralph McGill Blvd, Apt 101, Atlanta GA 30308\",\n",
    ")"
   ]
  },
  {
   "cell_type": "code",
   "execution_count": 16,
   "id": "5caf28fb-64e1-447f-a996-6d0d9e67bb9f",
   "metadata": {},
   "outputs": [
    {
     "data": {
      "text/plain": [
       "94"
      ]
     },
     "execution_count": 16,
     "metadata": {},
     "output_type": "execute_result"
    }
   ],
   "source": [
    "fuzz.ratio(\n",
    "    \"120 Ralph McGill Blvd, Apt 101, Atlanta, GA 30308, USA\",\n",
    "    \"120 Ralph McGill Blvd, Apt 101, Atlanta GA 30308\",\n",
    ")"
   ]
  },
  {
   "cell_type": "code",
   "execution_count": 17,
   "id": "7b949ebe-8889-498c-a601-904c2c5c1433",
   "metadata": {},
   "outputs": [
    {
     "data": {
      "text/plain": [
       "0"
      ]
     },
     "execution_count": 17,
     "metadata": {},
     "output_type": "execute_result"
    }
   ],
   "source": [
    "# Nope if only one uses an abbreviation ...\n",
    "parse_match_address(\n",
    "    \"120 Ralph McGill Blvd, Apt 333, Atlanta, GA 30308\",\n",
    "    \"120 Ralph McGill Boulevard, Apt 333, Atlanta, GA 30308\",\n",
    ")"
   ]
  },
  {
   "cell_type": "code",
   "execution_count": 18,
   "id": "108b88c9-9aca-4a13-80f9-2c88dbe77afe",
   "metadata": {},
   "outputs": [
    {
     "data": {
      "text/plain": [
       "95"
      ]
     },
     "execution_count": 18,
     "metadata": {},
     "output_type": "execute_result"
    }
   ],
   "source": [
    "fuzz.ratio(\n",
    "    \"120 Ralph McGill Blvd, Apt 333, Atlanta, GA 30308\",\n",
    "    \"120 Ralph McGill Boulevard, Apt 333, Atlanta, GA 30308\",\n",
    ")"
   ]
  },
  {
   "cell_type": "code",
   "execution_count": 19,
   "id": "498ab13c-1457-4c4c-95ff-2f691f697738",
   "metadata": {},
   "outputs": [
    {
     "data": {
      "text/plain": [
       "0"
      ]
     },
     "execution_count": 19,
     "metadata": {},
     "output_type": "execute_result"
    }
   ],
   "source": [
    "# Nope if one character in the streetname is off ...\n",
    "parse_match_address(\n",
    "    \"120 Ralp McGill Blvd, Apt 333, Atlanta, GA 30308\",\n",
    "    \"120 Ralph McGill Blvd, Apt 333, Atlanta, GA 30308\",\n",
    ")"
   ]
  },
  {
   "cell_type": "code",
   "execution_count": 20,
   "id": "6681fa67-bdf4-43b0-984d-8c91e5cbf902",
   "metadata": {},
   "outputs": [
    {
     "data": {
      "text/plain": [
       "99"
      ]
     },
     "execution_count": 20,
     "metadata": {},
     "output_type": "execute_result"
    }
   ],
   "source": [
    "fuzz.ratio(\n",
    "    \"120 Ralp McGill Blvd, Apt 333, Atlanta, GA 30308\",\n",
    "    \"120 Ralph McGill Blvd, Apt 333, Atlanta, GA 30308\",\n",
    ")"
   ]
  },
  {
   "cell_type": "markdown",
   "id": "61f1a4c5-0bcd-4c52-b5d7-7be7ad1932ea",
   "metadata": {},
   "source": [
    "### Literal is Too Precise!\n",
    "\n",
    "While it is useful to parse addresses and implement literal matching logic as we did above, as the third example indicates, an abbreviation or a single typo results in a mistmatch. We're going to write a more complex, approximate logical matcher below using string distance and text embeddings.\n",
    "\n",
    "Depending on your application you might relax this criteria to include corner cases such as missing postcodes. Before we get into that, let's create some training and evaluation data using hand-labeled data with an LLM data augmentation strategy to generate a lot of labeled records."
   ]
  },
  {
   "cell_type": "markdown",
   "id": "15895b85-1d0f-441c-9d20-0849b3db3b22",
   "metadata": {},
   "source": [
    "## Data Augmentation with the OpenAI GPT4o API\n",
    "\n",
    "We need training data for our supervised learning approaches to addres matching. Open the sister notebook [Address Data Augmentation.ipynb](Address%20Matching%20Deep%20Dive.ipynb) before procceeding to further cells in order to create some training data via minimal manual labeling and programmatic data labeling for data augmentation. This will teach you programmatic data labeling, a critical skill that LLMs make MUCH EASIER because they understand things like the semantics of global addresses."
   ]
  },
  {
   "cell_type": "code",
   "execution_count": 21,
   "id": "833e8045-5cd3-4b5a-9cd3-afc65965062a",
   "metadata": {},
   "outputs": [],
   "source": [
    "gold_df = pd.read_csv(\"data/gold.csv\")"
   ]
  },
  {
   "cell_type": "code",
   "execution_count": 22,
   "id": "d6382fc3-ca84-4d17-9d74-354ab798d21c",
   "metadata": {},
   "outputs": [
    {
     "data": {
      "text/html": [
       "<div>\n",
       "<style scoped>\n",
       "    .dataframe tbody tr th:only-of-type {\n",
       "        vertical-align: middle;\n",
       "    }\n",
       "\n",
       "    .dataframe tbody tr th {\n",
       "        vertical-align: top;\n",
       "    }\n",
       "\n",
       "    .dataframe thead th {\n",
       "        text-align: right;\n",
       "    }\n",
       "</style>\n",
       "<table border=\"1\" class=\"dataframe\">\n",
       "  <thead>\n",
       "    <tr style=\"text-align: right;\">\n",
       "      <th></th>\n",
       "      <th>Address1</th>\n",
       "      <th>Address2</th>\n",
       "      <th>Description</th>\n",
       "      <th>Label</th>\n",
       "    </tr>\n",
       "  </thead>\n",
       "  <tbody>\n",
       "    <tr>\n",
       "      <th>0</th>\n",
       "      <td>123 E Main St, Springfield, IL 62701</td>\n",
       "      <td>123 East Main Street, Springfield, Illinois 62701</td>\n",
       "      <td>Different directional prefix formats for same ...</td>\n",
       "      <td>1.0</td>\n",
       "    </tr>\n",
       "    <tr>\n",
       "      <th>1</th>\n",
       "      <td>456 W Elm St, Boston, MA 02118</td>\n",
       "      <td>456 West Elm Street, Boston, Massachusetts 02118</td>\n",
       "      <td>Different directional prefix formats for same ...</td>\n",
       "      <td>1.0</td>\n",
       "    </tr>\n",
       "    <tr>\n",
       "      <th>2</th>\n",
       "      <td>789 S Oak St, Denver, CO 80203</td>\n",
       "      <td>789 South Oak Street, Denver, Colorado 80203</td>\n",
       "      <td>Different directional prefix formats for same ...</td>\n",
       "      <td>1.0</td>\n",
       "    </tr>\n",
       "    <tr>\n",
       "      <th>3</th>\n",
       "      <td>321 N Pine St, Seattle, WA 98101</td>\n",
       "      <td>321 North Pine Street, Seattle, Washington 98101</td>\n",
       "      <td>Different directional prefix formats for same ...</td>\n",
       "      <td>1.0</td>\n",
       "    </tr>\n",
       "    <tr>\n",
       "      <th>4</th>\n",
       "      <td>654 E Maple St, Austin, TX 73301</td>\n",
       "      <td>654 East Maple Street, Austin, Texas 73301</td>\n",
       "      <td>Different directional prefix formats for same ...</td>\n",
       "      <td>1.0</td>\n",
       "    </tr>\n",
       "    <tr>\n",
       "      <th>5</th>\n",
       "      <td>987 W Cedar St, San Francisco, CA 94102</td>\n",
       "      <td>987 West Cedar Street, San Francisco, Californ...</td>\n",
       "      <td>Different directional prefix formats for same ...</td>\n",
       "      <td>1.0</td>\n",
       "    </tr>\n",
       "    <tr>\n",
       "      <th>6</th>\n",
       "      <td>246 S Birch St, New York, NY 10001</td>\n",
       "      <td>246 South Birch Street, New York, New York 10001</td>\n",
       "      <td>Different directional prefix formats for same ...</td>\n",
       "      <td>1.0</td>\n",
       "    </tr>\n",
       "    <tr>\n",
       "      <th>7</th>\n",
       "      <td>135 N Cedar Ave, Chicago, IL 60601</td>\n",
       "      <td>135 North Cedar Avenue, Chicago, Illinois 60601</td>\n",
       "      <td>Different directional prefix formats for same ...</td>\n",
       "      <td>1.0</td>\n",
       "    </tr>\n",
       "    <tr>\n",
       "      <th>8</th>\n",
       "      <td>864 E Pine Ave, Los Angeles, CA 90001</td>\n",
       "      <td>864 East Pine Avenue, Los Angeles, California ...</td>\n",
       "      <td>Different directional prefix formats for same ...</td>\n",
       "      <td>1.0</td>\n",
       "    </tr>\n",
       "    <tr>\n",
       "      <th>9</th>\n",
       "      <td>753 W Spruce St, Houston, TX 77001</td>\n",
       "      <td>753 West Spruce Street, Houston, Texas 77001</td>\n",
       "      <td>Different directional prefix formats for same ...</td>\n",
       "      <td>1.0</td>\n",
       "    </tr>\n",
       "    <tr>\n",
       "      <th>10</th>\n",
       "      <td>159 S Maple Ave, Phoenix, AZ 85001</td>\n",
       "      <td>159 South Maple Avenue, Phoenix, Arizona 85001</td>\n",
       "      <td>Different directional prefix formats for same ...</td>\n",
       "      <td>1.0</td>\n",
       "    </tr>\n",
       "    <tr>\n",
       "      <th>11</th>\n",
       "      <td>357 N Oak St, Philadelphia, PA 19102</td>\n",
       "      <td>357 North Oak Street, Philadelphia, Pennsylvan...</td>\n",
       "      <td>Different directional prefix formats for same ...</td>\n",
       "      <td>1.0</td>\n",
       "    </tr>\n",
       "    <tr>\n",
       "      <th>12</th>\n",
       "      <td>468 E Birch Ave, San Antonio, TX 78201</td>\n",
       "      <td>468 East Birch Avenue, San Antonio, Texas 78201</td>\n",
       "      <td>Different directional prefix formats for same ...</td>\n",
       "      <td>1.0</td>\n",
       "    </tr>\n",
       "    <tr>\n",
       "      <th>13</th>\n",
       "      <td>579 W Cedar St, Dallas, TX 75201</td>\n",
       "      <td>579 West Cedar Street, Dallas, Texas 75201</td>\n",
       "      <td>Different directional prefix formats for same ...</td>\n",
       "      <td>1.0</td>\n",
       "    </tr>\n",
       "    <tr>\n",
       "      <th>14</th>\n",
       "      <td>681 S Pine Ave, San Jose, CA 95101</td>\n",
       "      <td>681 South Pine Avenue, San Jose, California 95101</td>\n",
       "      <td>Different directional prefix formats for same ...</td>\n",
       "      <td>1.0</td>\n",
       "    </tr>\n",
       "    <tr>\n",
       "      <th>15</th>\n",
       "      <td>792 N Maple St, Jacksonville, FL 32201</td>\n",
       "      <td>792 North Maple Street, Jacksonville, Florida ...</td>\n",
       "      <td>Different directional prefix formats for same ...</td>\n",
       "      <td>1.0</td>\n",
       "    </tr>\n",
       "    <tr>\n",
       "      <th>16</th>\n",
       "      <td>903 E Oak St, Columbus, OH 43201</td>\n",
       "      <td>903 East Oak Street, Columbus, Ohio 43201</td>\n",
       "      <td>Different directional prefix formats for same ...</td>\n",
       "      <td>1.0</td>\n",
       "    </tr>\n",
       "    <tr>\n",
       "      <th>17</th>\n",
       "      <td>104 W Elm Ave, Charlotte, NC 28201</td>\n",
       "      <td>104 West Elm Avenue, Charlotte, North Carolina...</td>\n",
       "      <td>Different directional prefix formats for same ...</td>\n",
       "      <td>1.0</td>\n",
       "    </tr>\n",
       "    <tr>\n",
       "      <th>18</th>\n",
       "      <td>215 S Cedar St, Indianapolis, IN 46201</td>\n",
       "      <td>215 South Cedar Street, Indianapolis, Indiana ...</td>\n",
       "      <td>Different directional prefix formats for same ...</td>\n",
       "      <td>1.0</td>\n",
       "    </tr>\n",
       "    <tr>\n",
       "      <th>19</th>\n",
       "      <td>326 N Pine Ave, Fort Worth, TX 76101</td>\n",
       "      <td>326 North Pine Avenue, Fort Worth, Texas 76101</td>\n",
       "      <td>Different directional prefix formats for same ...</td>\n",
       "      <td>1.0</td>\n",
       "    </tr>\n",
       "  </tbody>\n",
       "</table>\n",
       "</div>"
      ],
      "text/plain": [
       "                                   Address1  \\\n",
       "0      123 E Main St, Springfield, IL 62701   \n",
       "1            456 W Elm St, Boston, MA 02118   \n",
       "2            789 S Oak St, Denver, CO 80203   \n",
       "3          321 N Pine St, Seattle, WA 98101   \n",
       "4          654 E Maple St, Austin, TX 73301   \n",
       "5   987 W Cedar St, San Francisco, CA 94102   \n",
       "6        246 S Birch St, New York, NY 10001   \n",
       "7        135 N Cedar Ave, Chicago, IL 60601   \n",
       "8     864 E Pine Ave, Los Angeles, CA 90001   \n",
       "9        753 W Spruce St, Houston, TX 77001   \n",
       "10       159 S Maple Ave, Phoenix, AZ 85001   \n",
       "11     357 N Oak St, Philadelphia, PA 19102   \n",
       "12   468 E Birch Ave, San Antonio, TX 78201   \n",
       "13         579 W Cedar St, Dallas, TX 75201   \n",
       "14       681 S Pine Ave, San Jose, CA 95101   \n",
       "15   792 N Maple St, Jacksonville, FL 32201   \n",
       "16         903 E Oak St, Columbus, OH 43201   \n",
       "17       104 W Elm Ave, Charlotte, NC 28201   \n",
       "18   215 S Cedar St, Indianapolis, IN 46201   \n",
       "19     326 N Pine Ave, Fort Worth, TX 76101   \n",
       "\n",
       "                                             Address2  \\\n",
       "0   123 East Main Street, Springfield, Illinois 62701   \n",
       "1    456 West Elm Street, Boston, Massachusetts 02118   \n",
       "2        789 South Oak Street, Denver, Colorado 80203   \n",
       "3    321 North Pine Street, Seattle, Washington 98101   \n",
       "4          654 East Maple Street, Austin, Texas 73301   \n",
       "5   987 West Cedar Street, San Francisco, Californ...   \n",
       "6    246 South Birch Street, New York, New York 10001   \n",
       "7     135 North Cedar Avenue, Chicago, Illinois 60601   \n",
       "8   864 East Pine Avenue, Los Angeles, California ...   \n",
       "9        753 West Spruce Street, Houston, Texas 77001   \n",
       "10     159 South Maple Avenue, Phoenix, Arizona 85001   \n",
       "11  357 North Oak Street, Philadelphia, Pennsylvan...   \n",
       "12    468 East Birch Avenue, San Antonio, Texas 78201   \n",
       "13         579 West Cedar Street, Dallas, Texas 75201   \n",
       "14  681 South Pine Avenue, San Jose, California 95101   \n",
       "15  792 North Maple Street, Jacksonville, Florida ...   \n",
       "16          903 East Oak Street, Columbus, Ohio 43201   \n",
       "17  104 West Elm Avenue, Charlotte, North Carolina...   \n",
       "18  215 South Cedar Street, Indianapolis, Indiana ...   \n",
       "19     326 North Pine Avenue, Fort Worth, Texas 76101   \n",
       "\n",
       "                                          Description  Label  \n",
       "0   Different directional prefix formats for same ...    1.0  \n",
       "1   Different directional prefix formats for same ...    1.0  \n",
       "2   Different directional prefix formats for same ...    1.0  \n",
       "3   Different directional prefix formats for same ...    1.0  \n",
       "4   Different directional prefix formats for same ...    1.0  \n",
       "5   Different directional prefix formats for same ...    1.0  \n",
       "6   Different directional prefix formats for same ...    1.0  \n",
       "7   Different directional prefix formats for same ...    1.0  \n",
       "8   Different directional prefix formats for same ...    1.0  \n",
       "9   Different directional prefix formats for same ...    1.0  \n",
       "10  Different directional prefix formats for same ...    1.0  \n",
       "11  Different directional prefix formats for same ...    1.0  \n",
       "12  Different directional prefix formats for same ...    1.0  \n",
       "13  Different directional prefix formats for same ...    1.0  \n",
       "14  Different directional prefix formats for same ...    1.0  \n",
       "15  Different directional prefix formats for same ...    1.0  \n",
       "16  Different directional prefix formats for same ...    1.0  \n",
       "17  Different directional prefix formats for same ...    1.0  \n",
       "18  Different directional prefix formats for same ...    1.0  \n",
       "19  Different directional prefix formats for same ...    1.0  "
      ]
     },
     "execution_count": 22,
     "metadata": {},
     "output_type": "execute_result"
    }
   ],
   "source": [
    "# If you want to start from here and not run the data augmentation pipeline again...\n",
    "augment_results_df = pd.read_parquet(\"data/training.6.parquet\")\n",
    "\n",
    "augment_results_df.head(20)"
   ]
  },
  {
   "cell_type": "markdown",
   "id": "4c2b2e4e-0c28-47ce-8b3c-7c1dac0062f5",
   "metadata": {},
   "source": [
    "### Data Augmentation Complete!\n",
    "\n",
    "Starting by hand labeling under 100 records and iterating a few times on data augmentation instructions for GPT4o, we have multiplied them by many times to get almost 10,000 synthetic records! This is enough to fine-tune a `SentenceTransformer` or semantic text similarity classifier model. GPT4o is a powerful tool for data augmentation! This can work for a variety of problems.\n",
    "\n",
    "LLM based data augmentation is a powerful tool for your data labeling toolbox."
   ]
  },
  {
   "cell_type": "markdown",
   "id": "423992c9-bd0c-4e85-b5ce-cbf14a1d5356",
   "metadata": {},
   "source": [
    "# Comparing Different Approaches to Address Matching\n",
    "\n",
    "Now we're going to compare the following methods of address matching:\n",
    "\n",
    "1) Database Lookups - we'l use [pycountry](https://pypi.org/project/pycountry/) ([github](https://github.com/pycountry/pycountry)) to improve international address matching (see [PyCountry Nation Matching](PyCountry%20Nation%20Matching.ipynb)).\n",
    "2) Text Embeddings - we'll use transfer learning to load an existing [SentenceTransformer](https://sbert.net) model to sentence encode pairs of addresses to create fixed-length embeddings for each address and then compute a similarity score via [cosine similarity](https://en.wikipedia.org/wiki/Cosine_similarity). This won't work without fine-tuning, so we fine-tune the model to the task.\n",
    "3) Deep Matching Model - We'll train a deep semantic textual similarity classification model based on a Siamese BERT network as defined in [Sentence-BERT](https://arxiv.org/abs/1908.10084) to classify address pairs as matching or not matching."
   ]
  },
  {
   "cell_type": "markdown",
   "id": "ae7aa526-33e4-4705-a453-585ab7f3869a",
   "metadata": {},
   "source": [
    "# Machine Learning Approaches to Address Matching\n",
    "\n",
    "In this section we pursue two machine learning approaches to address matching, in order of sophistication. First we fine-tune a pre-trained embedding model to our task, try it on our data and search for a threshold similarity that results in good performance for our address matching problem. Second we build a Siamese BERT network model based on [Sentence-BERT](https://arxiv.org/abs/1908.10084) to classify pairs of addresses as match or mismatch. We will train it using the same dataset we use to fine-tune a sentence transformer, and if we have enough training data this will likely be a more powerful approach.\n",
    "\n",
    "## Text Embeddings, Sentence Encoding, `SentenceTransformers`, Vector Distance and Cosine Similarity\n",
    "\n",
    "Text embeddings are trained on large volumes of text that include addresses. As a result they have some understanding of address strings and can do a form of semantic comparison that is less explicit than logical comparisons with address parsing. They're an important benchmark to explore. Huggingface has an excellent [introduction to sentence similarity](https://huggingface.co/tasks/sentence-similarity).\n",
    "\n",
    "In our first machine learning approach, we are going to use transfer learning to load a pre-trained [sentence transformer](https://sbert.net) models from huggingface. We will use the training data we've prepared to fine-tune this model to our task, before rigorously evaluating it along with our other approaches.\n",
    "\n",
    "Sentence transformers sentence encode strings of different distances into fixed-length vectors, a technique called sentence encoding. Once two address strings are embedded into a pair of equal length vectors, they can be compared with cosine similarity to get a distance, the inverse of which is a similarity score.\n",
    "\n",
    "### Convert our `pd.DataFrame` to a `List[sentence_transformers.InputExample]`\n",
    "\n",
    "First we need to convert our Pandas `DataFrame` to a list of sentence transformer input examples. `InputExamples` require two fields `texts=List[str, str]` and `label`."
   ]
  },
  {
   "cell_type": "code",
   "execution_count": 23,
   "id": "7b105924-4872-4abf-a10c-4d77150f1b3d",
   "metadata": {},
   "outputs": [
    {
     "name": "stdout",
     "output_type": "stream",
     "text": [
      "Training data:   8,024\n",
      "Validation data: 1,003\n",
      "Test data        1,003\n"
     ]
    }
   ],
   "source": [
    "train_df, tmp_df = train_test_split(augment_results_df, test_size=0.2, shuffle=True)\n",
    "eval_df, test_df = train_test_split(tmp_df, test_size=0.5, random_state=42, shuffle=True)\n",
    "\n",
    "train_dataset = Dataset.from_dict({\n",
    "    \"sentence1\": train_df[\"Address1\"].tolist(),\n",
    "    \"sentence2\": train_df[\"Address2\"].tolist(),\n",
    "    \"label\": train_df[\"Label\"].tolist(),\n",
    "})\n",
    "\n",
    "eval_dataset = Dataset.from_dict({\n",
    "    \"sentence1\": eval_df[\"Address1\"].tolist(),\n",
    "    \"sentence2\": eval_df[\"Address2\"].tolist(),\n",
    "    \"label\": eval_df[\"Label\"].tolist(),\n",
    "})\n",
    "\n",
    "test_dataset = Dataset.from_dict({\n",
    "    \"sentence1\": test_df[\"Address1\"].tolist(),\n",
    "    \"sentence2\": test_df[\"Address2\"].tolist(),\n",
    "    \"label\": test_df[\"Label\"].tolist(),\n",
    "})\n",
    "\n",
    "print(f\"Training data:   {len(train_df):,}\")\n",
    "print(f\"Validation data: {len(eval_df):,}\")\n",
    "print(f\"Test data        {len(eval_df):,}\")"
   ]
  },
  {
   "cell_type": "markdown",
   "id": "680e51e3-84d0-40e5-97d1-ebce61cd9514",
   "metadata": {},
   "source": [
    "### Configure Fine-Tuning, Initialize a `SentenceTransformer`\n",
    "\n",
    "To use the training data we prepared to fine-tune a `SentenceTransformer`, we need to select and load a pre-trained model from Huggingface Hub. Here are some models you can try:\n",
    "\n",
    "* [sentence-transformers/sentence-transformers/paraphrase-multilingual-MiniLM-L12-v2](https://huggingface.co/sentence-transformers/paraphrase-multilingual-MiniLM-L12-v2) - multilingual paraphrase models are designed to compare sentences in terms of their semantics.\n",
    "* [BAAI/bge-m3](https://huggingface.co/BAAI/bge-m3) - a robust, multilingual model optimized for a variety of tasks\n",
    "* [sentence-transformers/paraphrase-multilingual-mpnet-base-v2](https://huggingface.co/sentence-transformers/paraphrase-multilingual-mpnet-base-v2) - MPNet is another paraphrase model architecture we can fine-tune for address comparison\n",
    "* [sentence-transformers/all-mpnet-base-v2](https://huggingface.co/sentence-transformers/all-mpnet-base-v2) - a top performing MPNet model"
   ]
  },
  {
   "cell_type": "code",
   "execution_count": 24,
   "id": "15a2a181-a9cd-469f-9b1b-32b9d3163dfd",
   "metadata": {},
   "outputs": [],
   "source": [
    "SBERT_MODEL = \"paraphrase-multilingual-MiniLM-L12-v2\"\n",
    "VARIANT = \"original\"\n",
    "MODEL_SAVE_NAME = (SBERT_MODEL + \"-\" + VARIANT).replace(\"/\", \"-\")\n",
    "\n",
    "# Make sure these match the values in the data augmentation notebook for accurate loggging and reporting\n",
    "CLONES_PER_RUN = 100\n",
    "RUNS_PER_EXAMPLE = 2\n",
    "\n",
    "EPOCHS = 6\n",
    "BATCH_SIZE = 32\n",
    "PATIENCE = 2\n",
    "LEARNING_RATE = .00005\n",
    "DATASET_MULTIPLE = CLONES_PER_RUN * RUNS_PER_EXAMPLE\n",
    "SBERT_OUTPUT_FOLDER = f\"data/fine-tuned-sbert-{MODEL_SAVE_NAME}\"\n",
    "SAVE_EVAL_STEPS = 100"
   ]
  },
  {
   "cell_type": "markdown",
   "id": "e174e134-4761-4732-a2f7-98a5a785155c",
   "metadata": {},
   "source": [
    "### Initialize Weights & Biases\n",
    "\n",
    "Weights and biases `wandb` package makes it simple to monitor the performance of your training runs."
   ]
  },
  {
   "cell_type": "code",
   "execution_count": 25,
   "id": "d68f7a53-d09a-4e8b-b5e9-f62857c12e4c",
   "metadata": {},
   "outputs": [
    {
     "data": {
      "text/html": [
       "Tracking run with wandb version 0.17.0"
      ],
      "text/plain": [
       "<IPython.core.display.HTML object>"
      ]
     },
     "metadata": {},
     "output_type": "display_data"
    },
    {
     "data": {
      "text/html": [
       "W&B syncing is set to <code>`offline`<code> in this directory.  <br/>Run <code>`wandb online`<code> or set <code>WANDB_MODE=online<code> to enable cloud syncing."
      ],
      "text/plain": [
       "<IPython.core.display.HTML object>"
      ]
     },
     "metadata": {},
     "output_type": "display_data"
    },
    {
     "data": {
      "text/html": [
       "<button onClick=\"this.nextSibling.style.display='block';this.style.display='none';\">Display W&B run</button><iframe src='https://wandb.ai/rjurney/libpostal-reborn/runs/gd25q0s6?jupyter=true' style='border:none;width:100%;height:420px;display:none;'></iframe>"
      ],
      "text/plain": [
       "<wandb.sdk.wandb_run.Run at 0x438867990>"
      ]
     },
     "execution_count": 25,
     "metadata": {},
     "output_type": "execute_result"
    }
   ],
   "source": [
    "# Initialize Weights & Biases\n",
    "wandb.init(\n",
    "    entity=\"rjurney\",\n",
    "    # set the wandb project where this run will be logged\n",
    "    project=\"libpostal-reborn\",\n",
    "    # track hyperparameters and run metadata\n",
    "    config={\n",
    "        \"variant\": VARIANT,\n",
    "        \"dataset_multiple\": DATASET_MULTIPLE,\n",
    "        \"epochs\": EPOCHS,\n",
    "        \"batch_size\": BATCH_SIZE,\n",
    "        \"patience\": PATIENCE,\n",
    "        \"learning_rate\": LEARNING_RATE,\n",
    "        \"sbert_model\": SBERT_MODEL,\n",
    "        \"model_save_name\": MODEL_SAVE_NAME,\n",
    "        \"sbert_output_folder\": SBERT_OUTPUT_FOLDER,\n",
    "        \"save_eval_steps\": SAVE_EVAL_STEPS,\n",
    "    },\n",
    "    save_code=True,\n",
    ")"
   ]
  },
  {
   "cell_type": "markdown",
   "id": "0d0f82a6-1fb7-45fe-b468-9df611413f1e",
   "metadata": {},
   "source": [
    "### Setup our `SentenceTransformer` Model\n",
    "\n",
    "Choose the model to fine-tune above in `SBERT_MODEL` and instantiate it below."
   ]
  },
  {
   "cell_type": "code",
   "execution_count": 26,
   "id": "2e40fb24-77a6-4291-b0c5-076f8a9997d7",
   "metadata": {},
   "outputs": [],
   "source": [
    "sbert_model = SentenceTransformer(\n",
    "    SBERT_MODEL,\n",
    "    device=device,\n",
    "    model_card_data=SentenceTransformerModelCardData(\n",
    "        language=\"en\",\n",
    "        license=\"apache-2.0\",\n",
    "        model_name=f\"{SBERT_MODEL}-address-matcher-{VARIANT}\",\n",
    "    ),\n",
    ")"
   ]
  },
  {
   "cell_type": "markdown",
   "id": "7285812b-dde6-4af0-b0d0-f3ed7c777a51",
   "metadata": {},
   "source": [
    "### Evaluate our Model Before Fine-Tuning\n",
    "\n",
    "Let's see what it can do without fine-tuning, then we'll compare our subjective results afterwards. This won't work very well, fine-tuning is required!"
   ]
  },
  {
   "cell_type": "code",
   "execution_count": 27,
   "id": "2bd45043-cac4-47d1-af34-c80fbac09e97",
   "metadata": {},
   "outputs": [],
   "source": [
    "def sbert_compare(address1: str, address2: str) -> float:\n",
    "    \"\"\"sbert_compare - sentence encode each address into a fixed-length text embedding.\n",
    "    Fixed-length means they can be compared with cosine similarity.\"\"\"\n",
    "    embedding1 = sbert_model.encode(address1)\n",
    "    embedding2 = sbert_model.encode(address2)\n",
    "\n",
    "    # Compute cosine similarity\n",
    "    return 1 - distance.cosine(embedding1, embedding2)\n",
    "\n",
    "\n",
    "def sbert_match(row: pd.Series) -> pd.Series:\n",
    "    \"\"\"sbert_match - SentenceTransformer address matching, float iytoyt\"\"\"\n",
    "    return sbert_compare(row[\"Address1\"], row[\"Address2\"])\n",
    "\n",
    "\n",
    "def sbert_compare_binary(address1: str, address2: str, threshold: float = 0.5) -> Literal[0, 1]:\n",
    "    \"\"\"sbert_match - compare and return a binary match\"\"\"\n",
    "    similarity = sbert_compare(address1, address2)\n",
    "    return 1 if similarity >= threshold else 0\n",
    "\n",
    "\n",
    "def sbert_match_binary(row: pd.Series, threshold: float = 0.5) -> pd.Series:\n",
    "    \"\"\"sbert_match_binary - SentenceTransformer address matching, binary output\"\"\"\n",
    "    return sbert_compare_binary(row[\"Address1\"], row[\"Address2\"], threshold=threshold)"
   ]
  },
  {
   "cell_type": "code",
   "execution_count": 28,
   "id": "b083ad79-6b50-414f-83de-a3ae68f44c77",
   "metadata": {},
   "outputs": [
    {
     "data": {
      "text/plain": [
       "0.9887310599046897"
      ]
     },
     "execution_count": 28,
     "metadata": {},
     "output_type": "execute_result"
    }
   ],
   "source": [
    "# Still too similar - very hard to train them away from this behavior!\n",
    "sbert_compare(\n",
    "    \"101 Oak Lane, Atlanta, GA 30308\",\n",
    "    \"102 Oak Lane, Atlanta, GA 30308\",\n",
    ")"
   ]
  },
  {
   "cell_type": "code",
   "execution_count": 29,
   "id": "a65dad9f-3f08-439d-8ee8-2b14b740a55f",
   "metadata": {},
   "outputs": [
    {
     "data": {
      "text/plain": [
       "0.9080112054372381"
      ]
     },
     "execution_count": 29,
     "metadata": {},
     "output_type": "execute_result"
    }
   ],
   "source": [
    "# A little bit further away ...\n",
    "sbert_compare(\n",
    "    \"101 Oak Lane, Atlanta, GA 30308\",\n",
    "    \"101 Oak Ln., Atlanta, GA 30308\",\n",
    ")"
   ]
  },
  {
   "cell_type": "code",
   "execution_count": 30,
   "id": "f869c21a-8b41-4520-87bd-7dbc8d37d1b0",
   "metadata": {},
   "outputs": [
    {
     "data": {
      "text/plain": [
       "0.7771668960380212"
      ]
     },
     "execution_count": 30,
     "metadata": {},
     "output_type": "execute_result"
    }
   ],
   "source": [
    "# Properly distant ...\n",
    "sbert_compare(\n",
    "    \"3413 Sean Way, Lawrenceville, GA 30044\",\n",
    "    \"1202 Oak Rd., Lawrenceville, GA 30304\",\n",
    ")"
   ]
  },
  {
   "cell_type": "code",
   "execution_count": 31,
   "id": "b7aba7fb-a560-4869-b05d-414a03a34542",
   "metadata": {},
   "outputs": [
    {
     "data": {
      "text/plain": [
       "0.9754176576820044"
      ]
     },
     "execution_count": 31,
     "metadata": {},
     "output_type": "execute_result"
    }
   ],
   "source": [
    "# Properly similar ...\n",
    "sbert_compare(\n",
    "    \"3413 Sean Way, Lawrenceville, GA 30044\",\n",
    "    \"3413 Sean Way, Lawrenceville, GA 30044, USA\",\n",
    ")"
   ]
  },
  {
   "cell_type": "markdown",
   "id": "71a0a9d8-8c06-45dd-9ff4-7b056e078e5a",
   "metadata": {},
   "source": [
    "### Evaluate the Test Set with the Untrained Model\n",
    "\n",
    "Let's see how well the [paraphrase-multilingual-MiniLM-L12-v2](https://huggingface.co/sentence-transformers/paraphrase-multilingual-MiniLM-L12-v2) model does on its own. This is our baseline score."
   ]
  },
  {
   "cell_type": "code",
   "execution_count": 32,
   "id": "04e9a873-9044-443b-9741-3ab3fed0a154",
   "metadata": {},
   "outputs": [
    {
     "data": {
      "text/html": [
       "<div>\n",
       "<style scoped>\n",
       "    .dataframe tbody tr th:only-of-type {\n",
       "        vertical-align: middle;\n",
       "    }\n",
       "\n",
       "    .dataframe tbody tr th {\n",
       "        vertical-align: top;\n",
       "    }\n",
       "\n",
       "    .dataframe thead th {\n",
       "        text-align: right;\n",
       "    }\n",
       "</style>\n",
       "<table border=\"1\" class=\"dataframe\">\n",
       "  <thead>\n",
       "    <tr style=\"text-align: right;\">\n",
       "      <th></th>\n",
       "      <th>paraphrase-multilingual-MiniLM-L12-v2_cosine_accuracy</th>\n",
       "      <th>paraphrase-multilingual-MiniLM-L12-v2_cosine_accuracy_threshold</th>\n",
       "      <th>paraphrase-multilingual-MiniLM-L12-v2_cosine_f1</th>\n",
       "      <th>paraphrase-multilingual-MiniLM-L12-v2_cosine_f1_threshold</th>\n",
       "      <th>paraphrase-multilingual-MiniLM-L12-v2_cosine_precision</th>\n",
       "      <th>paraphrase-multilingual-MiniLM-L12-v2_cosine_recall</th>\n",
       "      <th>paraphrase-multilingual-MiniLM-L12-v2_cosine_ap</th>\n",
       "      <th>paraphrase-multilingual-MiniLM-L12-v2_dot_accuracy</th>\n",
       "      <th>paraphrase-multilingual-MiniLM-L12-v2_dot_accuracy_threshold</th>\n",
       "      <th>paraphrase-multilingual-MiniLM-L12-v2_dot_f1</th>\n",
       "      <th>paraphrase-multilingual-MiniLM-L12-v2_dot_f1_threshold</th>\n",
       "      <th>paraphrase-multilingual-MiniLM-L12-v2_dot_precision</th>\n",
       "      <th>paraphrase-multilingual-MiniLM-L12-v2_dot_recall</th>\n",
       "      <th>paraphrase-multilingual-MiniLM-L12-v2_dot_ap</th>\n",
       "      <th>paraphrase-multilingual-MiniLM-L12-v2_manhattan_accuracy</th>\n",
       "      <th>paraphrase-multilingual-MiniLM-L12-v2_manhattan_accuracy_threshold</th>\n",
       "      <th>paraphrase-multilingual-MiniLM-L12-v2_manhattan_f1</th>\n",
       "      <th>paraphrase-multilingual-MiniLM-L12-v2_manhattan_f1_threshold</th>\n",
       "      <th>paraphrase-multilingual-MiniLM-L12-v2_manhattan_precision</th>\n",
       "      <th>paraphrase-multilingual-MiniLM-L12-v2_manhattan_recall</th>\n",
       "      <th>paraphrase-multilingual-MiniLM-L12-v2_manhattan_ap</th>\n",
       "      <th>paraphrase-multilingual-MiniLM-L12-v2_euclidean_accuracy</th>\n",
       "      <th>paraphrase-multilingual-MiniLM-L12-v2_euclidean_accuracy_threshold</th>\n",
       "      <th>paraphrase-multilingual-MiniLM-L12-v2_euclidean_f1</th>\n",
       "      <th>paraphrase-multilingual-MiniLM-L12-v2_euclidean_f1_threshold</th>\n",
       "      <th>paraphrase-multilingual-MiniLM-L12-v2_euclidean_precision</th>\n",
       "      <th>paraphrase-multilingual-MiniLM-L12-v2_euclidean_recall</th>\n",
       "      <th>paraphrase-multilingual-MiniLM-L12-v2_euclidean_ap</th>\n",
       "      <th>paraphrase-multilingual-MiniLM-L12-v2_max_accuracy</th>\n",
       "      <th>paraphrase-multilingual-MiniLM-L12-v2_max_accuracy_threshold</th>\n",
       "      <th>paraphrase-multilingual-MiniLM-L12-v2_max_f1</th>\n",
       "      <th>paraphrase-multilingual-MiniLM-L12-v2_max_f1_threshold</th>\n",
       "      <th>paraphrase-multilingual-MiniLM-L12-v2_max_precision</th>\n",
       "      <th>paraphrase-multilingual-MiniLM-L12-v2_max_recall</th>\n",
       "      <th>paraphrase-multilingual-MiniLM-L12-v2_max_ap</th>\n",
       "    </tr>\n",
       "  </thead>\n",
       "  <tbody>\n",
       "    <tr>\n",
       "      <th>0</th>\n",
       "      <td>0.602193</td>\n",
       "      <td>0.714667</td>\n",
       "      <td>0.726787</td>\n",
       "      <td>0.578766</td>\n",
       "      <td>0.572029</td>\n",
       "      <td>0.996337</td>\n",
       "      <td>0.50633</td>\n",
       "      <td>0.591226</td>\n",
       "      <td>13.357239</td>\n",
       "      <td>0.72372</td>\n",
       "      <td>13.357239</td>\n",
       "      <td>0.572495</td>\n",
       "      <td>0.983516</td>\n",
       "      <td>0.679777</td>\n",
       "      <td>0.60319</td>\n",
       "      <td>60.44915</td>\n",
       "      <td>0.72962</td>\n",
       "      <td>60.44915</td>\n",
       "      <td>0.579914</td>\n",
       "      <td>0.983516</td>\n",
       "      <td>0.498341</td>\n",
       "      <td>0.604187</td>\n",
       "      <td>3.521773</td>\n",
       "      <td>0.728756</td>\n",
       "      <td>3.813365</td>\n",
       "      <td>0.579459</td>\n",
       "      <td>0.981685</td>\n",
       "      <td>0.498954</td>\n",
       "      <td>0.604187</td>\n",
       "      <td>60.44915</td>\n",
       "      <td>0.72962</td>\n",
       "      <td>60.44915</td>\n",
       "      <td>0.579914</td>\n",
       "      <td>0.996337</td>\n",
       "      <td>0.679777</td>\n",
       "    </tr>\n",
       "  </tbody>\n",
       "</table>\n",
       "</div>"
      ],
      "text/plain": [
       "   paraphrase-multilingual-MiniLM-L12-v2_cosine_accuracy  \\\n",
       "0                                           0.602193       \n",
       "\n",
       "   paraphrase-multilingual-MiniLM-L12-v2_cosine_accuracy_threshold  \\\n",
       "0                                           0.714667                 \n",
       "\n",
       "   paraphrase-multilingual-MiniLM-L12-v2_cosine_f1  \\\n",
       "0                                         0.726787   \n",
       "\n",
       "   paraphrase-multilingual-MiniLM-L12-v2_cosine_f1_threshold  \\\n",
       "0                                           0.578766           \n",
       "\n",
       "   paraphrase-multilingual-MiniLM-L12-v2_cosine_precision  \\\n",
       "0                                           0.572029        \n",
       "\n",
       "   paraphrase-multilingual-MiniLM-L12-v2_cosine_recall  \\\n",
       "0                                           0.996337     \n",
       "\n",
       "   paraphrase-multilingual-MiniLM-L12-v2_cosine_ap  \\\n",
       "0                                          0.50633   \n",
       "\n",
       "   paraphrase-multilingual-MiniLM-L12-v2_dot_accuracy  \\\n",
       "0                                           0.591226    \n",
       "\n",
       "   paraphrase-multilingual-MiniLM-L12-v2_dot_accuracy_threshold  \\\n",
       "0                                          13.357239              \n",
       "\n",
       "   paraphrase-multilingual-MiniLM-L12-v2_dot_f1  \\\n",
       "0                                       0.72372   \n",
       "\n",
       "   paraphrase-multilingual-MiniLM-L12-v2_dot_f1_threshold  \\\n",
       "0                                          13.357239        \n",
       "\n",
       "   paraphrase-multilingual-MiniLM-L12-v2_dot_precision  \\\n",
       "0                                           0.572495     \n",
       "\n",
       "   paraphrase-multilingual-MiniLM-L12-v2_dot_recall  \\\n",
       "0                                          0.983516   \n",
       "\n",
       "   paraphrase-multilingual-MiniLM-L12-v2_dot_ap  \\\n",
       "0                                      0.679777   \n",
       "\n",
       "   paraphrase-multilingual-MiniLM-L12-v2_manhattan_accuracy  \\\n",
       "0                                            0.60319          \n",
       "\n",
       "   paraphrase-multilingual-MiniLM-L12-v2_manhattan_accuracy_threshold  \\\n",
       "0                                           60.44915                    \n",
       "\n",
       "   paraphrase-multilingual-MiniLM-L12-v2_manhattan_f1  \\\n",
       "0                                            0.72962    \n",
       "\n",
       "   paraphrase-multilingual-MiniLM-L12-v2_manhattan_f1_threshold  \\\n",
       "0                                           60.44915              \n",
       "\n",
       "   paraphrase-multilingual-MiniLM-L12-v2_manhattan_precision  \\\n",
       "0                                           0.579914           \n",
       "\n",
       "   paraphrase-multilingual-MiniLM-L12-v2_manhattan_recall  \\\n",
       "0                                           0.983516        \n",
       "\n",
       "   paraphrase-multilingual-MiniLM-L12-v2_manhattan_ap  \\\n",
       "0                                           0.498341    \n",
       "\n",
       "   paraphrase-multilingual-MiniLM-L12-v2_euclidean_accuracy  \\\n",
       "0                                           0.604187          \n",
       "\n",
       "   paraphrase-multilingual-MiniLM-L12-v2_euclidean_accuracy_threshold  \\\n",
       "0                                           3.521773                    \n",
       "\n",
       "   paraphrase-multilingual-MiniLM-L12-v2_euclidean_f1  \\\n",
       "0                                           0.728756    \n",
       "\n",
       "   paraphrase-multilingual-MiniLM-L12-v2_euclidean_f1_threshold  \\\n",
       "0                                           3.813365              \n",
       "\n",
       "   paraphrase-multilingual-MiniLM-L12-v2_euclidean_precision  \\\n",
       "0                                           0.579459           \n",
       "\n",
       "   paraphrase-multilingual-MiniLM-L12-v2_euclidean_recall  \\\n",
       "0                                           0.981685        \n",
       "\n",
       "   paraphrase-multilingual-MiniLM-L12-v2_euclidean_ap  \\\n",
       "0                                           0.498954    \n",
       "\n",
       "   paraphrase-multilingual-MiniLM-L12-v2_max_accuracy  \\\n",
       "0                                           0.604187    \n",
       "\n",
       "   paraphrase-multilingual-MiniLM-L12-v2_max_accuracy_threshold  \\\n",
       "0                                           60.44915              \n",
       "\n",
       "   paraphrase-multilingual-MiniLM-L12-v2_max_f1  \\\n",
       "0                                       0.72962   \n",
       "\n",
       "   paraphrase-multilingual-MiniLM-L12-v2_max_f1_threshold  \\\n",
       "0                                           60.44915        \n",
       "\n",
       "   paraphrase-multilingual-MiniLM-L12-v2_max_precision  \\\n",
       "0                                           0.579914     \n",
       "\n",
       "   paraphrase-multilingual-MiniLM-L12-v2_max_recall  \\\n",
       "0                                          0.996337   \n",
       "\n",
       "   paraphrase-multilingual-MiniLM-L12-v2_max_ap  \n",
       "0                                      0.679777  "
      ]
     },
     "execution_count": 32,
     "metadata": {},
     "output_type": "execute_result"
    }
   ],
   "source": [
    "# Initialize the evaluator\n",
    "binary_acc_evaluator = BinaryClassificationEvaluator(\n",
    "    sentences1=eval_dataset[\"sentence1\"],\n",
    "    sentences2=eval_dataset[\"sentence2\"],\n",
    "    labels=eval_dataset[\"label\"],\n",
    "    name=SBERT_MODEL,\n",
    ")\n",
    "pd.DataFrame([binary_acc_evaluator(sbert_model)])"
   ]
  },
  {
   "cell_type": "markdown",
   "id": "51d22615-249a-4ee7-b7c5-43fb1cada980",
   "metadata": {},
   "source": [
    "### Computing Metrics with `sklearn.metrics`\n",
    "\n",
    "We use [scikit-learn metrics](https://scikit-learn.org/stable/modules/model_evaluation.html) instead to compute our evaluation metrics."
   ]
  },
  {
   "cell_type": "code",
   "execution_count": 33,
   "id": "31111f8e-0167-4a6b-abff-dc3ecf391687",
   "metadata": {},
   "outputs": [
    {
     "data": {
      "text/html": [
       "\n",
       "    <div>\n",
       "      \n",
       "      <progress value='64' max='32' style='width:300px; height:20px; vertical-align: middle;'></progress>\n",
       "      [32/32 00:17]\n",
       "    </div>\n",
       "    "
      ],
      "text/plain": [
       "<IPython.core.display.HTML object>"
      ]
     },
     "metadata": {},
     "output_type": "display_data"
    },
    {
     "data": {
      "text/html": [
       "\n",
       "    <div>\n",
       "      \n",
       "      <progress value='1506' max='1506' style='width:300px; height:20px; vertical-align: middle;'></progress>\n",
       "      [1506/1506 04:15, Epoch 6/6]\n",
       "    </div>\n",
       "    <table border=\"1\" class=\"dataframe\">\n",
       "  <thead>\n",
       " <tr style=\"text-align: left;\">\n",
       "      <th>Step</th>\n",
       "      <th>Training Loss</th>\n",
       "      <th>Validation Loss</th>\n",
       "      <th>Paraphrase-multilingual-minilm-l12-v2 Cosine Accuracy</th>\n",
       "      <th>Paraphrase-multilingual-minilm-l12-v2 Cosine Accuracy Threshold</th>\n",
       "      <th>Paraphrase-multilingual-minilm-l12-v2 Cosine F1</th>\n",
       "      <th>Paraphrase-multilingual-minilm-l12-v2 Cosine F1 Threshold</th>\n",
       "      <th>Paraphrase-multilingual-minilm-l12-v2 Cosine Precision</th>\n",
       "      <th>Paraphrase-multilingual-minilm-l12-v2 Cosine Recall</th>\n",
       "      <th>Paraphrase-multilingual-minilm-l12-v2 Cosine Ap</th>\n",
       "      <th>Paraphrase-multilingual-minilm-l12-v2 Dot Accuracy</th>\n",
       "      <th>Paraphrase-multilingual-minilm-l12-v2 Dot Accuracy Threshold</th>\n",
       "      <th>Paraphrase-multilingual-minilm-l12-v2 Dot F1</th>\n",
       "      <th>Paraphrase-multilingual-minilm-l12-v2 Dot F1 Threshold</th>\n",
       "      <th>Paraphrase-multilingual-minilm-l12-v2 Dot Precision</th>\n",
       "      <th>Paraphrase-multilingual-minilm-l12-v2 Dot Recall</th>\n",
       "      <th>Paraphrase-multilingual-minilm-l12-v2 Dot Ap</th>\n",
       "      <th>Paraphrase-multilingual-minilm-l12-v2 Manhattan Accuracy</th>\n",
       "      <th>Paraphrase-multilingual-minilm-l12-v2 Manhattan Accuracy Threshold</th>\n",
       "      <th>Paraphrase-multilingual-minilm-l12-v2 Manhattan F1</th>\n",
       "      <th>Paraphrase-multilingual-minilm-l12-v2 Manhattan F1 Threshold</th>\n",
       "      <th>Paraphrase-multilingual-minilm-l12-v2 Manhattan Precision</th>\n",
       "      <th>Paraphrase-multilingual-minilm-l12-v2 Manhattan Recall</th>\n",
       "      <th>Paraphrase-multilingual-minilm-l12-v2 Manhattan Ap</th>\n",
       "      <th>Paraphrase-multilingual-minilm-l12-v2 Euclidean Accuracy</th>\n",
       "      <th>Paraphrase-multilingual-minilm-l12-v2 Euclidean Accuracy Threshold</th>\n",
       "      <th>Paraphrase-multilingual-minilm-l12-v2 Euclidean F1</th>\n",
       "      <th>Paraphrase-multilingual-minilm-l12-v2 Euclidean F1 Threshold</th>\n",
       "      <th>Paraphrase-multilingual-minilm-l12-v2 Euclidean Precision</th>\n",
       "      <th>Paraphrase-multilingual-minilm-l12-v2 Euclidean Recall</th>\n",
       "      <th>Paraphrase-multilingual-minilm-l12-v2 Euclidean Ap</th>\n",
       "      <th>Paraphrase-multilingual-minilm-l12-v2 Max Accuracy</th>\n",
       "      <th>Paraphrase-multilingual-minilm-l12-v2 Max Accuracy Threshold</th>\n",
       "      <th>Paraphrase-multilingual-minilm-l12-v2 Max F1</th>\n",
       "      <th>Paraphrase-multilingual-minilm-l12-v2 Max F1 Threshold</th>\n",
       "      <th>Paraphrase-multilingual-minilm-l12-v2 Max Precision</th>\n",
       "      <th>Paraphrase-multilingual-minilm-l12-v2 Max Recall</th>\n",
       "      <th>Paraphrase-multilingual-minilm-l12-v2 Max Ap</th>\n",
       "    </tr>\n",
       "  </thead>\n",
       "  <tbody>\n",
       "    <tr>\n",
       "      <td>100</td>\n",
       "      <td>No log</td>\n",
       "      <td>0.024751</td>\n",
       "      <td>0.761715</td>\n",
       "      <td>0.849213</td>\n",
       "      <td>0.805533</td>\n",
       "      <td>0.849213</td>\n",
       "      <td>0.724744</td>\n",
       "      <td>0.906593</td>\n",
       "      <td>0.832721</td>\n",
       "      <td>0.738784</td>\n",
       "      <td>12.224442</td>\n",
       "      <td>0.791209</td>\n",
       "      <td>9.154406</td>\n",
       "      <td>0.692308</td>\n",
       "      <td>0.923077</td>\n",
       "      <td>0.836286</td>\n",
       "      <td>0.726820</td>\n",
       "      <td>31.723263</td>\n",
       "      <td>0.775316</td>\n",
       "      <td>34.718288</td>\n",
       "      <td>0.682451</td>\n",
       "      <td>0.897436</td>\n",
       "      <td>0.793861</td>\n",
       "      <td>0.724826</td>\n",
       "      <td>1.918679</td>\n",
       "      <td>0.776471</td>\n",
       "      <td>2.324001</td>\n",
       "      <td>0.679012</td>\n",
       "      <td>0.906593</td>\n",
       "      <td>0.793778</td>\n",
       "      <td>0.761715</td>\n",
       "      <td>31.723263</td>\n",
       "      <td>0.805533</td>\n",
       "      <td>34.718288</td>\n",
       "      <td>0.724744</td>\n",
       "      <td>0.923077</td>\n",
       "      <td>0.836286</td>\n",
       "    </tr>\n",
       "    <tr>\n",
       "      <td>200</td>\n",
       "      <td>No log</td>\n",
       "      <td>0.010474</td>\n",
       "      <td>0.922233</td>\n",
       "      <td>0.881492</td>\n",
       "      <td>0.928177</td>\n",
       "      <td>0.881492</td>\n",
       "      <td>0.933333</td>\n",
       "      <td>0.923077</td>\n",
       "      <td>0.974433</td>\n",
       "      <td>0.856431</td>\n",
       "      <td>11.000132</td>\n",
       "      <td>0.874241</td>\n",
       "      <td>10.560261</td>\n",
       "      <td>0.830313</td>\n",
       "      <td>0.923077</td>\n",
       "      <td>0.920055</td>\n",
       "      <td>0.877368</td>\n",
       "      <td>31.488804</td>\n",
       "      <td>0.887876</td>\n",
       "      <td>31.488804</td>\n",
       "      <td>0.883848</td>\n",
       "      <td>0.891941</td>\n",
       "      <td>0.953952</td>\n",
       "      <td>0.877368</td>\n",
       "      <td>2.068511</td>\n",
       "      <td>0.888688</td>\n",
       "      <td>2.068511</td>\n",
       "      <td>0.878354</td>\n",
       "      <td>0.899267</td>\n",
       "      <td>0.954324</td>\n",
       "      <td>0.922233</td>\n",
       "      <td>31.488804</td>\n",
       "      <td>0.928177</td>\n",
       "      <td>31.488804</td>\n",
       "      <td>0.933333</td>\n",
       "      <td>0.923077</td>\n",
       "      <td>0.974433</td>\n",
       "    </tr>\n",
       "    <tr>\n",
       "      <td>300</td>\n",
       "      <td>No log</td>\n",
       "      <td>0.007161</td>\n",
       "      <td>0.957129</td>\n",
       "      <td>0.871420</td>\n",
       "      <td>0.960802</td>\n",
       "      <td>0.871420</td>\n",
       "      <td>0.956443</td>\n",
       "      <td>0.965201</td>\n",
       "      <td>0.989657</td>\n",
       "      <td>0.891326</td>\n",
       "      <td>12.223917</td>\n",
       "      <td>0.903283</td>\n",
       "      <td>12.145710</td>\n",
       "      <td>0.876076</td>\n",
       "      <td>0.932234</td>\n",
       "      <td>0.955422</td>\n",
       "      <td>0.921236</td>\n",
       "      <td>29.810850</td>\n",
       "      <td>0.926027</td>\n",
       "      <td>33.899479</td>\n",
       "      <td>0.923497</td>\n",
       "      <td>0.928571</td>\n",
       "      <td>0.979147</td>\n",
       "      <td>0.922233</td>\n",
       "      <td>2.133923</td>\n",
       "      <td>0.928440</td>\n",
       "      <td>2.133923</td>\n",
       "      <td>0.930147</td>\n",
       "      <td>0.926740</td>\n",
       "      <td>0.979502</td>\n",
       "      <td>0.957129</td>\n",
       "      <td>29.810850</td>\n",
       "      <td>0.960802</td>\n",
       "      <td>33.899479</td>\n",
       "      <td>0.956443</td>\n",
       "      <td>0.965201</td>\n",
       "      <td>0.989657</td>\n",
       "    </tr>\n",
       "    <tr>\n",
       "      <td>400</td>\n",
       "      <td>No log</td>\n",
       "      <td>0.004446</td>\n",
       "      <td>0.968096</td>\n",
       "      <td>0.861937</td>\n",
       "      <td>0.970856</td>\n",
       "      <td>0.829362</td>\n",
       "      <td>0.965580</td>\n",
       "      <td>0.976190</td>\n",
       "      <td>0.994476</td>\n",
       "      <td>0.919242</td>\n",
       "      <td>13.603943</td>\n",
       "      <td>0.926027</td>\n",
       "      <td>13.603943</td>\n",
       "      <td>0.923497</td>\n",
       "      <td>0.928571</td>\n",
       "      <td>0.967802</td>\n",
       "      <td>0.947159</td>\n",
       "      <td>40.474823</td>\n",
       "      <td>0.952295</td>\n",
       "      <td>41.216068</td>\n",
       "      <td>0.936283</td>\n",
       "      <td>0.968864</td>\n",
       "      <td>0.988649</td>\n",
       "      <td>0.948156</td>\n",
       "      <td>2.548373</td>\n",
       "      <td>0.952899</td>\n",
       "      <td>2.548373</td>\n",
       "      <td>0.942652</td>\n",
       "      <td>0.963370</td>\n",
       "      <td>0.988652</td>\n",
       "      <td>0.968096</td>\n",
       "      <td>40.474823</td>\n",
       "      <td>0.970856</td>\n",
       "      <td>41.216068</td>\n",
       "      <td>0.965580</td>\n",
       "      <td>0.976190</td>\n",
       "      <td>0.994476</td>\n",
       "    </tr>\n",
       "    <tr>\n",
       "      <td>500</td>\n",
       "      <td>0.012500</td>\n",
       "      <td>0.002957</td>\n",
       "      <td>0.989033</td>\n",
       "      <td>0.876668</td>\n",
       "      <td>0.989880</td>\n",
       "      <td>0.876668</td>\n",
       "      <td>0.994455</td>\n",
       "      <td>0.985348</td>\n",
       "      <td>0.997698</td>\n",
       "      <td>0.930209</td>\n",
       "      <td>13.543964</td>\n",
       "      <td>0.937050</td>\n",
       "      <td>12.951462</td>\n",
       "      <td>0.920495</td>\n",
       "      <td>0.954212</td>\n",
       "      <td>0.975515</td>\n",
       "      <td>0.972084</td>\n",
       "      <td>42.792831</td>\n",
       "      <td>0.974729</td>\n",
       "      <td>42.792831</td>\n",
       "      <td>0.960854</td>\n",
       "      <td>0.989011</td>\n",
       "      <td>0.994477</td>\n",
       "      <td>0.971087</td>\n",
       "      <td>2.665913</td>\n",
       "      <td>0.973803</td>\n",
       "      <td>2.684689</td>\n",
       "      <td>0.960784</td>\n",
       "      <td>0.987179</td>\n",
       "      <td>0.994476</td>\n",
       "      <td>0.989033</td>\n",
       "      <td>42.792831</td>\n",
       "      <td>0.989880</td>\n",
       "      <td>42.792831</td>\n",
       "      <td>0.994455</td>\n",
       "      <td>0.989011</td>\n",
       "      <td>0.997698</td>\n",
       "    </tr>\n",
       "    <tr>\n",
       "      <td>600</td>\n",
       "      <td>0.012500</td>\n",
       "      <td>0.002523</td>\n",
       "      <td>0.990030</td>\n",
       "      <td>0.870730</td>\n",
       "      <td>0.990826</td>\n",
       "      <td>0.870730</td>\n",
       "      <td>0.992647</td>\n",
       "      <td>0.989011</td>\n",
       "      <td>0.998202</td>\n",
       "      <td>0.934197</td>\n",
       "      <td>14.299244</td>\n",
       "      <td>0.940000</td>\n",
       "      <td>14.299244</td>\n",
       "      <td>0.933213</td>\n",
       "      <td>0.946886</td>\n",
       "      <td>0.978498</td>\n",
       "      <td>0.977069</td>\n",
       "      <td>39.426003</td>\n",
       "      <td>0.979034</td>\n",
       "      <td>40.343513</td>\n",
       "      <td>0.974592</td>\n",
       "      <td>0.983516</td>\n",
       "      <td>0.995781</td>\n",
       "      <td>0.978066</td>\n",
       "      <td>2.611123</td>\n",
       "      <td>0.979964</td>\n",
       "      <td>2.611123</td>\n",
       "      <td>0.974638</td>\n",
       "      <td>0.985348</td>\n",
       "      <td>0.995820</td>\n",
       "      <td>0.990030</td>\n",
       "      <td>39.426003</td>\n",
       "      <td>0.990826</td>\n",
       "      <td>40.343513</td>\n",
       "      <td>0.992647</td>\n",
       "      <td>0.989011</td>\n",
       "      <td>0.998202</td>\n",
       "    </tr>\n",
       "    <tr>\n",
       "      <td>700</td>\n",
       "      <td>0.012500</td>\n",
       "      <td>0.001912</td>\n",
       "      <td>0.992024</td>\n",
       "      <td>0.877817</td>\n",
       "      <td>0.992687</td>\n",
       "      <td>0.844611</td>\n",
       "      <td>0.990876</td>\n",
       "      <td>0.994505</td>\n",
       "      <td>0.999201</td>\n",
       "      <td>0.946162</td>\n",
       "      <td>13.763704</td>\n",
       "      <td>0.951087</td>\n",
       "      <td>13.763704</td>\n",
       "      <td>0.940860</td>\n",
       "      <td>0.961538</td>\n",
       "      <td>0.981298</td>\n",
       "      <td>0.981057</td>\n",
       "      <td>37.696930</td>\n",
       "      <td>0.982585</td>\n",
       "      <td>37.696930</td>\n",
       "      <td>0.983486</td>\n",
       "      <td>0.981685</td>\n",
       "      <td>0.997753</td>\n",
       "      <td>0.981057</td>\n",
       "      <td>2.392876</td>\n",
       "      <td>0.982712</td>\n",
       "      <td>2.601520</td>\n",
       "      <td>0.976492</td>\n",
       "      <td>0.989011</td>\n",
       "      <td>0.997898</td>\n",
       "      <td>0.992024</td>\n",
       "      <td>37.696930</td>\n",
       "      <td>0.992687</td>\n",
       "      <td>37.696930</td>\n",
       "      <td>0.990876</td>\n",
       "      <td>0.994505</td>\n",
       "      <td>0.999201</td>\n",
       "    </tr>\n",
       "    <tr>\n",
       "      <td>800</td>\n",
       "      <td>0.012500</td>\n",
       "      <td>0.001583</td>\n",
       "      <td>0.994018</td>\n",
       "      <td>0.834617</td>\n",
       "      <td>0.994505</td>\n",
       "      <td>0.834617</td>\n",
       "      <td>0.994505</td>\n",
       "      <td>0.994505</td>\n",
       "      <td>0.999404</td>\n",
       "      <td>0.945165</td>\n",
       "      <td>14.324912</td>\n",
       "      <td>0.950316</td>\n",
       "      <td>14.324912</td>\n",
       "      <td>0.937611</td>\n",
       "      <td>0.963370</td>\n",
       "      <td>0.983394</td>\n",
       "      <td>0.987039</td>\n",
       "      <td>36.173725</td>\n",
       "      <td>0.988128</td>\n",
       "      <td>39.994247</td>\n",
       "      <td>0.985428</td>\n",
       "      <td>0.990842</td>\n",
       "      <td>0.998213</td>\n",
       "      <td>0.987039</td>\n",
       "      <td>2.354760</td>\n",
       "      <td>0.988171</td>\n",
       "      <td>2.645738</td>\n",
       "      <td>0.981917</td>\n",
       "      <td>0.994505</td>\n",
       "      <td>0.998363</td>\n",
       "      <td>0.994018</td>\n",
       "      <td>36.173725</td>\n",
       "      <td>0.994505</td>\n",
       "      <td>39.994247</td>\n",
       "      <td>0.994505</td>\n",
       "      <td>0.994505</td>\n",
       "      <td>0.999404</td>\n",
       "    </tr>\n",
       "    <tr>\n",
       "      <td>900</td>\n",
       "      <td>0.012500</td>\n",
       "      <td>0.001333</td>\n",
       "      <td>0.993021</td>\n",
       "      <td>0.890634</td>\n",
       "      <td>0.993596</td>\n",
       "      <td>0.826144</td>\n",
       "      <td>0.992687</td>\n",
       "      <td>0.994505</td>\n",
       "      <td>0.999501</td>\n",
       "      <td>0.953141</td>\n",
       "      <td>13.384497</td>\n",
       "      <td>0.957923</td>\n",
       "      <td>13.250685</td>\n",
       "      <td>0.936953</td>\n",
       "      <td>0.979853</td>\n",
       "      <td>0.984831</td>\n",
       "      <td>0.981057</td>\n",
       "      <td>34.023357</td>\n",
       "      <td>0.982680</td>\n",
       "      <td>37.594612</td>\n",
       "      <td>0.978221</td>\n",
       "      <td>0.987179</td>\n",
       "      <td>0.997748</td>\n",
       "      <td>0.982054</td>\n",
       "      <td>2.425882</td>\n",
       "      <td>0.983607</td>\n",
       "      <td>2.425882</td>\n",
       "      <td>0.978261</td>\n",
       "      <td>0.989011</td>\n",
       "      <td>0.997858</td>\n",
       "      <td>0.993021</td>\n",
       "      <td>34.023357</td>\n",
       "      <td>0.993596</td>\n",
       "      <td>37.594612</td>\n",
       "      <td>0.992687</td>\n",
       "      <td>0.994505</td>\n",
       "      <td>0.999501</td>\n",
       "    </tr>\n",
       "    <tr>\n",
       "      <td>1000</td>\n",
       "      <td>0.001600</td>\n",
       "      <td>0.001367</td>\n",
       "      <td>0.993021</td>\n",
       "      <td>0.814038</td>\n",
       "      <td>0.993596</td>\n",
       "      <td>0.814038</td>\n",
       "      <td>0.992687</td>\n",
       "      <td>0.994505</td>\n",
       "      <td>0.999378</td>\n",
       "      <td>0.961117</td>\n",
       "      <td>14.004747</td>\n",
       "      <td>0.964960</td>\n",
       "      <td>13.890814</td>\n",
       "      <td>0.947090</td>\n",
       "      <td>0.983516</td>\n",
       "      <td>0.986737</td>\n",
       "      <td>0.984048</td>\n",
       "      <td>36.888397</td>\n",
       "      <td>0.985348</td>\n",
       "      <td>36.888397</td>\n",
       "      <td>0.985348</td>\n",
       "      <td>0.985348</td>\n",
       "      <td>0.998096</td>\n",
       "      <td>0.984048</td>\n",
       "      <td>2.374507</td>\n",
       "      <td>0.985375</td>\n",
       "      <td>2.419508</td>\n",
       "      <td>0.983577</td>\n",
       "      <td>0.987179</td>\n",
       "      <td>0.998194</td>\n",
       "      <td>0.993021</td>\n",
       "      <td>36.888397</td>\n",
       "      <td>0.993596</td>\n",
       "      <td>36.888397</td>\n",
       "      <td>0.992687</td>\n",
       "      <td>0.994505</td>\n",
       "      <td>0.999378</td>\n",
       "    </tr>\n",
       "    <tr>\n",
       "      <td>1100</td>\n",
       "      <td>0.001600</td>\n",
       "      <td>0.001322</td>\n",
       "      <td>0.993021</td>\n",
       "      <td>0.892503</td>\n",
       "      <td>0.993596</td>\n",
       "      <td>0.845168</td>\n",
       "      <td>0.992687</td>\n",
       "      <td>0.994505</td>\n",
       "      <td>0.999569</td>\n",
       "      <td>0.953141</td>\n",
       "      <td>14.414407</td>\n",
       "      <td>0.957848</td>\n",
       "      <td>14.329624</td>\n",
       "      <td>0.938489</td>\n",
       "      <td>0.978022</td>\n",
       "      <td>0.984678</td>\n",
       "      <td>0.990030</td>\n",
       "      <td>37.822361</td>\n",
       "      <td>0.990842</td>\n",
       "      <td>37.822361</td>\n",
       "      <td>0.990842</td>\n",
       "      <td>0.990842</td>\n",
       "      <td>0.998677</td>\n",
       "      <td>0.990030</td>\n",
       "      <td>2.450194</td>\n",
       "      <td>0.990842</td>\n",
       "      <td>2.450194</td>\n",
       "      <td>0.990842</td>\n",
       "      <td>0.990842</td>\n",
       "      <td>0.998764</td>\n",
       "      <td>0.993021</td>\n",
       "      <td>37.822361</td>\n",
       "      <td>0.993596</td>\n",
       "      <td>37.822361</td>\n",
       "      <td>0.992687</td>\n",
       "      <td>0.994505</td>\n",
       "      <td>0.999569</td>\n",
       "    </tr>\n",
       "    <tr>\n",
       "      <td>1200</td>\n",
       "      <td>0.001600</td>\n",
       "      <td>0.001226</td>\n",
       "      <td>0.994018</td>\n",
       "      <td>0.908647</td>\n",
       "      <td>0.994495</td>\n",
       "      <td>0.908647</td>\n",
       "      <td>0.996324</td>\n",
       "      <td>0.992674</td>\n",
       "      <td>0.999537</td>\n",
       "      <td>0.956132</td>\n",
       "      <td>13.891239</td>\n",
       "      <td>0.960573</td>\n",
       "      <td>13.661069</td>\n",
       "      <td>0.940351</td>\n",
       "      <td>0.981685</td>\n",
       "      <td>0.987456</td>\n",
       "      <td>0.988036</td>\n",
       "      <td>35.899921</td>\n",
       "      <td>0.989011</td>\n",
       "      <td>36.856522</td>\n",
       "      <td>0.989011</td>\n",
       "      <td>0.989011</td>\n",
       "      <td>0.998580</td>\n",
       "      <td>0.988036</td>\n",
       "      <td>2.319295</td>\n",
       "      <td>0.989011</td>\n",
       "      <td>2.397032</td>\n",
       "      <td>0.989011</td>\n",
       "      <td>0.989011</td>\n",
       "      <td>0.998661</td>\n",
       "      <td>0.994018</td>\n",
       "      <td>35.899921</td>\n",
       "      <td>0.994495</td>\n",
       "      <td>36.856522</td>\n",
       "      <td>0.996324</td>\n",
       "      <td>0.992674</td>\n",
       "      <td>0.999537</td>\n",
       "    </tr>\n",
       "    <tr>\n",
       "      <td>1300</td>\n",
       "      <td>0.001600</td>\n",
       "      <td>0.001209</td>\n",
       "      <td>0.993021</td>\n",
       "      <td>0.904517</td>\n",
       "      <td>0.993596</td>\n",
       "      <td>0.837490</td>\n",
       "      <td>0.992687</td>\n",
       "      <td>0.994505</td>\n",
       "      <td>0.999502</td>\n",
       "      <td>0.960120</td>\n",
       "      <td>14.470165</td>\n",
       "      <td>0.964158</td>\n",
       "      <td>14.470165</td>\n",
       "      <td>0.943860</td>\n",
       "      <td>0.985348</td>\n",
       "      <td>0.987089</td>\n",
       "      <td>0.989033</td>\n",
       "      <td>36.856606</td>\n",
       "      <td>0.989918</td>\n",
       "      <td>36.856606</td>\n",
       "      <td>0.990826</td>\n",
       "      <td>0.989011</td>\n",
       "      <td>0.998412</td>\n",
       "      <td>0.989033</td>\n",
       "      <td>2.592134</td>\n",
       "      <td>0.989973</td>\n",
       "      <td>2.592134</td>\n",
       "      <td>0.985481</td>\n",
       "      <td>0.994505</td>\n",
       "      <td>0.998473</td>\n",
       "      <td>0.993021</td>\n",
       "      <td>36.856606</td>\n",
       "      <td>0.993596</td>\n",
       "      <td>36.856606</td>\n",
       "      <td>0.992687</td>\n",
       "      <td>0.994505</td>\n",
       "      <td>0.999502</td>\n",
       "    </tr>\n",
       "    <tr>\n",
       "      <td>1400</td>\n",
       "      <td>0.001600</td>\n",
       "      <td>0.001184</td>\n",
       "      <td>0.993021</td>\n",
       "      <td>0.907778</td>\n",
       "      <td>0.993596</td>\n",
       "      <td>0.840311</td>\n",
       "      <td>0.992687</td>\n",
       "      <td>0.994505</td>\n",
       "      <td>0.999573</td>\n",
       "      <td>0.964108</td>\n",
       "      <td>14.728549</td>\n",
       "      <td>0.967568</td>\n",
       "      <td>14.622193</td>\n",
       "      <td>0.952128</td>\n",
       "      <td>0.983516</td>\n",
       "      <td>0.987332</td>\n",
       "      <td>0.991027</td>\n",
       "      <td>39.907677</td>\n",
       "      <td>0.991781</td>\n",
       "      <td>39.907677</td>\n",
       "      <td>0.989071</td>\n",
       "      <td>0.994505</td>\n",
       "      <td>0.998609</td>\n",
       "      <td>0.990030</td>\n",
       "      <td>2.534599</td>\n",
       "      <td>0.990876</td>\n",
       "      <td>2.580418</td>\n",
       "      <td>0.987273</td>\n",
       "      <td>0.994505</td>\n",
       "      <td>0.998687</td>\n",
       "      <td>0.993021</td>\n",
       "      <td>39.907677</td>\n",
       "      <td>0.993596</td>\n",
       "      <td>39.907677</td>\n",
       "      <td>0.992687</td>\n",
       "      <td>0.994505</td>\n",
       "      <td>0.999573</td>\n",
       "    </tr>\n",
       "    <tr>\n",
       "      <td>1500</td>\n",
       "      <td>0.000700</td>\n",
       "      <td>0.001160</td>\n",
       "      <td>0.993021</td>\n",
       "      <td>0.903927</td>\n",
       "      <td>0.993596</td>\n",
       "      <td>0.836542</td>\n",
       "      <td>0.992687</td>\n",
       "      <td>0.994505</td>\n",
       "      <td>0.999571</td>\n",
       "      <td>0.967099</td>\n",
       "      <td>14.538573</td>\n",
       "      <td>0.970243</td>\n",
       "      <td>14.538573</td>\n",
       "      <td>0.955595</td>\n",
       "      <td>0.985348</td>\n",
       "      <td>0.987792</td>\n",
       "      <td>0.989033</td>\n",
       "      <td>36.789665</td>\n",
       "      <td>0.989973</td>\n",
       "      <td>40.248520</td>\n",
       "      <td>0.985481</td>\n",
       "      <td>0.994505</td>\n",
       "      <td>0.998492</td>\n",
       "      <td>0.990030</td>\n",
       "      <td>2.446640</td>\n",
       "      <td>0.990842</td>\n",
       "      <td>2.446640</td>\n",
       "      <td>0.990842</td>\n",
       "      <td>0.990842</td>\n",
       "      <td>0.998611</td>\n",
       "      <td>0.993021</td>\n",
       "      <td>36.789665</td>\n",
       "      <td>0.993596</td>\n",
       "      <td>40.248520</td>\n",
       "      <td>0.992687</td>\n",
       "      <td>0.994505</td>\n",
       "      <td>0.999571</td>\n",
       "    </tr>\n",
       "  </tbody>\n",
       "</table><p>"
      ],
      "text/plain": [
       "<IPython.core.display.HTML object>"
      ]
     },
     "metadata": {},
     "output_type": "display_data"
    },
    {
     "data": {
      "application/vnd.jupyter.widget-view+json": {
       "model_id": "",
       "version_major": 2,
       "version_minor": 0
      },
      "text/plain": [
       "Computing widget examples:   0%|          | 0/5 [00:00<?, ?example/s]"
      ]
     },
     "metadata": {},
     "output_type": "display_data"
    },
    {
     "data": {
      "application/vnd.jupyter.widget-view+json": {
       "model_id": "",
       "version_major": 2,
       "version_minor": 0
      },
      "text/plain": [
       "Computing widget examples:   0%|          | 0/5 [00:00<?, ?example/s]"
      ]
     },
     "metadata": {},
     "output_type": "display_data"
    },
    {
     "data": {
      "application/vnd.jupyter.widget-view+json": {
       "model_id": "",
       "version_major": 2,
       "version_minor": 0
      },
      "text/plain": [
       "Computing widget examples:   0%|          | 0/5 [00:00<?, ?example/s]"
      ]
     },
     "metadata": {},
     "output_type": "display_data"
    },
    {
     "data": {
      "application/vnd.jupyter.widget-view+json": {
       "model_id": "",
       "version_major": 2,
       "version_minor": 0
      },
      "text/plain": [
       "Computing widget examples:   0%|          | 0/5 [00:00<?, ?example/s]"
      ]
     },
     "metadata": {},
     "output_type": "display_data"
    },
    {
     "data": {
      "application/vnd.jupyter.widget-view+json": {
       "model_id": "",
       "version_major": 2,
       "version_minor": 0
      },
      "text/plain": [
       "Computing widget examples:   0%|          | 0/5 [00:00<?, ?example/s]"
      ]
     },
     "metadata": {},
     "output_type": "display_data"
    },
    {
     "data": {
      "application/vnd.jupyter.widget-view+json": {
       "model_id": "",
       "version_major": 2,
       "version_minor": 0
      },
      "text/plain": [
       "Computing widget examples:   0%|          | 0/5 [00:00<?, ?example/s]"
      ]
     },
     "metadata": {},
     "output_type": "display_data"
    },
    {
     "data": {
      "application/vnd.jupyter.widget-view+json": {
       "model_id": "",
       "version_major": 2,
       "version_minor": 0
      },
      "text/plain": [
       "Computing widget examples:   0%|          | 0/5 [00:00<?, ?example/s]"
      ]
     },
     "metadata": {},
     "output_type": "display_data"
    },
    {
     "data": {
      "application/vnd.jupyter.widget-view+json": {
       "model_id": "",
       "version_major": 2,
       "version_minor": 0
      },
      "text/plain": [
       "Computing widget examples:   0%|          | 0/5 [00:00<?, ?example/s]"
      ]
     },
     "metadata": {},
     "output_type": "display_data"
    },
    {
     "data": {
      "application/vnd.jupyter.widget-view+json": {
       "model_id": "",
       "version_major": 2,
       "version_minor": 0
      },
      "text/plain": [
       "Computing widget examples:   0%|          | 0/5 [00:00<?, ?example/s]"
      ]
     },
     "metadata": {},
     "output_type": "display_data"
    },
    {
     "data": {
      "application/vnd.jupyter.widget-view+json": {
       "model_id": "",
       "version_major": 2,
       "version_minor": 0
      },
      "text/plain": [
       "Computing widget examples:   0%|          | 0/5 [00:00<?, ?example/s]"
      ]
     },
     "metadata": {},
     "output_type": "display_data"
    },
    {
     "data": {
      "application/vnd.jupyter.widget-view+json": {
       "model_id": "",
       "version_major": 2,
       "version_minor": 0
      },
      "text/plain": [
       "Computing widget examples:   0%|          | 0/5 [00:00<?, ?example/s]"
      ]
     },
     "metadata": {},
     "output_type": "display_data"
    },
    {
     "data": {
      "application/vnd.jupyter.widget-view+json": {
       "model_id": "",
       "version_major": 2,
       "version_minor": 0
      },
      "text/plain": [
       "Computing widget examples:   0%|          | 0/5 [00:00<?, ?example/s]"
      ]
     },
     "metadata": {},
     "output_type": "display_data"
    },
    {
     "data": {
      "application/vnd.jupyter.widget-view+json": {
       "model_id": "",
       "version_major": 2,
       "version_minor": 0
      },
      "text/plain": [
       "Computing widget examples:   0%|          | 0/5 [00:00<?, ?example/s]"
      ]
     },
     "metadata": {},
     "output_type": "display_data"
    },
    {
     "data": {
      "application/vnd.jupyter.widget-view+json": {
       "model_id": "",
       "version_major": 2,
       "version_minor": 0
      },
      "text/plain": [
       "Computing widget examples:   0%|          | 0/5 [00:00<?, ?example/s]"
      ]
     },
     "metadata": {},
     "output_type": "display_data"
    },
    {
     "data": {
      "application/vnd.jupyter.widget-view+json": {
       "model_id": "",
       "version_major": 2,
       "version_minor": 0
      },
      "text/plain": [
       "Computing widget examples:   0%|          | 0/5 [00:00<?, ?example/s]"
      ]
     },
     "metadata": {},
     "output_type": "display_data"
    },
    {
     "data": {
      "text/plain": [
       "TrainOutput(global_step=1506, training_loss=0.004920770943067117, metrics={'train_runtime': 255.1951, 'train_samples_per_second': 188.656, 'train_steps_per_second': 5.901, 'total_flos': 0.0, 'train_loss': 0.004920770943067117, 'epoch': 6.0})"
      ]
     },
     "execution_count": 33,
     "metadata": {},
     "output_type": "execute_result"
    }
   ],
   "source": [
    "# This will rapidly train the embedding model. MultipleNegativesRankingLoss did not work.\n",
    "loss = losses.ContrastiveLoss(model=sbert_model)\n",
    "\n",
    "sbert_args = SentenceTransformerTrainingArguments(\n",
    "    output_dir=SBERT_OUTPUT_FOLDER,\n",
    "    num_train_epochs=EPOCHS,\n",
    "    per_device_train_batch_size=BATCH_SIZE,\n",
    "    per_device_eval_batch_size=BATCH_SIZE,\n",
    "    warmup_ratio=0.1,\n",
    "    run_name=SBERT_MODEL,\n",
    "    load_best_model_at_end=True,\n",
    "    save_total_limit=5,\n",
    "    save_steps=SAVE_EVAL_STEPS,\n",
    "    eval_steps=SAVE_EVAL_STEPS,\n",
    "    save_strategy=\"steps\",\n",
    "    eval_strategy=\"steps\",\n",
    "    greater_is_better=False,\n",
    "    metric_for_best_model=\"eval_loss\",\n",
    "    learning_rate=LEARNING_RATE,\n",
    "    logging_dir=\"./logs\",\n",
    ")\n",
    "\n",
    "trainer = SentenceTransformerTrainer(\n",
    "    model=sbert_model,\n",
    "    args=sbert_args,\n",
    "    train_dataset=train_dataset,\n",
    "    eval_dataset=eval_dataset,\n",
    "    loss=loss,\n",
    "    evaluator=binary_acc_evaluator,\n",
    "    compute_metrics=compute_sbert_metrics,\n",
    "    callbacks=[EarlyStoppingCallback(early_stopping_patience=PATIENCE)],\n",
    ")\n",
    "\n",
    "trainer.evaluate()\n",
    "trainer.train()"
   ]
  },
  {
   "cell_type": "code",
   "execution_count": 34,
   "id": "51fd31d5-005d-4338-973e-663eb7589443",
   "metadata": {},
   "outputs": [
    {
     "name": "stdout",
     "output_type": "stream",
     "text": [
      "Best model checkpoint path: data/fine-tuned-sbert-paraphrase-multilingual-MiniLM-L12-v2-original/checkpoint-1500\n"
     ]
    }
   ],
   "source": [
    "print(f\"Best model checkpoint path: {trainer.state.best_model_checkpoint}\")"
   ]
  },
  {
   "cell_type": "code",
   "execution_count": 35,
   "id": "0340162d-e84f-496b-bc8c-f730d327205f",
   "metadata": {},
   "outputs": [
    {
     "data": {
      "text/html": [
       "\n",
       "    <div>\n",
       "      \n",
       "      <progress value='32' max='32' style='width:300px; height:20px; vertical-align: middle;'></progress>\n",
       "      [32/32 00:00]\n",
       "    </div>\n",
       "    "
      ],
      "text/plain": [
       "<IPython.core.display.HTML object>"
      ]
     },
     "metadata": {},
     "output_type": "display_data"
    },
    {
     "data": {
      "text/html": [
       "<div>\n",
       "<style scoped>\n",
       "    .dataframe tbody tr th:only-of-type {\n",
       "        vertical-align: middle;\n",
       "    }\n",
       "\n",
       "    .dataframe tbody tr th {\n",
       "        vertical-align: top;\n",
       "    }\n",
       "\n",
       "    .dataframe thead th {\n",
       "        text-align: right;\n",
       "    }\n",
       "</style>\n",
       "<table border=\"1\" class=\"dataframe\">\n",
       "  <thead>\n",
       "    <tr style=\"text-align: right;\">\n",
       "      <th></th>\n",
       "      <th>eval_loss</th>\n",
       "      <th>eval_paraphrase-multilingual-MiniLM-L12-v2_cosine_accuracy</th>\n",
       "      <th>eval_paraphrase-multilingual-MiniLM-L12-v2_cosine_accuracy_threshold</th>\n",
       "      <th>eval_paraphrase-multilingual-MiniLM-L12-v2_cosine_f1</th>\n",
       "      <th>eval_paraphrase-multilingual-MiniLM-L12-v2_cosine_f1_threshold</th>\n",
       "      <th>eval_paraphrase-multilingual-MiniLM-L12-v2_cosine_precision</th>\n",
       "      <th>eval_paraphrase-multilingual-MiniLM-L12-v2_cosine_recall</th>\n",
       "      <th>eval_paraphrase-multilingual-MiniLM-L12-v2_cosine_ap</th>\n",
       "      <th>eval_paraphrase-multilingual-MiniLM-L12-v2_dot_accuracy</th>\n",
       "      <th>eval_paraphrase-multilingual-MiniLM-L12-v2_dot_accuracy_threshold</th>\n",
       "      <th>eval_paraphrase-multilingual-MiniLM-L12-v2_dot_f1</th>\n",
       "      <th>eval_paraphrase-multilingual-MiniLM-L12-v2_dot_f1_threshold</th>\n",
       "      <th>eval_paraphrase-multilingual-MiniLM-L12-v2_dot_precision</th>\n",
       "      <th>eval_paraphrase-multilingual-MiniLM-L12-v2_dot_recall</th>\n",
       "      <th>eval_paraphrase-multilingual-MiniLM-L12-v2_dot_ap</th>\n",
       "      <th>eval_paraphrase-multilingual-MiniLM-L12-v2_manhattan_accuracy</th>\n",
       "      <th>eval_paraphrase-multilingual-MiniLM-L12-v2_manhattan_accuracy_threshold</th>\n",
       "      <th>eval_paraphrase-multilingual-MiniLM-L12-v2_manhattan_f1</th>\n",
       "      <th>eval_paraphrase-multilingual-MiniLM-L12-v2_manhattan_f1_threshold</th>\n",
       "      <th>eval_paraphrase-multilingual-MiniLM-L12-v2_manhattan_precision</th>\n",
       "      <th>eval_paraphrase-multilingual-MiniLM-L12-v2_manhattan_recall</th>\n",
       "      <th>eval_paraphrase-multilingual-MiniLM-L12-v2_manhattan_ap</th>\n",
       "      <th>eval_paraphrase-multilingual-MiniLM-L12-v2_euclidean_accuracy</th>\n",
       "      <th>eval_paraphrase-multilingual-MiniLM-L12-v2_euclidean_accuracy_threshold</th>\n",
       "      <th>eval_paraphrase-multilingual-MiniLM-L12-v2_euclidean_f1</th>\n",
       "      <th>eval_paraphrase-multilingual-MiniLM-L12-v2_euclidean_f1_threshold</th>\n",
       "      <th>eval_paraphrase-multilingual-MiniLM-L12-v2_euclidean_precision</th>\n",
       "      <th>eval_paraphrase-multilingual-MiniLM-L12-v2_euclidean_recall</th>\n",
       "      <th>eval_paraphrase-multilingual-MiniLM-L12-v2_euclidean_ap</th>\n",
       "      <th>eval_paraphrase-multilingual-MiniLM-L12-v2_max_accuracy</th>\n",
       "      <th>eval_paraphrase-multilingual-MiniLM-L12-v2_max_accuracy_threshold</th>\n",
       "      <th>eval_paraphrase-multilingual-MiniLM-L12-v2_max_f1</th>\n",
       "      <th>eval_paraphrase-multilingual-MiniLM-L12-v2_max_f1_threshold</th>\n",
       "      <th>eval_paraphrase-multilingual-MiniLM-L12-v2_max_precision</th>\n",
       "      <th>eval_paraphrase-multilingual-MiniLM-L12-v2_max_recall</th>\n",
       "      <th>eval_paraphrase-multilingual-MiniLM-L12-v2_max_ap</th>\n",
       "      <th>eval_runtime</th>\n",
       "      <th>eval_samples_per_second</th>\n",
       "      <th>eval_steps_per_second</th>\n",
       "      <th>epoch</th>\n",
       "    </tr>\n",
       "  </thead>\n",
       "  <tbody>\n",
       "    <tr>\n",
       "      <th>0</th>\n",
       "      <td>0.00116</td>\n",
       "      <td>0.993021</td>\n",
       "      <td>0.903927</td>\n",
       "      <td>0.993596</td>\n",
       "      <td>0.836542</td>\n",
       "      <td>0.992687</td>\n",
       "      <td>0.994505</td>\n",
       "      <td>0.999571</td>\n",
       "      <td>0.967099</td>\n",
       "      <td>14.538573</td>\n",
       "      <td>0.970243</td>\n",
       "      <td>14.538573</td>\n",
       "      <td>0.955595</td>\n",
       "      <td>0.985348</td>\n",
       "      <td>0.987792</td>\n",
       "      <td>0.989033</td>\n",
       "      <td>36.789665</td>\n",
       "      <td>0.989973</td>\n",
       "      <td>40.24852</td>\n",
       "      <td>0.985481</td>\n",
       "      <td>0.994505</td>\n",
       "      <td>0.998492</td>\n",
       "      <td>0.99003</td>\n",
       "      <td>2.44664</td>\n",
       "      <td>0.990842</td>\n",
       "      <td>2.44664</td>\n",
       "      <td>0.990842</td>\n",
       "      <td>0.990842</td>\n",
       "      <td>0.998611</td>\n",
       "      <td>0.993021</td>\n",
       "      <td>36.789665</td>\n",
       "      <td>0.993596</td>\n",
       "      <td>40.24852</td>\n",
       "      <td>0.992687</td>\n",
       "      <td>0.994505</td>\n",
       "      <td>0.999571</td>\n",
       "      <td>1.5073</td>\n",
       "      <td>665.414</td>\n",
       "      <td>21.23</td>\n",
       "      <td>6.0</td>\n",
       "    </tr>\n",
       "  </tbody>\n",
       "</table>\n",
       "</div>"
      ],
      "text/plain": [
       "   eval_loss  eval_paraphrase-multilingual-MiniLM-L12-v2_cosine_accuracy  \\\n",
       "0    0.00116                                           0.993021            \n",
       "\n",
       "   eval_paraphrase-multilingual-MiniLM-L12-v2_cosine_accuracy_threshold  \\\n",
       "0                                           0.903927                      \n",
       "\n",
       "   eval_paraphrase-multilingual-MiniLM-L12-v2_cosine_f1  \\\n",
       "0                                           0.993596      \n",
       "\n",
       "   eval_paraphrase-multilingual-MiniLM-L12-v2_cosine_f1_threshold  \\\n",
       "0                                           0.836542                \n",
       "\n",
       "   eval_paraphrase-multilingual-MiniLM-L12-v2_cosine_precision  \\\n",
       "0                                           0.992687             \n",
       "\n",
       "   eval_paraphrase-multilingual-MiniLM-L12-v2_cosine_recall  \\\n",
       "0                                           0.994505          \n",
       "\n",
       "   eval_paraphrase-multilingual-MiniLM-L12-v2_cosine_ap  \\\n",
       "0                                           0.999571      \n",
       "\n",
       "   eval_paraphrase-multilingual-MiniLM-L12-v2_dot_accuracy  \\\n",
       "0                                           0.967099         \n",
       "\n",
       "   eval_paraphrase-multilingual-MiniLM-L12-v2_dot_accuracy_threshold  \\\n",
       "0                                          14.538573                   \n",
       "\n",
       "   eval_paraphrase-multilingual-MiniLM-L12-v2_dot_f1  \\\n",
       "0                                           0.970243   \n",
       "\n",
       "   eval_paraphrase-multilingual-MiniLM-L12-v2_dot_f1_threshold  \\\n",
       "0                                          14.538573             \n",
       "\n",
       "   eval_paraphrase-multilingual-MiniLM-L12-v2_dot_precision  \\\n",
       "0                                           0.955595          \n",
       "\n",
       "   eval_paraphrase-multilingual-MiniLM-L12-v2_dot_recall  \\\n",
       "0                                           0.985348       \n",
       "\n",
       "   eval_paraphrase-multilingual-MiniLM-L12-v2_dot_ap  \\\n",
       "0                                           0.987792   \n",
       "\n",
       "   eval_paraphrase-multilingual-MiniLM-L12-v2_manhattan_accuracy  \\\n",
       "0                                           0.989033               \n",
       "\n",
       "   eval_paraphrase-multilingual-MiniLM-L12-v2_manhattan_accuracy_threshold  \\\n",
       "0                                          36.789665                         \n",
       "\n",
       "   eval_paraphrase-multilingual-MiniLM-L12-v2_manhattan_f1  \\\n",
       "0                                           0.989973         \n",
       "\n",
       "   eval_paraphrase-multilingual-MiniLM-L12-v2_manhattan_f1_threshold  \\\n",
       "0                                           40.24852                   \n",
       "\n",
       "   eval_paraphrase-multilingual-MiniLM-L12-v2_manhattan_precision  \\\n",
       "0                                           0.985481                \n",
       "\n",
       "   eval_paraphrase-multilingual-MiniLM-L12-v2_manhattan_recall  \\\n",
       "0                                           0.994505             \n",
       "\n",
       "   eval_paraphrase-multilingual-MiniLM-L12-v2_manhattan_ap  \\\n",
       "0                                           0.998492         \n",
       "\n",
       "   eval_paraphrase-multilingual-MiniLM-L12-v2_euclidean_accuracy  \\\n",
       "0                                            0.99003               \n",
       "\n",
       "   eval_paraphrase-multilingual-MiniLM-L12-v2_euclidean_accuracy_threshold  \\\n",
       "0                                            2.44664                         \n",
       "\n",
       "   eval_paraphrase-multilingual-MiniLM-L12-v2_euclidean_f1  \\\n",
       "0                                           0.990842         \n",
       "\n",
       "   eval_paraphrase-multilingual-MiniLM-L12-v2_euclidean_f1_threshold  \\\n",
       "0                                            2.44664                   \n",
       "\n",
       "   eval_paraphrase-multilingual-MiniLM-L12-v2_euclidean_precision  \\\n",
       "0                                           0.990842                \n",
       "\n",
       "   eval_paraphrase-multilingual-MiniLM-L12-v2_euclidean_recall  \\\n",
       "0                                           0.990842             \n",
       "\n",
       "   eval_paraphrase-multilingual-MiniLM-L12-v2_euclidean_ap  \\\n",
       "0                                           0.998611         \n",
       "\n",
       "   eval_paraphrase-multilingual-MiniLM-L12-v2_max_accuracy  \\\n",
       "0                                           0.993021         \n",
       "\n",
       "   eval_paraphrase-multilingual-MiniLM-L12-v2_max_accuracy_threshold  \\\n",
       "0                                          36.789665                   \n",
       "\n",
       "   eval_paraphrase-multilingual-MiniLM-L12-v2_max_f1  \\\n",
       "0                                           0.993596   \n",
       "\n",
       "   eval_paraphrase-multilingual-MiniLM-L12-v2_max_f1_threshold  \\\n",
       "0                                           40.24852             \n",
       "\n",
       "   eval_paraphrase-multilingual-MiniLM-L12-v2_max_precision  \\\n",
       "0                                           0.992687          \n",
       "\n",
       "   eval_paraphrase-multilingual-MiniLM-L12-v2_max_recall  \\\n",
       "0                                           0.994505       \n",
       "\n",
       "   eval_paraphrase-multilingual-MiniLM-L12-v2_max_ap  eval_runtime  \\\n",
       "0                                           0.999571        1.5073   \n",
       "\n",
       "   eval_samples_per_second  eval_steps_per_second  epoch  \n",
       "0                  665.414                  21.23    6.0  "
      ]
     },
     "execution_count": 35,
     "metadata": {},
     "output_type": "execute_result"
    }
   ],
   "source": [
    "pd.DataFrame([trainer.evaluate()])"
   ]
  },
  {
   "cell_type": "code",
   "execution_count": 36,
   "id": "e575f148-b116-4dd3-b9fb-4c99d3027778",
   "metadata": {},
   "outputs": [
    {
     "data": {
      "application/vnd.jupyter.widget-view+json": {
       "model_id": "",
       "version_major": 2,
       "version_minor": 0
      },
      "text/plain": [
       "Computing widget examples:   0%|          | 0/5 [00:00<?, ?example/s]"
      ]
     },
     "metadata": {},
     "output_type": "display_data"
    }
   ],
   "source": [
    "trainer.save_model(SBERT_OUTPUT_FOLDER)"
   ]
  },
  {
   "cell_type": "code",
   "execution_count": 37,
   "id": "47f52923-5fc9-4e0c-8e5d-d2cb21d68246",
   "metadata": {},
   "outputs": [
    {
     "data": {
      "application/vnd.jupyter.widget-view+json": {
       "model_id": "",
       "version_major": 2,
       "version_minor": 0
      },
      "text/plain": [
       "VBox(children=(Label(value='0.000 MB of 0.000 MB uploaded\\r'), FloatProgress(value=1.0, max=1.0)))"
      ]
     },
     "metadata": {},
     "output_type": "display_data"
    },
    {
     "data": {
      "text/html": [
       "<style>\n",
       "    table.wandb td:nth-child(1) { padding: 0 10px; text-align: left ; width: auto;} td:nth-child(2) {text-align: left ; width: 100%}\n",
       "    .wandb-row { display: flex; flex-direction: row; flex-wrap: wrap; justify-content: flex-start; width: 100% }\n",
       "    .wandb-col { display: flex; flex-direction: column; flex-basis: 100%; flex: 1; padding: 10px; }\n",
       "    </style>\n",
       "<div class=\"wandb-row\"><div class=\"wandb-col\"><h3>Run history:</h3><br/><table class=\"wandb\"><tr><td>eval/loss</td><td>█▅▃▂▂▁▁▁▁▁▁▁▁▁▁▁▁</td></tr><tr><td>eval/paraphrase-multilingual-MiniLM-L12-v2_cosine_accuracy</td><td>▁▄▇▇█████████████</td></tr><tr><td>eval/paraphrase-multilingual-MiniLM-L12-v2_cosine_accuracy_threshold</td><td>▁▆▇▇▆▇▇▇▅▇▅▇█████</td></tr><tr><td>eval/paraphrase-multilingual-MiniLM-L12-v2_cosine_ap</td><td>▁▆███████████████</td></tr><tr><td>eval/paraphrase-multilingual-MiniLM-L12-v2_cosine_f1</td><td>▁▃▆▇▇████████████</td></tr><tr><td>eval/paraphrase-multilingual-MiniLM-L12-v2_cosine_f1_threshold</td><td>▁▇▇▇▆▇▇▇▆▆▆▇█▆▇▆▆</td></tr><tr><td>eval/paraphrase-multilingual-MiniLM-L12-v2_cosine_precision</td><td>▁▄▇▇▇████████████</td></tr><tr><td>eval/paraphrase-multilingual-MiniLM-L12-v2_cosine_recall</td><td>█▁▂▆▆▇▇██████████</td></tr><tr><td>eval/paraphrase-multilingual-MiniLM-L12-v2_dot_accuracy</td><td>▁▄▆▇▇▇▇██████████</td></tr><tr><td>eval/paraphrase-multilingual-MiniLM-L12-v2_dot_accuracy_threshold</td><td>▅▃▁▃▆▆▇▆▇▅▇▇▆████</td></tr><tr><td>eval/paraphrase-multilingual-MiniLM-L12-v2_dot_ap</td><td>▁▅▆▇█████████████</td></tr><tr><td>eval/paraphrase-multilingual-MiniLM-L12-v2_dot_f1</td><td>▁▃▅▆▇▇▇▇▇████████</td></tr><tr><td>eval/paraphrase-multilingual-MiniLM-L12-v2_dot_f1_threshold</td><td>▆▁▃▅▇▆█▇█▆▇█▇████</td></tr><tr><td>eval/paraphrase-multilingual-MiniLM-L12-v2_dot_precision</td><td>▁▃▆▇▇▇███████████</td></tr><tr><td>eval/paraphrase-multilingual-MiniLM-L12-v2_dot_recall</td><td>█▁▁▂▂▄▄▅▆▇█▇█████</td></tr><tr><td>eval/paraphrase-multilingual-MiniLM-L12-v2_euclidean_accuracy</td><td>▁▃▆▇▇████████████</td></tr><tr><td>eval/paraphrase-multilingual-MiniLM-L12-v2_euclidean_accuracy_threshold</td><td>█▁▂▂▄▄▄▃▃▃▃▃▃▄▄▃▃</td></tr><tr><td>eval/paraphrase-multilingual-MiniLM-L12-v2_euclidean_ap</td><td>▁▅▇██████████████</td></tr><tr><td>eval/paraphrase-multilingual-MiniLM-L12-v2_euclidean_f1</td><td>▁▂▅▆▇████████████</td></tr><tr><td>eval/paraphrase-multilingual-MiniLM-L12-v2_euclidean_f1_threshold</td><td>█▂▁▁▃▃▃▃▃▂▂▃▂▃▃▃▃</td></tr><tr><td>eval/paraphrase-multilingual-MiniLM-L12-v2_euclidean_precision</td><td>▁▃▆▇▇▇███████████</td></tr><tr><td>eval/paraphrase-multilingual-MiniLM-L12-v2_euclidean_recall</td><td>▇▂▁▃▆▇▇███▇██████</td></tr><tr><td>eval/paraphrase-multilingual-MiniLM-L12-v2_manhattan_accuracy</td><td>▁▃▆▇▇████████████</td></tr><tr><td>eval/paraphrase-multilingual-MiniLM-L12-v2_manhattan_accuracy_threshold</td><td>█▁▁▁▃▄▃▃▂▂▃▃▂▃▃▃▃</td></tr><tr><td>eval/paraphrase-multilingual-MiniLM-L12-v2_manhattan_ap</td><td>▁▅▇██████████████</td></tr><tr><td>eval/paraphrase-multilingual-MiniLM-L12-v2_manhattan_f1</td><td>▁▂▅▆▇████████████</td></tr><tr><td>eval/paraphrase-multilingual-MiniLM-L12-v2_manhattan_f1_threshold</td><td>█▂▁▂▃▄▃▃▃▂▂▃▂▂▃▃▃</td></tr><tr><td>eval/paraphrase-multilingual-MiniLM-L12-v2_manhattan_precision</td><td>▁▃▆▇▇▇███████████</td></tr><tr><td>eval/paraphrase-multilingual-MiniLM-L12-v2_manhattan_recall</td><td>▇▁▁▃▆█▇▇█▇▇██████</td></tr><tr><td>eval/paraphrase-multilingual-MiniLM-L12-v2_max_accuracy</td><td>▁▄▇▇█████████████</td></tr><tr><td>eval/paraphrase-multilingual-MiniLM-L12-v2_max_accuracy_threshold</td><td>█▁▁▁▃▄▃▃▂▂▃▃▂▃▃▃▃</td></tr><tr><td>eval/paraphrase-multilingual-MiniLM-L12-v2_max_ap</td><td>▁▄▇██████████████</td></tr><tr><td>eval/paraphrase-multilingual-MiniLM-L12-v2_max_f1</td><td>▁▃▆▇▇████████████</td></tr><tr><td>eval/paraphrase-multilingual-MiniLM-L12-v2_max_f1_threshold</td><td>█▂▁▂▃▄▃▃▃▂▂▃▂▂▃▃▃</td></tr><tr><td>eval/paraphrase-multilingual-MiniLM-L12-v2_max_precision</td><td>▁▃▇▇▇████████████</td></tr><tr><td>eval/paraphrase-multilingual-MiniLM-L12-v2_max_recall</td><td>█▁▁▅▆▇▇██████████</td></tr><tr><td>eval/runtime</td><td>█▂▂▂▁▁▂▃▃▁▂▂▃▃▃▃▅</td></tr><tr><td>eval/samples_per_second</td><td>▁▆▆▇▇█▇▆▆█▆▇▆▆▆▆▄</td></tr><tr><td>eval/steps_per_second</td><td>▁▆▆▇▇█▇▆▆█▆▇▆▆▆▆▄</td></tr><tr><td>train/epoch</td><td>▁▁▂▂▃▃▃▄▄▅▅▅▆▆▇▇████</td></tr><tr><td>train/global_step</td><td>▁▁▂▂▃▃▃▄▄▅▅▆▆▆▇▇█████</td></tr><tr><td>train/grad_norm</td><td>█▂▁</td></tr><tr><td>train/learning_rate</td><td>█▄▁</td></tr><tr><td>train/loss</td><td>█▂▁</td></tr></table><br/></div><div class=\"wandb-col\"><h3>Run summary:</h3><br/><table class=\"wandb\"><tr><td>eval/loss</td><td>0.00116</td></tr><tr><td>eval/paraphrase-multilingual-MiniLM-L12-v2_cosine_accuracy</td><td>0.99302</td></tr><tr><td>eval/paraphrase-multilingual-MiniLM-L12-v2_cosine_accuracy_threshold</td><td>0.90393</td></tr><tr><td>eval/paraphrase-multilingual-MiniLM-L12-v2_cosine_ap</td><td>0.99957</td></tr><tr><td>eval/paraphrase-multilingual-MiniLM-L12-v2_cosine_f1</td><td>0.9936</td></tr><tr><td>eval/paraphrase-multilingual-MiniLM-L12-v2_cosine_f1_threshold</td><td>0.83654</td></tr><tr><td>eval/paraphrase-multilingual-MiniLM-L12-v2_cosine_precision</td><td>0.99269</td></tr><tr><td>eval/paraphrase-multilingual-MiniLM-L12-v2_cosine_recall</td><td>0.99451</td></tr><tr><td>eval/paraphrase-multilingual-MiniLM-L12-v2_dot_accuracy</td><td>0.9671</td></tr><tr><td>eval/paraphrase-multilingual-MiniLM-L12-v2_dot_accuracy_threshold</td><td>14.53857</td></tr><tr><td>eval/paraphrase-multilingual-MiniLM-L12-v2_dot_ap</td><td>0.98779</td></tr><tr><td>eval/paraphrase-multilingual-MiniLM-L12-v2_dot_f1</td><td>0.97024</td></tr><tr><td>eval/paraphrase-multilingual-MiniLM-L12-v2_dot_f1_threshold</td><td>14.53857</td></tr><tr><td>eval/paraphrase-multilingual-MiniLM-L12-v2_dot_precision</td><td>0.9556</td></tr><tr><td>eval/paraphrase-multilingual-MiniLM-L12-v2_dot_recall</td><td>0.98535</td></tr><tr><td>eval/paraphrase-multilingual-MiniLM-L12-v2_euclidean_accuracy</td><td>0.99003</td></tr><tr><td>eval/paraphrase-multilingual-MiniLM-L12-v2_euclidean_accuracy_threshold</td><td>2.44664</td></tr><tr><td>eval/paraphrase-multilingual-MiniLM-L12-v2_euclidean_ap</td><td>0.99861</td></tr><tr><td>eval/paraphrase-multilingual-MiniLM-L12-v2_euclidean_f1</td><td>0.99084</td></tr><tr><td>eval/paraphrase-multilingual-MiniLM-L12-v2_euclidean_f1_threshold</td><td>2.44664</td></tr><tr><td>eval/paraphrase-multilingual-MiniLM-L12-v2_euclidean_precision</td><td>0.99084</td></tr><tr><td>eval/paraphrase-multilingual-MiniLM-L12-v2_euclidean_recall</td><td>0.99084</td></tr><tr><td>eval/paraphrase-multilingual-MiniLM-L12-v2_manhattan_accuracy</td><td>0.98903</td></tr><tr><td>eval/paraphrase-multilingual-MiniLM-L12-v2_manhattan_accuracy_threshold</td><td>36.78967</td></tr><tr><td>eval/paraphrase-multilingual-MiniLM-L12-v2_manhattan_ap</td><td>0.99849</td></tr><tr><td>eval/paraphrase-multilingual-MiniLM-L12-v2_manhattan_f1</td><td>0.98997</td></tr><tr><td>eval/paraphrase-multilingual-MiniLM-L12-v2_manhattan_f1_threshold</td><td>40.24852</td></tr><tr><td>eval/paraphrase-multilingual-MiniLM-L12-v2_manhattan_precision</td><td>0.98548</td></tr><tr><td>eval/paraphrase-multilingual-MiniLM-L12-v2_manhattan_recall</td><td>0.99451</td></tr><tr><td>eval/paraphrase-multilingual-MiniLM-L12-v2_max_accuracy</td><td>0.99302</td></tr><tr><td>eval/paraphrase-multilingual-MiniLM-L12-v2_max_accuracy_threshold</td><td>36.78967</td></tr><tr><td>eval/paraphrase-multilingual-MiniLM-L12-v2_max_ap</td><td>0.99957</td></tr><tr><td>eval/paraphrase-multilingual-MiniLM-L12-v2_max_f1</td><td>0.9936</td></tr><tr><td>eval/paraphrase-multilingual-MiniLM-L12-v2_max_f1_threshold</td><td>40.24852</td></tr><tr><td>eval/paraphrase-multilingual-MiniLM-L12-v2_max_precision</td><td>0.99269</td></tr><tr><td>eval/paraphrase-multilingual-MiniLM-L12-v2_max_recall</td><td>0.99451</td></tr><tr><td>eval/runtime</td><td>1.5073</td></tr><tr><td>eval/samples_per_second</td><td>665.414</td></tr><tr><td>eval/steps_per_second</td><td>21.23</td></tr><tr><td>total_flos</td><td>0.0</td></tr><tr><td>train/epoch</td><td>6.0</td></tr><tr><td>train/global_step</td><td>1506</td></tr><tr><td>train/grad_norm</td><td>0.00971</td></tr><tr><td>train/learning_rate</td><td>0.0</td></tr><tr><td>train/loss</td><td>0.0007</td></tr><tr><td>train_loss</td><td>0.00492</td></tr><tr><td>train_runtime</td><td>255.1951</td></tr><tr><td>train_samples_per_second</td><td>188.656</td></tr><tr><td>train_steps_per_second</td><td>5.901</td></tr></table><br/></div></div>"
      ],
      "text/plain": [
       "<IPython.core.display.HTML object>"
      ]
     },
     "metadata": {},
     "output_type": "display_data"
    },
    {
     "data": {
      "text/html": [
       "You can sync this run to the cloud by running:<br/><code>wandb sync /Users/rjurney/Software/libpostal-reborn/wandb/offline-run-20240625_203424-gd25q0s6<code>"
      ],
      "text/plain": [
       "<IPython.core.display.HTML object>"
      ]
     },
     "metadata": {},
     "output_type": "display_data"
    },
    {
     "data": {
      "text/html": [
       "Find logs at: <code>./wandb/offline-run-20240625_203424-gd25q0s6/logs</code>"
      ],
      "text/plain": [
       "<IPython.core.display.HTML object>"
      ]
     },
     "metadata": {},
     "output_type": "display_data"
    }
   ],
   "source": [
    "wandb.finish()"
   ]
  },
  {
   "cell_type": "markdown",
   "id": "55ad1454-2902-483b-9500-63456cfa5e8d",
   "metadata": {},
   "source": [
    "### Try the Model from Our Best Epoch\n",
    "\n",
    "We fine-tuned the model for `EPOCHS` nubmer of epochs, but the last epoch isn't always best. The `TrainingArgument` `load_best_model_at_end=True` loads the model at the end.\n",
    "\n",
    "Another way to load the best model is to load our output folder and evaluate that `SentenceTransformer` on some examples to get a gestalt sense for its performance.\n",
    "\n",
    "```python\n",
    "sbert_model = SentenceTransformer(OUTPUT_FOLDER, device=device)\n",
    "```"
   ]
  },
  {
   "cell_type": "code",
   "execution_count": 38,
   "id": "20f2c9c5-5f70-4f13-8b3a-8e24d8509872",
   "metadata": {},
   "outputs": [
    {
     "data": {
      "text/plain": [
       "0.15073898993503043"
      ]
     },
     "execution_count": 38,
     "metadata": {},
     "output_type": "execute_result"
    }
   ],
   "source": [
    "sbert_compare(\n",
    "    \"101 Oak Lane, Atlanta, GA 30308\",\n",
    "    \"102 Oak Lane, Atlanta, GA 30308\",\n",
    ")"
   ]
  },
  {
   "cell_type": "code",
   "execution_count": 39,
   "id": "246f35ba-5e5f-4801-a5dd-e0b54bc34d5b",
   "metadata": {},
   "outputs": [
    {
     "data": {
      "text/plain": [
       "0.9498591837149909"
      ]
     },
     "execution_count": 39,
     "metadata": {},
     "output_type": "execute_result"
    }
   ],
   "source": [
    "sbert_compare(\n",
    "    \"101 Oak Lane, Macon, GA 30308\",\n",
    "    \"101 Oak Lane, Atlanta, GA 30408\",\n",
    ")"
   ]
  },
  {
   "cell_type": "code",
   "execution_count": 40,
   "id": "e96ef967-0c99-4301-9c2c-6909360566e8",
   "metadata": {},
   "outputs": [
    {
     "data": {
      "text/plain": [
       "0.9807205164923688"
      ]
     },
     "execution_count": 40,
     "metadata": {},
     "output_type": "execute_result"
    }
   ],
   "source": [
    "sbert_compare(\n",
    "    \"101 Oak Lane, Atlanta, GA 30308\",\n",
    "    \"101 Oak Ln., Atlanta, GA 30308\",\n",
    ")"
   ]
  },
  {
   "cell_type": "code",
   "execution_count": 41,
   "id": "76eb3771-17c6-4d85-9bad-8615c1eb8db9",
   "metadata": {},
   "outputs": [
    {
     "data": {
      "text/plain": [
       "0.4511403898242934"
      ]
     },
     "execution_count": 41,
     "metadata": {},
     "output_type": "execute_result"
    }
   ],
   "source": [
    "\n",
    "sbert_compare(\n",
    "    \"3413 Sean Way, Lawrenceville, GA 30044\",\n",
    "    \"1202 Oak Rd., Lawrenceville, GA 30304\",\n",
    ")"
   ]
  },
  {
   "cell_type": "code",
   "execution_count": 42,
   "id": "8c78fd25-be01-4052-b717-6471730d92ed",
   "metadata": {},
   "outputs": [
    {
     "data": {
      "text/plain": [
       "0.9233244667710073"
      ]
     },
     "execution_count": 42,
     "metadata": {},
     "output_type": "execute_result"
    }
   ],
   "source": [
    "sbert_compare(\n",
    "    \"3413 Sean Way, Lawrenceville, GA 30044\",\n",
    "    \"3413 Sean Way, Lawrenceville, GA 30044, USA\",\n",
    ")"
   ]
  },
  {
   "cell_type": "markdown",
   "id": "441a2b8b-2525-4c7c-98c0-6a65f69661b0",
   "metadata": {},
   "source": [
    "### Evaluate ROC Curve to Determine Optimum Similarity Threshold\n",
    "\n",
    "0.5 is an arbitrary line on which to divide positive (match, 1) and negative (mismatch, 0). Let's evaluate the ROC Curve of the F1 score to see what it should be set to. Recall that the `sbert_match` function has a `threshold: float = 0.5` argument.\n",
    "\n",
    "#### Evaluate on our Augmented Test Dataset\n",
    "\n",
    "First we'll evaluate the ROC curve on our augmented test dataset."
   ]
  },
  {
   "cell_type": "code",
   "execution_count": 43,
   "id": "f53242e2-7ce0-4c00-853f-277ba98b6317",
   "metadata": {},
   "outputs": [],
   "source": [
    "y_true = test_df[\"Label\"]\n",
    "y_scores = test_df.apply(sbert_match, axis=1)"
   ]
  },
  {
   "cell_type": "code",
   "execution_count": 44,
   "id": "fecb6dc8-528b-4680-9794-5da506b02502",
   "metadata": {},
   "outputs": [
    {
     "name": "stdout",
     "output_type": "stream",
     "text": [
      "Best Threshold: 0.9088101614582614\n",
      "Best F1 Score: 0.9922779922779923\n",
      "AUC-ROC: 0.9992596425586117\n"
     ]
    }
   ],
   "source": [
    "# Compute precision-recall curve\n",
    "precision, recall, thresholds = precision_recall_curve(y_true, y_scores)\n",
    "\n",
    "# Compute F1 score for each threshold\n",
    "f1_scores = [f1_score(y_true, y_scores >= t) for t in thresholds]\n",
    "\n",
    "# Find the threshold that maximizes the F1 score\n",
    "best_threshold_index = np.argmax(f1_scores)\n",
    "best_threshold = thresholds[best_threshold_index]\n",
    "best_f1_score = f1_scores[best_threshold_index]\n",
    "\n",
    "print(f'Best Threshold: {best_threshold}')\n",
    "print(f'Best F1 Score: {best_f1_score}')\n",
    "\n",
    "roc_auc = roc_auc_score(y_true, y_scores)\n",
    "print(f'AUC-ROC: {roc_auc}')"
   ]
  },
  {
   "cell_type": "code",
   "execution_count": 45,
   "id": "737566a7-4902-468f-b87e-585650d484fd",
   "metadata": {},
   "outputs": [
    {
     "data": {
      "image/png": "[encoded data removed]",
      "text/plain": [
       "<Figure size 640x480 with 1 Axes>"
      ]
     },
     "metadata": {},
     "output_type": "display_data"
    }
   ],
   "source": [
    "# Create a DataFrame for Seaborn\n",
    "pr_data = pd.DataFrame({\n",
    "    'Precision': precision[:-1],\n",
    "    'Recall': recall[:-1],\n",
    "    'F1 Score': f1_scores\n",
    "})\n",
    "\n",
    "# Plot Precision-Recall curve using Seaborn\n",
    "sns.lineplot(data=pr_data, x='Recall', y='Precision', marker='o')\n",
    "plt.xlabel('Recall')\n",
    "plt.ylabel('Precision')\n",
    "plt.title('Augmented Test Set Precision-Recall Curve')\n",
    "plt.show()"
   ]
  },
  {
   "cell_type": "markdown",
   "id": "d9f50818-d35c-43b9-b022-9746ce96cdc2",
   "metadata": {},
   "source": [
    "### Plot a ROC Curve for our Gold Labeled Data\n",
    "\n",
    "We need to see the ROC Curve for our gold labeled data as well. We care more about performance on this data."
   ]
  },
  {
   "cell_type": "code",
   "execution_count": 46,
   "id": "af3eae08-beef-419a-bb8a-ffe74fae4cb6",
   "metadata": {},
   "outputs": [],
   "source": [
    "y_true = gold_df[\"Label\"]\n",
    "y_scores = gold_df.apply(sbert_match, axis=1)"
   ]
  },
  {
   "cell_type": "code",
   "execution_count": 47,
   "id": "97bfde9f-9610-4b47-88d6-4432d5081f28",
   "metadata": {},
   "outputs": [
    {
     "name": "stdout",
     "output_type": "stream",
     "text": [
      "Best Threshold: 0.8120125026504897\n",
      "Best F1 Score: 0.8\n",
      "AUC-ROC: 0.7658536585365855\n"
     ]
    }
   ],
   "source": [
    "# Compute precision-recall curve\n",
    "precision, recall, thresholds = precision_recall_curve(y_true, y_scores)\n",
    "\n",
    "# Compute F1 score for each threshold\n",
    "f1_scores = [f1_score(y_true, y_scores >= t) for t in thresholds]\n",
    "\n",
    "# Find the threshold that maximizes the F1 score\n",
    "best_threshold_index = np.argmax(f1_scores)\n",
    "best_threshold = thresholds[best_threshold_index]\n",
    "best_f1_score = f1_scores[best_threshold_index]\n",
    "\n",
    "print(f'Best Threshold: {best_threshold}')\n",
    "print(f'Best F1 Score: {best_f1_score}')\n",
    "\n",
    "roc_auc = roc_auc_score(y_true, y_scores)\n",
    "print(f'AUC-ROC: {roc_auc}')"
   ]
  },
  {
   "cell_type": "code",
   "execution_count": 48,
   "id": "bbe142c8-8b4b-4384-be50-4e77413fd40e",
   "metadata": {},
   "outputs": [
    {
     "data": {
      "image/png": "[encoded data removed]",
      "text/plain": [
       "<Figure size 640x480 with 1 Axes>"
      ]
     },
     "metadata": {},
     "output_type": "display_data"
    }
   ],
   "source": [
    "# Create a DataFrame for Seaborn\n",
    "pr_data = pd.DataFrame({\n",
    "    'Precision': precision[:-1],\n",
    "    'Recall': recall[:-1],\n",
    "    'F1 Score': f1_scores\n",
    "})\n",
    "\n",
    "# Plot Precision-Recall curve using Seaborn\n",
    "sns.lineplot(data=pr_data, x='Recall', y='Precision', marker='o')\n",
    "plt.xlabel('Recall')\n",
    "plt.ylabel('Precision')\n",
    "plt.title('Gold Label Precision-Recall Curve')\n",
    "plt.show()"
   ]
  },
  {
   "cell_type": "markdown",
   "id": "768d6185-8345-4460-82fc-654fd63cec04",
   "metadata": {},
   "source": [
    "### Debugging Errors on our Gold Labels\n",
    "\n",
    "Let's evaluate the data using our `gold_label_report` function with the best F1 score. Then we can view the errors and figure out where our model is failing."
   ]
  },
  {
   "cell_type": "code",
   "execution_count": 49,
   "id": "63b16f14-ee29-4e2b-acec-61df4bfe8add",
   "metadata": {},
   "outputs": [],
   "source": [
    "raw_df, grouped_df = gold_label_report(\n",
    "    gold_df,\n",
    "    [\n",
    "        # strict_parse_match,\n",
    "        # parse_match_country,\n",
    "        sbert_match_binary,\n",
    "    ],\n",
    "    threshold=best_threshold\n",
    ")"
   ]
  },
  {
   "cell_type": "markdown",
   "id": "0bd151a3-f774-45ce-857f-e3d072fc803d",
   "metadata": {},
   "source": [
    "#### Label Description Group Analysis\n",
    "\n",
    "You can see the types of address pairs we are failing on. This can guide our data augmentation / programmatic labeling work at a high level."
   ]
  },
  {
   "cell_type": "code",
   "execution_count": 50,
   "id": "c954ca92-334d-4d73-98a2-313bbec12c15",
   "metadata": {},
   "outputs": [
    {
     "data": {
      "text/html": [
       "<div>\n",
       "<style scoped>\n",
       "    .dataframe tbody tr th:only-of-type {\n",
       "        vertical-align: middle;\n",
       "    }\n",
       "\n",
       "    .dataframe tbody tr th {\n",
       "        vertical-align: top;\n",
       "    }\n",
       "\n",
       "    .dataframe thead th {\n",
       "        text-align: right;\n",
       "    }\n",
       "</style>\n",
       "<table border=\"1\" class=\"dataframe\">\n",
       "  <thead>\n",
       "    <tr style=\"text-align: right;\">\n",
       "      <th></th>\n",
       "      <th>sbert_match_binary_acc</th>\n",
       "    </tr>\n",
       "    <tr>\n",
       "      <th>Description</th>\n",
       "      <th></th>\n",
       "    </tr>\n",
       "  </thead>\n",
       "  <tbody>\n",
       "    <tr>\n",
       "      <th>Abbreviated street type for same address should match</th>\n",
       "      <td>1.0</td>\n",
       "    </tr>\n",
       "    <tr>\n",
       "      <th>Abbreviated vs. full street names for same address should match</th>\n",
       "      <td>1.0</td>\n",
       "    </tr>\n",
       "    <tr>\n",
       "      <th>Addition of parenthetical details for same address should match</th>\n",
       "      <td>1.0</td>\n",
       "    </tr>\n",
       "    <tr>\n",
       "      <th>Adjacent or nearby building numbers means different address</th>\n",
       "      <td>0.0</td>\n",
       "    </tr>\n",
       "    <tr>\n",
       "      <th>Close numerical variants are different addresses</th>\n",
       "      <td>1.0</td>\n",
       "    </tr>\n",
       "    <tr>\n",
       "      <th>Common misspellings for same address should match</th>\n",
       "      <td>1.0</td>\n",
       "    </tr>\n",
       "    <tr>\n",
       "      <th>Common typographical errors in same address should match</th>\n",
       "      <td>1.0</td>\n",
       "    </tr>\n",
       "    <tr>\n",
       "      <th>Completely different addresses that don't match</th>\n",
       "      <td>0.0</td>\n",
       "    </tr>\n",
       "    <tr>\n",
       "      <th>Different addresses in the same country that don't match</th>\n",
       "      <td>0.5</td>\n",
       "    </tr>\n",
       "    <tr>\n",
       "      <th>Different character sets for same address should match</th>\n",
       "      <td>0.5</td>\n",
       "    </tr>\n",
       "    <tr>\n",
       "      <th>Different cities means different address</th>\n",
       "      <td>1.0</td>\n",
       "    </tr>\n",
       "    <tr>\n",
       "      <th>Different countries means different address</th>\n",
       "      <td>0.0</td>\n",
       "    </tr>\n",
       "    <tr>\n",
       "      <th>Different directional prefix formats for same address should match</th>\n",
       "      <td>1.0</td>\n",
       "    </tr>\n",
       "    <tr>\n",
       "      <th>Different language versions of same address should match</th>\n",
       "      <td>1.0</td>\n",
       "    </tr>\n",
       "    <tr>\n",
       "      <th>Different languages for same address should match</th>\n",
       "      <td>0.0</td>\n",
       "    </tr>\n",
       "    <tr>\n",
       "      <th>Different levels of detail for the same address may match</th>\n",
       "      <td>1.0</td>\n",
       "    </tr>\n",
       "    <tr>\n",
       "      <th>Different postal codes means different address</th>\n",
       "      <td>0.0</td>\n",
       "    </tr>\n",
       "    <tr>\n",
       "      <th>Different states means different address</th>\n",
       "      <td>0.0</td>\n",
       "    </tr>\n",
       "    <tr>\n",
       "      <th>Different street name endings means different address</th>\n",
       "      <td>0.0</td>\n",
       "    </tr>\n",
       "    <tr>\n",
       "      <th>Different street names means different address</th>\n",
       "      <td>0.5</td>\n",
       "    </tr>\n",
       "    <tr>\n",
       "      <th>Different street numbers means different address</th>\n",
       "      <td>1.0</td>\n",
       "    </tr>\n",
       "    <tr>\n",
       "      <th>Different street suffixes means different address</th>\n",
       "      <td>1.0</td>\n",
       "    </tr>\n",
       "    <tr>\n",
       "      <th>Different terms for unit number for same address should match</th>\n",
       "      <td>1.0</td>\n",
       "    </tr>\n",
       "    <tr>\n",
       "      <th>Different unit numbers means different address</th>\n",
       "      <td>0.0</td>\n",
       "    </tr>\n",
       "    <tr>\n",
       "      <th>Different units in a building means different address</th>\n",
       "      <td>0.0</td>\n",
       "    </tr>\n",
       "    <tr>\n",
       "      <th>Floor bumbers included or excluded for same address should match</th>\n",
       "      <td>1.0</td>\n",
       "    </tr>\n",
       "    <tr>\n",
       "      <th>Formal and localized format of same address should match</th>\n",
       "      <td>0.0</td>\n",
       "    </tr>\n",
       "    <tr>\n",
       "      <th>Including a business name or not, in same address should match</th>\n",
       "      <td>1.0</td>\n",
       "    </tr>\n",
       "    <tr>\n",
       "      <th>Including and excluding building names for same address should match</th>\n",
       "      <td>1.0</td>\n",
       "    </tr>\n",
       "    <tr>\n",
       "      <th>Incomplete address vs full address may match</th>\n",
       "      <td>0.0</td>\n",
       "    </tr>\n",
       "    <tr>\n",
       "      <th>Intersection vs addresss for same location should match</th>\n",
       "      <td>1.0</td>\n",
       "    </tr>\n",
       "    <tr>\n",
       "      <th>Local vs. international formatting for same address should match</th>\n",
       "      <td>1.0</td>\n",
       "    </tr>\n",
       "    <tr>\n",
       "      <th>Missing country in one record can match</th>\n",
       "      <td>1.0</td>\n",
       "    </tr>\n",
       "    <tr>\n",
       "      <th>Missing postal code can mean different address</th>\n",
       "      <td>1.0</td>\n",
       "    </tr>\n",
       "    <tr>\n",
       "      <th>Missing state but has postal code and country for same address should match</th>\n",
       "      <td>1.0</td>\n",
       "    </tr>\n",
       "    <tr>\n",
       "      <th>Missing street suffix can mean different address</th>\n",
       "      <td>1.0</td>\n",
       "    </tr>\n",
       "    <tr>\n",
       "      <th>Missing unit number in match means different address</th>\n",
       "      <td>0.0</td>\n",
       "    </tr>\n",
       "    <tr>\n",
       "      <th>Normal vs abbreviated country name for same address should match</th>\n",
       "      <td>1.0</td>\n",
       "    </tr>\n",
       "    <tr>\n",
       "      <th>Normal vs formal country names for same address should match</th>\n",
       "      <td>1.0</td>\n",
       "    </tr>\n",
       "    <tr>\n",
       "      <th>Numeric or written street number for same address should match</th>\n",
       "      <td>1.0</td>\n",
       "    </tr>\n",
       "  </tbody>\n",
       "</table>\n",
       "</div>"
      ],
      "text/plain": [
       "                                                    sbert_match_binary_acc\n",
       "Description                                                               \n",
       "Abbreviated street type for same address should...                     1.0\n",
       "Abbreviated vs. full street names for same addr...                     1.0\n",
       "Addition of parenthetical details for same addr...                     1.0\n",
       "Adjacent or nearby building numbers means diffe...                     0.0\n",
       "Close numerical variants are different addresses                       1.0\n",
       "Common misspellings for same address should match                      1.0\n",
       "Common typographical errors in same address sho...                     1.0\n",
       "Completely different addresses that don't match                        0.0\n",
       "Different addresses in the same country that do...                     0.5\n",
       "Different character sets for same address shoul...                     0.5\n",
       "Different cities means different address                               1.0\n",
       "Different countries means different address                            0.0\n",
       "Different directional prefix formats for same a...                     1.0\n",
       "Different language versions of same address sho...                     1.0\n",
       "Different languages for same address should match                      0.0\n",
       "Different levels of detail for the same address...                     1.0\n",
       "Different postal codes means different address                         0.0\n",
       "Different states means different address                               0.0\n",
       "Different street name endings means different a...                     0.0\n",
       "Different street names means different address                         0.5\n",
       "Different street numbers means different address                       1.0\n",
       "Different street suffixes means different address                      1.0\n",
       "Different terms for unit number for same addres...                     1.0\n",
       "Different unit numbers means different address                         0.0\n",
       "Different units in a building means different a...                     0.0\n",
       "Floor bumbers included or excluded for same add...                     1.0\n",
       "Formal and localized format of same address sho...                     0.0\n",
       "Including a business name or not, in same addre...                     1.0\n",
       "Including and excluding building names for same...                     1.0\n",
       "Incomplete address vs full address may match                           0.0\n",
       "Intersection vs addresss for same location shou...                     1.0\n",
       "Local vs. international formatting for same add...                     1.0\n",
       "Missing country in one record can match                                1.0\n",
       "Missing postal code can mean different address                         1.0\n",
       "Missing state but has postal code and country f...                     1.0\n",
       "Missing street suffix can mean different address                       1.0\n",
       "Missing unit number in match means different ad...                     0.0\n",
       "Normal vs abbreviated country name for same add...                     1.0\n",
       "Normal vs formal country names for same address...                     1.0\n",
       "Numeric or written street number for same addre...                     1.0"
      ]
     },
     "execution_count": 50,
     "metadata": {},
     "output_type": "execute_result"
    }
   ],
   "source": [
    "grouped_df.head(40)"
   ]
  },
  {
   "cell_type": "code",
   "execution_count": 51,
   "id": "3edae3d6-4085-41d9-bacb-3efde3d48e5e",
   "metadata": {},
   "outputs": [
    {
     "data": {
      "text/plain": [
       "Description\n",
       "Incomplete address vs full address may match                                             0.0\n",
       "Different postal codes means different address                                           0.0\n",
       "Different languages for same address should match                                        0.0\n",
       "Different unit numbers means different address                                           0.0\n",
       "Different units in a building means different address                                    0.0\n",
       "Different countries means different address                                              0.0\n",
       "Formal and localized format of same address should match                                 0.0\n",
       "Different states means different address                                                 0.0\n",
       "Missing unit number in match means different address                                     0.0\n",
       "Completely different addresses that don't match                                          0.0\n",
       "Similar but different street numbers                                                     0.0\n",
       "Similar cities in different states, postal codes or countries means different address    0.0\n",
       "Similar international locations in different countries means different address           0.0\n",
       "Adjacent or nearby building numbers means different address                              0.0\n",
       "Similar street names with different directions means different address                   0.0\n",
       "Street type variations means different address                                           0.0\n",
       "Similar building names can be different addresses                                        0.0\n",
       "Different street name endings means different address                                    0.0\n",
       "Different street names means different address                                           0.5\n",
       "Variant formats of same address should match                                             0.5\n",
       "Different character sets for same address should match                                   0.5\n",
       "Different addresses in the same country that don't match                                 0.5\n",
       "Different street numbers means different address                                         1.0\n",
       "Same address incorporates business name or not should match                              1.0\n",
       "Same address with and without country should match                                       1.0\n",
       "Same address with and without district / neighborhood names should match                 1.0\n",
       "Similar but different building names means different address                             1.0\n",
       "Common typographical errors in same address should match                                 1.0\n",
       "Punctuation or not in abbreviations for same address should match                        1.0\n",
       "Common misspellings for same address should match                                        1.0\n",
       "Similar road names can be different addresses                                            1.0\n",
       "Addition of parenthetical details for same address should match                          1.0\n",
       "Abbreviated vs. full street names for same address should match                          1.0\n",
       "Synonyms for street types for same address should match                                  1.0\n",
       "Typographical errors in city of same address should match                                1.0\n",
       "Typographical errors in same address with country should match                           1.0\n",
       "Typographical errors in street name of same address should match                         1.0\n",
       "Close numerical variants are different addresses                                         1.0\n",
       "Numerical variations for same address should match                                       1.0\n",
       "Numeric or written street number for same address should match                           1.0\n",
       "Name: sbert_match_binary_acc, dtype: float64"
      ]
     },
     "execution_count": 51,
     "metadata": {},
     "output_type": "execute_result"
    }
   ],
   "source": [
    "grouped_df[\"sbert_match_binary_acc\"].sort_values().head(40)"
   ]
  },
  {
   "cell_type": "markdown",
   "id": "1a4340fd-af40-4450-bfc1-834bac0851cb",
   "metadata": {},
   "source": [
    "#### What it Got Right ..."
   ]
  },
  {
   "cell_type": "code",
   "execution_count": 52,
   "id": "090a985a-a152-4976-8f57-890e88ef99ff",
   "metadata": {},
   "outputs": [
    {
     "name": "stdout",
     "output_type": "stream",
     "text": [
      "Number correct: 58\n"
     ]
    },
    {
     "data": {
      "text/html": [
       "<div>\n",
       "<style scoped>\n",
       "    .dataframe tbody tr th:only-of-type {\n",
       "        vertical-align: middle;\n",
       "    }\n",
       "\n",
       "    .dataframe tbody tr th {\n",
       "        vertical-align: top;\n",
       "    }\n",
       "\n",
       "    .dataframe thead th {\n",
       "        text-align: right;\n",
       "    }\n",
       "</style>\n",
       "<table border=\"1\" class=\"dataframe\">\n",
       "  <thead>\n",
       "    <tr style=\"text-align: right;\">\n",
       "      <th></th>\n",
       "      <th>index</th>\n",
       "      <th>Description</th>\n",
       "      <th>Address1</th>\n",
       "      <th>Address2</th>\n",
       "      <th>Label</th>\n",
       "      <th>sbert_match_binary</th>\n",
       "      <th>sbert_match_binary_correct</th>\n",
       "    </tr>\n",
       "  </thead>\n",
       "  <tbody>\n",
       "    <tr>\n",
       "      <th>0</th>\n",
       "      <td>0</td>\n",
       "      <td>Different directional prefix formats for same ...</td>\n",
       "      <td>2024 NW 5th Ave, Miami, FL 33127</td>\n",
       "      <td>2024 Northwest 5th Avenue, Miami, Florida 33127</td>\n",
       "      <td>1</td>\n",
       "      <td>1</td>\n",
       "      <td>True</td>\n",
       "    </tr>\n",
       "    <tr>\n",
       "      <th>1</th>\n",
       "      <td>1</td>\n",
       "      <td>Abbreviated street type for same address shoul...</td>\n",
       "      <td>10200 NE 12th St, Bellevue, WA 98003</td>\n",
       "      <td>10200 NE 12th Street, Bellevue, WA 98003</td>\n",
       "      <td>1</td>\n",
       "      <td>1</td>\n",
       "      <td>True</td>\n",
       "    </tr>\n",
       "    <tr>\n",
       "      <th>2</th>\n",
       "      <td>2</td>\n",
       "      <td>Common misspellings for same address should match</td>\n",
       "      <td>1600 Pennsylvna Ave NW, Washington, DC 20500</td>\n",
       "      <td>1600 Pennsylvania Avenue NW, Washington, DC 20500</td>\n",
       "      <td>1</td>\n",
       "      <td>1</td>\n",
       "      <td>True</td>\n",
       "    </tr>\n",
       "    <tr>\n",
       "      <th>3</th>\n",
       "      <td>3</td>\n",
       "      <td>Different directional prefix formats for same ...</td>\n",
       "      <td>550 S Hill St, Los Angeles, CA</td>\n",
       "      <td>550 South Hill Street, Los Angeles, California</td>\n",
       "      <td>1</td>\n",
       "      <td>1</td>\n",
       "      <td>True</td>\n",
       "    </tr>\n",
       "    <tr>\n",
       "      <th>4</th>\n",
       "      <td>5</td>\n",
       "      <td>Numerical variations for same address should m...</td>\n",
       "      <td>Third Ave, New York, NY</td>\n",
       "      <td>3rd Avenue, New York, New York</td>\n",
       "      <td>1</td>\n",
       "      <td>1</td>\n",
       "      <td>True</td>\n",
       "    </tr>\n",
       "    <tr>\n",
       "      <th>5</th>\n",
       "      <td>6</td>\n",
       "      <td>Variant format of same address should match</td>\n",
       "      <td>350 Fifth Avenue, New York, NY 10118</td>\n",
       "      <td>Empire State Bldg, 350 5th Ave, NY, NY 10118</td>\n",
       "      <td>1</td>\n",
       "      <td>1</td>\n",
       "      <td>True</td>\n",
       "    </tr>\n",
       "    <tr>\n",
       "      <th>6</th>\n",
       "      <td>7</td>\n",
       "      <td>Variant format of same address should match</td>\n",
       "      <td>Çırağan Caddesi No: 32, 34349 Beşiktaş, Istanb...</td>\n",
       "      <td>Ciragan Palace Hotel, Ciragan Street 32, Besik...</td>\n",
       "      <td>1</td>\n",
       "      <td>1</td>\n",
       "      <td>True</td>\n",
       "    </tr>\n",
       "    <tr>\n",
       "      <th>7</th>\n",
       "      <td>10</td>\n",
       "      <td>Variant formats of same address should match</td>\n",
       "      <td>Shànghǎi Shì Huángpǔ Qū Nánjīng Dōng Lù 318 Hào</td>\n",
       "      <td>Shànghǎi Huángpǔ Nánjīng Dōng Lù 318 Hào</td>\n",
       "      <td>1</td>\n",
       "      <td>1</td>\n",
       "      <td>True</td>\n",
       "    </tr>\n",
       "    <tr>\n",
       "      <th>8</th>\n",
       "      <td>12</td>\n",
       "      <td>Different character sets for same address shou...</td>\n",
       "      <td>16, MG Road, Bangalore, Karnataka 560001, India</td>\n",
       "      <td>16, एमजी रोड, बैंगलोर, कर्नाटक 560001</td>\n",
       "      <td>1</td>\n",
       "      <td>1</td>\n",
       "      <td>True</td>\n",
       "    </tr>\n",
       "    <tr>\n",
       "      <th>9</th>\n",
       "      <td>13</td>\n",
       "      <td>Missing state but has postal code and country ...</td>\n",
       "      <td>Pariser Platz 2, 10117 Berlin, Germany</td>\n",
       "      <td>Pariser Platz 2, 10117 Berlin, Berlin, Germany</td>\n",
       "      <td>1</td>\n",
       "      <td>1</td>\n",
       "      <td>True</td>\n",
       "    </tr>\n",
       "    <tr>\n",
       "      <th>10</th>\n",
       "      <td>14</td>\n",
       "      <td>Missing state but has postal code and country ...</td>\n",
       "      <td>Marienplatz 1, 80331 Munich, Germany</td>\n",
       "      <td>Marienplatz 1, 80331 Munich, Bavaria, Germany</td>\n",
       "      <td>1</td>\n",
       "      <td>1</td>\n",
       "      <td>True</td>\n",
       "    </tr>\n",
       "    <tr>\n",
       "      <th>11</th>\n",
       "      <td>15</td>\n",
       "      <td>Abbreviated vs. full street names for same add...</td>\n",
       "      <td>123 Main St, Springfield, IL</td>\n",
       "      <td>123 Main Street, Springfield, IL</td>\n",
       "      <td>1</td>\n",
       "      <td>1</td>\n",
       "      <td>True</td>\n",
       "    </tr>\n",
       "    <tr>\n",
       "      <th>12</th>\n",
       "      <td>17</td>\n",
       "      <td>Same address with and without country should m...</td>\n",
       "      <td>1600 Amphitheatre Parkway, Mountain View, CA 9...</td>\n",
       "      <td>1600 Amphitheatre Parkway, Mountain View, CA 9...</td>\n",
       "      <td>1</td>\n",
       "      <td>1</td>\n",
       "      <td>True</td>\n",
       "    </tr>\n",
       "    <tr>\n",
       "      <th>13</th>\n",
       "      <td>18</td>\n",
       "      <td>Same address with and without country should m...</td>\n",
       "      <td>3413 Sean Way, Lawrenceville, GA 30044, U.S.A.</td>\n",
       "      <td>3413 Sean Way, Lawrenceville, Georgia, 30044</td>\n",
       "      <td>1</td>\n",
       "      <td>1</td>\n",
       "      <td>True</td>\n",
       "    </tr>\n",
       "    <tr>\n",
       "      <th>14</th>\n",
       "      <td>19</td>\n",
       "      <td>Different levels of detail for the same addres...</td>\n",
       "      <td>221B Baker Street, London, NW1 6XE, UK</td>\n",
       "      <td>221B Baker St, Marylebone, London NW1 6XE</td>\n",
       "      <td>1</td>\n",
       "      <td>1</td>\n",
       "      <td>True</td>\n",
       "    </tr>\n",
       "    <tr>\n",
       "      <th>15</th>\n",
       "      <td>20</td>\n",
       "      <td>Same address with and without district / neigh...</td>\n",
       "      <td>1600 Amphitheatre Parkway, Mountain View, CA 9...</td>\n",
       "      <td>1600 Amphitheatre Parkway, Shoreline, Mountain...</td>\n",
       "      <td>1</td>\n",
       "      <td>1</td>\n",
       "      <td>True</td>\n",
       "    </tr>\n",
       "    <tr>\n",
       "      <th>16</th>\n",
       "      <td>21</td>\n",
       "      <td>Including and excluding building names for sam...</td>\n",
       "      <td>The Empire State Building, 350 5th Ave, New Yo...</td>\n",
       "      <td>350 5th Ave, New York, NY 10118</td>\n",
       "      <td>1</td>\n",
       "      <td>1</td>\n",
       "      <td>True</td>\n",
       "    </tr>\n",
       "    <tr>\n",
       "      <th>17</th>\n",
       "      <td>22</td>\n",
       "      <td>Floor bumbers included or excluded for same ad...</td>\n",
       "      <td>350 5th Ave, 86th Floor, New York, NY 10118</td>\n",
       "      <td>350 5th Ave, New York, NY 10118</td>\n",
       "      <td>1</td>\n",
       "      <td>1</td>\n",
       "      <td>True</td>\n",
       "    </tr>\n",
       "    <tr>\n",
       "      <th>18</th>\n",
       "      <td>23</td>\n",
       "      <td>Same address incorporates business name or not...</td>\n",
       "      <td>Google, 1600 Amphitheatre Parkway, Mountain Vi...</td>\n",
       "      <td>1600 Amphitheatre Parkway, Mountain View, CA 9...</td>\n",
       "      <td>1</td>\n",
       "      <td>1</td>\n",
       "      <td>True</td>\n",
       "    </tr>\n",
       "    <tr>\n",
       "      <th>19</th>\n",
       "      <td>24</td>\n",
       "      <td>Intersection vs addresss for same location sho...</td>\n",
       "      <td>1600 Amphitheatre Parkway at Charleston Road, ...</td>\n",
       "      <td>1600 Amphitheatre Parkway, Mountain View, CA 9...</td>\n",
       "      <td>1</td>\n",
       "      <td>1</td>\n",
       "      <td>True</td>\n",
       "    </tr>\n",
       "  </tbody>\n",
       "</table>\n",
       "</div>"
      ],
      "text/plain": [
       "    index                                        Description  \\\n",
       "0       0  Different directional prefix formats for same ...   \n",
       "1       1  Abbreviated street type for same address shoul...   \n",
       "2       2  Common misspellings for same address should match   \n",
       "3       3  Different directional prefix formats for same ...   \n",
       "4       5  Numerical variations for same address should m...   \n",
       "5       6        Variant format of same address should match   \n",
       "6       7        Variant format of same address should match   \n",
       "7      10       Variant formats of same address should match   \n",
       "8      12  Different character sets for same address shou...   \n",
       "9      13  Missing state but has postal code and country ...   \n",
       "10     14  Missing state but has postal code and country ...   \n",
       "11     15  Abbreviated vs. full street names for same add...   \n",
       "12     17  Same address with and without country should m...   \n",
       "13     18  Same address with and without country should m...   \n",
       "14     19  Different levels of detail for the same addres...   \n",
       "15     20  Same address with and without district / neigh...   \n",
       "16     21  Including and excluding building names for sam...   \n",
       "17     22  Floor bumbers included or excluded for same ad...   \n",
       "18     23  Same address incorporates business name or not...   \n",
       "19     24  Intersection vs addresss for same location sho...   \n",
       "\n",
       "                                             Address1  \\\n",
       "0                    2024 NW 5th Ave, Miami, FL 33127   \n",
       "1                10200 NE 12th St, Bellevue, WA 98003   \n",
       "2        1600 Pennsylvna Ave NW, Washington, DC 20500   \n",
       "3                      550 S Hill St, Los Angeles, CA   \n",
       "4                             Third Ave, New York, NY   \n",
       "5                350 Fifth Avenue, New York, NY 10118   \n",
       "6   Çırağan Caddesi No: 32, 34349 Beşiktaş, Istanb...   \n",
       "7     Shànghǎi Shì Huángpǔ Qū Nánjīng Dōng Lù 318 Hào   \n",
       "8     16, MG Road, Bangalore, Karnataka 560001, India   \n",
       "9              Pariser Platz 2, 10117 Berlin, Germany   \n",
       "10               Marienplatz 1, 80331 Munich, Germany   \n",
       "11                       123 Main St, Springfield, IL   \n",
       "12  1600 Amphitheatre Parkway, Mountain View, CA 9...   \n",
       "13     3413 Sean Way, Lawrenceville, GA 30044, U.S.A.   \n",
       "14             221B Baker Street, London, NW1 6XE, UK   \n",
       "15  1600 Amphitheatre Parkway, Mountain View, CA 9...   \n",
       "16  The Empire State Building, 350 5th Ave, New Yo...   \n",
       "17        350 5th Ave, 86th Floor, New York, NY 10118   \n",
       "18  Google, 1600 Amphitheatre Parkway, Mountain Vi...   \n",
       "19  1600 Amphitheatre Parkway at Charleston Road, ...   \n",
       "\n",
       "                                             Address2  Label  \\\n",
       "0     2024 Northwest 5th Avenue, Miami, Florida 33127      1   \n",
       "1            10200 NE 12th Street, Bellevue, WA 98003      1   \n",
       "2   1600 Pennsylvania Avenue NW, Washington, DC 20500      1   \n",
       "3      550 South Hill Street, Los Angeles, California      1   \n",
       "4                      3rd Avenue, New York, New York      1   \n",
       "5        Empire State Bldg, 350 5th Ave, NY, NY 10118      1   \n",
       "6   Ciragan Palace Hotel, Ciragan Street 32, Besik...      1   \n",
       "7            Shànghǎi Huángpǔ Nánjīng Dōng Lù 318 Hào      1   \n",
       "8               16, एमजी रोड, बैंगलोर, कर्नाटक 560001      1   \n",
       "9      Pariser Platz 2, 10117 Berlin, Berlin, Germany      1   \n",
       "10      Marienplatz 1, 80331 Munich, Bavaria, Germany      1   \n",
       "11                   123 Main Street, Springfield, IL      1   \n",
       "12  1600 Amphitheatre Parkway, Mountain View, CA 9...      1   \n",
       "13       3413 Sean Way, Lawrenceville, Georgia, 30044      1   \n",
       "14          221B Baker St, Marylebone, London NW1 6XE      1   \n",
       "15  1600 Amphitheatre Parkway, Shoreline, Mountain...      1   \n",
       "16                    350 5th Ave, New York, NY 10118      1   \n",
       "17                    350 5th Ave, New York, NY 10118      1   \n",
       "18  1600 Amphitheatre Parkway, Mountain View, CA 9...      1   \n",
       "19  1600 Amphitheatre Parkway, Mountain View, CA 9...      1   \n",
       "\n",
       "    sbert_match_binary  sbert_match_binary_correct  \n",
       "0                    1                        True  \n",
       "1                    1                        True  \n",
       "2                    1                        True  \n",
       "3                    1                        True  \n",
       "4                    1                        True  \n",
       "5                    1                        True  \n",
       "6                    1                        True  \n",
       "7                    1                        True  \n",
       "8                    1                        True  \n",
       "9                    1                        True  \n",
       "10                   1                        True  \n",
       "11                   1                        True  \n",
       "12                   1                        True  \n",
       "13                   1                        True  \n",
       "14                   1                        True  \n",
       "15                   1                        True  \n",
       "16                   1                        True  \n",
       "17                   1                        True  \n",
       "18                   1                        True  \n",
       "19                   1                        True  "
      ]
     },
     "execution_count": 52,
     "metadata": {},
     "output_type": "execute_result"
    }
   ],
   "source": [
    "# Truthiness analysis\n",
    "correct_df = raw_df[raw_df[\"sbert_match_binary_correct\"]].reset_index()\n",
    "print(f\"Number correct: {len(correct_df):,}\")\n",
    "\n",
    "correct_df.head(20)"
   ]
  },
  {
   "cell_type": "code",
   "execution_count": 53,
   "id": "d228d188-ed22-42ca-985b-ddd9088ac94b",
   "metadata": {},
   "outputs": [
    {
     "name": "stdout",
     "output_type": "stream",
     "text": [
      "Number wrong: 18\n"
     ]
    },
    {
     "data": {
      "text/html": [
       "<div>\n",
       "<style scoped>\n",
       "    .dataframe tbody tr th:only-of-type {\n",
       "        vertical-align: middle;\n",
       "    }\n",
       "\n",
       "    .dataframe tbody tr th {\n",
       "        vertical-align: top;\n",
       "    }\n",
       "\n",
       "    .dataframe thead th {\n",
       "        text-align: right;\n",
       "    }\n",
       "</style>\n",
       "<table border=\"1\" class=\"dataframe\">\n",
       "  <thead>\n",
       "    <tr style=\"text-align: right;\">\n",
       "      <th></th>\n",
       "      <th>index</th>\n",
       "      <th>Description</th>\n",
       "      <th>Address1</th>\n",
       "      <th>Address2</th>\n",
       "      <th>Label</th>\n",
       "      <th>sbert_match_binary</th>\n",
       "      <th>sbert_match_binary_correct</th>\n",
       "    </tr>\n",
       "  </thead>\n",
       "  <tbody>\n",
       "    <tr>\n",
       "      <th>0</th>\n",
       "      <td>4</td>\n",
       "      <td>Incomplete address vs full address may match</td>\n",
       "      <td>1020 SW 2nd Ave, Portland</td>\n",
       "      <td>1020 SW 2nd Ave, Portland, OR 97204</td>\n",
       "      <td>1</td>\n",
       "      <td>0</td>\n",
       "      <td>False</td>\n",
       "    </tr>\n",
       "    <tr>\n",
       "      <th>1</th>\n",
       "      <td>8</td>\n",
       "      <td>Different character sets for same address shou...</td>\n",
       "      <td>北京市朝阳区建国路88号</td>\n",
       "      <td>Běijīng Shì Cháoyáng Qū Jiànguó Lù 88 Hào</td>\n",
       "      <td>1</td>\n",
       "      <td>0</td>\n",
       "      <td>False</td>\n",
       "    </tr>\n",
       "    <tr>\n",
       "      <th>2</th>\n",
       "      <td>9</td>\n",
       "      <td>Variant formats of same address should match</td>\n",
       "      <td>上海市黄浦区南京东路318号</td>\n",
       "      <td>上海黄浦南京东路318号</td>\n",
       "      <td>1</td>\n",
       "      <td>0</td>\n",
       "      <td>False</td>\n",
       "    </tr>\n",
       "    <tr>\n",
       "      <th>3</th>\n",
       "      <td>11</td>\n",
       "      <td>Formal and localized format of same address sh...</td>\n",
       "      <td>B-14, Connaught Place, New Delhi, Delhi 110001...</td>\n",
       "      <td>B-14, CP, ND, DL 110001</td>\n",
       "      <td>1</td>\n",
       "      <td>0</td>\n",
       "      <td>False</td>\n",
       "    </tr>\n",
       "    <tr>\n",
       "      <th>4</th>\n",
       "      <td>16</td>\n",
       "      <td>Different languages for same address should match</td>\n",
       "      <td>北京市东城区东长安街16号</td>\n",
       "      <td>16 Dongchang'an St, Dongcheng, Beijing, China</td>\n",
       "      <td>1</td>\n",
       "      <td>0</td>\n",
       "      <td>False</td>\n",
       "    </tr>\n",
       "    <tr>\n",
       "      <th>5</th>\n",
       "      <td>41</td>\n",
       "      <td>Different street numbers means different address</td>\n",
       "      <td>101 Oak Lane, Marietta, GA 30008</td>\n",
       "      <td>102 Oak Lane, Marietta, GA 30008</td>\n",
       "      <td>0</td>\n",
       "      <td>1</td>\n",
       "      <td>False</td>\n",
       "    </tr>\n",
       "    <tr>\n",
       "      <th>6</th>\n",
       "      <td>42</td>\n",
       "      <td>Different street names means different address</td>\n",
       "      <td>101 Market Square, Seattle, WA 98039</td>\n",
       "      <td>101 Davis Place, Seattle, WA 98039</td>\n",
       "      <td>0</td>\n",
       "      <td>1</td>\n",
       "      <td>False</td>\n",
       "    </tr>\n",
       "    <tr>\n",
       "      <th>7</th>\n",
       "      <td>44</td>\n",
       "      <td>Different cities means different address</td>\n",
       "      <td>2754 Ralph McGill Blvd, Atlanta, GA</td>\n",
       "      <td>2754 Ralph McGill Blvd, Macon, GA</td>\n",
       "      <td>0</td>\n",
       "      <td>1</td>\n",
       "      <td>False</td>\n",
       "    </tr>\n",
       "    <tr>\n",
       "      <th>8</th>\n",
       "      <td>51</td>\n",
       "      <td>Close numerical variants are different addresses</td>\n",
       "      <td>75 West 50th Street, New York, NY 10112</td>\n",
       "      <td>50 West 75th Street, New York, NY 10023</td>\n",
       "      <td>0</td>\n",
       "      <td>1</td>\n",
       "      <td>False</td>\n",
       "    </tr>\n",
       "    <tr>\n",
       "      <th>9</th>\n",
       "      <td>52</td>\n",
       "      <td>Similar road names can be different addresses</td>\n",
       "      <td>北京市朝阳区朝阳门外大街6号</td>\n",
       "      <td>北京市朝阳区朝阳门内大街6号</td>\n",
       "      <td>0</td>\n",
       "      <td>1</td>\n",
       "      <td>False</td>\n",
       "    </tr>\n",
       "    <tr>\n",
       "      <th>10</th>\n",
       "      <td>53</td>\n",
       "      <td>Similar road names can be different addresses</td>\n",
       "      <td>Běijīng Shì Cháoyáng Qū Cháoyángmén Wài Dàjiē ...</td>\n",
       "      <td>Běijīng Shì Cháoyáng Qū Cháoyángmén Nèi Dàjiē ...</td>\n",
       "      <td>0</td>\n",
       "      <td>1</td>\n",
       "      <td>False</td>\n",
       "    </tr>\n",
       "    <tr>\n",
       "      <th>11</th>\n",
       "      <td>55</td>\n",
       "      <td>Similar but different building names means dif...</td>\n",
       "      <td>Shànghǎi Shì Xúhuì Qū Zhōngshān Xī Lù 200 Hào</td>\n",
       "      <td>Shànghǎi Shì Chángníng Qū Zhōngshān Xī Lù 200 Hào</td>\n",
       "      <td>0</td>\n",
       "      <td>1</td>\n",
       "      <td>False</td>\n",
       "    </tr>\n",
       "    <tr>\n",
       "      <th>12</th>\n",
       "      <td>58</td>\n",
       "      <td>Missing street suffix can mean different address</td>\n",
       "      <td>1020 SW 2nd, Portland, OR 97204</td>\n",
       "      <td>1020 SW 2nd Ave, Portland, OR 97204</td>\n",
       "      <td>0</td>\n",
       "      <td>1</td>\n",
       "      <td>False</td>\n",
       "    </tr>\n",
       "    <tr>\n",
       "      <th>13</th>\n",
       "      <td>59</td>\n",
       "      <td>Missing postal code can mean different address</td>\n",
       "      <td>Bouillon Racine: 3, rue Racine, 75006 Paris</td>\n",
       "      <td>Bouillon Racine: 3, rue Racine, Paris</td>\n",
       "      <td>0</td>\n",
       "      <td>1</td>\n",
       "      <td>False</td>\n",
       "    </tr>\n",
       "    <tr>\n",
       "      <th>14</th>\n",
       "      <td>63</td>\n",
       "      <td>Different street suffixes means different address</td>\n",
       "      <td>123 Main St, Springfield, IL</td>\n",
       "      <td>123 Main Ave, Springfield, IL</td>\n",
       "      <td>0</td>\n",
       "      <td>1</td>\n",
       "      <td>False</td>\n",
       "    </tr>\n",
       "    <tr>\n",
       "      <th>15</th>\n",
       "      <td>67</td>\n",
       "      <td>Different street numbers means different address</td>\n",
       "      <td>Unter den Linden 4, 10117 Berlin, Germany</td>\n",
       "      <td>Unter den Linden 5, 10117 Berlin, Germany</td>\n",
       "      <td>0</td>\n",
       "      <td>1</td>\n",
       "      <td>False</td>\n",
       "    </tr>\n",
       "    <tr>\n",
       "      <th>16</th>\n",
       "      <td>68</td>\n",
       "      <td>Different street numbers means different address</td>\n",
       "      <td>Avenida Paulista 1000, Bela Vista, São Paulo -...</td>\n",
       "      <td>Avenida Paulista 200, Bela Vista, São Paulo - ...</td>\n",
       "      <td>0</td>\n",
       "      <td>1</td>\n",
       "      <td>False</td>\n",
       "    </tr>\n",
       "    <tr>\n",
       "      <th>17</th>\n",
       "      <td>71</td>\n",
       "      <td>Different addresses in the same country that d...</td>\n",
       "      <td>1234 Manor Plaza, Pacifica, CA 94044</td>\n",
       "      <td>1234 Bly Manor, Pacific Heights, WA 98003</td>\n",
       "      <td>0</td>\n",
       "      <td>1</td>\n",
       "      <td>False</td>\n",
       "    </tr>\n",
       "  </tbody>\n",
       "</table>\n",
       "</div>"
      ],
      "text/plain": [
       "    index                                        Description  \\\n",
       "0       4       Incomplete address vs full address may match   \n",
       "1       8  Different character sets for same address shou...   \n",
       "2       9       Variant formats of same address should match   \n",
       "3      11  Formal and localized format of same address sh...   \n",
       "4      16  Different languages for same address should match   \n",
       "5      41   Different street numbers means different address   \n",
       "6      42     Different street names means different address   \n",
       "7      44           Different cities means different address   \n",
       "8      51   Close numerical variants are different addresses   \n",
       "9      52      Similar road names can be different addresses   \n",
       "10     53      Similar road names can be different addresses   \n",
       "11     55  Similar but different building names means dif...   \n",
       "12     58   Missing street suffix can mean different address   \n",
       "13     59     Missing postal code can mean different address   \n",
       "14     63  Different street suffixes means different address   \n",
       "15     67   Different street numbers means different address   \n",
       "16     68   Different street numbers means different address   \n",
       "17     71  Different addresses in the same country that d...   \n",
       "\n",
       "                                             Address1  \\\n",
       "0                           1020 SW 2nd Ave, Portland   \n",
       "1                                        北京市朝阳区建国路88号   \n",
       "2                                      上海市黄浦区南京东路318号   \n",
       "3   B-14, Connaught Place, New Delhi, Delhi 110001...   \n",
       "4                                       北京市东城区东长安街16号   \n",
       "5                    101 Oak Lane, Marietta, GA 30008   \n",
       "6                101 Market Square, Seattle, WA 98039   \n",
       "7                 2754 Ralph McGill Blvd, Atlanta, GA   \n",
       "8             75 West 50th Street, New York, NY 10112   \n",
       "9                                      北京市朝阳区朝阳门外大街6号   \n",
       "10  Běijīng Shì Cháoyáng Qū Cháoyángmén Wài Dàjiē ...   \n",
       "11      Shànghǎi Shì Xúhuì Qū Zhōngshān Xī Lù 200 Hào   \n",
       "12                    1020 SW 2nd, Portland, OR 97204   \n",
       "13        Bouillon Racine: 3, rue Racine, 75006 Paris   \n",
       "14                       123 Main St, Springfield, IL   \n",
       "15          Unter den Linden 4, 10117 Berlin, Germany   \n",
       "16  Avenida Paulista 1000, Bela Vista, São Paulo -...   \n",
       "17               1234 Manor Plaza, Pacifica, CA 94044   \n",
       "\n",
       "                                             Address2  Label  \\\n",
       "0                 1020 SW 2nd Ave, Portland, OR 97204      1   \n",
       "1           Běijīng Shì Cháoyáng Qū Jiànguó Lù 88 Hào      1   \n",
       "2                                        上海黄浦南京东路318号      1   \n",
       "3                             B-14, CP, ND, DL 110001      1   \n",
       "4       16 Dongchang'an St, Dongcheng, Beijing, China      1   \n",
       "5                    102 Oak Lane, Marietta, GA 30008      0   \n",
       "6                  101 Davis Place, Seattle, WA 98039      0   \n",
       "7                   2754 Ralph McGill Blvd, Macon, GA      0   \n",
       "8             50 West 75th Street, New York, NY 10023      0   \n",
       "9                                      北京市朝阳区朝阳门内大街6号      0   \n",
       "10  Běijīng Shì Cháoyáng Qū Cháoyángmén Nèi Dàjiē ...      0   \n",
       "11  Shànghǎi Shì Chángníng Qū Zhōngshān Xī Lù 200 Hào      0   \n",
       "12                1020 SW 2nd Ave, Portland, OR 97204      0   \n",
       "13              Bouillon Racine: 3, rue Racine, Paris      0   \n",
       "14                      123 Main Ave, Springfield, IL      0   \n",
       "15          Unter den Linden 5, 10117 Berlin, Germany      0   \n",
       "16  Avenida Paulista 200, Bela Vista, São Paulo - ...      0   \n",
       "17          1234 Bly Manor, Pacific Heights, WA 98003      0   \n",
       "\n",
       "    sbert_match_binary  sbert_match_binary_correct  \n",
       "0                    0                       False  \n",
       "1                    0                       False  \n",
       "2                    0                       False  \n",
       "3                    0                       False  \n",
       "4                    0                       False  \n",
       "5                    1                       False  \n",
       "6                    1                       False  \n",
       "7                    1                       False  \n",
       "8                    1                       False  \n",
       "9                    1                       False  \n",
       "10                   1                       False  \n",
       "11                   1                       False  \n",
       "12                   1                       False  \n",
       "13                   1                       False  \n",
       "14                   1                       False  \n",
       "15                   1                       False  \n",
       "16                   1                       False  \n",
       "17                   1                       False  "
      ]
     },
     "execution_count": 53,
     "metadata": {},
     "output_type": "execute_result"
    }
   ],
   "source": [
    "# Error analysis\n",
    "wrong_df = raw_df[raw_df[\"sbert_match_binary_correct\"] == False].reset_index()\n",
    "print(f\"Number wrong: {len(wrong_df):,}\")\n",
    "\n",
    "wrong_df.head(20)"
   ]
  },
  {
   "cell_type": "markdown",
   "id": "f67998e4-9729-4831-993d-aca757f9aa8c",
   "metadata": {},
   "source": [
    "## Structured Address Matching with Libpostal, PyTorch and `Sentence-BERT`\n",
    "\n",
    "Our next strategy will be to parse the addresses using Libpostal and then to encode them in a way that perserves the parsed staructure. Libposstal lowercases the address parts it produces, so we need to train a lowercase `SentenceTransformer` model. We will then load the weights of this pre-trained model as the embedding layers of a deep network architecture called `SentenceBERT` to build a classifier for pairs of addresses that can achieve better performance than fine-tuned sentence transformers and cosine similarity alone."
   ]
  },
  {
   "cell_type": "markdown",
   "id": "0715a288-d141-474a-a5f8-f5cbb7e0bd9a",
   "metadata": {},
   "source": [
    "### Fine-Tuning a Lowercase `SentenceTransformer`\n",
    "\n",
    "My first pass at this method did not work whatsoever - the performance of the matcher was abysmal. This was because Libpostal *lowercases* addresses when it parses them, and I did NOT do that to the training data on a first pass :) Once I did that and retrained below - things worked much better!"
   ]
  },
  {
   "cell_type": "markdown",
   "id": "7aeb24d9-ef8c-4f39-a709-8630c749a809",
   "metadata": {},
   "source": [
    "#### Lowercase our Dataset"
   ]
  },
  {
   "cell_type": "code",
   "execution_count": 54,
   "id": "ef2c3ad6-8418-4fdc-98aa-e4187b648020",
   "metadata": {},
   "outputs": [],
   "source": [
    "lower_augment_results_df = augment_results_df.copy(deep=True)\n",
    "\n",
    "lower_augment_results_df[\"Address1\"] = lower_augment_results_df[\"Address1\"].str.lower()\n",
    "lower_augment_results_df[\"Address2\"] = lower_augment_results_df[\"Address2\"].str.lower()"
   ]
  },
  {
   "cell_type": "code",
   "execution_count": 55,
   "id": "5c4cb876-ea2c-4133-a2ee-f4dbb635b132",
   "metadata": {},
   "outputs": [
    {
     "name": "stdout",
     "output_type": "stream",
     "text": [
      "Training data:   8,024\n",
      "Validation data: 1,003\n",
      "Test data        1,003\n"
     ]
    }
   ],
   "source": [
    "train_df, tmp_df = train_test_split(lower_augment_results_df, test_size=0.2, shuffle=True)\n",
    "eval_df, test_df = train_test_split(tmp_df, test_size=0.5, random_state=42, shuffle=True)\n",
    "\n",
    "train_dataset = Dataset.from_dict({\n",
    "    \"sentence1\": train_df[\"Address1\"].tolist(),\n",
    "    \"sentence2\": train_df[\"Address2\"].tolist(),\n",
    "    \"label\": train_df[\"Label\"].tolist(),\n",
    "})\n",
    "\n",
    "eval_dataset = Dataset.from_dict({\n",
    "    \"sentence1\": eval_df[\"Address1\"].tolist(),\n",
    "    \"sentence2\": eval_df[\"Address2\"].tolist(),\n",
    "    \"label\": eval_df[\"Label\"].tolist(),\n",
    "})\n",
    "\n",
    "test_dataset = Dataset.from_dict({\n",
    "    \"sentence1\": test_df[\"Address1\"].tolist(),\n",
    "    \"sentence2\": test_df[\"Address2\"].tolist(),\n",
    "    \"label\": test_df[\"Label\"].tolist(),\n",
    "})\n",
    "\n",
    "print(f\"Training data:   {len(train_df):,}\")\n",
    "print(f\"Validation data: {len(eval_df):,}\")\n",
    "print(f\"Test data        {len(eval_df):,}\")"
   ]
  },
  {
   "cell_type": "code",
   "execution_count": 110,
   "id": "b0af638c-048c-47a1-98bd-bdc670d9f377",
   "metadata": {},
   "outputs": [],
   "source": [
    "SBERT_MODEL_LOWER = \"sentence-transformers/paraphrase-multilingual-MiniLM-L12-v2\"\n",
    "VARIANT = \"lowercase\"\n",
    "LOWER_MODEL_SAVE_NAME = (SBERT_MODEL_LOWER + \"-\" + VARIANT).replace(\"/\", \"-\")\n",
    "\n",
    "# Make sure these match the values in the data augmentation notebook for accurate loggging and reporting\n",
    "CLONES_PER_RUN = 100\n",
    "RUNS_PER_EXAMPLE = 2\n",
    "\n",
    "EPOCHS = 6\n",
    "BATCH_SIZE = 32\n",
    "PATIENCE = 2\n",
    "LEARNING_RATE = .00005\n",
    "DATASET_MULTIPLE = CLONES_PER_RUN * RUNS_PER_EXAMPLE\n",
    "SBERT_LOWER_OUTPUT_FOLDER = f\"data/fine-tuned-sbert-{LOWER_MODEL_SAVE_NAME}\"\n",
    "SAVE_EVAL_STEPS = 100"
   ]
  },
  {
   "cell_type": "code",
   "execution_count": 57,
   "id": "450ff10b-99ce-4853-bcd2-37c17e4eb2f6",
   "metadata": {},
   "outputs": [
    {
     "data": {
      "text/html": [
       "Tracking run with wandb version 0.17.0"
      ],
      "text/plain": [
       "<IPython.core.display.HTML object>"
      ]
     },
     "metadata": {},
     "output_type": "display_data"
    },
    {
     "data": {
      "text/html": [
       "W&B syncing is set to <code>`offline`<code> in this directory.  <br/>Run <code>`wandb online`<code> or set <code>WANDB_MODE=online<code> to enable cloud syncing."
      ],
      "text/plain": [
       "<IPython.core.display.HTML object>"
      ]
     },
     "metadata": {},
     "output_type": "display_data"
    },
    {
     "data": {
      "text/html": [
       "<button onClick=\"this.nextSibling.style.display='block';this.style.display='none';\">Display W&B run</button><iframe src='https://wandb.ai/rjurney/libpostal-reborn/runs/qddhg33v?jupyter=true' style='border:none;width:100%;height:420px;display:none;'></iframe>"
      ],
      "text/plain": [
       "<wandb.sdk.wandb_run.Run at 0x86be67310>"
      ]
     },
     "execution_count": 57,
     "metadata": {},
     "output_type": "execute_result"
    }
   ],
   "source": [
    "# Initialize Weights & Biases\n",
    "wandb.init(\n",
    "    entity=\"rjurney\",\n",
    "    # set the wandb project where this run will be logged\n",
    "    project=\"libpostal-reborn\",\n",
    "    # track hyperparameters and run metadata\n",
    "    config={\n",
    "        \"variant\": VARIANT,\n",
    "        \"dataset_multiple\": DATASET_MULTIPLE,\n",
    "        \"epochs\": EPOCHS,\n",
    "        \"batch_size\": BATCH_SIZE,\n",
    "        \"patience\": PATIENCE,\n",
    "        \"learning_rate\": LEARNING_RATE,\n",
    "        \"sbert_model\": SBERT_MODEL_LOWER,\n",
    "        \"model_save_name\": LOWER_MODEL_SAVE_NAME,\n",
    "        \"sbert_output_folder\": SBERT_LOWER_OUTPUT_FOLDER,\n",
    "        \"save_eval_steps\": SAVE_EVAL_STEPS,\n",
    "    },\n",
    "    save_code=True,\n",
    ")"
   ]
  },
  {
   "cell_type": "code",
   "execution_count": 58,
   "id": "adc7965c-5619-44a2-a07f-9646078db1dd",
   "metadata": {},
   "outputs": [],
   "source": [
    "sbert_model_lower = SentenceTransformer(\n",
    "    SBERT_MODEL_LOWER,\n",
    "    device=device,\n",
    "    model_card_data=SentenceTransformerModelCardData(\n",
    "        language=\"en\",\n",
    "        license=\"apache-2.0\",\n",
    "        model_name=f\"{SBERT_MODEL_LOWER}-address-matcher-{VARIANT}\",\n",
    "    ),\n",
    ")"
   ]
  },
  {
   "cell_type": "code",
   "execution_count": 59,
   "id": "e05ff3a5-111d-4f1b-bdaa-2fc4c5859346",
   "metadata": {},
   "outputs": [
    {
     "data": {
      "text/html": [
       "<div>\n",
       "<style scoped>\n",
       "    .dataframe tbody tr th:only-of-type {\n",
       "        vertical-align: middle;\n",
       "    }\n",
       "\n",
       "    .dataframe tbody tr th {\n",
       "        vertical-align: top;\n",
       "    }\n",
       "\n",
       "    .dataframe thead th {\n",
       "        text-align: right;\n",
       "    }\n",
       "</style>\n",
       "<table border=\"1\" class=\"dataframe\">\n",
       "  <thead>\n",
       "    <tr style=\"text-align: right;\">\n",
       "      <th></th>\n",
       "      <th>paraphrase-multilingual-MiniLM-L12-v2_cosine_accuracy</th>\n",
       "      <th>paraphrase-multilingual-MiniLM-L12-v2_cosine_accuracy_threshold</th>\n",
       "      <th>paraphrase-multilingual-MiniLM-L12-v2_cosine_f1</th>\n",
       "      <th>paraphrase-multilingual-MiniLM-L12-v2_cosine_f1_threshold</th>\n",
       "      <th>paraphrase-multilingual-MiniLM-L12-v2_cosine_precision</th>\n",
       "      <th>paraphrase-multilingual-MiniLM-L12-v2_cosine_recall</th>\n",
       "      <th>paraphrase-multilingual-MiniLM-L12-v2_cosine_ap</th>\n",
       "      <th>paraphrase-multilingual-MiniLM-L12-v2_dot_accuracy</th>\n",
       "      <th>paraphrase-multilingual-MiniLM-L12-v2_dot_accuracy_threshold</th>\n",
       "      <th>paraphrase-multilingual-MiniLM-L12-v2_dot_f1</th>\n",
       "      <th>paraphrase-multilingual-MiniLM-L12-v2_dot_f1_threshold</th>\n",
       "      <th>paraphrase-multilingual-MiniLM-L12-v2_dot_precision</th>\n",
       "      <th>paraphrase-multilingual-MiniLM-L12-v2_dot_recall</th>\n",
       "      <th>paraphrase-multilingual-MiniLM-L12-v2_dot_ap</th>\n",
       "      <th>paraphrase-multilingual-MiniLM-L12-v2_manhattan_accuracy</th>\n",
       "      <th>paraphrase-multilingual-MiniLM-L12-v2_manhattan_accuracy_threshold</th>\n",
       "      <th>paraphrase-multilingual-MiniLM-L12-v2_manhattan_f1</th>\n",
       "      <th>paraphrase-multilingual-MiniLM-L12-v2_manhattan_f1_threshold</th>\n",
       "      <th>paraphrase-multilingual-MiniLM-L12-v2_manhattan_precision</th>\n",
       "      <th>paraphrase-multilingual-MiniLM-L12-v2_manhattan_recall</th>\n",
       "      <th>paraphrase-multilingual-MiniLM-L12-v2_manhattan_ap</th>\n",
       "      <th>paraphrase-multilingual-MiniLM-L12-v2_euclidean_accuracy</th>\n",
       "      <th>paraphrase-multilingual-MiniLM-L12-v2_euclidean_accuracy_threshold</th>\n",
       "      <th>paraphrase-multilingual-MiniLM-L12-v2_euclidean_f1</th>\n",
       "      <th>paraphrase-multilingual-MiniLM-L12-v2_euclidean_f1_threshold</th>\n",
       "      <th>paraphrase-multilingual-MiniLM-L12-v2_euclidean_precision</th>\n",
       "      <th>paraphrase-multilingual-MiniLM-L12-v2_euclidean_recall</th>\n",
       "      <th>paraphrase-multilingual-MiniLM-L12-v2_euclidean_ap</th>\n",
       "      <th>paraphrase-multilingual-MiniLM-L12-v2_max_accuracy</th>\n",
       "      <th>paraphrase-multilingual-MiniLM-L12-v2_max_accuracy_threshold</th>\n",
       "      <th>paraphrase-multilingual-MiniLM-L12-v2_max_f1</th>\n",
       "      <th>paraphrase-multilingual-MiniLM-L12-v2_max_f1_threshold</th>\n",
       "      <th>paraphrase-multilingual-MiniLM-L12-v2_max_precision</th>\n",
       "      <th>paraphrase-multilingual-MiniLM-L12-v2_max_recall</th>\n",
       "      <th>paraphrase-multilingual-MiniLM-L12-v2_max_ap</th>\n",
       "    </tr>\n",
       "  </thead>\n",
       "  <tbody>\n",
       "    <tr>\n",
       "      <th>0</th>\n",
       "      <td>0.555334</td>\n",
       "      <td>0.567152</td>\n",
       "      <td>0.693681</td>\n",
       "      <td>0.567152</td>\n",
       "      <td>0.533263</td>\n",
       "      <td>0.992141</td>\n",
       "      <td>0.455509</td>\n",
       "      <td>0.562313</td>\n",
       "      <td>19.140213</td>\n",
       "      <td>0.681052</td>\n",
       "      <td>7.704104</td>\n",
       "      <td>0.51848</td>\n",
       "      <td>0.992141</td>\n",
       "      <td>0.613211</td>\n",
       "      <td>0.55334</td>\n",
       "      <td>64.059975</td>\n",
       "      <td>0.693933</td>\n",
       "      <td>70.435303</td>\n",
       "      <td>0.531315</td>\n",
       "      <td>1.0</td>\n",
       "      <td>0.446949</td>\n",
       "      <td>0.554337</td>\n",
       "      <td>4.026285</td>\n",
       "      <td>0.693096</td>\n",
       "      <td>4.260106</td>\n",
       "      <td>0.531447</td>\n",
       "      <td>0.996071</td>\n",
       "      <td>0.447554</td>\n",
       "      <td>0.562313</td>\n",
       "      <td>64.059975</td>\n",
       "      <td>0.693933</td>\n",
       "      <td>70.435303</td>\n",
       "      <td>0.533263</td>\n",
       "      <td>1.0</td>\n",
       "      <td>0.613211</td>\n",
       "    </tr>\n",
       "  </tbody>\n",
       "</table>\n",
       "</div>"
      ],
      "text/plain": [
       "   paraphrase-multilingual-MiniLM-L12-v2_cosine_accuracy  \\\n",
       "0                                           0.555334       \n",
       "\n",
       "   paraphrase-multilingual-MiniLM-L12-v2_cosine_accuracy_threshold  \\\n",
       "0                                           0.567152                 \n",
       "\n",
       "   paraphrase-multilingual-MiniLM-L12-v2_cosine_f1  \\\n",
       "0                                         0.693681   \n",
       "\n",
       "   paraphrase-multilingual-MiniLM-L12-v2_cosine_f1_threshold  \\\n",
       "0                                           0.567152           \n",
       "\n",
       "   paraphrase-multilingual-MiniLM-L12-v2_cosine_precision  \\\n",
       "0                                           0.533263        \n",
       "\n",
       "   paraphrase-multilingual-MiniLM-L12-v2_cosine_recall  \\\n",
       "0                                           0.992141     \n",
       "\n",
       "   paraphrase-multilingual-MiniLM-L12-v2_cosine_ap  \\\n",
       "0                                         0.455509   \n",
       "\n",
       "   paraphrase-multilingual-MiniLM-L12-v2_dot_accuracy  \\\n",
       "0                                           0.562313    \n",
       "\n",
       "   paraphrase-multilingual-MiniLM-L12-v2_dot_accuracy_threshold  \\\n",
       "0                                          19.140213              \n",
       "\n",
       "   paraphrase-multilingual-MiniLM-L12-v2_dot_f1  \\\n",
       "0                                      0.681052   \n",
       "\n",
       "   paraphrase-multilingual-MiniLM-L12-v2_dot_f1_threshold  \\\n",
       "0                                           7.704104        \n",
       "\n",
       "   paraphrase-multilingual-MiniLM-L12-v2_dot_precision  \\\n",
       "0                                            0.51848     \n",
       "\n",
       "   paraphrase-multilingual-MiniLM-L12-v2_dot_recall  \\\n",
       "0                                          0.992141   \n",
       "\n",
       "   paraphrase-multilingual-MiniLM-L12-v2_dot_ap  \\\n",
       "0                                      0.613211   \n",
       "\n",
       "   paraphrase-multilingual-MiniLM-L12-v2_manhattan_accuracy  \\\n",
       "0                                            0.55334          \n",
       "\n",
       "   paraphrase-multilingual-MiniLM-L12-v2_manhattan_accuracy_threshold  \\\n",
       "0                                          64.059975                    \n",
       "\n",
       "   paraphrase-multilingual-MiniLM-L12-v2_manhattan_f1  \\\n",
       "0                                           0.693933    \n",
       "\n",
       "   paraphrase-multilingual-MiniLM-L12-v2_manhattan_f1_threshold  \\\n",
       "0                                          70.435303              \n",
       "\n",
       "   paraphrase-multilingual-MiniLM-L12-v2_manhattan_precision  \\\n",
       "0                                           0.531315           \n",
       "\n",
       "   paraphrase-multilingual-MiniLM-L12-v2_manhattan_recall  \\\n",
       "0                                                1.0        \n",
       "\n",
       "   paraphrase-multilingual-MiniLM-L12-v2_manhattan_ap  \\\n",
       "0                                           0.446949    \n",
       "\n",
       "   paraphrase-multilingual-MiniLM-L12-v2_euclidean_accuracy  \\\n",
       "0                                           0.554337          \n",
       "\n",
       "   paraphrase-multilingual-MiniLM-L12-v2_euclidean_accuracy_threshold  \\\n",
       "0                                           4.026285                    \n",
       "\n",
       "   paraphrase-multilingual-MiniLM-L12-v2_euclidean_f1  \\\n",
       "0                                           0.693096    \n",
       "\n",
       "   paraphrase-multilingual-MiniLM-L12-v2_euclidean_f1_threshold  \\\n",
       "0                                           4.260106              \n",
       "\n",
       "   paraphrase-multilingual-MiniLM-L12-v2_euclidean_precision  \\\n",
       "0                                           0.531447           \n",
       "\n",
       "   paraphrase-multilingual-MiniLM-L12-v2_euclidean_recall  \\\n",
       "0                                           0.996071        \n",
       "\n",
       "   paraphrase-multilingual-MiniLM-L12-v2_euclidean_ap  \\\n",
       "0                                           0.447554    \n",
       "\n",
       "   paraphrase-multilingual-MiniLM-L12-v2_max_accuracy  \\\n",
       "0                                           0.562313    \n",
       "\n",
       "   paraphrase-multilingual-MiniLM-L12-v2_max_accuracy_threshold  \\\n",
       "0                                          64.059975              \n",
       "\n",
       "   paraphrase-multilingual-MiniLM-L12-v2_max_f1  \\\n",
       "0                                      0.693933   \n",
       "\n",
       "   paraphrase-multilingual-MiniLM-L12-v2_max_f1_threshold  \\\n",
       "0                                          70.435303        \n",
       "\n",
       "   paraphrase-multilingual-MiniLM-L12-v2_max_precision  \\\n",
       "0                                           0.533263     \n",
       "\n",
       "   paraphrase-multilingual-MiniLM-L12-v2_max_recall  \\\n",
       "0                                               1.0   \n",
       "\n",
       "   paraphrase-multilingual-MiniLM-L12-v2_max_ap  \n",
       "0                                      0.613211  "
      ]
     },
     "execution_count": 59,
     "metadata": {},
     "output_type": "execute_result"
    }
   ],
   "source": [
    "# Initialize the evaluator\n",
    "binary_acc_evaluator = BinaryClassificationEvaluator(\n",
    "    sentences1=eval_dataset[\"sentence1\"],\n",
    "    sentences2=eval_dataset[\"sentence2\"],\n",
    "    labels=eval_dataset[\"label\"],\n",
    "    name=SBERT_MODEL_LOWER,\n",
    ")\n",
    "pd.DataFrame([binary_acc_evaluator(sbert_model_lower)])"
   ]
  },
  {
   "cell_type": "code",
   "execution_count": 60,
   "id": "16800ca1-1f40-40de-9299-f8e88b0ee2fc",
   "metadata": {},
   "outputs": [
    {
     "data": {
      "text/html": [
       "\n",
       "    <div>\n",
       "      \n",
       "      <progress value='64' max='32' style='width:300px; height:20px; vertical-align: middle;'></progress>\n",
       "      [32/32 00:15]\n",
       "    </div>\n",
       "    "
      ],
      "text/plain": [
       "<IPython.core.display.HTML object>"
      ]
     },
     "metadata": {},
     "output_type": "display_data"
    },
    {
     "data": {
      "text/html": [
       "\n",
       "    <div>\n",
       "      \n",
       "      <progress value='1506' max='1506' style='width:300px; height:20px; vertical-align: middle;'></progress>\n",
       "      [1506/1506 18:30:20, Epoch 6/6]\n",
       "    </div>\n",
       "    <table border=\"1\" class=\"dataframe\">\n",
       "  <thead>\n",
       " <tr style=\"text-align: left;\">\n",
       "      <th>Step</th>\n",
       "      <th>Training Loss</th>\n",
       "      <th>Validation Loss</th>\n",
       "      <th>Paraphrase-multilingual-minilm-l12-v2 Cosine Accuracy</th>\n",
       "      <th>Paraphrase-multilingual-minilm-l12-v2 Cosine Accuracy Threshold</th>\n",
       "      <th>Paraphrase-multilingual-minilm-l12-v2 Cosine F1</th>\n",
       "      <th>Paraphrase-multilingual-minilm-l12-v2 Cosine F1 Threshold</th>\n",
       "      <th>Paraphrase-multilingual-minilm-l12-v2 Cosine Precision</th>\n",
       "      <th>Paraphrase-multilingual-minilm-l12-v2 Cosine Recall</th>\n",
       "      <th>Paraphrase-multilingual-minilm-l12-v2 Cosine Ap</th>\n",
       "      <th>Paraphrase-multilingual-minilm-l12-v2 Dot Accuracy</th>\n",
       "      <th>Paraphrase-multilingual-minilm-l12-v2 Dot Accuracy Threshold</th>\n",
       "      <th>Paraphrase-multilingual-minilm-l12-v2 Dot F1</th>\n",
       "      <th>Paraphrase-multilingual-minilm-l12-v2 Dot F1 Threshold</th>\n",
       "      <th>Paraphrase-multilingual-minilm-l12-v2 Dot Precision</th>\n",
       "      <th>Paraphrase-multilingual-minilm-l12-v2 Dot Recall</th>\n",
       "      <th>Paraphrase-multilingual-minilm-l12-v2 Dot Ap</th>\n",
       "      <th>Paraphrase-multilingual-minilm-l12-v2 Manhattan Accuracy</th>\n",
       "      <th>Paraphrase-multilingual-minilm-l12-v2 Manhattan Accuracy Threshold</th>\n",
       "      <th>Paraphrase-multilingual-minilm-l12-v2 Manhattan F1</th>\n",
       "      <th>Paraphrase-multilingual-minilm-l12-v2 Manhattan F1 Threshold</th>\n",
       "      <th>Paraphrase-multilingual-minilm-l12-v2 Manhattan Precision</th>\n",
       "      <th>Paraphrase-multilingual-minilm-l12-v2 Manhattan Recall</th>\n",
       "      <th>Paraphrase-multilingual-minilm-l12-v2 Manhattan Ap</th>\n",
       "      <th>Paraphrase-multilingual-minilm-l12-v2 Euclidean Accuracy</th>\n",
       "      <th>Paraphrase-multilingual-minilm-l12-v2 Euclidean Accuracy Threshold</th>\n",
       "      <th>Paraphrase-multilingual-minilm-l12-v2 Euclidean F1</th>\n",
       "      <th>Paraphrase-multilingual-minilm-l12-v2 Euclidean F1 Threshold</th>\n",
       "      <th>Paraphrase-multilingual-minilm-l12-v2 Euclidean Precision</th>\n",
       "      <th>Paraphrase-multilingual-minilm-l12-v2 Euclidean Recall</th>\n",
       "      <th>Paraphrase-multilingual-minilm-l12-v2 Euclidean Ap</th>\n",
       "      <th>Paraphrase-multilingual-minilm-l12-v2 Max Accuracy</th>\n",
       "      <th>Paraphrase-multilingual-minilm-l12-v2 Max Accuracy Threshold</th>\n",
       "      <th>Paraphrase-multilingual-minilm-l12-v2 Max F1</th>\n",
       "      <th>Paraphrase-multilingual-minilm-l12-v2 Max F1 Threshold</th>\n",
       "      <th>Paraphrase-multilingual-minilm-l12-v2 Max Precision</th>\n",
       "      <th>Paraphrase-multilingual-minilm-l12-v2 Max Recall</th>\n",
       "      <th>Paraphrase-multilingual-minilm-l12-v2 Max Ap</th>\n",
       "    </tr>\n",
       "  </thead>\n",
       "  <tbody>\n",
       "    <tr>\n",
       "      <td>100</td>\n",
       "      <td>No log</td>\n",
       "      <td>0.030212</td>\n",
       "      <td>0.715852</td>\n",
       "      <td>0.847625</td>\n",
       "      <td>0.765714</td>\n",
       "      <td>0.834917</td>\n",
       "      <td>0.655028</td>\n",
       "      <td>0.921415</td>\n",
       "      <td>0.714015</td>\n",
       "      <td>0.710867</td>\n",
       "      <td>11.413273</td>\n",
       "      <td>0.749810</td>\n",
       "      <td>8.911700</td>\n",
       "      <td>0.611663</td>\n",
       "      <td>0.968566</td>\n",
       "      <td>0.780366</td>\n",
       "      <td>0.678963</td>\n",
       "      <td>27.534462</td>\n",
       "      <td>0.734959</td>\n",
       "      <td>35.465202</td>\n",
       "      <td>0.626907</td>\n",
       "      <td>0.888016</td>\n",
       "      <td>0.674622</td>\n",
       "      <td>0.681954</td>\n",
       "      <td>1.663839</td>\n",
       "      <td>0.734095</td>\n",
       "      <td>2.264982</td>\n",
       "      <td>0.627615</td>\n",
       "      <td>0.884086</td>\n",
       "      <td>0.674834</td>\n",
       "      <td>0.715852</td>\n",
       "      <td>27.534462</td>\n",
       "      <td>0.765714</td>\n",
       "      <td>35.465202</td>\n",
       "      <td>0.655028</td>\n",
       "      <td>0.968566</td>\n",
       "      <td>0.780366</td>\n",
       "    </tr>\n",
       "    <tr>\n",
       "      <td>200</td>\n",
       "      <td>No log</td>\n",
       "      <td>0.019866</td>\n",
       "      <td>0.846461</td>\n",
       "      <td>0.885115</td>\n",
       "      <td>0.859964</td>\n",
       "      <td>0.862654</td>\n",
       "      <td>0.791736</td>\n",
       "      <td>0.941061</td>\n",
       "      <td>0.905713</td>\n",
       "      <td>0.826520</td>\n",
       "      <td>11.561298</td>\n",
       "      <td>0.838590</td>\n",
       "      <td>11.561298</td>\n",
       "      <td>0.794376</td>\n",
       "      <td>0.888016</td>\n",
       "      <td>0.897642</td>\n",
       "      <td>0.792622</td>\n",
       "      <td>27.062595</td>\n",
       "      <td>0.804878</td>\n",
       "      <td>28.744324</td>\n",
       "      <td>0.770197</td>\n",
       "      <td>0.842829</td>\n",
       "      <td>0.848945</td>\n",
       "      <td>0.791625</td>\n",
       "      <td>1.808063</td>\n",
       "      <td>0.802733</td>\n",
       "      <td>2.212023</td>\n",
       "      <td>0.709970</td>\n",
       "      <td>0.923379</td>\n",
       "      <td>0.850515</td>\n",
       "      <td>0.846461</td>\n",
       "      <td>27.062595</td>\n",
       "      <td>0.859964</td>\n",
       "      <td>28.744324</td>\n",
       "      <td>0.794376</td>\n",
       "      <td>0.941061</td>\n",
       "      <td>0.905713</td>\n",
       "    </tr>\n",
       "    <tr>\n",
       "      <td>300</td>\n",
       "      <td>No log</td>\n",
       "      <td>0.012056</td>\n",
       "      <td>0.936191</td>\n",
       "      <td>0.908260</td>\n",
       "      <td>0.937008</td>\n",
       "      <td>0.908260</td>\n",
       "      <td>0.938856</td>\n",
       "      <td>0.935167</td>\n",
       "      <td>0.969388</td>\n",
       "      <td>0.847458</td>\n",
       "      <td>16.048708</td>\n",
       "      <td>0.844985</td>\n",
       "      <td>16.048708</td>\n",
       "      <td>0.872385</td>\n",
       "      <td>0.819253</td>\n",
       "      <td>0.929842</td>\n",
       "      <td>0.900299</td>\n",
       "      <td>33.792717</td>\n",
       "      <td>0.906542</td>\n",
       "      <td>33.792717</td>\n",
       "      <td>0.864528</td>\n",
       "      <td>0.952849</td>\n",
       "      <td>0.948414</td>\n",
       "      <td>0.900299</td>\n",
       "      <td>1.922542</td>\n",
       "      <td>0.906191</td>\n",
       "      <td>2.151252</td>\n",
       "      <td>0.867145</td>\n",
       "      <td>0.948919</td>\n",
       "      <td>0.949412</td>\n",
       "      <td>0.936191</td>\n",
       "      <td>33.792717</td>\n",
       "      <td>0.937008</td>\n",
       "      <td>33.792717</td>\n",
       "      <td>0.938856</td>\n",
       "      <td>0.952849</td>\n",
       "      <td>0.969388</td>\n",
       "    </tr>\n",
       "    <tr>\n",
       "      <td>400</td>\n",
       "      <td>No log</td>\n",
       "      <td>0.007846</td>\n",
       "      <td>0.957129</td>\n",
       "      <td>0.895144</td>\n",
       "      <td>0.958534</td>\n",
       "      <td>0.870115</td>\n",
       "      <td>0.941288</td>\n",
       "      <td>0.976424</td>\n",
       "      <td>0.984107</td>\n",
       "      <td>0.884347</td>\n",
       "      <td>13.914339</td>\n",
       "      <td>0.885090</td>\n",
       "      <td>12.719081</td>\n",
       "      <td>0.856618</td>\n",
       "      <td>0.915521</td>\n",
       "      <td>0.958312</td>\n",
       "      <td>0.925224</td>\n",
       "      <td>29.571312</td>\n",
       "      <td>0.927894</td>\n",
       "      <td>34.855221</td>\n",
       "      <td>0.897248</td>\n",
       "      <td>0.960707</td>\n",
       "      <td>0.970921</td>\n",
       "      <td>0.926221</td>\n",
       "      <td>1.853567</td>\n",
       "      <td>0.927894</td>\n",
       "      <td>2.229827</td>\n",
       "      <td>0.897248</td>\n",
       "      <td>0.960707</td>\n",
       "      <td>0.971279</td>\n",
       "      <td>0.957129</td>\n",
       "      <td>29.571312</td>\n",
       "      <td>0.958534</td>\n",
       "      <td>34.855221</td>\n",
       "      <td>0.941288</td>\n",
       "      <td>0.976424</td>\n",
       "      <td>0.984107</td>\n",
       "    </tr>\n",
       "    <tr>\n",
       "      <td>500</td>\n",
       "      <td>0.014300</td>\n",
       "      <td>0.004833</td>\n",
       "      <td>0.975075</td>\n",
       "      <td>0.880545</td>\n",
       "      <td>0.975705</td>\n",
       "      <td>0.859171</td>\n",
       "      <td>0.965385</td>\n",
       "      <td>0.986248</td>\n",
       "      <td>0.990337</td>\n",
       "      <td>0.912263</td>\n",
       "      <td>11.219736</td>\n",
       "      <td>0.916981</td>\n",
       "      <td>11.219736</td>\n",
       "      <td>0.882033</td>\n",
       "      <td>0.954813</td>\n",
       "      <td>0.967146</td>\n",
       "      <td>0.958126</td>\n",
       "      <td>32.849388</td>\n",
       "      <td>0.959302</td>\n",
       "      <td>34.021782</td>\n",
       "      <td>0.946463</td>\n",
       "      <td>0.972495</td>\n",
       "      <td>0.982158</td>\n",
       "      <td>0.959123</td>\n",
       "      <td>2.227506</td>\n",
       "      <td>0.960386</td>\n",
       "      <td>2.227506</td>\n",
       "      <td>0.944867</td>\n",
       "      <td>0.976424</td>\n",
       "      <td>0.982393</td>\n",
       "      <td>0.975075</td>\n",
       "      <td>32.849388</td>\n",
       "      <td>0.975705</td>\n",
       "      <td>34.021782</td>\n",
       "      <td>0.965385</td>\n",
       "      <td>0.986248</td>\n",
       "      <td>0.990337</td>\n",
       "    </tr>\n",
       "    <tr>\n",
       "      <td>600</td>\n",
       "      <td>0.014300</td>\n",
       "      <td>0.004391</td>\n",
       "      <td>0.973081</td>\n",
       "      <td>0.888243</td>\n",
       "      <td>0.973659</td>\n",
       "      <td>0.865140</td>\n",
       "      <td>0.967054</td>\n",
       "      <td>0.980354</td>\n",
       "      <td>0.992671</td>\n",
       "      <td>0.933200</td>\n",
       "      <td>13.961655</td>\n",
       "      <td>0.934120</td>\n",
       "      <td>13.833933</td>\n",
       "      <td>0.935039</td>\n",
       "      <td>0.933202</td>\n",
       "      <td>0.978112</td>\n",
       "      <td>0.958126</td>\n",
       "      <td>32.884556</td>\n",
       "      <td>0.958904</td>\n",
       "      <td>32.884556</td>\n",
       "      <td>0.955166</td>\n",
       "      <td>0.962672</td>\n",
       "      <td>0.985056</td>\n",
       "      <td>0.958126</td>\n",
       "      <td>2.048276</td>\n",
       "      <td>0.958904</td>\n",
       "      <td>2.111519</td>\n",
       "      <td>0.955166</td>\n",
       "      <td>0.962672</td>\n",
       "      <td>0.985454</td>\n",
       "      <td>0.973081</td>\n",
       "      <td>32.884556</td>\n",
       "      <td>0.973659</td>\n",
       "      <td>32.884556</td>\n",
       "      <td>0.967054</td>\n",
       "      <td>0.980354</td>\n",
       "      <td>0.992671</td>\n",
       "    </tr>\n",
       "    <tr>\n",
       "      <td>700</td>\n",
       "      <td>0.014300</td>\n",
       "      <td>0.003547</td>\n",
       "      <td>0.979063</td>\n",
       "      <td>0.837300</td>\n",
       "      <td>0.979671</td>\n",
       "      <td>0.837300</td>\n",
       "      <td>0.965649</td>\n",
       "      <td>0.994106</td>\n",
       "      <td>0.994683</td>\n",
       "      <td>0.925224</td>\n",
       "      <td>13.243541</td>\n",
       "      <td>0.927114</td>\n",
       "      <td>13.243541</td>\n",
       "      <td>0.917308</td>\n",
       "      <td>0.937132</td>\n",
       "      <td>0.976303</td>\n",
       "      <td>0.970090</td>\n",
       "      <td>33.999001</td>\n",
       "      <td>0.970874</td>\n",
       "      <td>33.999001</td>\n",
       "      <td>0.959693</td>\n",
       "      <td>0.982318</td>\n",
       "      <td>0.988688</td>\n",
       "      <td>0.969093</td>\n",
       "      <td>2.248092</td>\n",
       "      <td>0.969990</td>\n",
       "      <td>2.344285</td>\n",
       "      <td>0.956107</td>\n",
       "      <td>0.984283</td>\n",
       "      <td>0.988882</td>\n",
       "      <td>0.979063</td>\n",
       "      <td>33.999001</td>\n",
       "      <td>0.979671</td>\n",
       "      <td>33.999001</td>\n",
       "      <td>0.965649</td>\n",
       "      <td>0.994106</td>\n",
       "      <td>0.994683</td>\n",
       "    </tr>\n",
       "    <tr>\n",
       "      <td>800</td>\n",
       "      <td>0.014300</td>\n",
       "      <td>0.002897</td>\n",
       "      <td>0.983051</td>\n",
       "      <td>0.831034</td>\n",
       "      <td>0.983479</td>\n",
       "      <td>0.831034</td>\n",
       "      <td>0.973077</td>\n",
       "      <td>0.994106</td>\n",
       "      <td>0.996254</td>\n",
       "      <td>0.947159</td>\n",
       "      <td>12.915802</td>\n",
       "      <td>0.949379</td>\n",
       "      <td>12.636930</td>\n",
       "      <td>0.923792</td>\n",
       "      <td>0.976424</td>\n",
       "      <td>0.985039</td>\n",
       "      <td>0.973081</td>\n",
       "      <td>32.900742</td>\n",
       "      <td>0.973451</td>\n",
       "      <td>32.900742</td>\n",
       "      <td>0.974409</td>\n",
       "      <td>0.972495</td>\n",
       "      <td>0.991173</td>\n",
       "      <td>0.972084</td>\n",
       "      <td>2.137141</td>\n",
       "      <td>0.972495</td>\n",
       "      <td>2.137141</td>\n",
       "      <td>0.972495</td>\n",
       "      <td>0.972495</td>\n",
       "      <td>0.991360</td>\n",
       "      <td>0.983051</td>\n",
       "      <td>32.900742</td>\n",
       "      <td>0.983479</td>\n",
       "      <td>32.900742</td>\n",
       "      <td>0.974409</td>\n",
       "      <td>0.994106</td>\n",
       "      <td>0.996254</td>\n",
       "    </tr>\n",
       "    <tr>\n",
       "      <td>900</td>\n",
       "      <td>0.014300</td>\n",
       "      <td>0.002855</td>\n",
       "      <td>0.982054</td>\n",
       "      <td>0.854002</td>\n",
       "      <td>0.982456</td>\n",
       "      <td>0.854002</td>\n",
       "      <td>0.974855</td>\n",
       "      <td>0.990177</td>\n",
       "      <td>0.996381</td>\n",
       "      <td>0.945165</td>\n",
       "      <td>15.095257</td>\n",
       "      <td>0.946654</td>\n",
       "      <td>15.095257</td>\n",
       "      <td>0.934866</td>\n",
       "      <td>0.958743</td>\n",
       "      <td>0.984562</td>\n",
       "      <td>0.975075</td>\n",
       "      <td>34.155205</td>\n",
       "      <td>0.975514</td>\n",
       "      <td>35.347813</td>\n",
       "      <td>0.972656</td>\n",
       "      <td>0.978389</td>\n",
       "      <td>0.992868</td>\n",
       "      <td>0.975075</td>\n",
       "      <td>2.160385</td>\n",
       "      <td>0.975514</td>\n",
       "      <td>2.255835</td>\n",
       "      <td>0.972656</td>\n",
       "      <td>0.978389</td>\n",
       "      <td>0.993037</td>\n",
       "      <td>0.982054</td>\n",
       "      <td>34.155205</td>\n",
       "      <td>0.982456</td>\n",
       "      <td>35.347813</td>\n",
       "      <td>0.974855</td>\n",
       "      <td>0.990177</td>\n",
       "      <td>0.996381</td>\n",
       "    </tr>\n",
       "    <tr>\n",
       "      <td>1000</td>\n",
       "      <td>0.002200</td>\n",
       "      <td>0.002710</td>\n",
       "      <td>0.983051</td>\n",
       "      <td>0.873020</td>\n",
       "      <td>0.983511</td>\n",
       "      <td>0.828791</td>\n",
       "      <td>0.971264</td>\n",
       "      <td>0.996071</td>\n",
       "      <td>0.996592</td>\n",
       "      <td>0.953141</td>\n",
       "      <td>14.614402</td>\n",
       "      <td>0.954938</td>\n",
       "      <td>14.067711</td>\n",
       "      <td>0.932584</td>\n",
       "      <td>0.978389</td>\n",
       "      <td>0.987517</td>\n",
       "      <td>0.976072</td>\n",
       "      <td>36.064674</td>\n",
       "      <td>0.976562</td>\n",
       "      <td>36.064674</td>\n",
       "      <td>0.970874</td>\n",
       "      <td>0.982318</td>\n",
       "      <td>0.993524</td>\n",
       "      <td>0.976072</td>\n",
       "      <td>2.172136</td>\n",
       "      <td>0.976562</td>\n",
       "      <td>2.283446</td>\n",
       "      <td>0.970874</td>\n",
       "      <td>0.982318</td>\n",
       "      <td>0.993618</td>\n",
       "      <td>0.983051</td>\n",
       "      <td>36.064674</td>\n",
       "      <td>0.983511</td>\n",
       "      <td>36.064674</td>\n",
       "      <td>0.971264</td>\n",
       "      <td>0.996071</td>\n",
       "      <td>0.996592</td>\n",
       "    </tr>\n",
       "    <tr>\n",
       "      <td>1100</td>\n",
       "      <td>0.002200</td>\n",
       "      <td>0.002457</td>\n",
       "      <td>0.983051</td>\n",
       "      <td>0.822323</td>\n",
       "      <td>0.983511</td>\n",
       "      <td>0.789672</td>\n",
       "      <td>0.971264</td>\n",
       "      <td>0.996071</td>\n",
       "      <td>0.997008</td>\n",
       "      <td>0.951147</td>\n",
       "      <td>15.137044</td>\n",
       "      <td>0.952839</td>\n",
       "      <td>14.267411</td>\n",
       "      <td>0.933962</td>\n",
       "      <td>0.972495</td>\n",
       "      <td>0.989479</td>\n",
       "      <td>0.975075</td>\n",
       "      <td>34.386078</td>\n",
       "      <td>0.975514</td>\n",
       "      <td>34.386078</td>\n",
       "      <td>0.972656</td>\n",
       "      <td>0.978389</td>\n",
       "      <td>0.993115</td>\n",
       "      <td>0.974078</td>\n",
       "      <td>2.167076</td>\n",
       "      <td>0.974609</td>\n",
       "      <td>2.253726</td>\n",
       "      <td>0.968932</td>\n",
       "      <td>0.980354</td>\n",
       "      <td>0.993247</td>\n",
       "      <td>0.983051</td>\n",
       "      <td>34.386078</td>\n",
       "      <td>0.983511</td>\n",
       "      <td>34.386078</td>\n",
       "      <td>0.972656</td>\n",
       "      <td>0.996071</td>\n",
       "      <td>0.997008</td>\n",
       "    </tr>\n",
       "    <tr>\n",
       "      <td>1200</td>\n",
       "      <td>0.002200</td>\n",
       "      <td>0.002290</td>\n",
       "      <td>0.986042</td>\n",
       "      <td>0.829958</td>\n",
       "      <td>0.986381</td>\n",
       "      <td>0.829958</td>\n",
       "      <td>0.976879</td>\n",
       "      <td>0.996071</td>\n",
       "      <td>0.996543</td>\n",
       "      <td>0.955135</td>\n",
       "      <td>14.140192</td>\n",
       "      <td>0.957184</td>\n",
       "      <td>12.732973</td>\n",
       "      <td>0.928044</td>\n",
       "      <td>0.988212</td>\n",
       "      <td>0.991245</td>\n",
       "      <td>0.972084</td>\n",
       "      <td>31.646669</td>\n",
       "      <td>0.972710</td>\n",
       "      <td>35.822525</td>\n",
       "      <td>0.965184</td>\n",
       "      <td>0.980354</td>\n",
       "      <td>0.991471</td>\n",
       "      <td>0.973081</td>\n",
       "      <td>2.100713</td>\n",
       "      <td>0.973555</td>\n",
       "      <td>2.100713</td>\n",
       "      <td>0.970703</td>\n",
       "      <td>0.976424</td>\n",
       "      <td>0.991622</td>\n",
       "      <td>0.986042</td>\n",
       "      <td>31.646669</td>\n",
       "      <td>0.986381</td>\n",
       "      <td>35.822525</td>\n",
       "      <td>0.976879</td>\n",
       "      <td>0.996071</td>\n",
       "      <td>0.996543</td>\n",
       "    </tr>\n",
       "    <tr>\n",
       "      <td>1300</td>\n",
       "      <td>0.002200</td>\n",
       "      <td>0.002149</td>\n",
       "      <td>0.985045</td>\n",
       "      <td>0.825598</td>\n",
       "      <td>0.985423</td>\n",
       "      <td>0.825598</td>\n",
       "      <td>0.975000</td>\n",
       "      <td>0.996071</td>\n",
       "      <td>0.997442</td>\n",
       "      <td>0.962114</td>\n",
       "      <td>14.830833</td>\n",
       "      <td>0.963035</td>\n",
       "      <td>14.830833</td>\n",
       "      <td>0.953757</td>\n",
       "      <td>0.972495</td>\n",
       "      <td>0.992153</td>\n",
       "      <td>0.973081</td>\n",
       "      <td>35.100468</td>\n",
       "      <td>0.973607</td>\n",
       "      <td>35.100468</td>\n",
       "      <td>0.968872</td>\n",
       "      <td>0.978389</td>\n",
       "      <td>0.992994</td>\n",
       "      <td>0.973081</td>\n",
       "      <td>2.038393</td>\n",
       "      <td>0.973607</td>\n",
       "      <td>2.241400</td>\n",
       "      <td>0.968872</td>\n",
       "      <td>0.978389</td>\n",
       "      <td>0.993247</td>\n",
       "      <td>0.985045</td>\n",
       "      <td>35.100468</td>\n",
       "      <td>0.985423</td>\n",
       "      <td>35.100468</td>\n",
       "      <td>0.975000</td>\n",
       "      <td>0.996071</td>\n",
       "      <td>0.997442</td>\n",
       "    </tr>\n",
       "    <tr>\n",
       "      <td>1400</td>\n",
       "      <td>0.002200</td>\n",
       "      <td>0.002080</td>\n",
       "      <td>0.986042</td>\n",
       "      <td>0.830613</td>\n",
       "      <td>0.986381</td>\n",
       "      <td>0.830613</td>\n",
       "      <td>0.976879</td>\n",
       "      <td>0.996071</td>\n",
       "      <td>0.998057</td>\n",
       "      <td>0.962114</td>\n",
       "      <td>14.801407</td>\n",
       "      <td>0.963178</td>\n",
       "      <td>14.801407</td>\n",
       "      <td>0.950287</td>\n",
       "      <td>0.976424</td>\n",
       "      <td>0.991922</td>\n",
       "      <td>0.976072</td>\n",
       "      <td>30.630865</td>\n",
       "      <td>0.976378</td>\n",
       "      <td>30.630865</td>\n",
       "      <td>0.978304</td>\n",
       "      <td>0.974460</td>\n",
       "      <td>0.994288</td>\n",
       "      <td>0.975075</td>\n",
       "      <td>1.940335</td>\n",
       "      <td>0.975514</td>\n",
       "      <td>2.166293</td>\n",
       "      <td>0.972656</td>\n",
       "      <td>0.978389</td>\n",
       "      <td>0.994474</td>\n",
       "      <td>0.986042</td>\n",
       "      <td>30.630865</td>\n",
       "      <td>0.986381</td>\n",
       "      <td>30.630865</td>\n",
       "      <td>0.978304</td>\n",
       "      <td>0.996071</td>\n",
       "      <td>0.998057</td>\n",
       "    </tr>\n",
       "    <tr>\n",
       "      <td>1500</td>\n",
       "      <td>0.001100</td>\n",
       "      <td>0.002078</td>\n",
       "      <td>0.986042</td>\n",
       "      <td>0.822760</td>\n",
       "      <td>0.986381</td>\n",
       "      <td>0.822760</td>\n",
       "      <td>0.976879</td>\n",
       "      <td>0.996071</td>\n",
       "      <td>0.998315</td>\n",
       "      <td>0.962114</td>\n",
       "      <td>15.273596</td>\n",
       "      <td>0.963462</td>\n",
       "      <td>13.656164</td>\n",
       "      <td>0.943503</td>\n",
       "      <td>0.984283</td>\n",
       "      <td>0.992866</td>\n",
       "      <td>0.974078</td>\n",
       "      <td>30.477890</td>\n",
       "      <td>0.974560</td>\n",
       "      <td>33.742348</td>\n",
       "      <td>0.970760</td>\n",
       "      <td>0.978389</td>\n",
       "      <td>0.994554</td>\n",
       "      <td>0.975075</td>\n",
       "      <td>2.129891</td>\n",
       "      <td>0.975514</td>\n",
       "      <td>2.129891</td>\n",
       "      <td>0.972656</td>\n",
       "      <td>0.978389</td>\n",
       "      <td>0.994728</td>\n",
       "      <td>0.986042</td>\n",
       "      <td>30.477890</td>\n",
       "      <td>0.986381</td>\n",
       "      <td>33.742348</td>\n",
       "      <td>0.976879</td>\n",
       "      <td>0.996071</td>\n",
       "      <td>0.998315</td>\n",
       "    </tr>\n",
       "  </tbody>\n",
       "</table><p>"
      ],
      "text/plain": [
       "<IPython.core.display.HTML object>"
      ]
     },
     "metadata": {},
     "output_type": "display_data"
    },
    {
     "data": {
      "application/vnd.jupyter.widget-view+json": {
       "model_id": "",
       "version_major": 2,
       "version_minor": 0
      },
      "text/plain": [
       "Computing widget examples:   0%|          | 0/5 [00:00<?, ?example/s]"
      ]
     },
     "metadata": {},
     "output_type": "display_data"
    },
    {
     "data": {
      "application/vnd.jupyter.widget-view+json": {
       "model_id": "",
       "version_major": 2,
       "version_minor": 0
      },
      "text/plain": [
       "Computing widget examples:   0%|          | 0/5 [00:00<?, ?example/s]"
      ]
     },
     "metadata": {},
     "output_type": "display_data"
    },
    {
     "data": {
      "application/vnd.jupyter.widget-view+json": {
       "model_id": "",
       "version_major": 2,
       "version_minor": 0
      },
      "text/plain": [
       "Computing widget examples:   0%|          | 0/5 [00:00<?, ?example/s]"
      ]
     },
     "metadata": {},
     "output_type": "display_data"
    },
    {
     "data": {
      "application/vnd.jupyter.widget-view+json": {
       "model_id": "",
       "version_major": 2,
       "version_minor": 0
      },
      "text/plain": [
       "Computing widget examples:   0%|          | 0/5 [00:00<?, ?example/s]"
      ]
     },
     "metadata": {},
     "output_type": "display_data"
    },
    {
     "data": {
      "application/vnd.jupyter.widget-view+json": {
       "model_id": "",
       "version_major": 2,
       "version_minor": 0
      },
      "text/plain": [
       "Computing widget examples:   0%|          | 0/5 [00:00<?, ?example/s]"
      ]
     },
     "metadata": {},
     "output_type": "display_data"
    },
    {
     "data": {
      "application/vnd.jupyter.widget-view+json": {
       "model_id": "",
       "version_major": 2,
       "version_minor": 0
      },
      "text/plain": [
       "Computing widget examples:   0%|          | 0/5 [00:00<?, ?example/s]"
      ]
     },
     "metadata": {},
     "output_type": "display_data"
    },
    {
     "data": {
      "application/vnd.jupyter.widget-view+json": {
       "model_id": "",
       "version_major": 2,
       "version_minor": 0
      },
      "text/plain": [
       "Computing widget examples:   0%|          | 0/5 [00:00<?, ?example/s]"
      ]
     },
     "metadata": {},
     "output_type": "display_data"
    },
    {
     "data": {
      "application/vnd.jupyter.widget-view+json": {
       "model_id": "",
       "version_major": 2,
       "version_minor": 0
      },
      "text/plain": [
       "Computing widget examples:   0%|          | 0/5 [00:00<?, ?example/s]"
      ]
     },
     "metadata": {},
     "output_type": "display_data"
    },
    {
     "data": {
      "application/vnd.jupyter.widget-view+json": {
       "model_id": "",
       "version_major": 2,
       "version_minor": 0
      },
      "text/plain": [
       "Computing widget examples:   0%|          | 0/5 [00:00<?, ?example/s]"
      ]
     },
     "metadata": {},
     "output_type": "display_data"
    },
    {
     "data": {
      "application/vnd.jupyter.widget-view+json": {
       "model_id": "",
       "version_major": 2,
       "version_minor": 0
      },
      "text/plain": [
       "Computing widget examples:   0%|          | 0/5 [00:00<?, ?example/s]"
      ]
     },
     "metadata": {},
     "output_type": "display_data"
    },
    {
     "data": {
      "application/vnd.jupyter.widget-view+json": {
       "model_id": "",
       "version_major": 2,
       "version_minor": 0
      },
      "text/plain": [
       "Computing widget examples:   0%|          | 0/5 [00:00<?, ?example/s]"
      ]
     },
     "metadata": {},
     "output_type": "display_data"
    },
    {
     "data": {
      "application/vnd.jupyter.widget-view+json": {
       "model_id": "",
       "version_major": 2,
       "version_minor": 0
      },
      "text/plain": [
       "Computing widget examples:   0%|          | 0/5 [00:00<?, ?example/s]"
      ]
     },
     "metadata": {},
     "output_type": "display_data"
    },
    {
     "data": {
      "application/vnd.jupyter.widget-view+json": {
       "model_id": "",
       "version_major": 2,
       "version_minor": 0
      },
      "text/plain": [
       "Computing widget examples:   0%|          | 0/5 [00:00<?, ?example/s]"
      ]
     },
     "metadata": {},
     "output_type": "display_data"
    },
    {
     "data": {
      "application/vnd.jupyter.widget-view+json": {
       "model_id": "",
       "version_major": 2,
       "version_minor": 0
      },
      "text/plain": [
       "Computing widget examples:   0%|          | 0/5 [00:00<?, ?example/s]"
      ]
     },
     "metadata": {},
     "output_type": "display_data"
    },
    {
     "data": {
      "application/vnd.jupyter.widget-view+json": {
       "model_id": "",
       "version_major": 2,
       "version_minor": 0
      },
      "text/plain": [
       "Computing widget examples:   0%|          | 0/5 [00:00<?, ?example/s]"
      ]
     },
     "metadata": {},
     "output_type": "display_data"
    },
    {
     "data": {
      "text/plain": [
       "TrainOutput(global_step=1506, training_loss=0.005833147099528556, metrics={'train_runtime': 66619.7035, 'train_samples_per_second': 0.723, 'train_steps_per_second': 0.023, 'total_flos': 0.0, 'train_loss': 0.005833147099528556, 'epoch': 6.0})"
      ]
     },
     "execution_count": 60,
     "metadata": {},
     "output_type": "execute_result"
    }
   ],
   "source": [
    "# This will rapidly train the embedding model. MultipleNegativesRankingLoss did not work.\n",
    "loss = losses.ContrastiveLoss(model=sbert_model_lower)\n",
    "\n",
    "sbert_args = SentenceTransformerTrainingArguments(\n",
    "    output_dir=SBERT_LOWER_OUTPUT_FOLDER,\n",
    "    num_train_epochs=EPOCHS,\n",
    "    per_device_train_batch_size=BATCH_SIZE,\n",
    "    per_device_eval_batch_size=BATCH_SIZE,\n",
    "    warmup_ratio=0.1,\n",
    "    run_name=SBERT_MODEL_LOWER,\n",
    "    load_best_model_at_end=True,\n",
    "    save_steps=SAVE_EVAL_STEPS,\n",
    "    eval_steps=SAVE_EVAL_STEPS,\n",
    "    save_strategy=\"steps\",\n",
    "    eval_strategy=\"steps\",\n",
    "    greater_is_better=False,\n",
    "    metric_for_best_model=\"eval_loss\",\n",
    "    learning_rate=LEARNING_RATE,\n",
    "    logging_dir=\"./logs\",\n",
    ")\n",
    "\n",
    "trainer = SentenceTransformerTrainer(\n",
    "    model=sbert_model_lower,\n",
    "    args=sbert_args,\n",
    "    train_dataset=train_dataset,\n",
    "    eval_dataset=eval_dataset,\n",
    "    loss=loss,\n",
    "    evaluator=binary_acc_evaluator,\n",
    "    compute_metrics=compute_sbert_metrics,\n",
    "    callbacks=[EarlyStoppingCallback(early_stopping_patience=PATIENCE)],\n",
    ")\n",
    "\n",
    "trainer.evaluate()\n",
    "trainer.train()"
   ]
  },
  {
   "cell_type": "code",
   "execution_count": 61,
   "id": "11ce3743-1389-4736-8659-e50e15c5a90a",
   "metadata": {},
   "outputs": [
    {
     "name": "stdout",
     "output_type": "stream",
     "text": [
      "Best model checkpoint path: data/fine-tuned-sbert-paraphrase-multilingual-MiniLM-L12-v2-lowercase/checkpoint-1500\n"
     ]
    }
   ],
   "source": [
    "print(f\"Best model checkpoint path: {trainer.state.best_model_checkpoint}\")"
   ]
  },
  {
   "cell_type": "code",
   "execution_count": 62,
   "id": "0092c331-3ab7-436b-ac7e-0cf0bfd0406c",
   "metadata": {},
   "outputs": [
    {
     "data": {
      "text/html": [
       "\n",
       "    <div>\n",
       "      \n",
       "      <progress value='32' max='32' style='width:300px; height:20px; vertical-align: middle;'></progress>\n",
       "      [32/32 00:00]\n",
       "    </div>\n",
       "    "
      ],
      "text/plain": [
       "<IPython.core.display.HTML object>"
      ]
     },
     "metadata": {},
     "output_type": "display_data"
    },
    {
     "data": {
      "text/html": [
       "<div>\n",
       "<style scoped>\n",
       "    .dataframe tbody tr th:only-of-type {\n",
       "        vertical-align: middle;\n",
       "    }\n",
       "\n",
       "    .dataframe tbody tr th {\n",
       "        vertical-align: top;\n",
       "    }\n",
       "\n",
       "    .dataframe thead th {\n",
       "        text-align: right;\n",
       "    }\n",
       "</style>\n",
       "<table border=\"1\" class=\"dataframe\">\n",
       "  <thead>\n",
       "    <tr style=\"text-align: right;\">\n",
       "      <th></th>\n",
       "      <th>eval_loss</th>\n",
       "      <th>eval_paraphrase-multilingual-MiniLM-L12-v2_cosine_accuracy</th>\n",
       "      <th>eval_paraphrase-multilingual-MiniLM-L12-v2_cosine_accuracy_threshold</th>\n",
       "      <th>eval_paraphrase-multilingual-MiniLM-L12-v2_cosine_f1</th>\n",
       "      <th>eval_paraphrase-multilingual-MiniLM-L12-v2_cosine_f1_threshold</th>\n",
       "      <th>eval_paraphrase-multilingual-MiniLM-L12-v2_cosine_precision</th>\n",
       "      <th>eval_paraphrase-multilingual-MiniLM-L12-v2_cosine_recall</th>\n",
       "      <th>eval_paraphrase-multilingual-MiniLM-L12-v2_cosine_ap</th>\n",
       "      <th>eval_paraphrase-multilingual-MiniLM-L12-v2_dot_accuracy</th>\n",
       "      <th>eval_paraphrase-multilingual-MiniLM-L12-v2_dot_accuracy_threshold</th>\n",
       "      <th>eval_paraphrase-multilingual-MiniLM-L12-v2_dot_f1</th>\n",
       "      <th>eval_paraphrase-multilingual-MiniLM-L12-v2_dot_f1_threshold</th>\n",
       "      <th>eval_paraphrase-multilingual-MiniLM-L12-v2_dot_precision</th>\n",
       "      <th>eval_paraphrase-multilingual-MiniLM-L12-v2_dot_recall</th>\n",
       "      <th>eval_paraphrase-multilingual-MiniLM-L12-v2_dot_ap</th>\n",
       "      <th>eval_paraphrase-multilingual-MiniLM-L12-v2_manhattan_accuracy</th>\n",
       "      <th>eval_paraphrase-multilingual-MiniLM-L12-v2_manhattan_accuracy_threshold</th>\n",
       "      <th>eval_paraphrase-multilingual-MiniLM-L12-v2_manhattan_f1</th>\n",
       "      <th>eval_paraphrase-multilingual-MiniLM-L12-v2_manhattan_f1_threshold</th>\n",
       "      <th>eval_paraphrase-multilingual-MiniLM-L12-v2_manhattan_precision</th>\n",
       "      <th>eval_paraphrase-multilingual-MiniLM-L12-v2_manhattan_recall</th>\n",
       "      <th>eval_paraphrase-multilingual-MiniLM-L12-v2_manhattan_ap</th>\n",
       "      <th>eval_paraphrase-multilingual-MiniLM-L12-v2_euclidean_accuracy</th>\n",
       "      <th>eval_paraphrase-multilingual-MiniLM-L12-v2_euclidean_accuracy_threshold</th>\n",
       "      <th>eval_paraphrase-multilingual-MiniLM-L12-v2_euclidean_f1</th>\n",
       "      <th>eval_paraphrase-multilingual-MiniLM-L12-v2_euclidean_f1_threshold</th>\n",
       "      <th>eval_paraphrase-multilingual-MiniLM-L12-v2_euclidean_precision</th>\n",
       "      <th>eval_paraphrase-multilingual-MiniLM-L12-v2_euclidean_recall</th>\n",
       "      <th>eval_paraphrase-multilingual-MiniLM-L12-v2_euclidean_ap</th>\n",
       "      <th>eval_paraphrase-multilingual-MiniLM-L12-v2_max_accuracy</th>\n",
       "      <th>eval_paraphrase-multilingual-MiniLM-L12-v2_max_accuracy_threshold</th>\n",
       "      <th>eval_paraphrase-multilingual-MiniLM-L12-v2_max_f1</th>\n",
       "      <th>eval_paraphrase-multilingual-MiniLM-L12-v2_max_f1_threshold</th>\n",
       "      <th>eval_paraphrase-multilingual-MiniLM-L12-v2_max_precision</th>\n",
       "      <th>eval_paraphrase-multilingual-MiniLM-L12-v2_max_recall</th>\n",
       "      <th>eval_paraphrase-multilingual-MiniLM-L12-v2_max_ap</th>\n",
       "      <th>eval_runtime</th>\n",
       "      <th>eval_samples_per_second</th>\n",
       "      <th>eval_steps_per_second</th>\n",
       "      <th>epoch</th>\n",
       "    </tr>\n",
       "  </thead>\n",
       "  <tbody>\n",
       "    <tr>\n",
       "      <th>0</th>\n",
       "      <td>0.002078</td>\n",
       "      <td>0.986042</td>\n",
       "      <td>0.82276</td>\n",
       "      <td>0.986381</td>\n",
       "      <td>0.82276</td>\n",
       "      <td>0.976879</td>\n",
       "      <td>0.996071</td>\n",
       "      <td>0.998315</td>\n",
       "      <td>0.962114</td>\n",
       "      <td>15.273596</td>\n",
       "      <td>0.963462</td>\n",
       "      <td>13.656164</td>\n",
       "      <td>0.943503</td>\n",
       "      <td>0.984283</td>\n",
       "      <td>0.992866</td>\n",
       "      <td>0.974078</td>\n",
       "      <td>30.47789</td>\n",
       "      <td>0.97456</td>\n",
       "      <td>33.742348</td>\n",
       "      <td>0.97076</td>\n",
       "      <td>0.978389</td>\n",
       "      <td>0.994554</td>\n",
       "      <td>0.975075</td>\n",
       "      <td>2.129891</td>\n",
       "      <td>0.975514</td>\n",
       "      <td>2.129891</td>\n",
       "      <td>0.972656</td>\n",
       "      <td>0.978389</td>\n",
       "      <td>0.994728</td>\n",
       "      <td>0.986042</td>\n",
       "      <td>30.47789</td>\n",
       "      <td>0.986381</td>\n",
       "      <td>33.742348</td>\n",
       "      <td>0.976879</td>\n",
       "      <td>0.996071</td>\n",
       "      <td>0.998315</td>\n",
       "      <td>1.5518</td>\n",
       "      <td>646.346</td>\n",
       "      <td>20.621</td>\n",
       "      <td>6.0</td>\n",
       "    </tr>\n",
       "  </tbody>\n",
       "</table>\n",
       "</div>"
      ],
      "text/plain": [
       "   eval_loss  eval_paraphrase-multilingual-MiniLM-L12-v2_cosine_accuracy  \\\n",
       "0   0.002078                                           0.986042            \n",
       "\n",
       "   eval_paraphrase-multilingual-MiniLM-L12-v2_cosine_accuracy_threshold  \\\n",
       "0                                            0.82276                      \n",
       "\n",
       "   eval_paraphrase-multilingual-MiniLM-L12-v2_cosine_f1  \\\n",
       "0                                           0.986381      \n",
       "\n",
       "   eval_paraphrase-multilingual-MiniLM-L12-v2_cosine_f1_threshold  \\\n",
       "0                                            0.82276                \n",
       "\n",
       "   eval_paraphrase-multilingual-MiniLM-L12-v2_cosine_precision  \\\n",
       "0                                           0.976879             \n",
       "\n",
       "   eval_paraphrase-multilingual-MiniLM-L12-v2_cosine_recall  \\\n",
       "0                                           0.996071          \n",
       "\n",
       "   eval_paraphrase-multilingual-MiniLM-L12-v2_cosine_ap  \\\n",
       "0                                           0.998315      \n",
       "\n",
       "   eval_paraphrase-multilingual-MiniLM-L12-v2_dot_accuracy  \\\n",
       "0                                           0.962114         \n",
       "\n",
       "   eval_paraphrase-multilingual-MiniLM-L12-v2_dot_accuracy_threshold  \\\n",
       "0                                          15.273596                   \n",
       "\n",
       "   eval_paraphrase-multilingual-MiniLM-L12-v2_dot_f1  \\\n",
       "0                                           0.963462   \n",
       "\n",
       "   eval_paraphrase-multilingual-MiniLM-L12-v2_dot_f1_threshold  \\\n",
       "0                                          13.656164             \n",
       "\n",
       "   eval_paraphrase-multilingual-MiniLM-L12-v2_dot_precision  \\\n",
       "0                                           0.943503          \n",
       "\n",
       "   eval_paraphrase-multilingual-MiniLM-L12-v2_dot_recall  \\\n",
       "0                                           0.984283       \n",
       "\n",
       "   eval_paraphrase-multilingual-MiniLM-L12-v2_dot_ap  \\\n",
       "0                                           0.992866   \n",
       "\n",
       "   eval_paraphrase-multilingual-MiniLM-L12-v2_manhattan_accuracy  \\\n",
       "0                                           0.974078               \n",
       "\n",
       "   eval_paraphrase-multilingual-MiniLM-L12-v2_manhattan_accuracy_threshold  \\\n",
       "0                                           30.47789                         \n",
       "\n",
       "   eval_paraphrase-multilingual-MiniLM-L12-v2_manhattan_f1  \\\n",
       "0                                            0.97456         \n",
       "\n",
       "   eval_paraphrase-multilingual-MiniLM-L12-v2_manhattan_f1_threshold  \\\n",
       "0                                          33.742348                   \n",
       "\n",
       "   eval_paraphrase-multilingual-MiniLM-L12-v2_manhattan_precision  \\\n",
       "0                                            0.97076                \n",
       "\n",
       "   eval_paraphrase-multilingual-MiniLM-L12-v2_manhattan_recall  \\\n",
       "0                                           0.978389             \n",
       "\n",
       "   eval_paraphrase-multilingual-MiniLM-L12-v2_manhattan_ap  \\\n",
       "0                                           0.994554         \n",
       "\n",
       "   eval_paraphrase-multilingual-MiniLM-L12-v2_euclidean_accuracy  \\\n",
       "0                                           0.975075               \n",
       "\n",
       "   eval_paraphrase-multilingual-MiniLM-L12-v2_euclidean_accuracy_threshold  \\\n",
       "0                                           2.129891                         \n",
       "\n",
       "   eval_paraphrase-multilingual-MiniLM-L12-v2_euclidean_f1  \\\n",
       "0                                           0.975514         \n",
       "\n",
       "   eval_paraphrase-multilingual-MiniLM-L12-v2_euclidean_f1_threshold  \\\n",
       "0                                           2.129891                   \n",
       "\n",
       "   eval_paraphrase-multilingual-MiniLM-L12-v2_euclidean_precision  \\\n",
       "0                                           0.972656                \n",
       "\n",
       "   eval_paraphrase-multilingual-MiniLM-L12-v2_euclidean_recall  \\\n",
       "0                                           0.978389             \n",
       "\n",
       "   eval_paraphrase-multilingual-MiniLM-L12-v2_euclidean_ap  \\\n",
       "0                                           0.994728         \n",
       "\n",
       "   eval_paraphrase-multilingual-MiniLM-L12-v2_max_accuracy  \\\n",
       "0                                           0.986042         \n",
       "\n",
       "   eval_paraphrase-multilingual-MiniLM-L12-v2_max_accuracy_threshold  \\\n",
       "0                                           30.47789                   \n",
       "\n",
       "   eval_paraphrase-multilingual-MiniLM-L12-v2_max_f1  \\\n",
       "0                                           0.986381   \n",
       "\n",
       "   eval_paraphrase-multilingual-MiniLM-L12-v2_max_f1_threshold  \\\n",
       "0                                          33.742348             \n",
       "\n",
       "   eval_paraphrase-multilingual-MiniLM-L12-v2_max_precision  \\\n",
       "0                                           0.976879          \n",
       "\n",
       "   eval_paraphrase-multilingual-MiniLM-L12-v2_max_recall  \\\n",
       "0                                           0.996071       \n",
       "\n",
       "   eval_paraphrase-multilingual-MiniLM-L12-v2_max_ap  eval_runtime  \\\n",
       "0                                           0.998315        1.5518   \n",
       "\n",
       "   eval_samples_per_second  eval_steps_per_second  epoch  \n",
       "0                  646.346                 20.621    6.0  "
      ]
     },
     "execution_count": 62,
     "metadata": {},
     "output_type": "execute_result"
    }
   ],
   "source": [
    "pd.DataFrame([trainer.evaluate()])"
   ]
  },
  {
   "cell_type": "markdown",
   "id": "9fe81a1d-2171-4915-9e2c-e9a3a88d485f",
   "metadata": {},
   "source": [
    "### Save the Best Model\n",
    "\n",
    "Because we used `load_best_model_at_end=True`, our model is now the best one we fine-tuned. Save it."
   ]
  },
  {
   "cell_type": "code",
   "execution_count": 63,
   "id": "16310db3-a9f5-48fd-a009-eb743e641bb9",
   "metadata": {},
   "outputs": [
    {
     "data": {
      "application/vnd.jupyter.widget-view+json": {
       "model_id": "",
       "version_major": 2,
       "version_minor": 0
      },
      "text/plain": [
       "Computing widget examples:   0%|          | 0/5 [00:00<?, ?example/s]"
      ]
     },
     "metadata": {},
     "output_type": "display_data"
    }
   ],
   "source": [
    "trainer.save_model(SBERT_LOWER_OUTPUT_FOLDER)"
   ]
  },
  {
   "cell_type": "code",
   "execution_count": 64,
   "id": "d671f99c-eee8-44df-a264-b943ca5e068a",
   "metadata": {},
   "outputs": [
    {
     "data": {
      "application/vnd.jupyter.widget-view+json": {
       "model_id": "",
       "version_major": 2,
       "version_minor": 0
      },
      "text/plain": [
       "VBox(children=(Label(value='0.000 MB of 0.000 MB uploaded\\r'), FloatProgress(value=1.0, max=1.0)))"
      ]
     },
     "metadata": {},
     "output_type": "display_data"
    },
    {
     "data": {
      "text/html": [
       "<style>\n",
       "    table.wandb td:nth-child(1) { padding: 0 10px; text-align: left ; width: auto;} td:nth-child(2) {text-align: left ; width: 100%}\n",
       "    .wandb-row { display: flex; flex-direction: row; flex-wrap: wrap; justify-content: flex-start; width: 100% }\n",
       "    .wandb-col { display: flex; flex-direction: column; flex-basis: 100%; flex: 1; padding: 10px; }\n",
       "    </style>\n",
       "<div class=\"wandb-row\"><div class=\"wandb-col\"><h3>Run history:</h3><br/><table class=\"wandb\"><tr><td>eval/loss</td><td>█▅▄▃▂▁▁▁▁▁▁▁▁▁▁▁▁</td></tr><tr><td>eval/paraphrase-multilingual-MiniLM-L12-v2_cosine_accuracy</td><td>▁▄▆▇█████████████</td></tr><tr><td>eval/paraphrase-multilingual-MiniLM-L12-v2_cosine_accuracy_threshold</td><td>▁▇███▇█▇▆▇▇▆▆▆▆▆▆</td></tr><tr><td>eval/paraphrase-multilingual-MiniLM-L12-v2_cosine_ap</td><td>▁▄▇██████████████</td></tr><tr><td>eval/paraphrase-multilingual-MiniLM-L12-v2_cosine_f1</td><td>▁▃▅▇▇████████████</td></tr><tr><td>eval/paraphrase-multilingual-MiniLM-L12-v2_cosine_f1_threshold</td><td>▁▆▇█▇▇▇▇▆▇▆▆▆▆▆▆▆</td></tr><tr><td>eval/paraphrase-multilingual-MiniLM-L12-v2_cosine_precision</td><td>▁▃▅▇▇████████████</td></tr><tr><td>eval/paraphrase-multilingual-MiniLM-L12-v2_cosine_recall</td><td>█▁▃▂▆▇▇██▇███████</td></tr><tr><td>eval/paraphrase-multilingual-MiniLM-L12-v2_dot_accuracy</td><td>▁▄▆▆▇▇▇▇█████████</td></tr><tr><td>eval/paraphrase-multilingual-MiniLM-L12-v2_dot_accuracy_threshold</td><td>█▁▁▅▃▁▃▃▂▄▄▄▄▄▄▅▅</td></tr><tr><td>eval/paraphrase-multilingual-MiniLM-L12-v2_dot_ap</td><td>▁▄▆▇▇████████████</td></tr><tr><td>eval/paraphrase-multilingual-MiniLM-L12-v2_dot_f1</td><td>▁▃▅▅▆▇▇▇█████████</td></tr><tr><td>eval/paraphrase-multilingual-MiniLM-L12-v2_dot_f1_threshold</td><td>▁▂▄█▅▄▆▆▅▇▆▇▅▇▇▆▆</td></tr><tr><td>eval/paraphrase-multilingual-MiniLM-L12-v2_dot_precision</td><td>▁▂▅▇▆▇█▇█████████</td></tr><tr><td>eval/paraphrase-multilingual-MiniLM-L12-v2_dot_recall</td><td>█▇▄▁▅▆▆▆▇▇▇▇█▇▇██</td></tr><tr><td>eval/paraphrase-multilingual-MiniLM-L12-v2_euclidean_accuracy</td><td>▁▃▅▇▇████████████</td></tr><tr><td>eval/paraphrase-multilingual-MiniLM-L12-v2_euclidean_accuracy_threshold</td><td>█▁▁▂▂▃▂▃▂▂▃▂▂▂▂▂▂</td></tr><tr><td>eval/paraphrase-multilingual-MiniLM-L12-v2_euclidean_ap</td><td>▁▄▆▇█████████████</td></tr><tr><td>eval/paraphrase-multilingual-MiniLM-L12-v2_euclidean_f1</td><td>▁▂▄▆▇████████████</td></tr><tr><td>eval/paraphrase-multilingual-MiniLM-L12-v2_euclidean_f1_threshold</td><td>█▂▁▁▁▁▁▂▁▂▂▁▁▁▁▁▁</td></tr><tr><td>eval/paraphrase-multilingual-MiniLM-L12-v2_euclidean_precision</td><td>▁▃▄▆▇████████████</td></tr><tr><td>eval/paraphrase-multilingual-MiniLM-L12-v2_euclidean_recall</td><td>█▁▃▅▆▇▆▇▇▇▇▇▇▇▇▇▇</td></tr><tr><td>eval/paraphrase-multilingual-MiniLM-L12-v2_manhattan_accuracy</td><td>▁▃▅▇▇████████████</td></tr><tr><td>eval/paraphrase-multilingual-MiniLM-L12-v2_manhattan_accuracy_threshold</td><td>█▁▁▂▁▂▂▂▂▂▃▂▂▃▂▂▂</td></tr><tr><td>eval/paraphrase-multilingual-MiniLM-L12-v2_manhattan_ap</td><td>▁▄▆▇█████████████</td></tr><tr><td>eval/paraphrase-multilingual-MiniLM-L12-v2_manhattan_f1</td><td>▁▂▄▆▇████████████</td></tr><tr><td>eval/paraphrase-multilingual-MiniLM-L12-v2_manhattan_f1_threshold</td><td>█▂▁▂▂▂▂▂▂▂▂▂▂▂▁▂▂</td></tr><tr><td>eval/paraphrase-multilingual-MiniLM-L12-v2_manhattan_precision</td><td>▁▂▅▆▇████████████</td></tr><tr><td>eval/paraphrase-multilingual-MiniLM-L12-v2_manhattan_recall</td><td>█▃▁▆▆▇▆▇▇▇▇▇▇▇▇▇▇</td></tr><tr><td>eval/paraphrase-multilingual-MiniLM-L12-v2_max_accuracy</td><td>▁▄▆▇█████████████</td></tr><tr><td>eval/paraphrase-multilingual-MiniLM-L12-v2_max_accuracy_threshold</td><td>█▁▁▂▁▂▂▂▂▂▃▂▂▃▂▂▂</td></tr><tr><td>eval/paraphrase-multilingual-MiniLM-L12-v2_max_ap</td><td>▁▄▆▇█████████████</td></tr><tr><td>eval/paraphrase-multilingual-MiniLM-L12-v2_max_f1</td><td>▁▃▅▇▇████████████</td></tr><tr><td>eval/paraphrase-multilingual-MiniLM-L12-v2_max_f1_threshold</td><td>█▂▁▂▂▂▂▂▂▂▂▂▂▂▁▂▂</td></tr><tr><td>eval/paraphrase-multilingual-MiniLM-L12-v2_max_precision</td><td>▁▃▅▇▇████████████</td></tr><tr><td>eval/paraphrase-multilingual-MiniLM-L12-v2_max_recall</td><td>█▄▁▂▅▆▆▇▇▇███████</td></tr><tr><td>eval/runtime</td><td>▁▁▁▁█▁▇▇██▁▁▁▁▁▁▁</td></tr><tr><td>eval/samples_per_second</td><td>████▁█▁▁▁▁▇▇▇█▇▇▇</td></tr><tr><td>eval/steps_per_second</td><td>████▁█▁▁▁▁▇▇▇█▇▇▇</td></tr><tr><td>train/epoch</td><td>▁▁▂▂▃▃▃▄▄▅▅▅▆▆▇▇████</td></tr><tr><td>train/global_step</td><td>▁▁▂▂▃▃▃▄▄▅▅▆▆▆▇▇█████</td></tr><tr><td>train/grad_norm</td><td>█▅▁</td></tr><tr><td>train/learning_rate</td><td>█▄▁</td></tr><tr><td>train/loss</td><td>█▂▁</td></tr></table><br/></div><div class=\"wandb-col\"><h3>Run summary:</h3><br/><table class=\"wandb\"><tr><td>eval/loss</td><td>0.00208</td></tr><tr><td>eval/paraphrase-multilingual-MiniLM-L12-v2_cosine_accuracy</td><td>0.98604</td></tr><tr><td>eval/paraphrase-multilingual-MiniLM-L12-v2_cosine_accuracy_threshold</td><td>0.82276</td></tr><tr><td>eval/paraphrase-multilingual-MiniLM-L12-v2_cosine_ap</td><td>0.99832</td></tr><tr><td>eval/paraphrase-multilingual-MiniLM-L12-v2_cosine_f1</td><td>0.98638</td></tr><tr><td>eval/paraphrase-multilingual-MiniLM-L12-v2_cosine_f1_threshold</td><td>0.82276</td></tr><tr><td>eval/paraphrase-multilingual-MiniLM-L12-v2_cosine_precision</td><td>0.97688</td></tr><tr><td>eval/paraphrase-multilingual-MiniLM-L12-v2_cosine_recall</td><td>0.99607</td></tr><tr><td>eval/paraphrase-multilingual-MiniLM-L12-v2_dot_accuracy</td><td>0.96211</td></tr><tr><td>eval/paraphrase-multilingual-MiniLM-L12-v2_dot_accuracy_threshold</td><td>15.2736</td></tr><tr><td>eval/paraphrase-multilingual-MiniLM-L12-v2_dot_ap</td><td>0.99287</td></tr><tr><td>eval/paraphrase-multilingual-MiniLM-L12-v2_dot_f1</td><td>0.96346</td></tr><tr><td>eval/paraphrase-multilingual-MiniLM-L12-v2_dot_f1_threshold</td><td>13.65616</td></tr><tr><td>eval/paraphrase-multilingual-MiniLM-L12-v2_dot_precision</td><td>0.9435</td></tr><tr><td>eval/paraphrase-multilingual-MiniLM-L12-v2_dot_recall</td><td>0.98428</td></tr><tr><td>eval/paraphrase-multilingual-MiniLM-L12-v2_euclidean_accuracy</td><td>0.97507</td></tr><tr><td>eval/paraphrase-multilingual-MiniLM-L12-v2_euclidean_accuracy_threshold</td><td>2.12989</td></tr><tr><td>eval/paraphrase-multilingual-MiniLM-L12-v2_euclidean_ap</td><td>0.99473</td></tr><tr><td>eval/paraphrase-multilingual-MiniLM-L12-v2_euclidean_f1</td><td>0.97551</td></tr><tr><td>eval/paraphrase-multilingual-MiniLM-L12-v2_euclidean_f1_threshold</td><td>2.12989</td></tr><tr><td>eval/paraphrase-multilingual-MiniLM-L12-v2_euclidean_precision</td><td>0.97266</td></tr><tr><td>eval/paraphrase-multilingual-MiniLM-L12-v2_euclidean_recall</td><td>0.97839</td></tr><tr><td>eval/paraphrase-multilingual-MiniLM-L12-v2_manhattan_accuracy</td><td>0.97408</td></tr><tr><td>eval/paraphrase-multilingual-MiniLM-L12-v2_manhattan_accuracy_threshold</td><td>30.47789</td></tr><tr><td>eval/paraphrase-multilingual-MiniLM-L12-v2_manhattan_ap</td><td>0.99455</td></tr><tr><td>eval/paraphrase-multilingual-MiniLM-L12-v2_manhattan_f1</td><td>0.97456</td></tr><tr><td>eval/paraphrase-multilingual-MiniLM-L12-v2_manhattan_f1_threshold</td><td>33.74235</td></tr><tr><td>eval/paraphrase-multilingual-MiniLM-L12-v2_manhattan_precision</td><td>0.97076</td></tr><tr><td>eval/paraphrase-multilingual-MiniLM-L12-v2_manhattan_recall</td><td>0.97839</td></tr><tr><td>eval/paraphrase-multilingual-MiniLM-L12-v2_max_accuracy</td><td>0.98604</td></tr><tr><td>eval/paraphrase-multilingual-MiniLM-L12-v2_max_accuracy_threshold</td><td>30.47789</td></tr><tr><td>eval/paraphrase-multilingual-MiniLM-L12-v2_max_ap</td><td>0.99832</td></tr><tr><td>eval/paraphrase-multilingual-MiniLM-L12-v2_max_f1</td><td>0.98638</td></tr><tr><td>eval/paraphrase-multilingual-MiniLM-L12-v2_max_f1_threshold</td><td>33.74235</td></tr><tr><td>eval/paraphrase-multilingual-MiniLM-L12-v2_max_precision</td><td>0.97688</td></tr><tr><td>eval/paraphrase-multilingual-MiniLM-L12-v2_max_recall</td><td>0.99607</td></tr><tr><td>eval/runtime</td><td>1.5518</td></tr><tr><td>eval/samples_per_second</td><td>646.346</td></tr><tr><td>eval/steps_per_second</td><td>20.621</td></tr><tr><td>total_flos</td><td>0.0</td></tr><tr><td>train/epoch</td><td>6.0</td></tr><tr><td>train/global_step</td><td>1506</td></tr><tr><td>train/grad_norm</td><td>0.0347</td></tr><tr><td>train/learning_rate</td><td>0.0</td></tr><tr><td>train/loss</td><td>0.0011</td></tr><tr><td>train_loss</td><td>0.00583</td></tr><tr><td>train_runtime</td><td>66619.7035</td></tr><tr><td>train_samples_per_second</td><td>0.723</td></tr><tr><td>train_steps_per_second</td><td>0.023</td></tr></table><br/></div></div>"
      ],
      "text/plain": [
       "<IPython.core.display.HTML object>"
      ]
     },
     "metadata": {},
     "output_type": "display_data"
    },
    {
     "data": {
      "text/html": [
       "You can sync this run to the cloud by running:<br/><code>wandb sync /Users/rjurney/Software/libpostal-reborn/wandb/offline-run-20240625_203921-qddhg33v<code>"
      ],
      "text/plain": [
       "<IPython.core.display.HTML object>"
      ]
     },
     "metadata": {},
     "output_type": "display_data"
    },
    {
     "data": {
      "text/html": [
       "Find logs at: <code>./wandb/offline-run-20240625_203921-qddhg33v/logs</code>"
      ],
      "text/plain": [
       "<IPython.core.display.HTML object>"
      ]
     },
     "metadata": {},
     "output_type": "display_data"
    }
   ],
   "source": [
    "wandb.finish()"
   ]
  },
  {
   "cell_type": "markdown",
   "id": "6739716e-4567-47e7-a49a-87228bc33f3f",
   "metadata": {},
   "source": [
    "### Rewrite our Matchers for Lowercase Duty\n",
    "\n",
    "Need two versions of these to compare the original with their new lowercase cousins."
   ]
  },
  {
   "cell_type": "code",
   "execution_count": 65,
   "id": "b9b1761b-001e-4fd8-b61a-7d31686bc9da",
   "metadata": {},
   "outputs": [],
   "source": [
    "def sbert_compare_lower(address1: str, address2: str) -> float:\n",
    "    \"\"\"sbert_compare - sentence encode each address into a fixed-length text embedding.\n",
    "    Fixed-length means they can be compared with cosine similarity.\"\"\"\n",
    "    embedding1 = sbert_model_lower.encode(address1.lower())\n",
    "    embedding2 = sbert_model_lower.encode(address2.lower())\n",
    "\n",
    "    # Compute cosine similarity\n",
    "    return 1 - distance.cosine(embedding1, embedding2)\n",
    "\n",
    "\n",
    "def sbert_match_lower(row: pd.Series) -> pd.Series:\n",
    "    \"\"\"sbert_match - SentenceTransformer address matching, float iytoyt\"\"\"\n",
    "    return sbert_compare_lower(row[\"Address1\"], row[\"Address2\"])\n",
    "\n",
    "\n",
    "def sbert_compare_binary_lower(address1: str, address2: str, threshold: float = 0.5) -> Literal[0, 1]:\n",
    "    \"\"\"sbert_match - compare and return a binary match\"\"\"\n",
    "    similarity = sbert_compare_lower(address1, address2)\n",
    "    return 1 if similarity >= threshold else 0\n",
    "\n",
    "\n",
    "def sbert_match_binary_lower(row: pd.Series, threshold: float = 0.5) -> pd.Series:\n",
    "    \"\"\"sbert_match_binary - SentenceTransformer address matching, binary output\"\"\"\n",
    "    return sbert_compare_binary_lower(row[\"Address1\"], row[\"Address2\"], threshold=threshold)"
   ]
  },
  {
   "cell_type": "markdown",
   "id": "e94e3805-efb3-4677-97a6-03f469484ac0",
   "metadata": {},
   "source": [
    "### Evaluate ROC Curve to Determine Optimum Similarity Threshold\n",
    "\n",
    "We need to evaluate the ROC Curve of the F1 score to see what it should be set to for our lowercase model too. Recall that the `sbert_match_lower` function has a `threshold: float = 0.5` argument.\n",
    "\n",
    "#### Evaluate on our Augmented Test Dataset\n",
    "\n",
    "First we'll evaluate the ROC curve on our augmented test dataset."
   ]
  },
  {
   "cell_type": "code",
   "execution_count": 66,
   "id": "245e39c8-4434-4e20-993e-b6dcf4b8bd53",
   "metadata": {},
   "outputs": [],
   "source": [
    "y_true = test_df[\"Label\"]\n",
    "y_scores = test_df.apply(sbert_match_lower, axis=1)"
   ]
  },
  {
   "cell_type": "code",
   "execution_count": 67,
   "id": "044d9937-5c3e-4e9a-aff2-e30aec095d5e",
   "metadata": {},
   "outputs": [
    {
     "name": "stdout",
     "output_type": "stream",
     "text": [
      "Best Threshold: 0.8438318181951601\n",
      "Best F1 Score: 0.9916743755781684\n",
      "AUC-ROC: 0.9983486341244961\n"
     ]
    }
   ],
   "source": [
    "# Compute precision-recall curve\n",
    "precision, recall, thresholds = precision_recall_curve(y_true, y_scores)\n",
    "\n",
    "# Compute F1 score for each threshold\n",
    "f1_scores = [f1_score(y_true, y_scores >= t) for t in thresholds]\n",
    "\n",
    "# Find the threshold that maximizes the F1 score\n",
    "best_threshold_index = np.argmax(f1_scores)\n",
    "best_threshold = thresholds[best_threshold_index]\n",
    "best_f1_score = f1_scores[best_threshold_index]\n",
    "\n",
    "print(f'Best Threshold: {best_threshold}')\n",
    "print(f'Best F1 Score: {best_f1_score}')\n",
    "\n",
    "roc_auc = roc_auc_score(y_true, y_scores)\n",
    "print(f'AUC-ROC: {roc_auc}')"
   ]
  },
  {
   "cell_type": "code",
   "execution_count": 68,
   "id": "aa3d1d6e-8ca0-4964-aa69-91e2e7ddffc3",
   "metadata": {},
   "outputs": [
    {
     "data": {
      "image/png": "[encoded data removed]",
      "text/plain": [
       "<Figure size 640x480 with 1 Axes>"
      ]
     },
     "metadata": {},
     "output_type": "display_data"
    }
   ],
   "source": [
    "# Create a DataFrame for Seaborn\n",
    "pr_data = pd.DataFrame({\n",
    "    'Precision': precision[:-1],\n",
    "    'Recall': recall[:-1],\n",
    "    'F1 Score': f1_scores\n",
    "})\n",
    "\n",
    "# Plot Precision-Recall curve using Seaborn\n",
    "sns.lineplot(data=pr_data, x='Recall', y='Precision', marker='o')\n",
    "plt.xlabel('Recall')\n",
    "plt.ylabel('Precision')\n",
    "plt.title('Augmented Test Set Precision-Recall Curve')\n",
    "plt.show()"
   ]
  },
  {
   "cell_type": "markdown",
   "id": "fe3a978d-6193-4968-99b3-65cfbd584c4e",
   "metadata": {},
   "source": [
    "### Plot a ROC Curve for our Gold Labeled Data\n",
    "\n",
    "We need to see the ROC Curve for our gold labeled data as well. We care more about performance on this data."
   ]
  },
  {
   "cell_type": "code",
   "execution_count": 69,
   "id": "afb225e7-ad73-4236-b4ea-49fbb1da3bab",
   "metadata": {},
   "outputs": [],
   "source": [
    "y_true = gold_df[\"Label\"]\n",
    "y_scores = gold_df.apply(sbert_match_lower, axis=1)"
   ]
  },
  {
   "cell_type": "code",
   "execution_count": 70,
   "id": "52d2c166-d6c2-481c-b573-f1c5ca6fd41b",
   "metadata": {},
   "outputs": [
    {
     "name": "stdout",
     "output_type": "stream",
     "text": [
      "Best Threshold: 0.9196061613581115\n",
      "Best F1 Score: 0.8235294117647058\n",
      "AUC-ROC: 0.7902439024390244\n"
     ]
    }
   ],
   "source": [
    "# Compute precision-recall curve\n",
    "precision, recall, thresholds = precision_recall_curve(y_true, y_scores)\n",
    "\n",
    "# Compute F1 score for each threshold\n",
    "f1_scores = [f1_score(y_true, y_scores >= t) for t in thresholds]\n",
    "\n",
    "# Find the threshold that maximizes the F1 score\n",
    "best_threshold_index = np.argmax(f1_scores)\n",
    "best_threshold = thresholds[best_threshold_index]\n",
    "best_f1_score = f1_scores[best_threshold_index]\n",
    "\n",
    "print(f'Best Threshold: {best_threshold}')\n",
    "print(f'Best F1 Score: {best_f1_score}')\n",
    "\n",
    "roc_auc = roc_auc_score(y_true, y_scores)\n",
    "print(f'AUC-ROC: {roc_auc}')"
   ]
  },
  {
   "cell_type": "code",
   "execution_count": 71,
   "id": "b50070e2-5c1e-4367-b5be-d1145d87e97a",
   "metadata": {},
   "outputs": [
    {
     "data": {
      "image/png": "[encoded data removed]",
      "text/plain": [
       "<Figure size 640x480 with 1 Axes>"
      ]
     },
     "metadata": {},
     "output_type": "display_data"
    }
   ],
   "source": [
    "# Create a DataFrame for Seaborn\n",
    "pr_data = pd.DataFrame({\n",
    "    'Precision': precision[:-1],\n",
    "    'Recall': recall[:-1],\n",
    "    'F1 Score': f1_scores\n",
    "})\n",
    "\n",
    "# Plot Precision-Recall curve using Seaborn\n",
    "sns.lineplot(data=pr_data, x='Recall', y='Precision', marker='o')\n",
    "plt.xlabel('Recall')\n",
    "plt.ylabel('Precision')\n",
    "plt.title('Gold Label Precision-Recall Curve')\n",
    "plt.show()"
   ]
  },
  {
   "cell_type": "code",
   "execution_count": 72,
   "id": "4958d260-90a9-417d-b200-df73e1869760",
   "metadata": {},
   "outputs": [
    {
     "data": {
      "text/plain": [
       "0.9602365981440013"
      ]
     },
     "execution_count": 72,
     "metadata": {},
     "output_type": "execute_result"
    }
   ],
   "source": [
    "sbert_compare_lower(\n",
    "    \"nw 5th ave\",\n",
    "    \"northwest 5th avenue\"\n",
    ")"
   ]
  },
  {
   "cell_type": "code",
   "execution_count": 73,
   "id": "a31be0a9-8281-4ed4-92e3-753a8f040ea4",
   "metadata": {},
   "outputs": [
    {
     "data": {
      "text/plain": [
       "0.8264309323810511"
      ]
     },
     "execution_count": 73,
     "metadata": {},
     "output_type": "execute_result"
    }
   ],
   "source": [
    "sbert_compare_lower(\n",
    "    \"101 market square, seattle, wa 98039\",\n",
    "    \"101 davis ct., seattle, wa 98039\"\n",
    ")"
   ]
  },
  {
   "cell_type": "markdown",
   "id": "0388ebba-f964-41ce-ab37-c9c295a45806",
   "metadata": {},
   "source": [
    "## Structured Prediction with a `Sentence-BERT` Classifier\n",
    "\n",
    "Embeddings as a solution to this problem have a side-effect of optimizing an embedding for information retrieval... but they ignore the structure of parsed addresses. A deep network that is aware of it can perform better. Let's try out an implementation of the Sentence-BERT model, which was outlined by Nils Reimers and Iryna Gurevych in the original paper that created sentence tranformers, [Sentence-BERT: Sentence Embeddings using Siamese BERT-Networks\n",
    "](https://arxiv.org/abs/1908.10084)."
   ]
  },
  {
   "cell_type": "code",
   "execution_count": 74,
   "id": "75976b16-ca9d-4005-9a51-e76a975f876e",
   "metadata": {},
   "outputs": [
    {
     "name": "stdout",
     "output_type": "stream",
     "text": [
      "Training data:   8,024\n",
      "Validation data: 1,003\n",
      "Test data        1,003\n"
     ]
    }
   ],
   "source": [
    "train_df, tmp_df = train_test_split(augment_results_df, test_size=0.2, shuffle=True)\n",
    "eval_df, test_df = train_test_split(tmp_df, test_size=0.5, random_state=42, shuffle=True)\n",
    "\n",
    "# Encode the addresses using [COL] / [VAL] special characters\n",
    "train_dataset = Dataset.from_dict({\n",
    "    \"sentence1\": [structured_encode_address(x) for x in train_df[\"Address1\"].tolist()],\n",
    "    \"sentence2\": [structured_encode_address(x) for x in train_df[\"Address2\"].tolist()],\n",
    "    \"label\": train_df[\"Label\"].tolist(),\n",
    "})\n",
    "\n",
    "# Encode the addresses using [COL] / [VAL] special characters\n",
    "eval_dataset = Dataset.from_dict({\n",
    "    \"sentence1\": [structured_encode_address(x) for x in eval_df[\"Address1\"].tolist()],\n",
    "    \"sentence2\": [structured_encode_address(x) for x in eval_df[\"Address2\"].tolist()],\n",
    "    \"label\": eval_df[\"Label\"].tolist(),\n",
    "})\n",
    "\n",
    "# Encode the addresses using [COL] / [VAL] special characters\n",
    "test_dataset = Dataset.from_dict({\n",
    "    \"sentence1\": [structured_encode_address(x) for x in test_df[\"Address1\"].tolist()],\n",
    "    \"sentence2\": [structured_encode_address(x) for x in test_df[\"Address2\"].tolist()],\n",
    "    \"label\": test_df[\"Label\"].tolist(),\n",
    "})\n",
    "\n",
    "print(f\"Training data:   {len(train_df):,}\")\n",
    "print(f\"Validation data: {len(eval_df):,}\")\n",
    "print(f\"Test data        {len(eval_df):,}\")"
   ]
  },
  {
   "cell_type": "code",
   "execution_count": 75,
   "id": "cc6f9841-6248-4e06-81b7-c5761fde354e",
   "metadata": {},
   "outputs": [],
   "source": [
    "SBERT_INPUT_MODEL = SBERT_LOWER_OUTPUT_FOLDER\n",
    "VARIANT = \"pre-trained-embeddings\"\n",
    "MODEL_SAVE_NAME = (\"Sentence-BERT\" + \"-\" + VARIANT).replace(\"/\", \"-\")\n",
    "\n",
    "EPOCHS = 15\n",
    "BATCH_SIZE = 32\n",
    "PATIENCE = 2\n",
    "LEARNING_RATE = 2e-5\n",
    "MODEL_OUTPUT_FOLDER = f\"data/{MODEL_SAVE_NAME}\"\n",
    "SAVE_EVAL_STEPS = 100"
   ]
  },
  {
   "cell_type": "code",
   "execution_count": 76,
   "id": "1dfb214a-2cbb-48d2-9e42-307aab992516",
   "metadata": {},
   "outputs": [],
   "source": [
    "# # Initialize Weights & Biases\n",
    "# wandb.init(\n",
    "#     entity=\"rjurney\",\n",
    "#     # set the wandb project where this run will be logged\n",
    "#     project=\"libpostal-reborn\",\n",
    "#     # track hyperparameters and run metadata\n",
    "#     config={\n",
    "#         \"model\": \"Sentence-BERT\",\n",
    "#         \"variant\": VARIANT,\n",
    "#         \"epochs\": EPOCHS,\n",
    "#         \"batch_size\": BATCH_SIZE,\n",
    "#         \"patience\": PATIENCE,\n",
    "#         \"learning_rate\": LEARNING_RATE,\n",
    "#         \"sbert_input_model\": SBERT_INPUT_MODEL,\n",
    "#         \"model_output_folder\": MODEL_OUTPUT_FOLDER,\n",
    "#         \"save_eval_steps\": SAVE_EVAL_STEPS,\n",
    "#         \"model_save_name\": MODEL_SAVE_NAME,\n",
    "#     },\n",
    "#     save_code=True,\n",
    "# )"
   ]
  },
  {
   "cell_type": "code",
   "execution_count": 145,
   "id": "249d7242-7fc9-4c1c-b7cc-2b4347355502",
   "metadata": {},
   "outputs": [],
   "source": [
    "class SentenceBERT(nn.Module):\n",
    "    def __init__(self, model_name=SBERT_MODEL_LOWER, dim=384):\n",
    "        super().__init__()\n",
    "        self.model_name = model_name\n",
    "        self.tokenizer = AutoTokenizer.from_pretrained(model_name)\n",
    "        self.model = AutoModel.from_pretrained(model_name)\n",
    "        self.sigmoid = nn.Sigmoid()\n",
    "\n",
    "        # # Update the input dimension of the FFNN to account for the new features\n",
    "        # self.ffnn = nn.Sequential(\n",
    "        #     nn.Linear(3 * dim, 1)\n",
    "        # )\n",
    "    \n",
    "        # Update the input dimension of the FFNN to account for the new features\n",
    "        self.ffnn = nn.Sequential(\n",
    "            nn.Linear(3 * dim, dim),  \n",
    "            nn.GELU(),\n",
    "            nn.Dropout(0.1),\n",
    "            nn.Linear(dim, 1)\n",
    "        )\n",
    "\n",
    "        # self.ffnn = nn.Sequential(\n",
    "        #     nn.Linear(4 * dim + 1, dim),\n",
    "        #     nn.GELU(),\n",
    "        #     nn.Dropout(0.1),\n",
    "        #     nn.Linear(dim, dim // 2),\n",
    "        #     nn.GELU(),\n",
    "        #     nn.Dropout(0.1),\n",
    "        #     nn.Linear(dim // 2, 1)\n",
    "        # )\n",
    "\n",
    "    @staticmethod\n",
    "    def mean_pool(token_embeds, attention_mask):\n",
    "        in_mask = attention_mask.unsqueeze(-1).expand(token_embeds.size()).float()\n",
    "        pool = torch.sum(token_embeds * in_mask, 1) / torch.clamp(in_mask.sum(1), min=1e-9)\n",
    "        return pool\n",
    "\n",
    "    def _check_similarity(self, a, b, mask_a, mask_b):\n",
    "        u = self.model(a, attention_mask=mask_a)[0]\n",
    "        v = self.model(b, attention_mask=mask_b)[0]\n",
    "        u = self.mean_pool(u, mask_a)\n",
    "        v = self.mean_pool(v, mask_b)\n",
    "\n",
    "        # Construct ( u, v, |u-v| ) same as sbert paper\n",
    "        uv = torch.sub(u, v)\n",
    "        uv_abs = torch.abs(uv)\n",
    "        x = torch.cat([u, v, uv_abs], dim=-1)\n",
    "        \n",
    "        x = self.sigmoid(self.ffnn(x).float())\n",
    "        return x\n",
    "\n",
    "    def check_similarity(self, a, b):\n",
    "        encoded_a = self.tokenizer(a, padding=True, truncation=True, return_tensors=\"pt\")\n",
    "        encoded_b = self.tokenizer(b, padding=True, truncation=True, return_tensors=\"pt\")\n",
    "        a = encoded_a[\"input_ids\"].to(self.model.device)\n",
    "        b = encoded_b[\"input_ids\"].to(self.model.device)\n",
    "        mask_a = encoded_a[\"attention_mask\"].to(self.model.device)\n",
    "        mask_b = encoded_b[\"attention_mask\"].to(self.model.device)\n",
    "        with torch.no_grad():\n",
    "            return self._check_similarity(a, b, mask_a, mask_b)\n",
    "\n",
    "    def forward(self, input_ids_a, input_ids_b, attention_mask_a=None, attention_mask_b=None, labels=None):\n",
    "        logits = self._check_similarity(input_ids_a, input_ids_b, attention_mask_a, attention_mask_b)\n",
    "        loss = None\n",
    "        if labels is not None:\n",
    "            loss_fct = nn.BCELoss()\n",
    "            labels = labels.float().unsqueeze(1)\n",
    "            probs = torch.sigmoid(logits)\n",
    "            loss = loss_fct(probs, labels)\n",
    "            return {\"loss\": loss, \"logits\": logits}\n",
    "        return {\"logits\": logits}\n",
    "\n",
    "    def predict(self, a: str, b: str):\n",
    "        with torch.no_grad():\n",
    "            probabilities = self.check_similarity(a, b)\n",
    "            predicted_class = (probabilities > 0.5).long().item()\n",
    "            return predicted_class, probabilities.item()"
   ]
  },
  {
   "cell_type": "code",
   "execution_count": 146,
   "id": "15494649-c8bc-495c-9a10-7516c315b6ff",
   "metadata": {},
   "outputs": [],
   "source": [
    "classifier_model = SentenceBERT()"
   ]
  },
  {
   "cell_type": "code",
   "execution_count": 147,
   "id": "4ee830c6-cea1-4113-b398-827e5f101643",
   "metadata": {},
   "outputs": [
    {
     "data": {
      "application/vnd.jupyter.widget-view+json": {
       "model_id": "beac27f5efec4288a0fc4ccf186c1a47",
       "version_major": 2,
       "version_minor": 0
      },
      "text/plain": [
       "Map:   0%|          | 0/8024 [00:00<?, ? examples/s]"
      ]
     },
     "metadata": {},
     "output_type": "display_data"
    },
    {
     "data": {
      "application/vnd.jupyter.widget-view+json": {
       "model_id": "a1a9d57054dc4d3db876b368f4e34b6b",
       "version_major": 2,
       "version_minor": 0
      },
      "text/plain": [
       "Map:   0%|          | 0/1003 [00:00<?, ? examples/s]"
      ]
     },
     "metadata": {},
     "output_type": "display_data"
    },
    {
     "data": {
      "application/vnd.jupyter.widget-view+json": {
       "model_id": "d1c857f4af694fad94831eac770d64d3",
       "version_major": 2,
       "version_minor": 0
      },
      "text/plain": [
       "Map:   0%|          | 0/1003 [00:00<?, ? examples/s]"
      ]
     },
     "metadata": {},
     "output_type": "display_data"
    }
   ],
   "source": [
    "tokenized_train_dataset = train_dataset.map(lambda x: tokenize_function(x, classifier_model), batched=True)\n",
    "tokenized_eval_dataset = eval_dataset.map(lambda x: tokenize_function(x, classifier_model), batched=True)\n",
    "tokenized_test_dataset = test_dataset.map(lambda x: tokenize_function(x, classifier_model), batched=True)\n",
    "\n",
    "tokenized_train_dataset = format_dataset(tokenized_train_dataset)\n",
    "tokenized_eval_dataset = format_dataset(tokenized_eval_dataset)\n",
    "tokenized_test_dataset = format_dataset(tokenized_test_dataset)"
   ]
  },
  {
   "cell_type": "code",
   "execution_count": null,
   "id": "e650246e-27b7-4135-bbf6-8320a8858b88",
   "metadata": {},
   "outputs": [
    {
     "data": {
      "text/html": [
       "\n",
       "    <div>\n",
       "      \n",
       "      <progress value='45' max='1506' style='width:300px; height:20px; vertical-align: middle;'></progress>\n",
       "      [  45/1506 01:16 < 43:27, 0.56 it/s, Epoch 0.18/6]\n",
       "    </div>\n",
       "    <table border=\"1\" class=\"dataframe\">\n",
       "  <thead>\n",
       " <tr style=\"text-align: left;\">\n",
       "      <th>Step</th>\n",
       "      <th>Training Loss</th>\n",
       "      <th>Validation Loss</th>\n",
       "    </tr>\n",
       "  </thead>\n",
       "  <tbody>\n",
       "  </tbody>\n",
       "</table><p>"
      ],
      "text/plain": [
       "<IPython.core.display.HTML object>"
      ]
     },
     "metadata": {},
     "output_type": "display_data"
    }
   ],
   "source": [
    "training_args = TrainingArguments(\n",
    "    output_dir=MODEL_OUTPUT_FOLDER,\n",
    "    learning_rate=LEARNING_RATE,\n",
    "    num_train_epochs=EPOCHS,\n",
    "    per_device_train_batch_size=BATCH_SIZE,\n",
    "    per_device_eval_batch_size=BATCH_SIZE,\n",
    "    warmup_ratio=0.1,\n",
    "    run_name=MODEL_SAVE_NAME,\n",
    "    load_best_model_at_end=True,\n",
    "    save_steps=SAVE_EVAL_STEPS,\n",
    "    eval_steps=SAVE_EVAL_STEPS,\n",
    "    save_strategy=\"steps\",\n",
    "    eval_strategy=\"steps\",\n",
    "    greater_is_better=False,\n",
    "    metric_for_best_model=\"eval_loss\",\n",
    "    weight_decay=0.01,\n",
    "    logging_dir=\"./logs\",\n",
    "    use_mps_device=True,\n",
    "    optim=\"adamw_torch\",\n",
    ")\n",
    "\n",
    "# Define RAdam optimizer function\n",
    "def build_radam_optimizer(model, lr):\n",
    "    return RAdam(model.parameters(), lr=lr)\n",
    "\n",
    "optimizer = build_radam_optimizer(classifier_model, lr=training_args.learning_rate)\n",
    "\n",
    "\n",
    "class CustomTrainer(Trainer):\n",
    "    def __init__(self, *args, **kwargs):\n",
    "        super().__init__(*args, **kwargs)\n",
    "        self.loss_fct = torch.nn.BCEWithLogitsLoss()\n",
    "\n",
    "    def compute_loss(self, model, inputs, return_outputs=False):\n",
    "        labels = inputs.get(\"labels\").float()\n",
    "        input_ids_a = inputs.get(\"input_ids_a\")\n",
    "        attention_mask_a = inputs.get(\"attention_mask_a\")\n",
    "        input_ids_b = inputs.get(\"input_ids_b\")\n",
    "        attention_mask_b = inputs.get(\"attention_mask_b\")\n",
    "        outputs = model(input_ids_a, input_ids_b, attention_mask_a, attention_mask_b)\n",
    "        loss = self.loss_fct(outputs['logits'].view(-1), labels.view(-1))\n",
    "        \n",
    "        return (loss, outputs) if return_outputs else loss\n",
    "\n",
    "trainer = CustomTrainer(\n",
    "    model=classifier_model,\n",
    "    args=training_args,\n",
    "    train_dataset=tokenized_train_dataset,\n",
    "    eval_dataset=tokenized_eval_dataset,\n",
    "    compute_metrics=compute_classifier_metrics,\n",
    "    callbacks=[EarlyStoppingCallback(early_stopping_patience=PATIENCE)],\n",
    "    optimizers=(optimizer, None),\n",
    ")\n",
    "\n",
    "# Train the model\n",
    "trainer.train()"
   ]
  },
  {
   "cell_type": "code",
   "execution_count": null,
   "id": "e0ce2275-6f76-4454-863a-1a3b8adcd829",
   "metadata": {},
   "outputs": [],
   "source": [
    "print(f\"Best model checkpoint path: {trainer.state.best_model_checkpoint}\")"
   ]
  },
  {
   "cell_type": "code",
   "execution_count": null,
   "id": "693e3cc0-8844-43af-a738-cc25f7778ecd",
   "metadata": {},
   "outputs": [],
   "source": [
    "# Evaluate the model\n",
    "pd.DataFrame([trainer.evaluate()])"
   ]
  },
  {
   "cell_type": "markdown",
   "id": "a393084f-aa67-48ad-ad08-93aaea71fb3b",
   "metadata": {},
   "source": [
    "### Save the Best Model\n",
    "\n",
    "Because we used `load_best_model_at_end=True`, our model is now the best one we fine-tuned. Save it."
   ]
  },
  {
   "cell_type": "code",
   "execution_count": null,
   "id": "c3812726-f59e-467a-9945-d7e9fcf2f2c8",
   "metadata": {},
   "outputs": [],
   "source": [
    "trainer.save_model(MODEL_OUTPUT_FOLDER)"
   ]
  },
  {
   "cell_type": "code",
   "execution_count": null,
   "id": "70abb3b9-a9e3-4280-a659-728aeec6c52d",
   "metadata": {},
   "outputs": [],
   "source": [
    "save_custom_model(classifier_model, \"data/classifier_model_for_tanmoy.pt\")"
   ]
  },
  {
   "cell_type": "code",
   "execution_count": null,
   "id": "c22cd20c-61be-47c4-9eba-eac14a1cc23b",
   "metadata": {},
   "outputs": [],
   "source": [
    "# wandb.finish()"
   ]
  },
  {
   "cell_type": "markdown",
   "id": "1abab52e-f77c-4fe9-8c99-9bc8d77adcb9",
   "metadata": {},
   "source": [
    "### Testing the Model"
   ]
  },
  {
   "cell_type": "code",
   "execution_count": null,
   "id": "d8112c70-6bbe-4ee1-bc0f-cacc51aa472c",
   "metadata": {},
   "outputs": [],
   "source": [
    "# classifier_model = load_custom_model(SentenceBERT, \"data/classifier_model_for_tanmoy.pt\", device=device)"
   ]
  },
  {
   "cell_type": "code",
   "execution_count": null,
   "id": "35b6b68f-c85f-4753-ace8-0a74e3471d1e",
   "metadata": {},
   "outputs": [],
   "source": [
    "classifier_model.predict(\"3413 Sean Way, Lawrenceville, GA 30044\", \"3413 Sean Way, Lawrenceville, GA 30044\")"
   ]
  },
  {
   "cell_type": "code",
   "execution_count": null,
   "id": "387a0065-5412-48e3-b5cb-d146aa4cd528",
   "metadata": {},
   "outputs": [],
   "source": [
    "classifier_model.predict(\"101 Oak Ct.,\", \"101 Oak Street, Philadelphia, PA\")"
   ]
  },
  {
   "cell_type": "code",
   "execution_count": null,
   "id": "a4265009-bf3e-467c-84fd-27d202cf5c0d",
   "metadata": {},
   "outputs": [],
   "source": [
    "classifier_model.predict(\"101 Oak Pl.\", \"101 Oak Place\")"
   ]
  },
  {
   "cell_type": "markdown",
   "id": "6c3d4025-ec9b-45cd-a3fd-b764ab1b9920",
   "metadata": {},
   "source": [
    "### Probability and Boolean Prediction Methods"
   ]
  },
  {
   "cell_type": "code",
   "execution_count": null,
   "id": "808a4f57-c875-4ec2-9bf1-4fc2a1971afb",
   "metadata": {},
   "outputs": [],
   "source": [
    "def classifier_match(row: pd.Series) -> pd.Series:\n",
    "    \"\"\"classifier_match - Sentence-BERT address matching, float output\"\"\"\n",
    "    return classifier_model.predict(row[\"Address1\"], row[\"Address2\"])[1]\n",
    "\n",
    "\n",
    "def classifier_match_boolean(row: pd.Series, threshold=0.5) -> pd.Series:\n",
    "    \"\"\"classifier_match_binary - Sentence-BERT address matching, boolean output\"\"\"\n",
    "    return 1 if classifier_model.predict(row[\"Address1\"], row[\"Address2\"])[1] > threshold else 0"
   ]
  },
  {
   "cell_type": "markdown",
   "id": "2f5f79c9-a93e-4d5c-ae1f-bc819e89847a",
   "metadata": {},
   "source": [
    "### Synthetic Data Evaluation"
   ]
  },
  {
   "cell_type": "code",
   "execution_count": null,
   "id": "6b6d6951-b186-40f0-913b-2e209b376439",
   "metadata": {},
   "outputs": [],
   "source": [
    "y_true = test_df[\"Label\"]\n",
    "y_scores = test_df.apply(classifier_match, axis=1)"
   ]
  },
  {
   "cell_type": "code",
   "execution_count": null,
   "id": "6d13decc-0983-4dac-936e-1c38c9e4eadb",
   "metadata": {},
   "outputs": [],
   "source": [
    "# Compute precision-recall curve\n",
    "precision, recall, thresholds = precision_recall_curve(y_true, y_scores)\n",
    "\n",
    "# Compute F1 score for each threshold\n",
    "f1_scores = [f1_score(y_true, y_scores >= t) for t in thresholds]\n",
    "\n",
    "# Find the threshold that maximizes the F1 score\n",
    "best_threshold_index = np.argmax(f1_scores)\n",
    "best_threshold = thresholds[best_threshold_index]\n",
    "best_f1_score = f1_scores[best_threshold_index]\n",
    "\n",
    "print(f'Best Threshold: {best_threshold}')\n",
    "print(f'Best F1 Score: {best_f1_score}')\n",
    "\n",
    "roc_auc = roc_auc_score(y_true, y_scores)\n",
    "print(f'AUC-ROC: {roc_auc}')\n",
    "\n",
    "# Create a DataFrame for Seaborn\n",
    "pr_data = pd.DataFrame({\n",
    "    'Precision': precision[:-1],\n",
    "    'Recall': recall[:-1],\n",
    "    'F1 Score': f1_scores\n",
    "})"
   ]
  },
  {
   "cell_type": "code",
   "execution_count": null,
   "id": "5b571184-2b27-4a40-9969-02fec11c4e4c",
   "metadata": {},
   "outputs": [],
   "source": [
    "# Plot Precision-Recall curve using Seaborn\n",
    "sns.lineplot(data=pr_data, x='Recall', y='Precision', marker='o')\n",
    "plt.xlabel('Recall')\n",
    "plt.ylabel('Precision')\n",
    "plt.title('Augmented Test Set Precision-Recall Curve')\n",
    "plt.show()"
   ]
  },
  {
   "cell_type": "markdown",
   "id": "5f55d107-561c-4bf7-afe4-f78172c16ae2",
   "metadata": {},
   "source": [
    "### Gold Label Evaluation"
   ]
  },
  {
   "cell_type": "code",
   "execution_count": null,
   "id": "31b262d8-346d-4d14-8947-7c3f61302c46",
   "metadata": {},
   "outputs": [],
   "source": [
    "y_true = gold_df[\"Label\"]\n",
    "y_scores = gold_df.apply(classifier_match, axis=1)"
   ]
  },
  {
   "cell_type": "code",
   "execution_count": null,
   "id": "af49aa98-4a18-4389-bf00-ee6d10948dd2",
   "metadata": {},
   "outputs": [],
   "source": [
    "# Compute precision-recall curve\n",
    "precision, recall, thresholds = precision_recall_curve(y_true, y_scores)\n",
    "\n",
    "# Compute F1 score for each threshold\n",
    "f1_scores = [f1_score(y_true, y_scores >= t) for t in thresholds]\n",
    "\n",
    "# Find the threshold that maximizes the F1 score\n",
    "best_threshold_index = np.argmax(f1_scores)\n",
    "best_threshold = thresholds[best_threshold_index]\n",
    "best_f1_score = f1_scores[best_threshold_index]\n",
    "\n",
    "print(f'Best Threshold: {best_threshold}')\n",
    "print(f'Best F1 Score: {best_f1_score}')\n",
    "\n",
    "roc_auc = roc_auc_score(y_true, y_scores)\n",
    "print(f'AUC-ROC: {roc_auc}')\n",
    "\n",
    "# Create a DataFrame for Seaborn\n",
    "pr_data = pd.DataFrame({\n",
    "    'Precision': precision[:-1],\n",
    "    'Recall': recall[:-1],\n",
    "    'F1 Score': f1_scores\n",
    "})"
   ]
  },
  {
   "cell_type": "code",
   "execution_count": null,
   "id": "6b672998-93d9-4091-959d-203002de9a5f",
   "metadata": {},
   "outputs": [],
   "source": [
    "# Plot Precision-Recall curve using Seaborn\n",
    "sns.lineplot(data=pr_data, x='Recall', y='Precision', marker='o')\n",
    "plt.xlabel('Recall')\n",
    "plt.ylabel('Precision')\n",
    "plt.title('Gold Label Precision-Recall Curve')\n",
    "plt.show()"
   ]
  },
  {
   "cell_type": "code",
   "execution_count": null,
   "id": "e135a0db-3cdb-4d1e-a0ce-9ccf97ca2b19",
   "metadata": {},
   "outputs": [],
   "source": [
    "raw_df, grouped_df = gold_label_report(\n",
    "    gold_df,\n",
    "    [\n",
    "        # sbert_match_binary,\n",
    "        classifier_match_boolean,\n",
    "    ],\n",
    "    threshold=best_threshold\n",
    ")"
   ]
  },
  {
   "cell_type": "code",
   "execution_count": null,
   "id": "087f4277-693a-44d1-b7b2-81895d7b4100",
   "metadata": {},
   "outputs": [],
   "source": [
    "grouped_df"
   ]
  },
  {
   "cell_type": "code",
   "execution_count": null,
   "id": "c4cde90e-b2db-401a-8a7b-0dd3e24edb6a",
   "metadata": {},
   "outputs": [],
   "source": [
    "# Truthiness analysis\n",
    "correct_df = raw_df[raw_df[\"classifier_match_boolean_correct\"]].reset_index(drop=True)\n",
    "print(f\"Number correct: {len(correct_df):,}\")\n",
    "\n",
    "correct_df.head(20)"
   ]
  },
  {
   "cell_type": "code",
   "execution_count": null,
   "id": "06ed830e-88ff-4c92-addb-ea73f60a5edf",
   "metadata": {},
   "outputs": [],
   "source": [
    "# Error analysis\n",
    "wrong_df = raw_df[raw_df[\"classifier_match_boolean_correct\"] == False].reset_index()\n",
    "print(f\"Number wrong: {len(wrong_df):,}\")\n",
    "\n",
    "wrong_df.head(20)"
   ]
  },
  {
   "cell_type": "code",
   "execution_count": null,
   "id": "54205060-4522-4bea-840a-fc0aede13d20",
   "metadata": {},
   "outputs": [],
   "source": [
    "classifier_model.predict(\n",
    "    \"101 Oak Lane, Atlanta, GA 30308\",\n",
    "    \"102 Oak Lane, Atlanta, GA 30308\",\n",
    ")"
   ]
  },
  {
   "cell_type": "code",
   "execution_count": null,
   "id": "37beb453-3084-4e3f-b635-c4f9882f12e4",
   "metadata": {},
   "outputs": [],
   "source": [
    "classifier_model.predict(\n",
    "    \"101 Oak Lane, Macon, GA 30308\",\n",
    "    \"101 Oak Lane, Atlanta, GA 30408\",\n",
    ")"
   ]
  },
  {
   "cell_type": "code",
   "execution_count": null,
   "id": "29452c9c-abb1-49b7-819e-b0a42ede9440",
   "metadata": {},
   "outputs": [],
   "source": [
    "classifier_model.predict(\n",
    "    \"101 Oak Lane, Atlanta, GA 30308\",\n",
    "    \"101 Oak Ln., Atlanta, GA 30308\",\n",
    ")"
   ]
  },
  {
   "cell_type": "code",
   "execution_count": null,
   "id": "3d97d1c0-4e93-47a2-b52d-7c5be5ce555d",
   "metadata": {},
   "outputs": [],
   "source": [
    "classifier_model.predict(\n",
    "    \"3413 Sean Way, Lawrenceville, GA 30044\",\n",
    "    \"1202 Oak Rd., Lawrenceville, GA 30304\",\n",
    ")"
   ]
  },
  {
   "cell_type": "code",
   "execution_count": null,
   "id": "4972bc19-ba6b-4e0b-80cc-80baf013ce49",
   "metadata": {},
   "outputs": [],
   "source": [
    "classifier_model.predict(\n",
    "    \"3413 Sean Way, Lawrenceville, GA 30044\",\n",
    "    \"3413 Sean Way, Lawrenceville, GA 30044, USA\",\n",
    ")"
   ]
  },
  {
   "cell_type": "code",
   "execution_count": null,
   "id": "3b3a3f91-9a58-4a7b-986c-9d27d23dd98a",
   "metadata": {},
   "outputs": [],
   "source": []
  }
 ],
 "metadata": {
  "kernelspec": {
   "display_name": "Python 3 (ipykernel)",
   "language": "python",
   "name": "python3"
  },
  "language_info": {
   "codemirror_mode": {
    "name": "ipython",
    "version": 3
   },
   "file_extension": ".py",
   "mimetype": "text/x-python",
   "name": "python",
   "nbconvert_exporter": "python",
   "pygments_lexer": "ipython3",
   "version": "3.11.9"
  }
 },
 "nbformat": 4,
 "nbformat_minor": 5
}
