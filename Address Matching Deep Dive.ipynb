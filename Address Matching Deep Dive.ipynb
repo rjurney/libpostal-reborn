{
 "cells": [
  {
   "cell_type": "markdown",
   "id": "1d0f6845-e53f-4e9b-be24-0e376269f522",
   "metadata": {},
   "source": [
    "# Address Matching Deep Dive\n",
    "\n",
    "This notebook experiments with different ways of comparing addresses in order to demonstrate the power of parsed address comparison."
   ]
  },
  {
   "cell_type": "code",
   "execution_count": 1,
   "id": "8feab8c8-a116-40f9-a882-5a932140af26",
   "metadata": {},
   "outputs": [],
   "source": [
    "import json\n",
    "import logging\n",
    "import os\n",
    "import re\n",
    "import sys\n",
    "import time\n",
    "import warnings\n",
    "from numbers import Number\n",
    "from typing import Callable, Dict, List, Literal, Sequence, Tuple, Union\n",
    "\n",
    "import matplotlib.pyplot as plt\n",
    "import numpy as np\n",
    "import pandas as pd\n",
    "import pyarrow as pa\n",
    "import pyarrow.parquet as pq\n",
    "import pyarrow.dataset as ds\n",
    "import pycountry\n",
    "import pytest\n",
    "import random\n",
    "import seaborn as sns\n",
    "import torch\n",
    "import torch.nn as nn\n",
    "import wandb\n",
    "from datasets import Dataset\n",
    "from fuzzywuzzy import fuzz\n",
    "\n",
    "from postal.parser import parse_address\n",
    "from scipy.spatial import distance\n",
    "from sklearn.metrics import (\n",
    "    accuracy_score,\n",
    "    precision_recall_curve,\n",
    "    precision_recall_fscore_support,\n",
    "    precision_score,\n",
    "    recall_score,\n",
    "    f1_score,\n",
    "    roc_auc_score,\n",
    "    roc_curve,\n",
    "    auc\n",
    ")\n",
    "from sklearn.model_selection import train_test_split\n",
    "from sentence_transformers import InputExample, SentenceTransformer, SentencesDataset, SentenceTransformerTrainer, losses\n",
    "from sentence_transformers.evaluation import EmbeddingSimilarityEvaluator, SimilarityFunction, BinaryClassificationEvaluator\n",
    "from sentence_transformers.model_card import SentenceTransformerModelCardData\n",
    "from sentence_transformers.training_args import BatchSamplers, SentenceTransformerTrainingArguments\n",
    "from tenacity import retry\n",
    "from torch.utils.data import DataLoader\n",
    "from tqdm.autonotebook import tqdm\n",
    "from transformers import AutoTokenizer, AutoModel, EarlyStoppingCallback, TrainingArguments, Trainer\n",
    "from transformers.integrations import WandbCallback\n",
    "\n",
    "from utils import (\n",
    "    augment_gold_labels,\n",
    "    compute_sbert_metrics,\n",
    "    compute_classifier_metrics,\n",
    "    gold_label_report,\n",
    "    preprocess_logits_for_metrics,\n",
    "    to_dict,\n",
    "    prettify_df,\n",
    ")"
   ]
  },
  {
   "cell_type": "code",
   "execution_count": 2,
   "id": "e508b00c-0011-4845-a4d6-cd131ec5b6e2",
   "metadata": {},
   "outputs": [],
   "source": [
    "logging.basicConfig(stream=sys.stderr, level=logging.ERROR)\n",
    "\n",
    "logger = logging.getLogger(__name__)"
   ]
  },
  {
   "cell_type": "markdown",
   "id": "2912a2be-9e56-4bf9-94fc-3dbcfd02ef17",
   "metadata": {},
   "source": [
    "#### Ignore Warnings"
   ]
  },
  {
   "cell_type": "code",
   "execution_count": 3,
   "id": "18cd4a2c-f1f5-4c82-8c15-a52dc87db947",
   "metadata": {},
   "outputs": [],
   "source": [
    "warnings.simplefilter('ignore', FutureWarning)"
   ]
  },
  {
   "cell_type": "markdown",
   "id": "78ba8945-a02c-4661-a865-c03ee6eecebe",
   "metadata": {},
   "source": [
    "#### Configure Weights & Biases\n",
    "\n",
    "`wandb` needs some environment variables to work."
   ]
  },
  {
   "cell_type": "code",
   "execution_count": 4,
   "id": "9491984a-c9fb-40d5-8fb0-743b77d15c21",
   "metadata": {},
   "outputs": [],
   "source": [
    "os.environ[\"WANDB_LOG_MODEL\"] = \"end\"\n",
    "os.environ[\"WANDB_WATCH\"] = \"all\"\n",
    "os.environ[\"WANDB_PROJECT\"] = \"libpostal-reborn\"\n",
    "os.environ[\"WANDB_DISABLED\"] = \"false\"\n",
    "os.environ[\"WANDB_IGNORE_GLOBS\"] = \".env\""
   ]
  },
  {
   "cell_type": "markdown",
   "id": "79e1d411-e2a5-4824-9309-ff50861a0e19",
   "metadata": {},
   "source": [
    "#### Configure Huggingface APIs"
   ]
  },
  {
   "cell_type": "code",
   "execution_count": 5,
   "id": "62d0d44b-c38a-48ca-a3b1-895b5b8c320b",
   "metadata": {},
   "outputs": [],
   "source": [
    "os.environ[\"HF_ENDPOINT\"] = \"https://huggingface.co/\""
   ]
  },
  {
   "cell_type": "markdown",
   "id": "ef7462e0-b3d1-4d76-bd7a-803cbd2f3446",
   "metadata": {},
   "source": [
    "#### Configure Huggingface APIs\n",
    "\n",
    "Squash any warnings..."
   ]
  },
  {
   "cell_type": "code",
   "execution_count": 6,
   "id": "5fcde550-79a6-4333-967e-c80d555de5b8",
   "metadata": {},
   "outputs": [],
   "source": [
    "os.environ[\"TOKENIZERS_PARALLELISM\"] = \"false\""
   ]
  },
  {
   "cell_type": "markdown",
   "id": "42913e46-e5db-4eff-9410-5a8449d4cbf6",
   "metadata": {},
   "source": [
    "#### Configure Pandas to Show More Rows"
   ]
  },
  {
   "cell_type": "code",
   "execution_count": 7,
   "id": "b2d4cb15-b201-4f34-8917-d292dd2a1876",
   "metadata": {},
   "outputs": [],
   "source": [
    "pd.set_option(\"display.max_rows\", 40)\n",
    "pd.set_option(\"display.max_columns\", None)"
   ]
  },
  {
   "cell_type": "markdown",
   "id": "aad42226-1abc-4c29-b68d-659d330ba1f9",
   "metadata": {},
   "source": [
    "### Use CUDA or MPS if Avaialable\n",
    "\n",
    "CPU training and even inference with sentence transformers and deep learning models is quite slow. Since all machine learning in this library is based on [PyTorch](https://pytorch.org/get-started/locally/), we can assign all ML operations to a GPU in this one block of code. Otherwise we default to CPU without acceleration. The notebook is still workable in this mode, you just may need to grab a cup of tea or coffee while you wait for it to train the Sentence-BERT model below."
   ]
  },
  {
   "cell_type": "code",
   "execution_count": 8,
   "id": "1051aa37-26b7-496a-8182-f10cfa1f5f6d",
   "metadata": {},
   "outputs": [
    {
     "data": {
      "text/plain": [
       "device(type='mps')"
      ]
     },
     "execution_count": 8,
     "metadata": {},
     "output_type": "execute_result"
    }
   ],
   "source": [
    "# Check for CUDA or MPS availability and set the device\n",
    "if torch.backends.mps.is_available():\n",
    "    device = torch.device(\"mps\")\n",
    "    logger.debug(\"Using Apple GPU acceleration\")\n",
    "elif torch.cuda.is_available():\n",
    "    device = torch.device(\"cuda\")\n",
    "    logger.debug(\"Using NVIDIA CUDA GPU acceleration\")\n",
    "else:\n",
    "    device = \"cpu\"\n",
    "    logger.debug(\"Using CPU for ML\")\n",
    "\n",
    "device"
   ]
  },
  {
   "cell_type": "markdown",
   "id": "921a41eb-4e6b-4d64-a3b4-46013524e37c",
   "metadata": {},
   "source": [
    "### Use Weights & Biases for Logging Metrics\n",
    "\n",
    "Weights & Biases has a free account for individuals with public projects. Using it will produce charts during our training runs that anyone can view. You can create your own project for this notebook and login with that key to log your own training runs.\n",
    "\n",
    "You may need to run the following command from your shell before the next cell, otherwise you will have to paste your project key into the \n",
    "\n",
    "```bash\n",
    "wandb login\n",
    "```"
   ]
  },
  {
   "cell_type": "code",
   "execution_count": 9,
   "id": "d98cdf2f-fcb9-495e-9201-80f9e07d9070",
   "metadata": {},
   "outputs": [
    {
     "name": "stderr",
     "output_type": "stream",
     "text": [
      "\u001b[34m\u001b[1mwandb\u001b[0m: Currently logged in as: \u001b[33mrjurney\u001b[0m. Use \u001b[1m`wandb login --relogin`\u001b[0m to force relogin\n"
     ]
    },
    {
     "data": {
      "text/plain": [
       "True"
      ]
     },
     "execution_count": 9,
     "metadata": {},
     "output_type": "execute_result"
    }
   ],
   "source": [
    "# Login to wandb. Comment out if you already haven't via `wandb login` from a CLI\n",
    "wandb.login()"
   ]
  },
  {
   "cell_type": "markdown",
   "id": "85701b19-a5e1-42c4-9ace-8d88d96f893f",
   "metadata": {},
   "source": [
    "## Implementing a Structured Address Matcher\n",
    "\n",
    "Let's start our exercise by using the structured address data provided by [Libpostal](https://github.com/openvenues/libpostal) to parse them for matching. We write a function for each address part to deal with missing fields without duplicating a lot of logic.\n",
    "\n",
    "We start with something quite literal and basic. We'll improve it as we go."
   ]
  },
  {
   "cell_type": "code",
   "execution_count": 10,
   "id": "44031098-15b5-45ef-b1d0-8a51a9838bd6",
   "metadata": {},
   "outputs": [],
   "source": [
    "def parse_match_address(address1: str, address2: str) -> Literal[0, 1]:\n",
    "    \"\"\"parse_match_address implements address matching using the precise, parsed structure of addresses.\"\"\"\n",
    "    address1 = to_dict(parse_address(address1))\n",
    "    address2 = to_dict(parse_address(address2))\n",
    "\n",
    "    def match_road(address1: Dict, address2: Dict) -> Literal[0, 1]:\n",
    "        \"\"\"match_road - literal road matching, negative if either lacks a road\"\"\"\n",
    "        if (\"road\" in address1) and (\"road\" in address2):\n",
    "            if address1[\"road\"] == address2[\"road\"]:\n",
    "                logger.debug(\"road match\")\n",
    "                return 1\n",
    "            else:\n",
    "                logger.debug(\"road mismatch\")\n",
    "                return 0\n",
    "        logger.debug(\"road mismatch\")\n",
    "        return 0\n",
    "\n",
    "    def match_house_number(address1: Dict, address2: Dict) -> Literal[0, 1]:\n",
    "        \"\"\"match_house_number - literal house number matching, negative if either lacks a house_number\"\"\"\n",
    "        if (\"house_number\" in address1) and (\"house_number\" in address2):\n",
    "            if address1[\"house_number\"] == address2[\"house_number\"]:\n",
    "                logger.debug(\"house_number match\")\n",
    "                return 1\n",
    "            else:\n",
    "                logger.debug(\"house_number mismatch\")\n",
    "                return 0\n",
    "        logger.debug(\"house_number mistmatch\")\n",
    "        return 0\n",
    "\n",
    "    def match_unit(address1: Dict, address2: Dict) -> Literal[0, 1]:\n",
    "        \"\"\"match_unit - note a missing unit in both is a match\"\"\"\n",
    "        if \"unit\" in address1:\n",
    "            if \"unit\" in address2:\n",
    "                logger.debug(\"unit match\")\n",
    "                return 1 if (address1[\"unit\"] == address2[\"unit\"]) else 0\n",
    "            else:\n",
    "                logger.debug(\"unit mismatch\")\n",
    "                return 0\n",
    "        if \"unit\" in address2:\n",
    "            if \"unit\" in address1:\n",
    "                logger.debug(\"unit match\")\n",
    "                return 1 if (address1[\"unit\"] == address2[\"unit\"]) else 0\n",
    "            else:\n",
    "                logger.debug(\"unit mismatch\")\n",
    "                return 0\n",
    "        # Neither address has a unit, which is a default match\n",
    "        return 1\n",
    "\n",
    "    def match_postcode(address1: Dict, address2: Dict) -> Literal[0, 1]:\n",
    "        \"\"\"match_postcode - literal matching, negative if either lacks a postal code\"\"\"\n",
    "        if (\"postcode\" in address1) and (\"postcode\" in address2):\n",
    "            if address1[\"postcode\"] == address2[\"postcode\"]:\n",
    "                logger.debug(\"postcode match\")\n",
    "                return 1\n",
    "            else:\n",
    "                logger.debug(\"postcode mismatch\")\n",
    "                return 0\n",
    "        logger.debug(\"postcode mismatch\")\n",
    "        return 0\n",
    "\n",
    "    def match_country(address1: Dict, address2: Dict) -> Literal[0, 1]:\n",
    "        \"\"\"match_country - literal country matching - pass if both don't have one\"\"\"\n",
    "        if (\"country\" in address1) and (\"country\" in address2):\n",
    "            if address1[\"country\"] == address2[\"country\"]:\n",
    "                logger.debug(\"country match\")\n",
    "                return 1\n",
    "            else:\n",
    "                logger.debug(\"country mismatch\")\n",
    "                return 0\n",
    "        # One or none countries should match\n",
    "        logger.debug(\"country match\")\n",
    "        return 1\n",
    "\n",
    "    # Combine the above to get a complete address matcher\n",
    "    if (\n",
    "        match_road(address1, address2)\n",
    "        and match_house_number(address1, address2)\n",
    "        and match_unit(address1, address2)\n",
    "        and match_postcode(address1, address2)\n",
    "        and match_country(address1, address2)\n",
    "    ):\n",
    "        logger.debug(\"overall match\")\n",
    "        return 1\n",
    "    else:\n",
    "        logger.debug(\"overall mismatch\")\n",
    "        return 0"
   ]
  },
  {
   "cell_type": "code",
   "execution_count": 11,
   "id": "a9f67113-6f5f-45cb-9f4c-4ee0a4362de1",
   "metadata": {},
   "outputs": [
    {
     "data": {
      "text/plain": [
       "1"
      ]
     },
     "execution_count": 11,
     "metadata": {},
     "output_type": "execute_result"
    }
   ],
   "source": [
    "# Yup down to house_number ...\n",
    "parse_match_address(\n",
    "    \"3413 Sean Way, Lawrenceville, GA 30044\",\n",
    "    \"3413 Sean Way Lawrenceville, GA, 30044\",\n",
    ")"
   ]
  },
  {
   "cell_type": "code",
   "execution_count": 12,
   "id": "3ea361bd-56df-4980-a060-1d7e743af38e",
   "metadata": {},
   "outputs": [
    {
     "data": {
      "text/plain": [
       "97"
      ]
     },
     "execution_count": 12,
     "metadata": {},
     "output_type": "execute_result"
    }
   ],
   "source": [
    "fuzz.ratio(\n",
    "    \"3413 Sean Way, Lawrenceville, GA 30044\",\n",
    "    \"3413 Sean Way Lawrenceville, GA, 30044\",\n",
    ")"
   ]
  },
  {
   "cell_type": "code",
   "execution_count": 13,
   "id": "797ace98-a912-4c45-b178-6c6201f58bf9",
   "metadata": {},
   "outputs": [
    {
     "data": {
      "text/plain": [
       "1"
      ]
     },
     "execution_count": 13,
     "metadata": {},
     "output_type": "execute_result"
    }
   ],
   "source": [
    "# Yup down to unit ...\n",
    "parse_match_address(\n",
    "    \"120 Ralph McGill Blvd, Apt 101, Atlanta, GA 30308, USA\",\n",
    "    \"120 Ralph McGill Blvd, Apt 101, Atlanta GA 30308\",\n",
    ")"
   ]
  },
  {
   "cell_type": "code",
   "execution_count": 14,
   "id": "5caf28fb-64e1-447f-a996-6d0d9e67bb9f",
   "metadata": {},
   "outputs": [
    {
     "data": {
      "text/plain": [
       "94"
      ]
     },
     "execution_count": 14,
     "metadata": {},
     "output_type": "execute_result"
    }
   ],
   "source": [
    "fuzz.ratio(\n",
    "    \"120 Ralph McGill Blvd, Apt 101, Atlanta, GA 30308, USA\",\n",
    "    \"120 Ralph McGill Blvd, Apt 101, Atlanta GA 30308\",\n",
    ")"
   ]
  },
  {
   "cell_type": "code",
   "execution_count": 15,
   "id": "7b949ebe-8889-498c-a601-904c2c5c1433",
   "metadata": {},
   "outputs": [
    {
     "data": {
      "text/plain": [
       "0"
      ]
     },
     "execution_count": 15,
     "metadata": {},
     "output_type": "execute_result"
    }
   ],
   "source": [
    "# Nope if only one uses an abbreviation ...\n",
    "parse_match_address(\n",
    "    \"120 Ralph McGill Blvd, Apt 333, Atlanta, GA 30308\",\n",
    "    \"120 Ralph McGill Boulevard, Apt 333, Atlanta, GA 30308\",\n",
    ")"
   ]
  },
  {
   "cell_type": "code",
   "execution_count": 16,
   "id": "108b88c9-9aca-4a13-80f9-2c88dbe77afe",
   "metadata": {},
   "outputs": [
    {
     "data": {
      "text/plain": [
       "95"
      ]
     },
     "execution_count": 16,
     "metadata": {},
     "output_type": "execute_result"
    }
   ],
   "source": [
    "fuzz.ratio(\n",
    "    \"120 Ralph McGill Blvd, Apt 333, Atlanta, GA 30308\",\n",
    "    \"120 Ralph McGill Boulevard, Apt 333, Atlanta, GA 30308\",\n",
    ")"
   ]
  },
  {
   "cell_type": "code",
   "execution_count": 17,
   "id": "498ab13c-1457-4c4c-95ff-2f691f697738",
   "metadata": {},
   "outputs": [
    {
     "data": {
      "text/plain": [
       "0"
      ]
     },
     "execution_count": 17,
     "metadata": {},
     "output_type": "execute_result"
    }
   ],
   "source": [
    "# Nope if one character in the streetname is off ...\n",
    "parse_match_address(\n",
    "    \"120 Ralp McGill Blvd, Apt 333, Atlanta, GA 30308\",\n",
    "    \"120 Ralph McGill Blvd, Apt 333, Atlanta, GA 30308\",\n",
    ")"
   ]
  },
  {
   "cell_type": "code",
   "execution_count": 18,
   "id": "6681fa67-bdf4-43b0-984d-8c91e5cbf902",
   "metadata": {},
   "outputs": [
    {
     "data": {
      "text/plain": [
       "99"
      ]
     },
     "execution_count": 18,
     "metadata": {},
     "output_type": "execute_result"
    }
   ],
   "source": [
    "fuzz.ratio(\n",
    "    \"120 Ralp McGill Blvd, Apt 333, Atlanta, GA 30308\",\n",
    "    \"120 Ralph McGill Blvd, Apt 333, Atlanta, GA 30308\",\n",
    ")"
   ]
  },
  {
   "cell_type": "markdown",
   "id": "61f1a4c5-0bcd-4c52-b5d7-7be7ad1932ea",
   "metadata": {},
   "source": [
    "### Literal is Too Precise!\n",
    "\n",
    "While it is useful to parse addresses and implement literal matching logic as we did above, as the third example indicates, an abbreviation or a single typo results in a mistmatch. We're going to write a more complex, approximate logical matcher below using string distance and text embeddings.\n",
    "\n",
    "Depending on your application you might relax this criteria to include corner cases such as missing postcodes. Before we get into that, let's create some training and evaluation data using hand-labeled data with an LLM data augmentation strategy to generate a lot of labeled records."
   ]
  },
  {
   "cell_type": "markdown",
   "id": "15895b85-1d0f-441c-9d20-0849b3db3b22",
   "metadata": {},
   "source": [
    "## Data Augmentation with the OpenAI GPT4o API\n",
    "\n",
    "We need training data for our supervised learning approaches to addres matching. Open the sister notebook [Address Data Augmentation.ipynb](Address%20Matching%20Deep%20Dive.ipynb) before procceeding to further cells in order to create some training data via minimal manual labeling and programmatic data labeling for data augmentation. This will teach you programmatic data labeling, a critical skill that LLMs make MUCH EASIER because they understand things like the semantics of global addresses."
   ]
  },
  {
   "cell_type": "code",
   "execution_count": 19,
   "id": "833e8045-5cd3-4b5a-9cd3-afc65965062a",
   "metadata": {},
   "outputs": [],
   "source": [
    "gold_df = pd.read_csv(\"data/gold.csv\")"
   ]
  },
  {
   "cell_type": "code",
   "execution_count": 20,
   "id": "d6382fc3-ca84-4d17-9d74-354ab798d21c",
   "metadata": {},
   "outputs": [
    {
     "data": {
      "text/html": [
       "<div>\n",
       "<style scoped>\n",
       "    .dataframe tbody tr th:only-of-type {\n",
       "        vertical-align: middle;\n",
       "    }\n",
       "\n",
       "    .dataframe tbody tr th {\n",
       "        vertical-align: top;\n",
       "    }\n",
       "\n",
       "    .dataframe thead th {\n",
       "        text-align: right;\n",
       "    }\n",
       "</style>\n",
       "<table border=\"1\" class=\"dataframe\">\n",
       "  <thead>\n",
       "    <tr style=\"text-align: right;\">\n",
       "      <th></th>\n",
       "      <th>Address1</th>\n",
       "      <th>Address2</th>\n",
       "      <th>Description</th>\n",
       "      <th>Label</th>\n",
       "    </tr>\n",
       "  </thead>\n",
       "  <tbody>\n",
       "    <tr>\n",
       "      <th>0</th>\n",
       "      <td>123 E Main St, Springfield, IL 62701</td>\n",
       "      <td>123 East Main Street, Springfield, Illinois 62701</td>\n",
       "      <td>Different directional prefix formats for same ...</td>\n",
       "      <td>1.0</td>\n",
       "    </tr>\n",
       "    <tr>\n",
       "      <th>1</th>\n",
       "      <td>456 W Elm St, Boston, MA 02118</td>\n",
       "      <td>456 West Elm Street, Boston, Massachusetts 02118</td>\n",
       "      <td>Different directional prefix formats for same ...</td>\n",
       "      <td>1.0</td>\n",
       "    </tr>\n",
       "    <tr>\n",
       "      <th>2</th>\n",
       "      <td>789 S Oak St, Denver, CO 80203</td>\n",
       "      <td>789 South Oak Street, Denver, Colorado 80203</td>\n",
       "      <td>Different directional prefix formats for same ...</td>\n",
       "      <td>1.0</td>\n",
       "    </tr>\n",
       "    <tr>\n",
       "      <th>3</th>\n",
       "      <td>321 N Pine St, Seattle, WA 98101</td>\n",
       "      <td>321 North Pine Street, Seattle, Washington 98101</td>\n",
       "      <td>Different directional prefix formats for same ...</td>\n",
       "      <td>1.0</td>\n",
       "    </tr>\n",
       "    <tr>\n",
       "      <th>4</th>\n",
       "      <td>654 E Maple St, Austin, TX 73301</td>\n",
       "      <td>654 East Maple Street, Austin, Texas 73301</td>\n",
       "      <td>Different directional prefix formats for same ...</td>\n",
       "      <td>1.0</td>\n",
       "    </tr>\n",
       "    <tr>\n",
       "      <th>5</th>\n",
       "      <td>987 W Cedar St, San Francisco, CA 94102</td>\n",
       "      <td>987 West Cedar Street, San Francisco, Californ...</td>\n",
       "      <td>Different directional prefix formats for same ...</td>\n",
       "      <td>1.0</td>\n",
       "    </tr>\n",
       "    <tr>\n",
       "      <th>6</th>\n",
       "      <td>246 S Birch St, New York, NY 10001</td>\n",
       "      <td>246 South Birch Street, New York, New York 10001</td>\n",
       "      <td>Different directional prefix formats for same ...</td>\n",
       "      <td>1.0</td>\n",
       "    </tr>\n",
       "    <tr>\n",
       "      <th>7</th>\n",
       "      <td>135 N Cedar Ave, Chicago, IL 60601</td>\n",
       "      <td>135 North Cedar Avenue, Chicago, Illinois 60601</td>\n",
       "      <td>Different directional prefix formats for same ...</td>\n",
       "      <td>1.0</td>\n",
       "    </tr>\n",
       "    <tr>\n",
       "      <th>8</th>\n",
       "      <td>864 E Pine Ave, Los Angeles, CA 90001</td>\n",
       "      <td>864 East Pine Avenue, Los Angeles, California ...</td>\n",
       "      <td>Different directional prefix formats for same ...</td>\n",
       "      <td>1.0</td>\n",
       "    </tr>\n",
       "    <tr>\n",
       "      <th>9</th>\n",
       "      <td>753 W Spruce St, Houston, TX 77001</td>\n",
       "      <td>753 West Spruce Street, Houston, Texas 77001</td>\n",
       "      <td>Different directional prefix formats for same ...</td>\n",
       "      <td>1.0</td>\n",
       "    </tr>\n",
       "    <tr>\n",
       "      <th>10</th>\n",
       "      <td>159 S Maple Ave, Phoenix, AZ 85001</td>\n",
       "      <td>159 South Maple Avenue, Phoenix, Arizona 85001</td>\n",
       "      <td>Different directional prefix formats for same ...</td>\n",
       "      <td>1.0</td>\n",
       "    </tr>\n",
       "    <tr>\n",
       "      <th>11</th>\n",
       "      <td>357 N Oak St, Philadelphia, PA 19102</td>\n",
       "      <td>357 North Oak Street, Philadelphia, Pennsylvan...</td>\n",
       "      <td>Different directional prefix formats for same ...</td>\n",
       "      <td>1.0</td>\n",
       "    </tr>\n",
       "    <tr>\n",
       "      <th>12</th>\n",
       "      <td>468 E Birch Ave, San Antonio, TX 78201</td>\n",
       "      <td>468 East Birch Avenue, San Antonio, Texas 78201</td>\n",
       "      <td>Different directional prefix formats for same ...</td>\n",
       "      <td>1.0</td>\n",
       "    </tr>\n",
       "    <tr>\n",
       "      <th>13</th>\n",
       "      <td>579 W Cedar St, Dallas, TX 75201</td>\n",
       "      <td>579 West Cedar Street, Dallas, Texas 75201</td>\n",
       "      <td>Different directional prefix formats for same ...</td>\n",
       "      <td>1.0</td>\n",
       "    </tr>\n",
       "    <tr>\n",
       "      <th>14</th>\n",
       "      <td>681 S Pine Ave, San Jose, CA 95101</td>\n",
       "      <td>681 South Pine Avenue, San Jose, California 95101</td>\n",
       "      <td>Different directional prefix formats for same ...</td>\n",
       "      <td>1.0</td>\n",
       "    </tr>\n",
       "    <tr>\n",
       "      <th>15</th>\n",
       "      <td>792 N Maple St, Jacksonville, FL 32201</td>\n",
       "      <td>792 North Maple Street, Jacksonville, Florida ...</td>\n",
       "      <td>Different directional prefix formats for same ...</td>\n",
       "      <td>1.0</td>\n",
       "    </tr>\n",
       "    <tr>\n",
       "      <th>16</th>\n",
       "      <td>903 E Oak St, Columbus, OH 43201</td>\n",
       "      <td>903 East Oak Street, Columbus, Ohio 43201</td>\n",
       "      <td>Different directional prefix formats for same ...</td>\n",
       "      <td>1.0</td>\n",
       "    </tr>\n",
       "    <tr>\n",
       "      <th>17</th>\n",
       "      <td>104 W Elm Ave, Charlotte, NC 28201</td>\n",
       "      <td>104 West Elm Avenue, Charlotte, North Carolina...</td>\n",
       "      <td>Different directional prefix formats for same ...</td>\n",
       "      <td>1.0</td>\n",
       "    </tr>\n",
       "    <tr>\n",
       "      <th>18</th>\n",
       "      <td>215 S Cedar St, Indianapolis, IN 46201</td>\n",
       "      <td>215 South Cedar Street, Indianapolis, Indiana ...</td>\n",
       "      <td>Different directional prefix formats for same ...</td>\n",
       "      <td>1.0</td>\n",
       "    </tr>\n",
       "    <tr>\n",
       "      <th>19</th>\n",
       "      <td>326 N Pine Ave, Fort Worth, TX 76101</td>\n",
       "      <td>326 North Pine Avenue, Fort Worth, Texas 76101</td>\n",
       "      <td>Different directional prefix formats for same ...</td>\n",
       "      <td>1.0</td>\n",
       "    </tr>\n",
       "  </tbody>\n",
       "</table>\n",
       "</div>"
      ],
      "text/plain": [
       "                                   Address1  \\\n",
       "0      123 E Main St, Springfield, IL 62701   \n",
       "1            456 W Elm St, Boston, MA 02118   \n",
       "2            789 S Oak St, Denver, CO 80203   \n",
       "3          321 N Pine St, Seattle, WA 98101   \n",
       "4          654 E Maple St, Austin, TX 73301   \n",
       "5   987 W Cedar St, San Francisco, CA 94102   \n",
       "6        246 S Birch St, New York, NY 10001   \n",
       "7        135 N Cedar Ave, Chicago, IL 60601   \n",
       "8     864 E Pine Ave, Los Angeles, CA 90001   \n",
       "9        753 W Spruce St, Houston, TX 77001   \n",
       "10       159 S Maple Ave, Phoenix, AZ 85001   \n",
       "11     357 N Oak St, Philadelphia, PA 19102   \n",
       "12   468 E Birch Ave, San Antonio, TX 78201   \n",
       "13         579 W Cedar St, Dallas, TX 75201   \n",
       "14       681 S Pine Ave, San Jose, CA 95101   \n",
       "15   792 N Maple St, Jacksonville, FL 32201   \n",
       "16         903 E Oak St, Columbus, OH 43201   \n",
       "17       104 W Elm Ave, Charlotte, NC 28201   \n",
       "18   215 S Cedar St, Indianapolis, IN 46201   \n",
       "19     326 N Pine Ave, Fort Worth, TX 76101   \n",
       "\n",
       "                                             Address2  \\\n",
       "0   123 East Main Street, Springfield, Illinois 62701   \n",
       "1    456 West Elm Street, Boston, Massachusetts 02118   \n",
       "2        789 South Oak Street, Denver, Colorado 80203   \n",
       "3    321 North Pine Street, Seattle, Washington 98101   \n",
       "4          654 East Maple Street, Austin, Texas 73301   \n",
       "5   987 West Cedar Street, San Francisco, Californ...   \n",
       "6    246 South Birch Street, New York, New York 10001   \n",
       "7     135 North Cedar Avenue, Chicago, Illinois 60601   \n",
       "8   864 East Pine Avenue, Los Angeles, California ...   \n",
       "9        753 West Spruce Street, Houston, Texas 77001   \n",
       "10     159 South Maple Avenue, Phoenix, Arizona 85001   \n",
       "11  357 North Oak Street, Philadelphia, Pennsylvan...   \n",
       "12    468 East Birch Avenue, San Antonio, Texas 78201   \n",
       "13         579 West Cedar Street, Dallas, Texas 75201   \n",
       "14  681 South Pine Avenue, San Jose, California 95101   \n",
       "15  792 North Maple Street, Jacksonville, Florida ...   \n",
       "16          903 East Oak Street, Columbus, Ohio 43201   \n",
       "17  104 West Elm Avenue, Charlotte, North Carolina...   \n",
       "18  215 South Cedar Street, Indianapolis, Indiana ...   \n",
       "19     326 North Pine Avenue, Fort Worth, Texas 76101   \n",
       "\n",
       "                                          Description  Label  \n",
       "0   Different directional prefix formats for same ...    1.0  \n",
       "1   Different directional prefix formats for same ...    1.0  \n",
       "2   Different directional prefix formats for same ...    1.0  \n",
       "3   Different directional prefix formats for same ...    1.0  \n",
       "4   Different directional prefix formats for same ...    1.0  \n",
       "5   Different directional prefix formats for same ...    1.0  \n",
       "6   Different directional prefix formats for same ...    1.0  \n",
       "7   Different directional prefix formats for same ...    1.0  \n",
       "8   Different directional prefix formats for same ...    1.0  \n",
       "9   Different directional prefix formats for same ...    1.0  \n",
       "10  Different directional prefix formats for same ...    1.0  \n",
       "11  Different directional prefix formats for same ...    1.0  \n",
       "12  Different directional prefix formats for same ...    1.0  \n",
       "13  Different directional prefix formats for same ...    1.0  \n",
       "14  Different directional prefix formats for same ...    1.0  \n",
       "15  Different directional prefix formats for same ...    1.0  \n",
       "16  Different directional prefix formats for same ...    1.0  \n",
       "17  Different directional prefix formats for same ...    1.0  \n",
       "18  Different directional prefix formats for same ...    1.0  \n",
       "19  Different directional prefix formats for same ...    1.0  "
      ]
     },
     "execution_count": 20,
     "metadata": {},
     "output_type": "execute_result"
    }
   ],
   "source": [
    "# If you want to start from here and not run the data augmentation pipeline again...\n",
    "augment_results_df = pd.read_parquet(\"data/training.6.parquet\")\n",
    "\n",
    "augment_results_df.head(20)"
   ]
  },
  {
   "cell_type": "markdown",
   "id": "4c2b2e4e-0c28-47ce-8b3c-7c1dac0062f5",
   "metadata": {},
   "source": [
    "### Data Augmentation Complete!\n",
    "\n",
    "Starting by hand labeling under 100 records and iterating a few times on data augmentation instructions for GPT4o, we have multiplied them by many times to get almost 10,000 synthetic records! This is enough to fine-tune a `SentenceTransformer` or semantic text similarity classifier model. GPT4o is a powerful tool for data augmentation! This can work for a variety of problems.\n",
    "\n",
    "LLM based data augmentation is a powerful tool for your data labeling toolbox."
   ]
  },
  {
   "cell_type": "markdown",
   "id": "423992c9-bd0c-4e85-b5ce-cbf14a1d5356",
   "metadata": {},
   "source": [
    "# Comparing Different Approaches to Address Matching\n",
    "\n",
    "Now we're going to compare the following methods of address matching:\n",
    "\n",
    "1) String Distance - we'll use PyPI library [fuzzywuzzy](https://pypi.org/project/fuzzywuzzy/0.6.1/) to compute the Levenshtein ratio and partial ratio of how many edits are required to match the address strings. There are times this works well, and there are times it couldn't be more wrong.\n",
    "2) Text Embeddings - we'll use transfer learning to load an existing [SentenceTransformer](https://sbert.net) model to sentence encode pairs of addresses to create fixed-length embeddings for each address and then compute a similarity score via [cosine similarity](https://en.wikipedia.org/wiki/Cosine_similarity). This won't work without fine-tuning, so we fine-tune the model to the task.\n",
    "3) Deep Matching Model - We'll train a deep semantic textual similarity classification model that will use Siamese BERT networks as in [Sentence-BERT](https://arxiv.org/abs/1908.10084) to classify address pairs as matching or not matching.\n",
    "\n",
    "## Imprecise Country Matching with `pycountry`\n",
    "\n",
    "The structured address has fields that each have their own semantics. Tools specific to a field can help match address components.\n",
    "\n",
    "If you have any valid ISO nation abbreviation or long form name, [pycountry](https://pypi.org/project/pycountry/) is a PyPi module that can retrieve the actual country for it. This enables efficient comparison. Let's use that to convert the mismatched Singapore references in these records to the same entity."
   ]
  },
  {
   "cell_type": "code",
   "execution_count": null,
   "id": "2a5668a3-cd66-4eb1-a9b3-b029dc045f1d",
   "metadata": {},
   "outputs": [],
   "source": [
    "def match_country_names(country1: str, country2: str) -> Literal[0, 1]:\n",
    "    \"\"\"match_country_strings - compare and match varying country formats using pycountry\"\"\"\n",
    "\n",
    "    # Remove any punctuation from the country\n",
    "    def remove_punctuation(country: str) -> str:\n",
    "        # Use re.sub to replace all punctuation characters with an empty string\n",
    "        return re.sub(r\"[^\\w\\s]\", \"\", country)\n",
    "\n",
    "    def multi_lookup(**kwargs):\n",
    "        \"\"\"Try each key until we retrieve a result\"\"\"\n",
    "        for arg, value in kwargs.items():\n",
    "            result = pycountry.countries.get(**{arg: value})\n",
    "            if result:\n",
    "                return result\n",
    "\n",
    "    def get_args(country: str):\n",
    "        \"\"\"Compose pycountries.countries.get arguments dict based on length of country string\"\"\"\n",
    "        args = {}\n",
    "        if country and len(country) == 2:\n",
    "            args[\"alpha_2\"] = country\n",
    "        elif country and len(country) == 3:\n",
    "            args[\"alpha_3\"] = country\n",
    "        elif country:\n",
    "            args[\"name\"] = country\n",
    "            args[\"common_name\"] = country\n",
    "            args[\"official_name\"] = country\n",
    "        return args\n",
    "\n",
    "    try:\n",
    "        pycountry1 = multi_lookup(**get_args(remove_punctuation(country1)))\n",
    "        pycountry2 = multi_lookup(**get_args(remove_punctuation(country2)))\n",
    "\n",
    "        return 1 if pycountry1.name == pycountry2.name else 0\n",
    "    except AttributeError:\n",
    "        return 0"
   ]
  },
  {
   "cell_type": "code",
   "execution_count": null,
   "id": "f275580d-a5ed-40b2-a27f-5d7134e56eb8",
   "metadata": {},
   "outputs": [],
   "source": [
    "match_country_names(\"sg\", \"singapore\")"
   ]
  },
  {
   "cell_type": "code",
   "execution_count": null,
   "id": "49a967b3-ada6-4b8e-b526-671460f0f81a",
   "metadata": {},
   "outputs": [],
   "source": [
    "match_country_names(\"usa\", \"united states\")"
   ]
  },
  {
   "cell_type": "code",
   "execution_count": null,
   "id": "60a116cb-05c4-4bcd-8c35-3e16f12621ba",
   "metadata": {},
   "outputs": [],
   "source": [
    "# Didn't match until I added and called remove_punctuation(country: str) -> str\n",
    "match_country_names(\"U.S.A.\", \"United States of America\")"
   ]
  },
  {
   "cell_type": "code",
   "execution_count": null,
   "id": "7774066a-5e75-4420-ba88-ecb39cb7d828",
   "metadata": {},
   "outputs": [],
   "source": [
    "match_country_names(\"USA\", \"MEX\")"
   ]
  },
  {
   "cell_type": "code",
   "execution_count": null,
   "id": "089d99c3-61ec-442e-97ad-b7f826186579",
   "metadata": {},
   "outputs": [],
   "source": [
    "match_country_names(\"United States\", \"United Mexican States\")"
   ]
  },
  {
   "cell_type": "markdown",
   "id": "9df92059-6211-4044-973f-844a04682d96",
   "metadata": {},
   "source": [
    "### Country Parsing in Structured Matching\n",
    "\n",
    "Let's use our new method `match_pycountry(country1: str, country2: str) -> Literal[0, 1]` matcher to improve our original structured matcher. This will allow it to contain varying country formats and still match. This makes the matcher more robust. \n",
    "\n",
    "In order to make this work we have to refactor our code to create matching functions for each field. Note that we are leaving out matching states, as they aren't required if the road name, number, unit and postal code match."
   ]
  },
  {
   "cell_type": "code",
   "execution_count": null,
   "id": "5e9ad90b-9524-4cd4-b0da-4c0a0b1e7f91",
   "metadata": {},
   "outputs": [],
   "source": [
    "def parse_match_address_country(address1: str, address2: str) -> Literal[0, 1]:\n",
    "    \"\"\"parse_match_address_country implements address matching like parse_match_address() but with pycountry country matching\"\"\"\n",
    "    address1 = to_dict(parse_address(address1))\n",
    "    address2 = to_dict(parse_address(address2))\n",
    "\n",
    "    def match_road(address1: str, address2: str) -> Literal[0, 1]:\n",
    "        \"\"\"match_road - literal road matching, negative if either lacks a road\"\"\"\n",
    "        if (\"road\" in address1) and (\"road\" in address2):\n",
    "            if address1[\"road\"] == address2[\"road\"]:\n",
    "                logger.debug(\"road match\")\n",
    "                return 1\n",
    "            else:\n",
    "                logger.debug(\"road mismatch\")\n",
    "                return 0\n",
    "        logger.debug(\"road mismatch\")\n",
    "        return 0\n",
    "\n",
    "    def match_house_number(address1: str, address2: str) -> Literal[0, 1]:\n",
    "        \"\"\"match_house_number - literal house number matching, negative if either lacks a house_number\"\"\"\n",
    "        if (\"house_number\" in address1) and (\"house_number\" in address2):\n",
    "            if address1[\"house_number\"] == address2[\"house_number\"]:\n",
    "                logger.debug(\"house_number match\")\n",
    "                return 1\n",
    "            else:\n",
    "                logger.debug(\"house_number mismatch\")\n",
    "                return 0\n",
    "        logger.debug(\"house_number mistmatch\")\n",
    "        return 0\n",
    "\n",
    "    def match_unit(address1: str, address2: str) -> Literal[0, 1]:\n",
    "        \"\"\"match_unit - note a missing unit in both is a match\"\"\"\n",
    "        if \"unit\" in address1:\n",
    "            if \"unit\" in address2:\n",
    "                logger.debug(\"unit match\")\n",
    "                return 1 if (address1[\"unit\"] == address2[\"unit\"]) else 0\n",
    "            else:\n",
    "                logger.debug(\"unit mismatch\")\n",
    "                return 0\n",
    "        if \"unit\" in address2:\n",
    "            if \"unit\" in address1:\n",
    "                logger.debug(\"unit match\")\n",
    "                return 1 if (address1[\"unit\"] == address2[\"unit\"]) else 0\n",
    "            else:\n",
    "                logger.debug(\"unit mismatch\")\n",
    "                return 0\n",
    "        # Neither address has a unit, which is a default match\n",
    "        return 1\n",
    "\n",
    "    def match_postcode(address1: str, address2: str) -> Literal[0, 1]:\n",
    "        \"\"\"match_postcode - literal matching, negative if either lacks a postal code\"\"\"\n",
    "        if (\"postcode\" in address1) and (\"postcode\" in address2):\n",
    "            if address1[\"postcode\"] == address2[\"postcode\"]:\n",
    "                logger.debug(\"postcode match\")\n",
    "                return 1\n",
    "            else:\n",
    "                logger.debug(\"postcode mismatch\")\n",
    "                return 0\n",
    "        logger.debug(\"postcode mismatch\")\n",
    "        return 0\n",
    "\n",
    "    def match_country(address1: str, address2: str) -> Literal[0, 1]:\n",
    "        \"\"\"match_country - semantic country matching with pycountry via match_country_names(country1, country2)\"\"\"\n",
    "        if (\"country\" in address1) and (\"country\" in address2):\n",
    "            if match_country_names(address1[\"country\"], address2[\"country\"]):\n",
    "                logger.debug(\"country match\")\n",
    "                return 1\n",
    "            else:\n",
    "                logger.debug(\"country mismatch\")\n",
    "                return 0\n",
    "        # One or none countries should match\n",
    "        logger.debug(\"country match\")\n",
    "        return 1\n",
    "\n",
    "    # Combine the above to get a complete address matcher\n",
    "    if (\n",
    "        match_road(address1, address2)\n",
    "        and match_house_number(address1, address2)\n",
    "        and match_unit(address1, address2)\n",
    "        and match_postcode(address1, address2)\n",
    "        # Our only non-exact match - default to 1, match\n",
    "        and match_country(address1, address2)\n",
    "    ):\n",
    "        logger.debug(\"overall match\")\n",
    "        return 1\n",
    "    else:\n",
    "        logger.debug(\"overall mismatch\")\n",
    "        return 0"
   ]
  },
  {
   "cell_type": "code",
   "execution_count": null,
   "id": "f807c16a-02db-4246-b696-ca1ff4cd9372",
   "metadata": {},
   "outputs": [],
   "source": [
    "parse_match_address_country(\n",
    "    \"100 Roxas Blvd, Ermita, Manila, 1000 Metro Manila, PH\",\n",
    "    \"100 Roxas Blvd, Ermita, Manila, 1000 Metro Manila, Republic of the Philippines\"\n",
    ")"
   ]
  },
  {
   "cell_type": "code",
   "execution_count": null,
   "id": "9fbc2cc2-39c6-4570-9cb5-55664e44cdc9",
   "metadata": {},
   "outputs": [],
   "source": [
    "# Defaults to match if no countries are provided\n",
    "parse_match_address_country(\n",
    "    \"100 King St W, Toronto, ON M5X 1A9\",\n",
    "    \"100 King St W, Toronto, ON M5X 1A9\",\n",
    ")"
   ]
  },
  {
   "cell_type": "code",
   "execution_count": null,
   "id": "27403f50-900b-44c0-bae0-58ed27ccd3ca",
   "metadata": {},
   "outputs": [],
   "source": [
    "# Defaults to match if only one address has country\n",
    "parse_match_address_country(\n",
    "    \"100 King St W, Toronto, ON M5X 1A9\",\n",
    "    \"100 King St W, Toronto, ON M5X 1A9, Canada\",\n",
    ")"
   ]
  },
  {
   "cell_type": "code",
   "execution_count": null,
   "id": "783b75eb-86ee-4674-928e-474e00e7e2a2",
   "metadata": {},
   "outputs": [],
   "source": [
    "# Verify mismatch\n",
    "parse_match_address_country(\n",
    "    \"Bosque de Chapultepec I Secc, Miguel Hidalgo, 11850 Ciudad de México, CDMX, Mexico\",\n",
    "    \"Bosque de Chapultepec I Secc, Miguel Hidalgo, 11850 Ciudad de México, CDMX, USA\"\n",
    ")"
   ]
  },
  {
   "cell_type": "markdown",
   "id": "f86d1fc4-a574-480c-a9fe-1bc119f12f97",
   "metadata": {},
   "source": [
    "### Gold Label Validation\n",
    "\n",
    "We need to evaluate this new method against our gold labeled data."
   ]
  },
  {
   "cell_type": "code",
   "execution_count": null,
   "id": "3b4408e9-1b85-448f-816f-83ee5e019a85",
   "metadata": {},
   "outputs": [],
   "source": [
    "def strict_parse_match(row: pd.Series) -> pd.Series:\n",
    "    \"\"\"strict_parse_match Strict address matching\"\"\"\n",
    "    return parse_match_address(row[\"Address1\"], row[\"Address2\"])"
   ]
  },
  {
   "cell_type": "code",
   "execution_count": null,
   "id": "54e2ef9f-b652-43f9-9f27-4a1b58bebea0",
   "metadata": {},
   "outputs": [],
   "source": [
    "def parse_match_country(row: pd.Series) -> pd.Series:\n",
    "    \"\"\"parse_match Strict address matching\"\"\"\n",
    "    return parse_match_address_country(row[\"Address1\"], row[\"Address2\"])"
   ]
  },
  {
   "cell_type": "code",
   "execution_count": null,
   "id": "c6ad7b4b-1f33-499e-8a84-d62f32b6635f",
   "metadata": {},
   "outputs": [],
   "source": [
    "raw_df, grouped_df = gold_label_report(gold_df, [strict_parse_match, parse_match_country])"
   ]
  },
  {
   "cell_type": "code",
   "execution_count": null,
   "id": "f5c5d0a1-222a-4eba-8387-206ab6e30d57",
   "metadata": {},
   "outputs": [],
   "source": [
    "grouped_df"
   ]
  },
  {
   "cell_type": "code",
   "execution_count": null,
   "id": "51b8a76c-ede2-44dd-b50c-94765ee65fc1",
   "metadata": {},
   "outputs": [],
   "source": [
    "true_df = raw_df[raw_df[\"parse_match_country_correct\"]]\n",
    "print(f\"Total accurate matches for strict_parse_match: {len(true_df):,}\")\n",
    "\n",
    "true_df.sort_values(by=\"Description\").reset_index(drop=True)"
   ]
  },
  {
   "cell_type": "code",
   "execution_count": null,
   "id": "d2f1119a-c9a8-40d1-8253-856b5495d712",
   "metadata": {},
   "outputs": [],
   "source": [
    "false_df = raw_df[raw_df[\"parse_match_country_correct\"] == False]\n",
    "print(f\"Total mismatches for strict_parse_match: {len(false_df):,}\")\n",
    "\n",
    "false_df.sort_values(by=\"Description\").reset_index(drop=True)"
   ]
  },
  {
   "cell_type": "markdown",
   "id": "ae7aa526-33e4-4705-a453-585ab7f3869a",
   "metadata": {},
   "source": [
    "# Machine Learning Approaches to Address Matching\n",
    "\n",
    "In this section we pursue two machine learning approaches to address matching, in order of sophistication. First we fine-tune a pre-trained embedding model to our task, try it on our data and search for a threshold similarity that results in good performance for our address matching problem. Second we build a Siamese BERT network model based on [Sentence-BERT](https://arxiv.org/abs/1908.10084) to classify pairs of addresses as match or mismatch. We will train it using the same dataset we use to fine-tune a sentence transformer, and if we have enough training data this will likely be a more powerful approach.\n",
    "\n",
    "## Text Embeddings, Sentence Encoding, `SentenceTransformers`, Vector Distance and Cosine Similarity\n",
    "\n",
    "Text embeddings are trained on large volumes of text that include addresses. As a result they have some understanding of address strings and can do a form of semantic comparison that is less explicit than logical comparisons with address parsing. They're an important benchmark to explore. Huggingface has an excellent [introduction to sentence similarity](https://huggingface.co/tasks/sentence-similarity).\n",
    "\n",
    "In our first machine learning approach, we are going to use transfer learning to load a pre-trained [sentence transformer](https://sbert.net) models from huggingface. We will use the training data we've prepared to fine-tune this model to our task, before rigorously evaluating it along with our other approaches.\n",
    "\n",
    "Sentence transformers sentence encode strings of different distances into fixed-length vectors, a technique called sentence encoding. Once two address strings are embedded into a pair of equal length vectors, they can be compared with cosine similarity to get a distance, the inverse of which is a similarity score.\n",
    "\n",
    "### Convert our `pd.DataFrame` to a `List[sentence_transformers.InputExample]`\n",
    "\n",
    "First we need to convert our Pandas `DataFrame` to a list of sentence transformer input examples. `InputExamples` require two fields `texts=List[str, str]` and `label`."
   ]
  },
  {
   "cell_type": "code",
   "execution_count": 21,
   "id": "7b105924-4872-4abf-a10c-4d77150f1b3d",
   "metadata": {},
   "outputs": [
    {
     "name": "stdout",
     "output_type": "stream",
     "text": [
      "Training data:   8,024\n",
      "Validation data: 1,003\n",
      "Test data        1,003\n"
     ]
    }
   ],
   "source": [
    "train_df, tmp_df = train_test_split(augment_results_df, test_size=0.2, shuffle=True)\n",
    "eval_df, test_df = train_test_split(tmp_df, test_size=0.5, random_state=42, shuffle=True)\n",
    "\n",
    "train_dataset = Dataset.from_dict({\n",
    "    \"sentence1\": train_df[\"Address1\"].tolist(),\n",
    "    \"sentence2\": train_df[\"Address2\"].tolist(),\n",
    "    \"label\": train_df[\"Label\"].tolist(),\n",
    "})\n",
    "\n",
    "eval_dataset = Dataset.from_dict({\n",
    "    \"sentence1\": eval_df[\"Address1\"].tolist(),\n",
    "    \"sentence2\": eval_df[\"Address2\"].tolist(),\n",
    "    \"label\": eval_df[\"Label\"].tolist(),\n",
    "})\n",
    "\n",
    "test_dataset = Dataset.from_dict({\n",
    "    \"sentence1\": test_df[\"Address1\"].tolist(),\n",
    "    \"sentence2\": test_df[\"Address2\"].tolist(),\n",
    "    \"label\": test_df[\"Label\"].tolist(),\n",
    "})\n",
    "\n",
    "print(f\"Training data:   {len(train_df):,}\")\n",
    "print(f\"Validation data: {len(eval_df):,}\")\n",
    "print(f\"Test data        {len(eval_df):,}\")"
   ]
  },
  {
   "cell_type": "markdown",
   "id": "680e51e3-84d0-40e5-97d1-ebce61cd9514",
   "metadata": {},
   "source": [
    "### Configure Fine-Tuning, Initialize a `SentenceTransformer`\n",
    "\n",
    "To use the training data we prepared to fine-tune a `SentenceTransformer`, we need to select and load a pre-trained model from Huggingface Hub. Here are some models you can try:\n",
    "\n",
    "* [sentence-transformers/sentence-transformers/paraphrase-multilingual-MiniLM-L12-v2](https://huggingface.co/sentence-transformers/paraphrase-multilingual-MiniLM-L12-v2) - multilingual paraphrase models are designed to compare sentences in terms of their semantics.\n",
    "* [BAAI/bge-m3](https://huggingface.co/BAAI/bge-m3) - a robust, multilingual model optimized for a variety of tasks\n",
    "* [sentence-transformers/paraphrase-multilingual-mpnet-base-v2](https://huggingface.co/sentence-transformers/paraphrase-multilingual-mpnet-base-v2) - MPNet is another paraphrase model architecture we can fine-tune for address comparison\n",
    "* [sentence-transformers/all-mpnet-base-v2](https://huggingface.co/sentence-transformers/all-mpnet-base-v2) - a top performing MPNet model"
   ]
  },
  {
   "cell_type": "code",
   "execution_count": 22,
   "id": "15a2a181-a9cd-469f-9b1b-32b9d3163dfd",
   "metadata": {},
   "outputs": [],
   "source": [
    "SBERT_MODEL = \"paraphrase-multilingual-MiniLM-L12-v2\"\n",
    "VARIANT = \"original\"\n",
    "MODEL_SAVE_NAME = (SBERT_MODEL + \"-\" + VARIANT).replace(\"/\", \"-\")\n",
    "\n",
    "# Make sure these match the values in the data augmentation notebook for accurate loggging and reporting\n",
    "CLONES_PER_RUN = 100\n",
    "RUNS_PER_EXAMPLE = 2\n",
    "\n",
    "EPOCHS = 6\n",
    "BATCH_SIZE = 32\n",
    "PATIENCE = 3\n",
    "LEARNING_RATE = .00005\n",
    "DATASET_MULTIPLE = CLONES_PER_RUN * RUNS_PER_EXAMPLE\n",
    "SBERT_OUTPUT_FOLDER = f\"data/fine-tuned-sbert-{MODEL_SAVE_NAME}\"\n",
    "SAVE_EVAL_STEPS = 100"
   ]
  },
  {
   "cell_type": "markdown",
   "id": "e174e134-4761-4732-a2f7-98a5a785155c",
   "metadata": {},
   "source": [
    "### Initialize Weights & Biases\n",
    "\n",
    "Weights and biases `wandb` package makes it simple to monitor the performance of your training runs."
   ]
  },
  {
   "cell_type": "code",
   "execution_count": 23,
   "id": "d68f7a53-d09a-4e8b-b5e9-f62857c12e4c",
   "metadata": {},
   "outputs": [
    {
     "data": {
      "text/html": [
       "wandb version 0.17.2 is available!  To upgrade, please run:\n",
       " $ pip install wandb --upgrade"
      ],
      "text/plain": [
       "<IPython.core.display.HTML object>"
      ]
     },
     "metadata": {},
     "output_type": "display_data"
    },
    {
     "data": {
      "text/html": [
       "Tracking run with wandb version 0.17.0"
      ],
      "text/plain": [
       "<IPython.core.display.HTML object>"
      ]
     },
     "metadata": {},
     "output_type": "display_data"
    },
    {
     "data": {
      "text/html": [
       "Run data is saved locally in <code>/Users/rjurney/Software/libpostal-reborn/wandb/run-20240624_035947-e1u60daf</code>"
      ],
      "text/plain": [
       "<IPython.core.display.HTML object>"
      ]
     },
     "metadata": {},
     "output_type": "display_data"
    },
    {
     "data": {
      "text/html": [
       "Syncing run <strong><a href='https://wandb.ai/rjurney/libpostal-reborn/runs/e1u60daf' target=\"_blank\">laced-voice-63</a></strong> to <a href='https://wandb.ai/rjurney/libpostal-reborn' target=\"_blank\">Weights & Biases</a> (<a href='https://wandb.me/run' target=\"_blank\">docs</a>)<br/>"
      ],
      "text/plain": [
       "<IPython.core.display.HTML object>"
      ]
     },
     "metadata": {},
     "output_type": "display_data"
    },
    {
     "data": {
      "text/html": [
       " View project at <a href='https://wandb.ai/rjurney/libpostal-reborn' target=\"_blank\">https://wandb.ai/rjurney/libpostal-reborn</a>"
      ],
      "text/plain": [
       "<IPython.core.display.HTML object>"
      ]
     },
     "metadata": {},
     "output_type": "display_data"
    },
    {
     "data": {
      "text/html": [
       " View run at <a href='https://wandb.ai/rjurney/libpostal-reborn/runs/e1u60daf' target=\"_blank\">https://wandb.ai/rjurney/libpostal-reborn/runs/e1u60daf</a>"
      ],
      "text/plain": [
       "<IPython.core.display.HTML object>"
      ]
     },
     "metadata": {},
     "output_type": "display_data"
    },
    {
     "data": {
      "text/html": [
       "<button onClick=\"this.nextSibling.style.display='block';this.style.display='none';\">Display W&B run</button><iframe src='https://wandb.ai/rjurney/libpostal-reborn/runs/e1u60daf?jupyter=true' style='border:none;width:100%;height:420px;display:none;'></iframe>"
      ],
      "text/plain": [
       "<wandb.sdk.wandb_run.Run at 0x1770760d0>"
      ]
     },
     "execution_count": 23,
     "metadata": {},
     "output_type": "execute_result"
    }
   ],
   "source": [
    "# Initialize Weights & Biases\n",
    "wandb.init(\n",
    "    entity=\"rjurney\",\n",
    "    # set the wandb project where this run will be logged\n",
    "    project=\"libpostal-reborn\",\n",
    "    # track hyperparameters and run metadata\n",
    "    config={\n",
    "        \"variant\": VARIANT,\n",
    "        \"dataset_multiple\": DATASET_MULTIPLE,\n",
    "        \"epochs\": EPOCHS,\n",
    "        \"batch_size\": BATCH_SIZE,\n",
    "        \"patience\": PATIENCE,\n",
    "        \"learning_rate\": LEARNING_RATE,\n",
    "        \"sbert_model\": SBERT_MODEL,\n",
    "        \"sbert_output_folder\": SBERT_OUTPUT_FOLDER,\n",
    "        \"save_eval_steps\": SAVE_EVAL_STEPS,\n",
    "    },\n",
    ")"
   ]
  },
  {
   "cell_type": "markdown",
   "id": "0d0f82a6-1fb7-45fe-b468-9df611413f1e",
   "metadata": {},
   "source": [
    "### Setup our `SentenceTransformer` Model\n",
    "\n",
    "Choose the model to fine-tune above in `SBERT_MODEL` and instantiate it below."
   ]
  },
  {
   "cell_type": "code",
   "execution_count": 24,
   "id": "2e40fb24-77a6-4291-b0c5-076f8a9997d7",
   "metadata": {},
   "outputs": [],
   "source": [
    "sbert_model = SentenceTransformer(\n",
    "    SBERT_MODEL,\n",
    "    device=device,\n",
    "    model_card_data=SentenceTransformerModelCardData(\n",
    "        language=\"en\",\n",
    "        license=\"apache-2.0\",\n",
    "        model_name=f\"{SBERT_MODEL}-address-matcher-{VARIANT}\",\n",
    "    ),\n",
    ")"
   ]
  },
  {
   "cell_type": "markdown",
   "id": "7285812b-dde6-4af0-b0d0-f3ed7c777a51",
   "metadata": {},
   "source": [
    "### Evaluate our Model Before Fine-Tuning\n",
    "\n",
    "Let's see what it can do without fine-tuning, then we'll compare our subjective results afterwards. This won't work very well, fine-tuning is required!"
   ]
  },
  {
   "cell_type": "code",
   "execution_count": 25,
   "id": "2bd45043-cac4-47d1-af34-c80fbac09e97",
   "metadata": {},
   "outputs": [],
   "source": [
    "def sbert_compare(address1: str, address2: str) -> float:\n",
    "    \"\"\"sbert_compare - sentence encode each address into a fixed-length text embedding.\n",
    "    Fixed-length means they can be compared with cosine similarity.\"\"\"\n",
    "    embedding1 = sbert_model.encode(address1)\n",
    "    embedding2 = sbert_model.encode(address2)\n",
    "\n",
    "    # Compute cosine similarity\n",
    "    return 1 - distance.cosine(embedding1, embedding2)\n",
    "\n",
    "\n",
    "def sbert_match(row: pd.Series) -> pd.Series:\n",
    "    \"\"\"sbert_match - SentenceTransformer address matching, float iytoyt\"\"\"\n",
    "    return sbert_compare(row[\"Address1\"], row[\"Address2\"])\n",
    "\n",
    "\n",
    "def sbert_compare_binary(address1: str, address2: str, threshold: float = 0.5) -> Literal[0, 1]:\n",
    "    \"\"\"sbert_match - compare and return a binary match\"\"\"\n",
    "    similarity = sbert_compare(address1, address2)\n",
    "    return 1 if similarity >= threshold else 0\n",
    "\n",
    "\n",
    "def sbert_match_binary(row: pd.Series, threshold: float = 0.5) -> pd.Series:\n",
    "    \"\"\"sbert_match_binary - SentenceTransformer address matching, binary output\"\"\"\n",
    "    return sbert_compare_binary(row[\"Address1\"], row[\"Address2\"], threshold=threshold)"
   ]
  },
  {
   "cell_type": "code",
   "execution_count": 26,
   "id": "b083ad79-6b50-414f-83de-a3ae68f44c77",
   "metadata": {},
   "outputs": [
    {
     "data": {
      "text/plain": [
       "0.9887310599046897"
      ]
     },
     "execution_count": 26,
     "metadata": {},
     "output_type": "execute_result"
    }
   ],
   "source": [
    "# Still too similar - very hard to train them away from this behavior!\n",
    "sbert_compare(\n",
    "    \"101 Oak Lane, Atlanta, GA 30308\",\n",
    "    \"102 Oak Lane, Atlanta, GA 30308\",\n",
    ")"
   ]
  },
  {
   "cell_type": "code",
   "execution_count": 27,
   "id": "a65dad9f-3f08-439d-8ee8-2b14b740a55f",
   "metadata": {},
   "outputs": [
    {
     "data": {
      "text/plain": [
       "0.9080112054372381"
      ]
     },
     "execution_count": 27,
     "metadata": {},
     "output_type": "execute_result"
    }
   ],
   "source": [
    "# A little bit further away ...\n",
    "sbert_compare(\n",
    "    \"101 Oak Lane, Atlanta, GA 30308\",\n",
    "    \"101 Oak Ln., Atlanta, GA 30308\",\n",
    ")"
   ]
  },
  {
   "cell_type": "code",
   "execution_count": 28,
   "id": "f869c21a-8b41-4520-87bd-7dbc8d37d1b0",
   "metadata": {},
   "outputs": [
    {
     "data": {
      "text/plain": [
       "0.7771668960380212"
      ]
     },
     "execution_count": 28,
     "metadata": {},
     "output_type": "execute_result"
    }
   ],
   "source": [
    "# Properly distant ...\n",
    "sbert_compare(\n",
    "    \"3413 Sean Way, Lawrenceville, GA 30044\",\n",
    "    \"1202 Oak Rd., Lawrenceville, GA 30304\",\n",
    ")"
   ]
  },
  {
   "cell_type": "code",
   "execution_count": 29,
   "id": "b7aba7fb-a560-4869-b05d-414a03a34542",
   "metadata": {},
   "outputs": [
    {
     "data": {
      "text/plain": [
       "0.9754176576820044"
      ]
     },
     "execution_count": 29,
     "metadata": {},
     "output_type": "execute_result"
    }
   ],
   "source": [
    "# Properly similar ...\n",
    "sbert_compare(\n",
    "    \"3413 Sean Way, Lawrenceville, GA 30044\",\n",
    "    \"3413 Sean Way, Lawrenceville, GA 30044, USA\",\n",
    ")"
   ]
  },
  {
   "cell_type": "markdown",
   "id": "71a0a9d8-8c06-45dd-9ff4-7b056e078e5a",
   "metadata": {},
   "source": [
    "### Evaluate the Test Set with the Untrained Model\n",
    "\n",
    "Let's see how well the [paraphrase-multilingual-MiniLM-L12-v2](https://huggingface.co/sentence-transformers/paraphrase-multilingual-MiniLM-L12-v2) model does on its own. This is our baseline score."
   ]
  },
  {
   "cell_type": "code",
   "execution_count": 30,
   "id": "04e9a873-9044-443b-9741-3ab3fed0a154",
   "metadata": {},
   "outputs": [
    {
     "data": {
      "text/plain": [
       "{'paraphrase-multilingual-MiniLM-L12-v2_cosine_accuracy': 0.5653040877367896,\n",
       " 'paraphrase-multilingual-MiniLM-L12-v2_cosine_accuracy_threshold': 0.7163583636283875,\n",
       " 'paraphrase-multilingual-MiniLM-L12-v2_cosine_f1': 0.6951048951048951,\n",
       " 'paraphrase-multilingual-MiniLM-L12-v2_cosine_f1_threshold': 0.7163583636283875,\n",
       " 'paraphrase-multilingual-MiniLM-L12-v2_cosine_precision': 0.5361380798274002,\n",
       " 'paraphrase-multilingual-MiniLM-L12-v2_cosine_recall': 0.9880715705765407,\n",
       " 'paraphrase-multilingual-MiniLM-L12-v2_cosine_ap': 0.48367800657603427,\n",
       " 'paraphrase-multilingual-MiniLM-L12-v2_dot_accuracy': 0.6071784646061814,\n",
       " 'paraphrase-multilingual-MiniLM-L12-v2_dot_accuracy_threshold': 21.068126678466797,\n",
       " 'paraphrase-multilingual-MiniLM-L12-v2_dot_f1': 0.6939058171745153,\n",
       " 'paraphrase-multilingual-MiniLM-L12-v2_dot_f1_threshold': 13.113171577453613,\n",
       " 'paraphrase-multilingual-MiniLM-L12-v2_dot_precision': 0.5324123273113709,\n",
       " 'paraphrase-multilingual-MiniLM-L12-v2_dot_recall': 0.9960238568588469,\n",
       " 'paraphrase-multilingual-MiniLM-L12-v2_dot_ap': 0.6622081547915579,\n",
       " 'paraphrase-multilingual-MiniLM-L12-v2_manhattan_accuracy': 0.559322033898305,\n",
       " 'paraphrase-multilingual-MiniLM-L12-v2_manhattan_accuracy_threshold': 51.6256103515625,\n",
       " 'paraphrase-multilingual-MiniLM-L12-v2_manhattan_f1': 0.6912891986062718,\n",
       " 'paraphrase-multilingual-MiniLM-L12-v2_manhattan_f1_threshold': 57.127017974853516,\n",
       " 'paraphrase-multilingual-MiniLM-L12-v2_manhattan_precision': 0.5321888412017167,\n",
       " 'paraphrase-multilingual-MiniLM-L12-v2_manhattan_recall': 0.9860834990059643,\n",
       " 'paraphrase-multilingual-MiniLM-L12-v2_manhattan_ap': 0.47283812981075524,\n",
       " 'paraphrase-multilingual-MiniLM-L12-v2_euclidean_accuracy': 0.5613160518444666,\n",
       " 'paraphrase-multilingual-MiniLM-L12-v2_euclidean_accuracy_threshold': 3.3781752586364746,\n",
       " 'paraphrase-multilingual-MiniLM-L12-v2_euclidean_f1': 0.691771269177127,\n",
       " 'paraphrase-multilingual-MiniLM-L12-v2_euclidean_f1_threshold': 3.601229667663574,\n",
       " 'paraphrase-multilingual-MiniLM-L12-v2_euclidean_precision': 0.5327604726100966,\n",
       " 'paraphrase-multilingual-MiniLM-L12-v2_euclidean_recall': 0.9860834990059643,\n",
       " 'paraphrase-multilingual-MiniLM-L12-v2_euclidean_ap': 0.4741254004356735,\n",
       " 'paraphrase-multilingual-MiniLM-L12-v2_max_accuracy': 0.6071784646061814,\n",
       " 'paraphrase-multilingual-MiniLM-L12-v2_max_accuracy_threshold': 51.6256103515625,\n",
       " 'paraphrase-multilingual-MiniLM-L12-v2_max_f1': 0.6951048951048951,\n",
       " 'paraphrase-multilingual-MiniLM-L12-v2_max_f1_threshold': 57.127017974853516,\n",
       " 'paraphrase-multilingual-MiniLM-L12-v2_max_precision': 0.5361380798274002,\n",
       " 'paraphrase-multilingual-MiniLM-L12-v2_max_recall': 0.9960238568588469,\n",
       " 'paraphrase-multilingual-MiniLM-L12-v2_max_ap': 0.6622081547915579}"
      ]
     },
     "execution_count": 30,
     "metadata": {},
     "output_type": "execute_result"
    }
   ],
   "source": [
    "# Initialize the evaluator\n",
    "binary_acc_evaluator = BinaryClassificationEvaluator(\n",
    "    sentences1=eval_dataset[\"sentence1\"],\n",
    "    sentences2=eval_dataset[\"sentence2\"],\n",
    "    labels=eval_dataset[\"label\"],\n",
    "    name=SBERT_MODEL,\n",
    ")\n",
    "binary_acc_evaluator(sbert_model)"
   ]
  },
  {
   "cell_type": "markdown",
   "id": "51d22615-249a-4ee7-b7c5-43fb1cada980",
   "metadata": {},
   "source": [
    "### Computing Metrics with `sklearn.metrics`\n",
    "\n",
    "We use [scikit-learn metrics](https://scikit-learn.org/stable/modules/model_evaluation.html) instead to compute our evaluation metrics."
   ]
  },
  {
   "cell_type": "code",
   "execution_count": 32,
   "id": "31111f8e-0167-4a6b-abff-dc3ecf391687",
   "metadata": {},
   "outputs": [],
   "source": [
    "# This will rapidly train the embedding model. MultipleNegativesRankingLoss did not work.\n",
    "loss = losses.ContrastiveLoss(model=sbert_model)\n",
    "\n",
    "sbert_args = SentenceTransformerTrainingArguments(\n",
    "    output_dir=SBERT_OUTPUT_FOLDER,\n",
    "    num_train_epochs=EPOCHS,\n",
    "    per_device_train_batch_size=BATCH_SIZE,\n",
    "    per_device_eval_batch_size=BATCH_SIZE,\n",
    "    warmup_ratio=0.1,\n",
    "    run_name=SBERT_MODEL,\n",
    "    load_best_model_at_end=True,\n",
    "    save_steps=SAVE_EVAL_STEPS,\n",
    "    eval_steps=SAVE_EVAL_STEPS,\n",
    "    save_strategy=\"steps\",\n",
    "    eval_strategy=\"steps\",\n",
    "    greater_is_better=False,\n",
    "    metric_for_best_model=\"eval_loss\",\n",
    "    learning_rate=LEARNING_RATE,\n",
    "    logging_dir=\"./logs\",\n",
    ")\n",
    "\n",
    "trainer = SentenceTransformerTrainer(\n",
    "    model=sbert_model,\n",
    "    args=sbert_args,\n",
    "    train_dataset=train_dataset,\n",
    "    eval_dataset=eval_dataset,\n",
    "    loss=loss,\n",
    "    evaluator=binary_acc_evaluator,\n",
    "    compute_metrics=compute_sbert_metrics,\n",
    "    callbacks=[EarlyStoppingCallback(early_stopping_patience=PATIENCE)],\n",
    ")\n",
    "\n",
    "trainer.evaluate()\n",
    "trainer.train()"
   ]
  },
  {
   "cell_type": "code",
   "execution_count": null,
   "id": "0340162d-e84f-496b-bc8c-f730d327205f",
   "metadata": {},
   "outputs": [],
   "source": [
    "trainer.evaluate()"
   ]
  },
  {
   "cell_type": "code",
   "execution_count": null,
   "id": "47f52923-5fc9-4e0c-8e5d-d2cb21d68246",
   "metadata": {},
   "outputs": [],
   "source": [
    "wandb.finish()"
   ]
  },
  {
   "cell_type": "markdown",
   "id": "55ad1454-2902-483b-9500-63456cfa5e8d",
   "metadata": {},
   "source": [
    "### Try the Model from Our Best Epoch\n",
    "\n",
    "We fine-tuned the model for `EPOCHS` nubmer of epochs, but the last epoch isn't always best. The `TrainingArgument` `load_best_model_at_end=True` loads the model at the end.\n",
    "\n",
    "Another way to load the best model is to load our output folder and evaluate that `SentenceTransformer` on some examples to get a gestalt sense for its performance.\n",
    "\n",
    "```python\n",
    "sbert_model = SentenceTransformer(OUTPUT_FOLDER, device=device)\n",
    "```"
   ]
  },
  {
   "cell_type": "code",
   "execution_count": null,
   "id": "20f2c9c5-5f70-4f13-8b3a-8e24d8509872",
   "metadata": {},
   "outputs": [],
   "source": [
    "sbert_compare(\n",
    "    \"101 Oak Lane, Atlanta, GA 30308\",\n",
    "    \"102 Oak Lane, Atlanta, GA 30308\",\n",
    ")"
   ]
  },
  {
   "cell_type": "code",
   "execution_count": null,
   "id": "246f35ba-5e5f-4801-a5dd-e0b54bc34d5b",
   "metadata": {},
   "outputs": [],
   "source": [
    "sbert_compare(\n",
    "    \"101 Oak Lane, Macon, GA 30308\",\n",
    "    \"101 Oak Lane, Atlanta, GA 30408\",\n",
    ")"
   ]
  },
  {
   "cell_type": "code",
   "execution_count": null,
   "id": "e96ef967-0c99-4301-9c2c-6909360566e8",
   "metadata": {},
   "outputs": [],
   "source": [
    "sbert_compare(\n",
    "    \"101 Oak Lane, Atlanta, GA 30308\",\n",
    "    \"101 Oak Ln., Atlanta, GA 30308\",\n",
    ")"
   ]
  },
  {
   "cell_type": "code",
   "execution_count": null,
   "id": "76eb3771-17c6-4d85-9bad-8615c1eb8db9",
   "metadata": {},
   "outputs": [],
   "source": [
    "sbert_compare(\n",
    "    \"3413 Sean Way, Lawrenceville, GA 30044\",\n",
    "    \"1202 Oak Rd., Lawrenceville, GA 30304\",\n",
    ")"
   ]
  },
  {
   "cell_type": "code",
   "execution_count": null,
   "id": "8c78fd25-be01-4052-b717-6471730d92ed",
   "metadata": {},
   "outputs": [],
   "source": [
    "sbert_compare(\n",
    "    \"3413 Sean Way, Lawrenceville, GA 30044\",\n",
    "    \"3413 Sean Way, Lawrenceville, GA 30044, USA\",\n",
    ")"
   ]
  },
  {
   "cell_type": "markdown",
   "id": "441a2b8b-2525-4c7c-98c0-6a65f69661b0",
   "metadata": {},
   "source": [
    "### Evaluate ROC Curve to Determine Optimum Similarity Threshold\n",
    "\n",
    "0.5 is an arbitrary line on which to divide positive (match, 1) and negative (mismatch, 0). Let's evaluate the ROC Curve of the F1 score to see what it should be set to. Recall that the `sbert_match` function has a `threshold: float = 0.5` argument.\n",
    "\n",
    "#### Evaluate on our Augmented Test Dataset\n",
    "\n",
    "First we'll evaluate the ROC curve on our augmented test dataset."
   ]
  },
  {
   "cell_type": "code",
   "execution_count": null,
   "id": "f53242e2-7ce0-4c00-853f-277ba98b6317",
   "metadata": {},
   "outputs": [],
   "source": [
    "y_true = test_df[\"Label\"]\n",
    "y_scores = test_df.apply(sbert_match, axis=1)"
   ]
  },
  {
   "cell_type": "code",
   "execution_count": null,
   "id": "fecb6dc8-528b-4680-9794-5da506b02502",
   "metadata": {},
   "outputs": [],
   "source": [
    "# Compute precision-recall curve\n",
    "precision, recall, thresholds = precision_recall_curve(y_true, y_scores)\n",
    "\n",
    "# Compute F1 score for each threshold\n",
    "f1_scores = [f1_score(y_true, y_scores >= t) for t in thresholds]\n",
    "\n",
    "# Find the threshold that maximizes the F1 score\n",
    "best_threshold_index = np.argmax(f1_scores)\n",
    "best_threshold = thresholds[best_threshold_index]\n",
    "best_f1_score = f1_scores[best_threshold_index]\n",
    "\n",
    "print(f'Best Threshold: {best_threshold}')\n",
    "print(f'Best F1 Score: {best_f1_score}')\n",
    "\n",
    "roc_auc = roc_auc_score(y_true, y_scores)\n",
    "print(f'AUC-ROC: {roc_auc}')"
   ]
  },
  {
   "cell_type": "code",
   "execution_count": null,
   "id": "737566a7-4902-468f-b87e-585650d484fd",
   "metadata": {},
   "outputs": [],
   "source": [
    "# Create a DataFrame for Seaborn\n",
    "pr_data = pd.DataFrame({\n",
    "    'Precision': precision[:-1],\n",
    "    'Recall': recall[:-1],\n",
    "    'F1 Score': f1_scores\n",
    "})\n",
    "\n",
    "# Plot Precision-Recall curve using Seaborn\n",
    "sns.lineplot(data=pr_data, x='Recall', y='Precision', marker='o')\n",
    "plt.xlabel('Recall')\n",
    "plt.ylabel('Precision')\n",
    "plt.title('Augmented Test Set Precision-Recall Curve')\n",
    "plt.show()"
   ]
  },
  {
   "cell_type": "markdown",
   "id": "d9f50818-d35c-43b9-b022-9746ce96cdc2",
   "metadata": {},
   "source": [
    "### Plot a ROC Curve for our Gold Labeled Data\n",
    "\n",
    "We need to see the ROC Curve for our gold labeled data as well. We care more about performance on this data."
   ]
  },
  {
   "cell_type": "code",
   "execution_count": null,
   "id": "af3eae08-beef-419a-bb8a-ffe74fae4cb6",
   "metadata": {},
   "outputs": [],
   "source": [
    "y_true = gold_df[\"Label\"]\n",
    "y_scores = gold_df.apply(sbert_match, axis=1)"
   ]
  },
  {
   "cell_type": "code",
   "execution_count": null,
   "id": "97bfde9f-9610-4b47-88d6-4432d5081f28",
   "metadata": {},
   "outputs": [],
   "source": [
    "# Compute precision-recall curve\n",
    "precision, recall, thresholds = precision_recall_curve(y_true, y_scores)\n",
    "\n",
    "# Compute F1 score for each threshold\n",
    "f1_scores = [f1_score(y_true, y_scores >= t) for t in thresholds]\n",
    "\n",
    "# Find the threshold that maximizes the F1 score\n",
    "best_threshold_index = np.argmax(f1_scores)\n",
    "best_threshold = thresholds[best_threshold_index]\n",
    "best_f1_score = f1_scores[best_threshold_index]\n",
    "\n",
    "print(f'Best Threshold: {best_threshold}')\n",
    "print(f'Best F1 Score: {best_f1_score}')\n",
    "\n",
    "roc_auc = roc_auc_score(y_true, y_scores)\n",
    "print(f'AUC-ROC: {roc_auc}')"
   ]
  },
  {
   "cell_type": "code",
   "execution_count": null,
   "id": "bbe142c8-8b4b-4384-be50-4e77413fd40e",
   "metadata": {},
   "outputs": [],
   "source": [
    "# Create a DataFrame for Seaborn\n",
    "pr_data = pd.DataFrame({\n",
    "    'Precision': precision[:-1],\n",
    "    'Recall': recall[:-1],\n",
    "    'F1 Score': f1_scores\n",
    "})\n",
    "\n",
    "# Plot Precision-Recall curve using Seaborn\n",
    "sns.lineplot(data=pr_data, x='Recall', y='Precision', marker='o')\n",
    "plt.xlabel('Recall')\n",
    "plt.ylabel('Precision')\n",
    "plt.title('Gold Label Precision-Recall Curve')\n",
    "plt.show()"
   ]
  },
  {
   "cell_type": "markdown",
   "id": "768d6185-8345-4460-82fc-654fd63cec04",
   "metadata": {},
   "source": [
    "### Debugging Errors on our Gold Labels\n",
    "\n",
    "Let's evaluate the data using our `gold_label_report` function with the best F1 score. Then we can view the errors and figure out where our model is failing."
   ]
  },
  {
   "cell_type": "code",
   "execution_count": null,
   "id": "63b16f14-ee29-4e2b-acec-61df4bfe8add",
   "metadata": {},
   "outputs": [],
   "source": [
    "raw_df, grouped_df = gold_label_report(\n",
    "    gold_df,\n",
    "    [\n",
    "        strict_parse_match,\n",
    "        parse_match_country,\n",
    "        sbert_match_binary,\n",
    "    ],\n",
    "    threshold=best_threshold\n",
    ")"
   ]
  },
  {
   "cell_type": "markdown",
   "id": "0bd151a3-f774-45ce-857f-e3d072fc803d",
   "metadata": {},
   "source": [
    "#### Label Description Group Analysis\n",
    "\n",
    "You can see the types of address pairs we are failing on. This can guide our data augmentation / programmatic labeling work at a high level."
   ]
  },
  {
   "cell_type": "code",
   "execution_count": null,
   "id": "c954ca92-334d-4d73-98a2-313bbec12c15",
   "metadata": {},
   "outputs": [],
   "source": [
    "grouped_df.head(40)"
   ]
  },
  {
   "cell_type": "code",
   "execution_count": null,
   "id": "3edae3d6-4085-41d9-bacb-3efde3d48e5e",
   "metadata": {},
   "outputs": [],
   "source": [
    "grouped_df[\"sbert_match_binary_acc\"].sort_values().head(40)"
   ]
  },
  {
   "cell_type": "markdown",
   "id": "1a4340fd-af40-4450-bfc1-834bac0851cb",
   "metadata": {},
   "source": [
    "#### What it Got Right ..."
   ]
  },
  {
   "cell_type": "code",
   "execution_count": null,
   "id": "090a985a-a152-4976-8f57-890e88ef99ff",
   "metadata": {},
   "outputs": [],
   "source": [
    "# Truthiness analysis\n",
    "correct_df = raw_df[raw_df[\"sbert_match_binary_correct\"]].reset_index()\n",
    "print(f\"Number correct: {len(correct_df):,}\")\n",
    "\n",
    "correct_df.head(20)"
   ]
  },
  {
   "cell_type": "code",
   "execution_count": null,
   "id": "d228d188-ed22-42ca-985b-ddd9088ac94b",
   "metadata": {},
   "outputs": [],
   "source": [
    "# Error analysis\n",
    "wrong_df = raw_df[raw_df[\"sbert_match_binary_correct\"] == False].reset_index()\n",
    "print(f\"Number wrong: {len(wrong_df):,}\")\n",
    "\n",
    "wrong_df.head(20)"
   ]
  },
  {
   "cell_type": "markdown",
   "id": "c299637d-619f-4683-b277-6c8081c4c23c",
   "metadata": {},
   "source": [
    "# Fuzzy, Structured Address Matching with Libpostal and Vector Distance\n",
    "\n",
    "There seems to be merit to both structured and embedding approaches to address matching. Let's see how an approximate approach to matching parsed address components might help."
   ]
  },
  {
   "cell_type": "markdown",
   "id": "3cebf8f6-2acc-49f7-8500-993b0a405b79",
   "metadata": {},
   "source": [
    "## Combining an Address Parsing and Embedding Approach\n",
    "\n",
    "Libpostal is a powerful parsing model, and it seems like parsing is a logical first step in matching addresses. Some logical combinations of fields should result in a match, while some should not. This logic can be programmed by a human, provided fuzzy matching is available at the field level. `101 Oak Lane` should match `101 Oak Ln` but not `102 Oak Lane`. `street_name` and `street_number` are separate fields in an address parsed by Libpostal. What is we got some machine learning help with field-level matching?"
   ]
  },
  {
   "cell_type": "code",
   "execution_count": null,
   "id": "94c4d097-22de-4477-b9ed-2e4700888bbc",
   "metadata": {},
   "outputs": [],
   "source": [
    "sbert_compare(\"Oak Lane\", \"Oak Ln.\")"
   ]
  },
  {
   "cell_type": "code",
   "execution_count": null,
   "id": "efde24e4-9963-42eb-a436-2e0964b269f9",
   "metadata": {},
   "outputs": [],
   "source": [
    "sbert_compare(\"Cheer Lane\", \"Cheer Road\")"
   ]
  },
  {
   "cell_type": "code",
   "execution_count": null,
   "id": "89b6f3a3-5ba2-43e2-81ef-145b9f66a4c1",
   "metadata": {},
   "outputs": [],
   "source": [
    "sbert_compare(\"101\", \"110\")"
   ]
  },
  {
   "cell_type": "code",
   "execution_count": null,
   "id": "d79ab110-cc3c-4ea7-a5a3-b72dd383e723",
   "metadata": {},
   "outputs": [],
   "source": [
    "sbert_compare(\"5th\", \"Fifth\")"
   ]
  },
  {
   "cell_type": "code",
   "execution_count": null,
   "id": "fcf32bb3-b165-40d8-ab19-38829a2b1c59",
   "metadata": {},
   "outputs": [],
   "source": [
    "sbert_compare(\"USA\", \"United States\")"
   ]
  },
  {
   "cell_type": "code",
   "execution_count": null,
   "id": "29f4a121-44b1-4441-8742-a6688c2a96b0",
   "metadata": {},
   "outputs": [],
   "source": [
    "sbert_compare(\"30044\", \"30308\")"
   ]
  },
  {
   "cell_type": "markdown",
   "id": "0715a288-d141-474a-a5f8-f5cbb7e0bd9a",
   "metadata": {},
   "source": [
    "## Fine-Tuning a Lowercase `SentenceTransformer`\n",
    "\n",
    "My first pass at this method did not work whatsoever - the performance of the matcher was abysmal. This was because Libpostal *lowercases* addresses when it parses them, and I did NOT do that to the training data on a first pass :) Once I did that and retrained below - things worked much better!"
   ]
  },
  {
   "cell_type": "markdown",
   "id": "7aeb24d9-ef8c-4f39-a709-8630c749a809",
   "metadata": {},
   "source": [
    "### Lowercase our Dataset"
   ]
  },
  {
   "cell_type": "code",
   "execution_count": null,
   "id": "ef2c3ad6-8418-4fdc-98aa-e4187b648020",
   "metadata": {},
   "outputs": [],
   "source": [
    "lower_augment_results_df = augment_results_df.copy(deep=True)\n",
    "\n",
    "lower_augment_results_df[\"Address1\"] = lower_augment_results_df[\"Address1\"].str.lower()\n",
    "lower_augment_results_df[\"Address2\"] = lower_augment_results_df[\"Address2\"].str.lower()"
   ]
  },
  {
   "cell_type": "code",
   "execution_count": null,
   "id": "5c4cb876-ea2c-4133-a2ee-f4dbb635b132",
   "metadata": {},
   "outputs": [],
   "source": [
    "train_df, tmp_df = train_test_split(lower_augment_results_df, test_size=0.2, shuffle=True)\n",
    "eval_df, test_df = train_test_split(tmp_df, test_size=0.5, random_state=42, shuffle=True)\n",
    "\n",
    "train_dataset = Dataset.from_dict({\n",
    "    \"sentence1\": train_df[\"Address1\"].tolist(),\n",
    "    \"sentence2\": train_df[\"Address2\"].tolist(),\n",
    "    \"label\": train_df[\"Label\"].tolist(),\n",
    "})\n",
    "\n",
    "eval_dataset = Dataset.from_dict({\n",
    "    \"sentence1\": eval_df[\"Address1\"].tolist(),\n",
    "    \"sentence2\": eval_df[\"Address2\"].tolist(),\n",
    "    \"label\": eval_df[\"Label\"].tolist(),\n",
    "})\n",
    "\n",
    "test_dataset = Dataset.from_dict({\n",
    "    \"sentence1\": test_df[\"Address1\"].tolist(),\n",
    "    \"sentence2\": test_df[\"Address2\"].tolist(),\n",
    "    \"label\": test_df[\"Label\"].tolist(),\n",
    "})\n",
    "\n",
    "print(f\"Training data:   {len(train_df):,}\")\n",
    "print(f\"Validation data: {len(eval_df):,}\")\n",
    "print(f\"Test data        {len(eval_df):,}\")"
   ]
  },
  {
   "cell_type": "code",
   "execution_count": null,
   "id": "b0af638c-048c-47a1-98bd-bdc670d9f377",
   "metadata": {},
   "outputs": [],
   "source": [
    "SBERT_MODEL = \"paraphrase-multilingual-MiniLM-L12-v2\"\n",
    "VARIANT = \"lowercase\"\n",
    "MODEL_SAVE_NAME = (SBERT_MODEL + \"-\" + VARIANT).replace(\"/\", \"-\")\n",
    "\n",
    "EPOCHS = 6\n",
    "BATCH_SIZE = 32\n",
    "PATIENCE = 3\n",
    "LEARNING_RATE = .00005\n",
    "DATASET_MULTIPLE = CLONES_PER_RUN * RUNS_PER_EXAMPLE\n",
    "SBERT_LOWER_OUTPUT_FOLDER = f\"data/fine-tuned-sbert-{MODEL_SAVE_NAME}\"\n",
    "SAVE_EVAL_STEPS = 100"
   ]
  },
  {
   "cell_type": "code",
   "execution_count": null,
   "id": "450ff10b-99ce-4853-bcd2-37c17e4eb2f6",
   "metadata": {},
   "outputs": [],
   "source": [
    "# Initialize Weights & Biases\n",
    "wandb.init(\n",
    "    entity=\"rjurney\",\n",
    "    # set the wandb project where this run will be logged\n",
    "    project=\"libpostal-reborn\",\n",
    "    # track hyperparameters and run metadata\n",
    "    config={\n",
    "        \"variant\": VARIANT,\n",
    "        \"dataset_multiple\": DATASET_MULTIPLE,\n",
    "        \"epochs\": EPOCHS,\n",
    "        \"batch_size\": BATCH_SIZE,\n",
    "        \"patience\": PATIENCE,\n",
    "        \"learning_rate\": LEARNING_RATE,\n",
    "        \"sbert_model\": SBERT_MODEL,\n",
    "        \"sbert_output_folder\": SBERT_LOWER_OUTPUT_FOLDER,\n",
    "        \"save_eval_steps\": SAVE_EVAL_STEPS,\n",
    "    },\n",
    ")"
   ]
  },
  {
   "cell_type": "code",
   "execution_count": null,
   "id": "adc7965c-5619-44a2-a07f-9646078db1dd",
   "metadata": {},
   "outputs": [],
   "source": [
    "sbert_model_lower = SentenceTransformer(\n",
    "    SBERT_MODEL,\n",
    "    device=device,\n",
    "    model_card_data=SentenceTransformerModelCardData(\n",
    "        language=\"en\",\n",
    "        license=\"apache-2.0\",\n",
    "        model_name=f\"{SBERT_MODEL}-address-matcher-{VARIANT}\",\n",
    "    ),\n",
    ")"
   ]
  },
  {
   "cell_type": "code",
   "execution_count": null,
   "id": "e05ff3a5-111d-4f1b-bdaa-2fc4c5859346",
   "metadata": {},
   "outputs": [],
   "source": [
    "# Initialize the evaluator\n",
    "binary_acc_evaluator = BinaryClassificationEvaluator(\n",
    "    sentences1=eval_dataset[\"sentence1\"],\n",
    "    sentences2=eval_dataset[\"sentence2\"],\n",
    "    labels=eval_dataset[\"label\"],\n",
    "    name=SBERT_MODEL,\n",
    ")\n",
    "binary_acc_evaluator(sbert_model_lower)"
   ]
  },
  {
   "cell_type": "code",
   "execution_count": null,
   "id": "16800ca1-1f40-40de-9299-f8e88b0ee2fc",
   "metadata": {},
   "outputs": [],
   "source": [
    "# This will rapidly train the embedding model. MultipleNegativesRankingLoss did not work.\n",
    "loss = losses.ContrastiveLoss(model=sbert_model_lower)\n",
    "\n",
    "sbert_args = SentenceTransformerTrainingArguments(\n",
    "    output_dir=SBERT_LOWER_OUTPUT_FOLDER,\n",
    "    num_train_epochs=EPOCHS,\n",
    "    per_device_train_batch_size=BATCH_SIZE,\n",
    "    per_device_eval_batch_size=BATCH_SIZE,\n",
    "    warmup_ratio=0.1,\n",
    "    run_name=SBERT_MODEL,\n",
    "    load_best_model_at_end=True,\n",
    "    save_steps=SAVE_EVAL_STEPS,\n",
    "    eval_steps=SAVE_EVAL_STEPS,\n",
    "    save_strategy=\"steps\",\n",
    "    eval_strategy=\"steps\",\n",
    "    greater_is_better=False,\n",
    "    metric_for_best_model=\"eval_loss\",\n",
    "    learning_rate=LEARNING_RATE,\n",
    "    logging_dir=\"./logs\",\n",
    ")\n",
    "\n",
    "trainer = SentenceTransformerTrainer(\n",
    "    model=sbert_model_lower,\n",
    "    args=sbert_args,\n",
    "    train_dataset=train_dataset,\n",
    "    eval_dataset=eval_dataset,\n",
    "    loss=loss,\n",
    "    evaluator=binary_acc_evaluator,\n",
    "    compute_metrics=compute_sbert_metrics,\n",
    "    callbacks=[EarlyStoppingCallback(early_stopping_patience=PATIENCE)],\n",
    ")\n",
    "\n",
    "trainer.evaluate()\n",
    "trainer.train()"
   ]
  },
  {
   "cell_type": "code",
   "execution_count": null,
   "id": "0092c331-3ab7-436b-ac7e-0cf0bfd0406c",
   "metadata": {},
   "outputs": [],
   "source": [
    "trainer.evaluate()"
   ]
  },
  {
   "cell_type": "markdown",
   "id": "6739716e-4567-47e7-a49a-87228bc33f3f",
   "metadata": {},
   "source": [
    "### Rewrite our Matchers for Lowercase Duty\n",
    "\n",
    "Need two versions of these to compare the original with their new lowercase cousins."
   ]
  },
  {
   "cell_type": "code",
   "execution_count": null,
   "id": "b9b1761b-001e-4fd8-b61a-7d31686bc9da",
   "metadata": {},
   "outputs": [],
   "source": [
    "def sbert_compare_lower(address1: str, address2: str) -> float:\n",
    "    \"\"\"sbert_compare - sentence encode each address into a fixed-length text embedding.\n",
    "    Fixed-length means they can be compared with cosine similarity.\"\"\"\n",
    "    embedding1 = sbert_model_lower.encode(address1.lower())\n",
    "    embedding2 = sbert_model_lower.encode(address2.lower())\n",
    "\n",
    "    # Compute cosine similarity\n",
    "    return 1 - distance.cosine(embedding1, embedding2)\n",
    "\n",
    "\n",
    "def sbert_match_lower(row: pd.Series) -> pd.Series:\n",
    "    \"\"\"sbert_match - SentenceTransformer address matching, float iytoyt\"\"\"\n",
    "    return sbert_compare_lower(row[\"Address1\"], row[\"Address2\"])\n",
    "\n",
    "\n",
    "def sbert_compare_binary_lower(address1: str, address2: str, threshold: float = 0.5) -> Literal[0, 1]:\n",
    "    \"\"\"sbert_match - compare and return a binary match\"\"\"\n",
    "    similarity = sbert_compare_lower(address1, address2)\n",
    "    return 1 if similarity >= threshold else 0\n",
    "\n",
    "\n",
    "def sbert_match_binary_lower(row: pd.Series, threshold: float = 0.5) -> pd.Series:\n",
    "    \"\"\"sbert_match_binary - SentenceTransformer address matching, binary output\"\"\"\n",
    "    return sbert_compare_binary_lower(row[\"Address1\"], row[\"Address2\"], threshold=threshold)"
   ]
  },
  {
   "cell_type": "markdown",
   "id": "e94e3805-efb3-4677-97a6-03f469484ac0",
   "metadata": {},
   "source": [
    "### Evaluate ROC Curve to Determine Optimum Similarity Threshold\n",
    "\n",
    "We need to evaluate the ROC Curve of the F1 score to see what it should be set to for our lowercase model too. Recall that the `sbert_match_lower` function has a `threshold: float = 0.5` argument.\n",
    "\n",
    "#### Evaluate on our Augmented Test Dataset\n",
    "\n",
    "First we'll evaluate the ROC curve on our augmented test dataset."
   ]
  },
  {
   "cell_type": "code",
   "execution_count": null,
   "id": "245e39c8-4434-4e20-993e-b6dcf4b8bd53",
   "metadata": {},
   "outputs": [],
   "source": [
    "y_true = test_df[\"Label\"]\n",
    "y_scores = test_df.apply(sbert_match_lower, axis=1)"
   ]
  },
  {
   "cell_type": "code",
   "execution_count": null,
   "id": "044d9937-5c3e-4e9a-aff2-e30aec095d5e",
   "metadata": {},
   "outputs": [],
   "source": [
    "# Compute precision-recall curve\n",
    "precision, recall, thresholds = precision_recall_curve(y_true, y_scores)\n",
    "\n",
    "# Compute F1 score for each threshold\n",
    "f1_scores = [f1_score(y_true, y_scores >= t) for t in thresholds]\n",
    "\n",
    "# Find the threshold that maximizes the F1 score\n",
    "best_threshold_index = np.argmax(f1_scores)\n",
    "best_threshold = thresholds[best_threshold_index]\n",
    "best_f1_score = f1_scores[best_threshold_index]\n",
    "\n",
    "print(f'Best Threshold: {best_threshold}')\n",
    "print(f'Best F1 Score: {best_f1_score}')\n",
    "\n",
    "roc_auc = roc_auc_score(y_true, y_scores)\n",
    "print(f'AUC-ROC: {roc_auc}')"
   ]
  },
  {
   "cell_type": "code",
   "execution_count": null,
   "id": "aa3d1d6e-8ca0-4964-aa69-91e2e7ddffc3",
   "metadata": {},
   "outputs": [],
   "source": [
    "# Create a DataFrame for Seaborn\n",
    "pr_data = pd.DataFrame({\n",
    "    'Precision': precision[:-1],\n",
    "    'Recall': recall[:-1],\n",
    "    'F1 Score': f1_scores\n",
    "})\n",
    "\n",
    "# Plot Precision-Recall curve using Seaborn\n",
    "sns.lineplot(data=pr_data, x='Recall', y='Precision', marker='o')\n",
    "plt.xlabel('Recall')\n",
    "plt.ylabel('Precision')\n",
    "plt.title('Augmented Test Set Precision-Recall Curve')\n",
    "plt.show()"
   ]
  },
  {
   "cell_type": "markdown",
   "id": "fe3a978d-6193-4968-99b3-65cfbd584c4e",
   "metadata": {},
   "source": [
    "### Plot a ROC Curve for our Gold Labeled Data\n",
    "\n",
    "We need to see the ROC Curve for our gold labeled data as well. We care more about performance on this data."
   ]
  },
  {
   "cell_type": "code",
   "execution_count": null,
   "id": "afb225e7-ad73-4236-b4ea-49fbb1da3bab",
   "metadata": {},
   "outputs": [],
   "source": [
    "y_true = gold_df[\"Label\"]\n",
    "y_scores = gold_df.apply(sbert_match_lower, axis=1)"
   ]
  },
  {
   "cell_type": "code",
   "execution_count": null,
   "id": "52d2c166-d6c2-481c-b573-f1c5ca6fd41b",
   "metadata": {},
   "outputs": [],
   "source": [
    "# Compute precision-recall curve\n",
    "precision, recall, thresholds = precision_recall_curve(y_true, y_scores)\n",
    "\n",
    "# Compute F1 score for each threshold\n",
    "f1_scores = [f1_score(y_true, y_scores >= t) for t in thresholds]\n",
    "\n",
    "# Find the threshold that maximizes the F1 score\n",
    "best_threshold_index = np.argmax(f1_scores)\n",
    "best_threshold = thresholds[best_threshold_index]\n",
    "best_f1_score = f1_scores[best_threshold_index]\n",
    "\n",
    "print(f'Best Threshold: {best_threshold}')\n",
    "print(f'Best F1 Score: {best_f1_score}')\n",
    "\n",
    "roc_auc = roc_auc_score(y_true, y_scores)\n",
    "print(f'AUC-ROC: {roc_auc}')"
   ]
  },
  {
   "cell_type": "code",
   "execution_count": null,
   "id": "b50070e2-5c1e-4367-b5be-d1145d87e97a",
   "metadata": {},
   "outputs": [],
   "source": [
    "# Create a DataFrame for Seaborn\n",
    "pr_data = pd.DataFrame({\n",
    "    'Precision': precision[:-1],\n",
    "    'Recall': recall[:-1],\n",
    "    'F1 Score': f1_scores\n",
    "})\n",
    "\n",
    "# Plot Precision-Recall curve using Seaborn\n",
    "sns.lineplot(data=pr_data, x='Recall', y='Precision', marker='o')\n",
    "plt.xlabel('Recall')\n",
    "plt.ylabel('Precision')\n",
    "plt.title('Gold Label Precision-Recall Curve')\n",
    "plt.show()"
   ]
  },
  {
   "cell_type": "markdown",
   "id": "e133fb1b-6fcd-406a-82a0-8d9e9fac579e",
   "metadata": {},
   "source": [
    "### Rewriting our Structured Matcher to be Semantically Fuzzy\n",
    "\n",
    "Let's rewrite our original parser to use `sbert_compare_binary(address1: str, address2: str, threshold=best_threshold)` for the road name, city (which we skipped before) and country."
   ]
  },
  {
   "cell_type": "code",
   "execution_count": null,
   "id": "a31be0a9-8281-4ed4-92e3-753a8f040ea4",
   "metadata": {},
   "outputs": [],
   "source": [
    "def parse_fuzzy_match_address(address1: str, address2: str, threshold=0.5) -> Literal[0, 1]:\n",
    "    \"\"\"parse_fuzzy_match_address uses parsed addresses with fuzzy matching for street, city and country.\"\"\"\n",
    "    address1 = to_dict(parse_address(address1))\n",
    "    address2 = to_dict(parse_address(address2))\n",
    "\n",
    "    def match_road(address1: Dict, address2: Dict) -> Literal[0, 1]:\n",
    "        \"\"\"match_road - literal road matching, negative if either lacks a road\"\"\"\n",
    "        if (\"road\" in address1) and (\"road\" in address2):\n",
    "\n",
    "            # to_dict produces a list if two tuples have the same key\n",
    "            if isinstance(address1[\"road\"], list):\n",
    "                address1[\"road\"] = \" \".join(address1[\"road\"])\n",
    "            if isinstance(address2[\"road\"], list):\n",
    "                address2[\"road\"] = \" \".join(address2[\"road\"])\n",
    "            \n",
    "            if sbert_compare_binary_lower(\n",
    "                address1[\"road\"],\n",
    "                address2[\"road\"], \n",
    "                threshold=threshold\n",
    "            ):\n",
    "                logger.debug(\"road match\")\n",
    "                return 1\n",
    "            else:\n",
    "                logger.debug(\"road mismatch\")\n",
    "                return 0\n",
    "        logger.debug(\"road mismatch\")\n",
    "        return 0\n",
    "\n",
    "    def match_house_number(address1: Dict, address2: Dict) -> Literal[0, 1]:\n",
    "        \"\"\"match_house_number - literal house number matching, negative if either lacks a house_number\"\"\"\n",
    "        if (\"house_number\" in address1) and (\"house_number\" in address2):\n",
    "            if address1[\"house_number\"] == address2[\"house_number\"]:\n",
    "                logger.debug(\"house_number match\")\n",
    "                return 1\n",
    "            else:\n",
    "                logger.debug(\"house_number mismatch\")\n",
    "                return 0\n",
    "        logger.debug(\"house_number mistmatch\")\n",
    "        return 0\n",
    "\n",
    "    def match_unit(address1: Dict, address2: Dict) -> Literal[0, 1]:\n",
    "        \"\"\"match_unit - note a missing unit in both is a match\"\"\"\n",
    "        if \"unit\" in address1:\n",
    "            if \"unit\" in address2:\n",
    "                logger.debug(\"unit match\")\n",
    "                return 1 if (address1[\"unit\"] == address2[\"unit\"]) else 0\n",
    "            else:\n",
    "                logger.debug(\"unit mismatch\")\n",
    "                return 0\n",
    "        if \"unit\" in address2:\n",
    "            if \"unit\" in address1:\n",
    "                logger.debug(\"unit match\")\n",
    "                return 1 if (address1[\"unit\"] == address2[\"unit\"]) else 0\n",
    "            else:\n",
    "                logger.debug(\"unit mismatch\")\n",
    "                return 0\n",
    "        # Neither address has a unit, which is a default match\n",
    "        return 1\n",
    "\n",
    "    def match_postcode(address1: Dict, address2: Dict) -> Literal[0, 1]:\n",
    "        \"\"\"match_postcode - literal matching, negative if either lacks a postal code\"\"\"\n",
    "        if (\"postcode\" in address1) and (\"postcode\" in address2):\n",
    "            if address1[\"postcode\"] == address2[\"postcode\"]:\n",
    "                logger.debug(\"postcode match\")\n",
    "                return 1\n",
    "            else:\n",
    "                logger.debug(\"postcode mismatch\")\n",
    "                return 0\n",
    "        logger.debug(\"postcode mismatch\")\n",
    "        return 0\n",
    "\n",
    "    def match_country(address1: Dict, address2: Dict) -> Literal[0, 1]:\n",
    "        \"\"\"match_country - literal country matching - pass if both don't have one\"\"\"\n",
    "        if (\"country\" in address1) and (\"country\" in address2):\n",
    "\n",
    "            # to_dict produces a list if two tuples have the same key\n",
    "            if isinstance(address1[\"country\"], list):\n",
    "                address1[\"country\"] = \" \".join(address1[\"country\"])\n",
    "            if isinstance(address2[\"country\"], list):\n",
    "                address2[\"country\"] = \" \".join(address2[\"country\"])\n",
    "\n",
    "            if sbert_compare_binary_lower(\n",
    "                address1[\"country\"],\n",
    "                address2[\"country\"],\n",
    "                threshold=best_threshold,\n",
    "            ):\n",
    "                logger.debug(\"country match\")\n",
    "                return 1\n",
    "            else:\n",
    "                logger.debug(\"country mismatch\")\n",
    "                return 0\n",
    "\n",
    "        # One or none countries should match\n",
    "        logger.debug(\"country match\")\n",
    "        return 1\n",
    "\n",
    "    # Combine the above to get a complete address matcher\n",
    "    if (\n",
    "        match_road(address1, address2)\n",
    "        and match_house_number(address1, address2)\n",
    "        and match_unit(address1, address2)\n",
    "        and match_postcode(address1, address2)\n",
    "        and match_country(address1, address2)\n",
    "    ):\n",
    "        logger.debug(\"overall match\")\n",
    "        return 1\n",
    "    else:\n",
    "        logger.debug(\"overall mismatch\")\n",
    "        return 0\n",
    "\n",
    "\n",
    "def sbert_parse_match(row: pd.Series, threshold: float = 0.5) -> pd.Series:\n",
    "    \"\"\"fuzzy_parse_match Fuzzy, structured address matching. Threshold is passed through via gold_label_report.\"\"\"\n",
    "    return parse_fuzzy_match_address(row[\"Address1\"], row[\"Address2\"], threshold=threshold)"
   ]
  },
  {
   "cell_type": "code",
   "execution_count": null,
   "id": "394be39d-eb55-4ca5-9d56-f14d06c220ef",
   "metadata": {},
   "outputs": [],
   "source": [
    "raw_df, grouped_df = gold_label_report(\n",
    "    gold_df,\n",
    "    [\n",
    "        strict_parse_match,\n",
    "        parse_match_country,\n",
    "        sbert_match_binary,\n",
    "        sbert_parse_match,\n",
    "    ],\n",
    "    threshold=best_threshold\n",
    ")"
   ]
  },
  {
   "cell_type": "code",
   "execution_count": null,
   "id": "d4554ba8-9280-4b86-a5e9-7610aca02a6c",
   "metadata": {},
   "outputs": [],
   "source": [
    "grouped_df[\"sbert_parse_match_acc\"].sort_values().head(40)"
   ]
  },
  {
   "cell_type": "code",
   "execution_count": null,
   "id": "bcf346df-68a4-47e0-8e6d-ff1c237a0a67",
   "metadata": {},
   "outputs": [],
   "source": [
    "# Truthiness analysis\n",
    "correct_df = raw_df[raw_df[\"sbert_parse_match_correct\"]].reset_index(drop=True)\n",
    "print(f\"Number correct: {len(correct_df):,}\")\n",
    "\n",
    "correct_df.head(20)"
   ]
  },
  {
   "cell_type": "code",
   "execution_count": null,
   "id": "e6a67103-0ac3-4254-872b-0c245ca4ddf5",
   "metadata": {},
   "outputs": [],
   "source": [
    "# Error analysis\n",
    "wrong_df = raw_df[raw_df[\"sbert_parse_match_correct\"] == False].reset_index()\n",
    "print(f\"Number wrong: {len(wrong_df):,}\")\n",
    "\n",
    "wrong_df.head(20)"
   ]
  },
  {
   "cell_type": "code",
   "execution_count": null,
   "id": "39042e3c-7a97-4589-97d2-af269c7d11c6",
   "metadata": {},
   "outputs": [],
   "source": [
    "sbert_compare_lower(\n",
    "    \"nw 5th ave\",\n",
    "    \"northwest 5th avenue\"\n",
    ")"
   ]
  },
  {
   "cell_type": "code",
   "execution_count": null,
   "id": "4fb15a9f-1863-4bc3-822f-5057f8baab75",
   "metadata": {},
   "outputs": [],
   "source": [
    "parse_fuzzy_match_address(\n",
    "    \"2024 NW 5th Ave, Miami, FL 33127\",\n",
    "    \"2024 Northwest 5th Avenue, Miami, Florida 33127\",\n",
    "    threshold=best_threshold\n",
    ")"
   ]
  },
  {
   "cell_type": "code",
   "execution_count": null,
   "id": "d839232a-9e11-4954-8968-fb7f83597ba9",
   "metadata": {},
   "outputs": [],
   "source": [
    "parse_fuzzy_match_address(\n",
    "    \"Third Ave, New York, NY\",\n",
    "    \"3rd Avenue, New York, New York\"\n",
    ")"
   ]
  },
  {
   "cell_type": "code",
   "execution_count": null,
   "id": "730af59f-37d8-408b-b1ea-fba55ca6f5a0",
   "metadata": {},
   "outputs": [],
   "source": [
    "sbert_compare_lower(\n",
    "    \"101 market square, seattle, wa 98039\",\n",
    "    \"101 davis place, seattle, wa 98039\"\n",
    ")"
   ]
  },
  {
   "cell_type": "code",
   "execution_count": null,
   "id": "4e6ea0fe-c542-4ff1-8010-16fa5e20084d",
   "metadata": {},
   "outputs": [],
   "source": [
    "parse_fuzzy_match_address(\n",
    "    \"221B Baker Street, London, NW1 6XE, UK\",\n",
    "    \"221B Baker St, Marylebone, London NW1 6XE\"\n",
    ")"
   ]
  },
  {
   "cell_type": "markdown",
   "id": "58ce4d63-059e-4830-a0b6-4b0b9ab515f7",
   "metadata": {},
   "source": [
    "Not quite right... we didn't come close to beating sentence transformers alone. I think we really need a deep learning model doing the heavy lifting for us rather than a simple threshold on a binary classification.\n",
    "\n",
    "## Fuzzy Parsed Conclusion\n",
    "\n",
    "If you look at the items missed by this model, they are largely due to stricter matching requirements. These could be addressed logically, as with the help of fuzzy matching with `SentenceTransformers` they fall within the scope of task a human can accomplish. This means the structured, fuzzy model can be trusted more than the pure `SentenceTransformer` model. A little more work could bring it into a state that meets or beats the pure `SentenceTransformer` model while providing explainability that entity resolution often requires."
   ]
  },
  {
   "cell_type": "markdown",
   "id": "0388ebba-f964-41ce-ab37-c9c295a45806",
   "metadata": {},
   "source": [
    "## Structured Prediction with a `Sentence-BERT` Classifier\n",
    "\n",
    "Embeddings as a solution to this problem have a side-effect of optimizing an embedding for information retrieval... but they ignore the structure of parsed addresses. A deep network that is aware of it can perform better. Let's try out an implementation of the Sentence-BERT model, which was outlined by Nils Reimers and Iryna Gurevych in the original paper that created sentence tranformers, [Sentence-BERT: Sentence Embeddings using Siamese BERT-Networks\n",
    "](https://arxiv.org/abs/1908.10084)."
   ]
  },
  {
   "cell_type": "code",
   "execution_count": 33,
   "id": "cc6f9841-6248-4e06-81b7-c5761fde354e",
   "metadata": {},
   "outputs": [],
   "source": [
    "SBERT_MODEL = \"sentence-transformers/paraphrase-multilingual-MiniLM-L12-v2\"\n",
    "# SBERT_MODEL = \"data/fine-tuned-sbert-paraphrase-multilingual-MiniLM-L12-v2-original/checkpoint-2400/\"\n",
    "VARIANT = \"untrained-embeddings\"\n",
    "MODEL_SAVE_NAME = (\"Sentence-BERT\" + \"-\" + VARIANT).replace(\"/\", \"-\")\n",
    "\n",
    "EPOCHS = 6\n",
    "BATCH_SIZE = 32\n",
    "PATIENCE = 3\n",
    "LEARNING_RATE = 2e-5\n",
    "MODEL_OUTPUT_FOLDER = f\"data/{MODEL_SAVE_NAME}\"\n",
    "SAVE_EVAL_STEPS = 100\n",
    "\n",
    "COLUMN_SPECIAL_CHAR = \"[COL]\"\n",
    "VALUE_SPECIAL_CHAR = \"[VAL]\""
   ]
  },
  {
   "cell_type": "code",
   "execution_count": 34,
   "id": "1dfb214a-2cbb-48d2-9e42-307aab992516",
   "metadata": {},
   "outputs": [
    {
     "data": {
      "text/html": [
       "Finishing last run (ID:e1u60daf) before initializing another..."
      ],
      "text/plain": [
       "<IPython.core.display.HTML object>"
      ]
     },
     "metadata": {},
     "output_type": "display_data"
    },
    {
     "data": {
      "application/vnd.jupyter.widget-view+json": {
       "model_id": "",
       "version_major": 2,
       "version_minor": 0
      },
      "text/plain": [
       "VBox(children=(Label(value='0.509 MB of 0.509 MB uploaded (0.111 MB deduped)\\r'), FloatProgress(value=1.0, max…"
      ]
     },
     "metadata": {},
     "output_type": "display_data"
    },
    {
     "data": {
      "text/html": [
       "W&B sync reduced upload amount by 18.1%             "
      ],
      "text/plain": [
       "<IPython.core.display.HTML object>"
      ]
     },
     "metadata": {},
     "output_type": "display_data"
    },
    {
     "data": {
      "text/html": [
       "<style>\n",
       "    table.wandb td:nth-child(1) { padding: 0 10px; text-align: left ; width: auto;} td:nth-child(2) {text-align: left ; width: 100%}\n",
       "    .wandb-row { display: flex; flex-direction: row; flex-wrap: wrap; justify-content: flex-start; width: 100% }\n",
       "    .wandb-col { display: flex; flex-direction: column; flex-basis: 100%; flex: 1; padding: 10px; }\n",
       "    </style>\n",
       "<div class=\"wandb-row\"><div class=\"wandb-col\"><h3>Run history:</h3><br/><table class=\"wandb\"><tr><td>eval/loss</td><td>▁</td></tr><tr><td>eval/paraphrase-multilingual-MiniLM-L12-v2_cosine_accuracy</td><td>▁</td></tr><tr><td>eval/paraphrase-multilingual-MiniLM-L12-v2_cosine_accuracy_threshold</td><td>▁</td></tr><tr><td>eval/paraphrase-multilingual-MiniLM-L12-v2_cosine_ap</td><td>▁</td></tr><tr><td>eval/paraphrase-multilingual-MiniLM-L12-v2_cosine_f1</td><td>▁</td></tr><tr><td>eval/paraphrase-multilingual-MiniLM-L12-v2_cosine_f1_threshold</td><td>▁</td></tr><tr><td>eval/paraphrase-multilingual-MiniLM-L12-v2_cosine_precision</td><td>▁</td></tr><tr><td>eval/paraphrase-multilingual-MiniLM-L12-v2_cosine_recall</td><td>▁</td></tr><tr><td>eval/paraphrase-multilingual-MiniLM-L12-v2_dot_accuracy</td><td>▁</td></tr><tr><td>eval/paraphrase-multilingual-MiniLM-L12-v2_dot_accuracy_threshold</td><td>▁</td></tr><tr><td>eval/paraphrase-multilingual-MiniLM-L12-v2_dot_ap</td><td>▁</td></tr><tr><td>eval/paraphrase-multilingual-MiniLM-L12-v2_dot_f1</td><td>▁</td></tr><tr><td>eval/paraphrase-multilingual-MiniLM-L12-v2_dot_f1_threshold</td><td>▁</td></tr><tr><td>eval/paraphrase-multilingual-MiniLM-L12-v2_dot_precision</td><td>▁</td></tr><tr><td>eval/paraphrase-multilingual-MiniLM-L12-v2_dot_recall</td><td>▁</td></tr><tr><td>eval/paraphrase-multilingual-MiniLM-L12-v2_euclidean_accuracy</td><td>▁</td></tr><tr><td>eval/paraphrase-multilingual-MiniLM-L12-v2_euclidean_accuracy_threshold</td><td>▁</td></tr><tr><td>eval/paraphrase-multilingual-MiniLM-L12-v2_euclidean_ap</td><td>▁</td></tr><tr><td>eval/paraphrase-multilingual-MiniLM-L12-v2_euclidean_f1</td><td>▁</td></tr><tr><td>eval/paraphrase-multilingual-MiniLM-L12-v2_euclidean_f1_threshold</td><td>▁</td></tr><tr><td>eval/paraphrase-multilingual-MiniLM-L12-v2_euclidean_precision</td><td>▁</td></tr><tr><td>eval/paraphrase-multilingual-MiniLM-L12-v2_euclidean_recall</td><td>▁</td></tr><tr><td>eval/paraphrase-multilingual-MiniLM-L12-v2_manhattan_accuracy</td><td>▁</td></tr><tr><td>eval/paraphrase-multilingual-MiniLM-L12-v2_manhattan_accuracy_threshold</td><td>▁</td></tr><tr><td>eval/paraphrase-multilingual-MiniLM-L12-v2_manhattan_ap</td><td>▁</td></tr><tr><td>eval/paraphrase-multilingual-MiniLM-L12-v2_manhattan_f1</td><td>▁</td></tr><tr><td>eval/paraphrase-multilingual-MiniLM-L12-v2_manhattan_f1_threshold</td><td>▁</td></tr><tr><td>eval/paraphrase-multilingual-MiniLM-L12-v2_manhattan_precision</td><td>▁</td></tr><tr><td>eval/paraphrase-multilingual-MiniLM-L12-v2_manhattan_recall</td><td>▁</td></tr><tr><td>eval/paraphrase-multilingual-MiniLM-L12-v2_max_accuracy</td><td>▁</td></tr><tr><td>eval/paraphrase-multilingual-MiniLM-L12-v2_max_accuracy_threshold</td><td>▁</td></tr><tr><td>eval/paraphrase-multilingual-MiniLM-L12-v2_max_ap</td><td>▁</td></tr><tr><td>eval/paraphrase-multilingual-MiniLM-L12-v2_max_f1</td><td>▁</td></tr><tr><td>eval/paraphrase-multilingual-MiniLM-L12-v2_max_f1_threshold</td><td>▁</td></tr><tr><td>eval/paraphrase-multilingual-MiniLM-L12-v2_max_precision</td><td>▁</td></tr><tr><td>eval/paraphrase-multilingual-MiniLM-L12-v2_max_recall</td><td>▁</td></tr><tr><td>eval/runtime</td><td>▁</td></tr><tr><td>eval/samples_per_second</td><td>▁</td></tr><tr><td>eval/steps_per_second</td><td>▁</td></tr><tr><td>train/global_step</td><td>▁</td></tr></table><br/></div><div class=\"wandb-col\"><h3>Run summary:</h3><br/><table class=\"wandb\"><tr><td>eval/loss</td><td>0.04686</td></tr><tr><td>eval/paraphrase-multilingual-MiniLM-L12-v2_cosine_accuracy</td><td>0.5653</td></tr><tr><td>eval/paraphrase-multilingual-MiniLM-L12-v2_cosine_accuracy_threshold</td><td>0.71636</td></tr><tr><td>eval/paraphrase-multilingual-MiniLM-L12-v2_cosine_ap</td><td>0.48368</td></tr><tr><td>eval/paraphrase-multilingual-MiniLM-L12-v2_cosine_f1</td><td>0.6951</td></tr><tr><td>eval/paraphrase-multilingual-MiniLM-L12-v2_cosine_f1_threshold</td><td>0.71636</td></tr><tr><td>eval/paraphrase-multilingual-MiniLM-L12-v2_cosine_precision</td><td>0.53614</td></tr><tr><td>eval/paraphrase-multilingual-MiniLM-L12-v2_cosine_recall</td><td>0.98807</td></tr><tr><td>eval/paraphrase-multilingual-MiniLM-L12-v2_dot_accuracy</td><td>0.60718</td></tr><tr><td>eval/paraphrase-multilingual-MiniLM-L12-v2_dot_accuracy_threshold</td><td>21.06813</td></tr><tr><td>eval/paraphrase-multilingual-MiniLM-L12-v2_dot_ap</td><td>0.66221</td></tr><tr><td>eval/paraphrase-multilingual-MiniLM-L12-v2_dot_f1</td><td>0.69391</td></tr><tr><td>eval/paraphrase-multilingual-MiniLM-L12-v2_dot_f1_threshold</td><td>13.11317</td></tr><tr><td>eval/paraphrase-multilingual-MiniLM-L12-v2_dot_precision</td><td>0.53241</td></tr><tr><td>eval/paraphrase-multilingual-MiniLM-L12-v2_dot_recall</td><td>0.99602</td></tr><tr><td>eval/paraphrase-multilingual-MiniLM-L12-v2_euclidean_accuracy</td><td>0.56132</td></tr><tr><td>eval/paraphrase-multilingual-MiniLM-L12-v2_euclidean_accuracy_threshold</td><td>3.37818</td></tr><tr><td>eval/paraphrase-multilingual-MiniLM-L12-v2_euclidean_ap</td><td>0.47413</td></tr><tr><td>eval/paraphrase-multilingual-MiniLM-L12-v2_euclidean_f1</td><td>0.69177</td></tr><tr><td>eval/paraphrase-multilingual-MiniLM-L12-v2_euclidean_f1_threshold</td><td>3.60123</td></tr><tr><td>eval/paraphrase-multilingual-MiniLM-L12-v2_euclidean_precision</td><td>0.53276</td></tr><tr><td>eval/paraphrase-multilingual-MiniLM-L12-v2_euclidean_recall</td><td>0.98608</td></tr><tr><td>eval/paraphrase-multilingual-MiniLM-L12-v2_manhattan_accuracy</td><td>0.55932</td></tr><tr><td>eval/paraphrase-multilingual-MiniLM-L12-v2_manhattan_accuracy_threshold</td><td>51.62561</td></tr><tr><td>eval/paraphrase-multilingual-MiniLM-L12-v2_manhattan_ap</td><td>0.47284</td></tr><tr><td>eval/paraphrase-multilingual-MiniLM-L12-v2_manhattan_f1</td><td>0.69129</td></tr><tr><td>eval/paraphrase-multilingual-MiniLM-L12-v2_manhattan_f1_threshold</td><td>57.12702</td></tr><tr><td>eval/paraphrase-multilingual-MiniLM-L12-v2_manhattan_precision</td><td>0.53219</td></tr><tr><td>eval/paraphrase-multilingual-MiniLM-L12-v2_manhattan_recall</td><td>0.98608</td></tr><tr><td>eval/paraphrase-multilingual-MiniLM-L12-v2_max_accuracy</td><td>0.60718</td></tr><tr><td>eval/paraphrase-multilingual-MiniLM-L12-v2_max_accuracy_threshold</td><td>51.62561</td></tr><tr><td>eval/paraphrase-multilingual-MiniLM-L12-v2_max_ap</td><td>0.66221</td></tr><tr><td>eval/paraphrase-multilingual-MiniLM-L12-v2_max_f1</td><td>0.6951</td></tr><tr><td>eval/paraphrase-multilingual-MiniLM-L12-v2_max_f1_threshold</td><td>57.12702</td></tr><tr><td>eval/paraphrase-multilingual-MiniLM-L12-v2_max_precision</td><td>0.53614</td></tr><tr><td>eval/paraphrase-multilingual-MiniLM-L12-v2_max_recall</td><td>0.99602</td></tr><tr><td>eval/runtime</td><td>1.8647</td></tr><tr><td>eval/samples_per_second</td><td>537.884</td></tr><tr><td>eval/steps_per_second</td><td>17.161</td></tr><tr><td>train/global_step</td><td>0</td></tr></table><br/></div></div>"
      ],
      "text/plain": [
       "<IPython.core.display.HTML object>"
      ]
     },
     "metadata": {},
     "output_type": "display_data"
    },
    {
     "data": {
      "text/html": [
       " View run <strong style=\"color:#cdcd00\">laced-voice-63</strong> at: <a href='https://wandb.ai/rjurney/libpostal-reborn/runs/e1u60daf' target=\"_blank\">https://wandb.ai/rjurney/libpostal-reborn/runs/e1u60daf</a><br/> View project at: <a href='https://wandb.ai/rjurney/libpostal-reborn' target=\"_blank\">https://wandb.ai/rjurney/libpostal-reborn</a><br/>Synced 6 W&B file(s), 0 media file(s), 8 artifact file(s) and 1 other file(s)"
      ],
      "text/plain": [
       "<IPython.core.display.HTML object>"
      ]
     },
     "metadata": {},
     "output_type": "display_data"
    },
    {
     "data": {
      "text/html": [
       "Find logs at: <code>./wandb/run-20240624_035947-e1u60daf/logs</code>"
      ],
      "text/plain": [
       "<IPython.core.display.HTML object>"
      ]
     },
     "metadata": {},
     "output_type": "display_data"
    },
    {
     "data": {
      "text/html": [
       "Successfully finished last run (ID:e1u60daf). Initializing new run:<br/>"
      ],
      "text/plain": [
       "<IPython.core.display.HTML object>"
      ]
     },
     "metadata": {},
     "output_type": "display_data"
    },
    {
     "data": {
      "text/html": [
       "wandb version 0.17.2 is available!  To upgrade, please run:\n",
       " $ pip install wandb --upgrade"
      ],
      "text/plain": [
       "<IPython.core.display.HTML object>"
      ]
     },
     "metadata": {},
     "output_type": "display_data"
    },
    {
     "data": {
      "text/html": [
       "Tracking run with wandb version 0.17.0"
      ],
      "text/plain": [
       "<IPython.core.display.HTML object>"
      ]
     },
     "metadata": {},
     "output_type": "display_data"
    },
    {
     "data": {
      "text/html": [
       "Run data is saved locally in <code>/Users/rjurney/Software/libpostal-reborn/wandb/run-20240624_040138-mimatfzv</code>"
      ],
      "text/plain": [
       "<IPython.core.display.HTML object>"
      ]
     },
     "metadata": {},
     "output_type": "display_data"
    },
    {
     "data": {
      "text/html": [
       "Syncing run <strong><a href='https://wandb.ai/rjurney/libpostal-reborn/runs/mimatfzv' target=\"_blank\">solar-totem-64</a></strong> to <a href='https://wandb.ai/rjurney/libpostal-reborn' target=\"_blank\">Weights & Biases</a> (<a href='https://wandb.me/run' target=\"_blank\">docs</a>)<br/>"
      ],
      "text/plain": [
       "<IPython.core.display.HTML object>"
      ]
     },
     "metadata": {},
     "output_type": "display_data"
    },
    {
     "data": {
      "text/html": [
       " View project at <a href='https://wandb.ai/rjurney/libpostal-reborn' target=\"_blank\">https://wandb.ai/rjurney/libpostal-reborn</a>"
      ],
      "text/plain": [
       "<IPython.core.display.HTML object>"
      ]
     },
     "metadata": {},
     "output_type": "display_data"
    },
    {
     "data": {
      "text/html": [
       " View run at <a href='https://wandb.ai/rjurney/libpostal-reborn/runs/mimatfzv' target=\"_blank\">https://wandb.ai/rjurney/libpostal-reborn/runs/mimatfzv</a>"
      ],
      "text/plain": [
       "<IPython.core.display.HTML object>"
      ]
     },
     "metadata": {},
     "output_type": "display_data"
    },
    {
     "data": {
      "text/html": [
       "<button onClick=\"this.nextSibling.style.display='block';this.style.display='none';\">Display W&B run</button><iframe src='https://wandb.ai/rjurney/libpostal-reborn/runs/mimatfzv?jupyter=true' style='border:none;width:100%;height:420px;display:none;'></iframe>"
      ],
      "text/plain": [
       "<wandb.sdk.wandb_run.Run at 0x6b31140d0>"
      ]
     },
     "execution_count": 34,
     "metadata": {},
     "output_type": "execute_result"
    }
   ],
   "source": [
    "# Initialize Weights & Biases\n",
    "wandb.init(\n",
    "    entity=\"rjurney\",\n",
    "    # set the wandb project where this run will be logged\n",
    "    project=\"libpostal-reborn\",\n",
    "    # track hyperparameters and run metadata\n",
    "    config={\n",
    "        \"model\": \"Sentence-BERT\",\n",
    "        \"variant\": VARIANT,\n",
    "        \"epochs\": EPOCHS,\n",
    "        \"batch_size\": BATCH_SIZE,\n",
    "        \"patience\": PATIENCE,\n",
    "        \"learning_rate\": LEARNING_RATE,\n",
    "        \"sbert_model\": SBERT_OUTPUT_FOLDER,\n",
    "        \"model_output_folder\": MODEL_OUTPUT_FOLDER,\n",
    "        \"save_eval_steps\": SAVE_EVAL_STEPS,\n",
    "        \"model_save_name\": MODEL_SAVE_NAME,\n",
    "    },\n",
    ")"
   ]
  },
  {
   "cell_type": "code",
   "execution_count": 51,
   "id": "3aaed279-2818-4a22-84bd-26a48fba64e1",
   "metadata": {},
   "outputs": [],
   "source": [
    "class SentenceBERT(nn.Module):\n",
    "    def __init__(self, model_name=SBERT_MODEL, dim=384):\n",
    "        super().__init__()\n",
    "        self.model_name = model_name\n",
    "        self.tokenizer = AutoTokenizer.from_pretrained(model_name)\n",
    "        self.model = AutoModel.from_pretrained(model_name)\n",
    "        \n",
    "        # Update the input dimension of the FFNN to account for the new features\n",
    "        self.ffnn = nn.Sequential(\n",
    "            nn.Linear(dim*5, dim),  # Changed from dim*4 to dim*5\n",
    "            nn.ReLU(),\n",
    "            nn.Dropout(0.1),\n",
    "            nn.Linear(dim, 1)\n",
    "        )\n",
    "\n",
    "    @staticmethod\n",
    "    def mean_pool(token_embeds, attention_mask):\n",
    "        in_mask = attention_mask.unsqueeze(-1).expand(token_embeds.size()).float()\n",
    "        pool = torch.sum(token_embeds * in_mask, 1) / torch.clamp(in_mask.sum(1), min=1e-9)\n",
    "        return pool\n",
    "\n",
    "    def _check_similarity(self, a, b, mask_a, mask_b):\n",
    "        u = self.model(a, attention_mask=mask_a)[0]\n",
    "        v = self.model(b, attention_mask=mask_b)[0]\n",
    "        u = self.mean_pool(u, mask_a)\n",
    "        v = self.mean_pool(v, mask_b)\n",
    "        \n",
    "        uv = torch.abs(u - v)\n",
    "        prod = u * v  # Element-wise product\n",
    "        mult = torch.mul(u, v)  # Multiplication feature\n",
    "        x = torch.cat([u, v, uv, prod, mult], dim=-1)  # Added prod and mult to the concatenation\n",
    "        x = self.ffnn(x)\n",
    "        return x\n",
    "\n",
    "    def check_similarity(self, a, b):\n",
    "        encoded_a = self.tokenizer(a, padding=True, truncation=True, return_tensors=\"pt\")\n",
    "        encoded_b = self.tokenizer(b, padding=True, truncation=True, return_tensors=\"pt\")\n",
    "        a = encoded_a[\"input_ids\"]\n",
    "        b = encoded_b[\"input_ids\"]\n",
    "        mask_a = encoded_a[\"attention_mask\"]\n",
    "        mask_b = encoded_b[\"attention_mask\"]\n",
    "        with torch.no_grad():\n",
    "            return self._check_similarity(a, b, mask_a, mask_b)\n",
    "\n",
    "    def forward(self, input_ids_a, input_ids_b, attention_mask_a=None, attention_mask_b=None, labels=None):\n",
    "        logits = self._check_similarity(input_ids_a, input_ids_b, attention_mask_a, attention_mask_b)\n",
    "        loss = None\n",
    "        if labels is not None:\n",
    "            loss_fct = nn.BCEWithLogitsLoss()\n",
    "            loss = loss_fct(logits.view(-1), labels.float().view(-1))\n",
    "        return {\"loss\": loss, \"logits\": logits} if loss is not None else {\"logits\": logits}\n",
    "\n",
    "    def predict(self, a: str, b: str):\n",
    "        with torch.no_grad():\n",
    "            logits = self.check_similarity(a, b)\n",
    "            probabilities = torch.sigmoid(logits)\n",
    "            predicted_class = (probabilities > 0.5).long().item()\n",
    "            return predicted_class, probabilities.item()"
   ]
  },
  {
   "cell_type": "code",
   "execution_count": null,
   "id": "15494649-c8bc-495c-9a10-7516c315b6ff",
   "metadata": {},
   "outputs": [],
   "source": [
    "classifier_model = SentenceBERT()"
   ]
  },
  {
   "cell_type": "code",
   "execution_count": 46,
   "id": "916eb7c6-fa55-4207-8e50-724dfae27189",
   "metadata": {},
   "outputs": [],
   "source": [
    "def structured_encode_address(address: str) -> str:\n",
    "    \"\"\"structured_parse_address - encode a parsed address\"\"\"\n",
    "    parsed_address: List[Tuple[str, str]] = parse_address(address)\n",
    "    sorted_address: List[Tuple[str, str]] = list(sorted(parsed_address, key=lambda x: x[1]))  # no secondary sort to maek it determinstic?\n",
    "    encoded_address: str = str()\n",
    "    for val, col in sorted_address:\n",
    "        encoded_address += COLUMN_SPECIAL_CHAR + col + VALUE_SPECIAL_CHAR + val\n",
    "    return encoded_address\n",
    "\n",
    "\n",
    "def tokenize_function(examples):\n",
    "    encoded_a = classifier_model.tokenizer(examples[\"sentence1\"], padding=\"max_length\", truncation=True)\n",
    "    encoded_b = classifier_model.tokenizer(examples[\"sentence2\"], padding=\"max_length\", truncation=True)\n",
    "    return {\n",
    "        \"input_ids_a\": encoded_a[\"input_ids\"],\n",
    "        \"attention_mask_a\": encoded_a[\"attention_mask\"],\n",
    "        \"input_ids_b\": encoded_b[\"input_ids\"],\n",
    "        \"attention_mask_b\": encoded_b[\"attention_mask\"],\n",
    "        \"labels\": examples[\"label\"]\n",
    "    }\n",
    "\n",
    "\n",
    "def format_dataset(dataset):\n",
    "    dataset.set_format(type=\"torch\", columns=[\"input_ids_a\", \"attention_mask_a\", \"input_ids_b\", \"attention_mask_b\", \"labels\"])\n",
    "    return dataset"
   ]
  },
  {
   "cell_type": "code",
   "execution_count": 47,
   "id": "1ac83aeb-e907-4724-9da7-c95f4cac124b",
   "metadata": {},
   "outputs": [
    {
     "name": "stdout",
     "output_type": "stream",
     "text": [
      "Training data:   8,024\n",
      "Validation data: 1,003\n",
      "Test data        1,003\n"
     ]
    }
   ],
   "source": [
    "train_df, tmp_df = train_test_split(augment_results_df, test_size=0.2, shuffle=True)\n",
    "eval_df, test_df = train_test_split(tmp_df, test_size=0.5, random_state=42, shuffle=True)\n",
    "\n",
    "# Encode the addresses using [COL] / [VAL] special characters\n",
    "train_dataset = Dataset.from_dict({\n",
    "    \"sentence1\": [structured_encode_address(x) for x in train_df[\"Address1\"].tolist()],\n",
    "    \"sentence2\": [structured_encode_address(x) for x in train_df[\"Address2\"].tolist()],\n",
    "    \"label\": train_df[\"Label\"].tolist(),\n",
    "})\n",
    "\n",
    "# Encode the addresses using [COL] / [VAL] special characters\n",
    "eval_dataset = Dataset.from_dict({\n",
    "    \"sentence1\": [structured_encode_address(x) for x in eval_df[\"Address1\"].tolist()],\n",
    "    \"sentence2\": [structured_encode_address(x) for x in eval_df[\"Address2\"].tolist()],\n",
    "    \"label\": eval_df[\"Label\"].tolist(),\n",
    "})\n",
    "\n",
    "# Encode the addresses using [COL] / [VAL] special characters\n",
    "test_dataset = Dataset.from_dict({\n",
    "    \"sentence1\": [structured_encode_address(x) for x in test_df[\"Address1\"].tolist()],\n",
    "    \"sentence2\": [structured_encode_address(x) for x in test_df[\"Address2\"].tolist()],\n",
    "    \"label\": test_df[\"Label\"].tolist(),\n",
    "})\n",
    "\n",
    "print(f\"Training data:   {len(train_df):,}\")\n",
    "print(f\"Validation data: {len(eval_df):,}\")\n",
    "print(f\"Test data        {len(eval_df):,}\")"
   ]
  },
  {
   "cell_type": "code",
   "execution_count": 48,
   "id": "4ee830c6-cea1-4113-b398-827e5f101643",
   "metadata": {},
   "outputs": [
    {
     "data": {
      "application/vnd.jupyter.widget-view+json": {
       "model_id": "6f8bbeb56dfc444ca477e8437e93fdd8",
       "version_major": 2,
       "version_minor": 0
      },
      "text/plain": [
       "Map:   0%|          | 0/8024 [00:00<?, ? examples/s]"
      ]
     },
     "metadata": {},
     "output_type": "display_data"
    },
    {
     "data": {
      "application/vnd.jupyter.widget-view+json": {
       "model_id": "581f2b57a0a44f908b9ac35a8f00f2a2",
       "version_major": 2,
       "version_minor": 0
      },
      "text/plain": [
       "Map:   0%|          | 0/1003 [00:00<?, ? examples/s]"
      ]
     },
     "metadata": {},
     "output_type": "display_data"
    },
    {
     "data": {
      "application/vnd.jupyter.widget-view+json": {
       "model_id": "ceba6f93d27048c1801eda3d26eae202",
       "version_major": 2,
       "version_minor": 0
      },
      "text/plain": [
       "Map:   0%|          | 0/1003 [00:00<?, ? examples/s]"
      ]
     },
     "metadata": {},
     "output_type": "display_data"
    }
   ],
   "source": [
    "tokenized_train_dataset = train_dataset.map(tokenize_function, batched=True)\n",
    "tokenized_eval_dataset = eval_dataset.map(tokenize_function, batched=True)\n",
    "tokenized_test_dataset = test_dataset.map(tokenize_function, batched=True)\n",
    "\n",
    "tokenized_train_dataset = format_dataset(tokenized_train_dataset)\n",
    "tokenized_eval_dataset = format_dataset(tokenized_eval_dataset)\n",
    "tokenized_test_dataset = format_dataset(tokenized_test_dataset)"
   ]
  },
  {
   "cell_type": "code",
   "execution_count": 49,
   "id": "67d11279-08ec-4b92-a8ac-df67da24459e",
   "metadata": {},
   "outputs": [],
   "source": [
    "def compute_classifier_metrics(eval_pred):\n",
    "    logits, labels = eval_pred\n",
    "    logits = torch.tensor(logits)\n",
    "    labels = torch.tensor(labels)\n",
    "    predictions = (logits > 0.5).long().squeeze()\n",
    "    \n",
    "    print(f\"Length of predictions: {len(predictions)}\")\n",
    "    print(f\"Length of labels: {len(labels)}\")\n",
    "    \n",
    "    if len(predictions) != len(labels):\n",
    "        raise ValueError(f\"Mismatch in lengths: predictions ({len(predictions)}) and labels ({len(labels)})\")\n",
    "    \n",
    "    precision, recall, f1, _ = precision_recall_fscore_support(labels, predictions, average='binary')\n",
    "    acc = accuracy_score(labels, predictions)\n",
    "    return {\n",
    "        \"accuracy\": acc,\n",
    "        \"f1\": f1,\n",
    "        \"precision\": precision,\n",
    "        \"recall\": recall\n",
    "    }"
   ]
  },
  {
   "cell_type": "code",
   "execution_count": 52,
   "id": "e650246e-27b7-4135-bbf6-8320a8858b88",
   "metadata": {},
   "outputs": [
    {
     "data": {
      "text/html": [
       "\n",
       "    <div>\n",
       "      \n",
       "      <progress value='859' max='1506' style='width:300px; height:20px; vertical-align: middle;'></progress>\n",
       "      [ 859/1506 05:33 < 04:11, 2.57 it/s, Epoch 3.42/6]\n",
       "    </div>\n",
       "    <table border=\"1\" class=\"dataframe\">\n",
       "  <thead>\n",
       " <tr style=\"text-align: left;\">\n",
       "      <th>Step</th>\n",
       "      <th>Training Loss</th>\n",
       "      <th>Validation Loss</th>\n",
       "      <th>Accuracy</th>\n",
       "      <th>F1</th>\n",
       "      <th>Precision</th>\n",
       "      <th>Recall</th>\n",
       "    </tr>\n",
       "  </thead>\n",
       "  <tbody>\n",
       "    <tr>\n",
       "      <td>100</td>\n",
       "      <td>No log</td>\n",
       "      <td>0.167067</td>\n",
       "      <td>0.937188</td>\n",
       "      <td>0.937562</td>\n",
       "      <td>0.946000</td>\n",
       "      <td>0.929273</td>\n",
       "    </tr>\n",
       "    <tr>\n",
       "      <td>200</td>\n",
       "      <td>No log</td>\n",
       "      <td>0.186201</td>\n",
       "      <td>0.925224</td>\n",
       "      <td>0.925669</td>\n",
       "      <td>0.934000</td>\n",
       "      <td>0.917485</td>\n",
       "    </tr>\n",
       "    <tr>\n",
       "      <td>300</td>\n",
       "      <td>No log</td>\n",
       "      <td>0.158629</td>\n",
       "      <td>0.948156</td>\n",
       "      <td>0.949318</td>\n",
       "      <td>0.941973</td>\n",
       "      <td>0.956778</td>\n",
       "    </tr>\n",
       "    <tr>\n",
       "      <td>400</td>\n",
       "      <td>No log</td>\n",
       "      <td>0.143667</td>\n",
       "      <td>0.952144</td>\n",
       "      <td>0.953216</td>\n",
       "      <td>0.945841</td>\n",
       "      <td>0.960707</td>\n",
       "    </tr>\n",
       "    <tr>\n",
       "      <td>500</td>\n",
       "      <td>0.140600</td>\n",
       "      <td>0.150601</td>\n",
       "      <td>0.950150</td>\n",
       "      <td>0.951172</td>\n",
       "      <td>0.945631</td>\n",
       "      <td>0.956778</td>\n",
       "    </tr>\n",
       "    <tr>\n",
       "      <td>600</td>\n",
       "      <td>0.140600</td>\n",
       "      <td>0.165611</td>\n",
       "      <td>0.948156</td>\n",
       "      <td>0.949119</td>\n",
       "      <td>0.945419</td>\n",
       "      <td>0.952849</td>\n",
       "    </tr>\n",
       "    <tr>\n",
       "      <td>700</td>\n",
       "      <td>0.140600</td>\n",
       "      <td>0.142971</td>\n",
       "      <td>0.949153</td>\n",
       "      <td>0.951009</td>\n",
       "      <td>0.930451</td>\n",
       "      <td>0.972495</td>\n",
       "    </tr>\n",
       "    <tr>\n",
       "      <td>800</td>\n",
       "      <td>0.140600</td>\n",
       "      <td>0.129564</td>\n",
       "      <td>0.964108</td>\n",
       "      <td>0.964637</td>\n",
       "      <td>0.964637</td>\n",
       "      <td>0.964637</td>\n",
       "    </tr>\n",
       "  </tbody>\n",
       "</table><p>"
      ],
      "text/plain": [
       "<IPython.core.display.HTML object>"
      ]
     },
     "metadata": {},
     "output_type": "display_data"
    },
    {
     "name": "stdout",
     "output_type": "stream",
     "text": [
      "Length of predictions: 1003\n",
      "Length of labels: 1003\n",
      "Length of predictions: 1003\n",
      "Length of labels: 1003\n",
      "Length of predictions: 1003\n",
      "Length of labels: 1003\n",
      "Length of predictions: 1003\n",
      "Length of labels: 1003\n",
      "Length of predictions: 1003\n",
      "Length of labels: 1003\n",
      "Length of predictions: 1003\n",
      "Length of labels: 1003\n",
      "Length of predictions: 1003\n",
      "Length of labels: 1003\n",
      "Length of predictions: 1003\n",
      "Length of labels: 1003\n"
     ]
    },
    {
     "ename": "KeyboardInterrupt",
     "evalue": "",
     "output_type": "error",
     "traceback": [
      "\u001b[0;31m---------------------------------------------------------------------------\u001b[0m",
      "\u001b[0;31mKeyboardInterrupt\u001b[0m                         Traceback (most recent call last)",
      "Cell \u001b[0;32mIn[52], line 46\u001b[0m\n\u001b[1;32m     36\u001b[0m trainer \u001b[38;5;241m=\u001b[39m CustomTrainer(\n\u001b[1;32m     37\u001b[0m     model\u001b[38;5;241m=\u001b[39mclassifier_model,\n\u001b[1;32m     38\u001b[0m     args\u001b[38;5;241m=\u001b[39mtraining_args,\n\u001b[0;32m   (...)\u001b[0m\n\u001b[1;32m     42\u001b[0m     callbacks\u001b[38;5;241m=\u001b[39m[EarlyStoppingCallback(early_stopping_patience\u001b[38;5;241m=\u001b[39mPATIENCE)],\n\u001b[1;32m     43\u001b[0m )\n\u001b[1;32m     45\u001b[0m \u001b[38;5;66;03m# Train the model\u001b[39;00m\n\u001b[0;32m---> 46\u001b[0m \u001b[43mtrainer\u001b[49m\u001b[38;5;241;43m.\u001b[39;49m\u001b[43mtrain\u001b[49m\u001b[43m(\u001b[49m\u001b[43m)\u001b[49m\n\u001b[1;32m     48\u001b[0m \u001b[38;5;66;03m# Evaluate the model\u001b[39;00m\n\u001b[1;32m     49\u001b[0m results \u001b[38;5;241m=\u001b[39m trainer\u001b[38;5;241m.\u001b[39mevaluate()\n",
      "File \u001b[0;32m~/anaconda3/envs/libpostal/lib/python3.11/site-packages/transformers/trainer.py:1885\u001b[0m, in \u001b[0;36mTrainer.train\u001b[0;34m(self, resume_from_checkpoint, trial, ignore_keys_for_eval, **kwargs)\u001b[0m\n\u001b[1;32m   1883\u001b[0m         hf_hub_utils\u001b[38;5;241m.\u001b[39menable_progress_bars()\n\u001b[1;32m   1884\u001b[0m \u001b[38;5;28;01melse\u001b[39;00m:\n\u001b[0;32m-> 1885\u001b[0m     \u001b[38;5;28;01mreturn\u001b[39;00m \u001b[43minner_training_loop\u001b[49m\u001b[43m(\u001b[49m\n\u001b[1;32m   1886\u001b[0m \u001b[43m        \u001b[49m\u001b[43margs\u001b[49m\u001b[38;5;241;43m=\u001b[39;49m\u001b[43margs\u001b[49m\u001b[43m,\u001b[49m\n\u001b[1;32m   1887\u001b[0m \u001b[43m        \u001b[49m\u001b[43mresume_from_checkpoint\u001b[49m\u001b[38;5;241;43m=\u001b[39;49m\u001b[43mresume_from_checkpoint\u001b[49m\u001b[43m,\u001b[49m\n\u001b[1;32m   1888\u001b[0m \u001b[43m        \u001b[49m\u001b[43mtrial\u001b[49m\u001b[38;5;241;43m=\u001b[39;49m\u001b[43mtrial\u001b[49m\u001b[43m,\u001b[49m\n\u001b[1;32m   1889\u001b[0m \u001b[43m        \u001b[49m\u001b[43mignore_keys_for_eval\u001b[49m\u001b[38;5;241;43m=\u001b[39;49m\u001b[43mignore_keys_for_eval\u001b[49m\u001b[43m,\u001b[49m\n\u001b[1;32m   1890\u001b[0m \u001b[43m    \u001b[49m\u001b[43m)\u001b[49m\n",
      "File \u001b[0;32m~/anaconda3/envs/libpostal/lib/python3.11/site-packages/transformers/trainer.py:2221\u001b[0m, in \u001b[0;36mTrainer._inner_training_loop\u001b[0;34m(self, batch_size, args, resume_from_checkpoint, trial, ignore_keys_for_eval)\u001b[0m\n\u001b[1;32m   2215\u001b[0m \u001b[38;5;28;01mwith\u001b[39;00m \u001b[38;5;28mself\u001b[39m\u001b[38;5;241m.\u001b[39maccelerator\u001b[38;5;241m.\u001b[39maccumulate(model):\n\u001b[1;32m   2216\u001b[0m     tr_loss_step \u001b[38;5;241m=\u001b[39m \u001b[38;5;28mself\u001b[39m\u001b[38;5;241m.\u001b[39mtraining_step(model, inputs)\n\u001b[1;32m   2218\u001b[0m \u001b[38;5;28;01mif\u001b[39;00m (\n\u001b[1;32m   2219\u001b[0m     args\u001b[38;5;241m.\u001b[39mlogging_nan_inf_filter\n\u001b[1;32m   2220\u001b[0m     \u001b[38;5;129;01mand\u001b[39;00m \u001b[38;5;129;01mnot\u001b[39;00m is_torch_xla_available()\n\u001b[0;32m-> 2221\u001b[0m     \u001b[38;5;129;01mand\u001b[39;00m (torch\u001b[38;5;241m.\u001b[39misnan(tr_loss_step) \u001b[38;5;129;01mor\u001b[39;00m \u001b[43mtorch\u001b[49m\u001b[38;5;241;43m.\u001b[39;49m\u001b[43misinf\u001b[49m\u001b[43m(\u001b[49m\u001b[43mtr_loss_step\u001b[49m\u001b[43m)\u001b[49m)\n\u001b[1;32m   2222\u001b[0m ):\n\u001b[1;32m   2223\u001b[0m     \u001b[38;5;66;03m# if loss is nan or inf simply add the average of previous logged losses\u001b[39;00m\n\u001b[1;32m   2224\u001b[0m     tr_loss \u001b[38;5;241m+\u001b[39m\u001b[38;5;241m=\u001b[39m tr_loss \u001b[38;5;241m/\u001b[39m (\u001b[38;5;241m1\u001b[39m \u001b[38;5;241m+\u001b[39m \u001b[38;5;28mself\u001b[39m\u001b[38;5;241m.\u001b[39mstate\u001b[38;5;241m.\u001b[39mglobal_step \u001b[38;5;241m-\u001b[39m \u001b[38;5;28mself\u001b[39m\u001b[38;5;241m.\u001b[39m_globalstep_last_logged)\n\u001b[1;32m   2225\u001b[0m \u001b[38;5;28;01melse\u001b[39;00m:\n",
      "\u001b[0;31mKeyboardInterrupt\u001b[0m: "
     ]
    }
   ],
   "source": [
    "training_args = TrainingArguments(\n",
    "    output_dir=f\"data/{MODEL_SAVE_NAME}\",\n",
    "    learning_rate=LEARNING_RATE,\n",
    "    num_train_epochs=EPOCHS,\n",
    "    per_device_train_batch_size=BATCH_SIZE,\n",
    "    per_device_eval_batch_size=BATCH_SIZE,\n",
    "    warmup_ratio=0.1,\n",
    "    run_name=SBERT_MODEL,\n",
    "    load_best_model_at_end=True,\n",
    "    save_steps=SAVE_EVAL_STEPS,\n",
    "    eval_steps=SAVE_EVAL_STEPS,\n",
    "    save_strategy=\"steps\",\n",
    "    eval_strategy=\"steps\",\n",
    "    greater_is_better=False,\n",
    "    metric_for_best_model=\"eval_loss\",\n",
    "    weight_decay=0.01,\n",
    "    logging_dir=\"./logs\",\n",
    ")\n",
    "\n",
    "class CustomTrainer(Trainer):\n",
    "    def __init__(self, *args, **kwargs):\n",
    "        super().__init__(*args, **kwargs)\n",
    "        self.loss_fct = torch.nn.BCEWithLogitsLoss()\n",
    "\n",
    "    def compute_loss(self, model, inputs, return_outputs=False):\n",
    "        labels = inputs.get(\"labels\").float()\n",
    "        input_ids_a = inputs.get(\"input_ids_a\")\n",
    "        attention_mask_a = inputs.get(\"attention_mask_a\")\n",
    "        input_ids_b = inputs.get(\"input_ids_b\")\n",
    "        attention_mask_b = inputs.get(\"attention_mask_b\")\n",
    "        outputs = model(input_ids_a, input_ids_b, attention_mask_a, attention_mask_b)\n",
    "        loss = self.loss_fct(outputs['logits'].view(-1), labels.view(-1))\n",
    "        \n",
    "        return (loss, outputs) if return_outputs else loss\n",
    "\n",
    "trainer = CustomTrainer(\n",
    "    model=classifier_model,\n",
    "    args=training_args,\n",
    "    train_dataset=tokenized_train_dataset,\n",
    "    eval_dataset=tokenized_eval_dataset,\n",
    "    compute_metrics=compute_classifier_metrics,\n",
    "    callbacks=[EarlyStoppingCallback(early_stopping_patience=PATIENCE)],\n",
    ")\n",
    "\n",
    "# Train the model\n",
    "trainer.train()\n",
    "\n",
    "# Evaluate the model\n",
    "results = trainer.evaluate()\n",
    "print(results)"
   ]
  },
  {
   "cell_type": "markdown",
   "id": "6c3d4025-ec9b-45cd-a3fd-b764ab1b9920",
   "metadata": {},
   "source": [
    "### ReWrite our Evaluation Code for the Model"
   ]
  },
  {
   "cell_type": "code",
   "execution_count": null,
   "id": "808a4f57-c875-4ec2-9bf1-4fc2a1971afb",
   "metadata": {},
   "outputs": [],
   "source": [
    "def classifier_match(row: pd.Series) -> pd.Series:\n",
    "    \"\"\"sbert_match - SentenceTransformer address matching, float iytoyt\"\"\"\n",
    "    return model.predict(row[\"Address1\"], row[\"Address2\"])"
   ]
  },
  {
   "cell_type": "code",
   "execution_count": null,
   "id": "e135a0db-3cdb-4d1e-a0ce-9ccf97ca2b19",
   "metadata": {},
   "outputs": [],
   "source": []
  }
 ],
 "metadata": {
  "kernelspec": {
   "display_name": "Python 3 (ipykernel)",
   "language": "python",
   "name": "python3"
  },
  "language_info": {
   "codemirror_mode": {
    "name": "ipython",
    "version": 3
   },
   "file_extension": ".py",
   "mimetype": "text/x-python",
   "name": "python",
   "nbconvert_exporter": "python",
   "pygments_lexer": "ipython3",
   "version": "3.11.9"
  }
 },
 "nbformat": 4,
 "nbformat_minor": 5
}
