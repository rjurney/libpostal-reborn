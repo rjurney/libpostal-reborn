{
 "cells": [
  {
   "cell_type": "markdown",
   "id": "19e085b3-4b1c-4694-966b-6d24dec2e29c",
   "metadata": {},
   "source": [
    "# Imprecise Country Matching with `pycountry`\n",
    "\n",
    "The structured address has fields that each have their own semantics. Tools using databases about a specific field can help match address components.\n",
    "\n",
    "If you have any valid ISO nation abbreviation or long form name, [pycountry](https://pypi.org/project/pycountry/) ([github](https://github.com/pycountry/pycountry)) is a PyPi module that can retrieve the actual country for it. This enables efficient comparison. In this notebook we try out using `pycountry` to enable country matching to utilize its database of valid names and pattern matching capability."
   ]
  },
  {
   "cell_type": "code",
   "execution_count": null,
   "id": "d6f6a1d9-b03d-41cb-a4f3-e5757bedd584",
   "metadata": {},
   "outputs": [],
   "source": [
    "import logging\n",
    "import random\n",
    "import re\n",
    "import sys\n",
    "from typing import Literal\n",
    "\n",
    "import numpy as np\n",
    "import pandas as pd\n",
    "import pycountry\n",
    "from postal.parser import parse_address\n",
    "\n",
    "from utils import (\n",
    "    augment_gold_labels,\n",
    "    format_dataset,\n",
    "    gold_label_report,\n",
    "    to_dict,\n",
    ")"
   ]
  },
  {
   "cell_type": "markdown",
   "id": "b6a99936-802d-49a6-af2e-bd3215dda8cf",
   "metadata": {},
   "source": [
    "#### Pin Random Seeds for Reproducibility"
   ]
  },
  {
   "cell_type": "code",
   "execution_count": null,
   "id": "83f5a23d-4c0b-4fc7-887f-9c932e81d647",
   "metadata": {},
   "outputs": [],
   "source": [
    "RANDOM_SEED = 31337\n",
    "\n",
    "random.seed(RANDOM_SEED)\n",
    "np.random.seed(RANDOM_SEED)"
   ]
  },
  {
   "cell_type": "markdown",
   "id": "0dc14cc5-c39c-4020-88ff-0cbba7d9d50c",
   "metadata": {},
   "source": [
    "#### Setup Basic Logging"
   ]
  },
  {
   "cell_type": "code",
   "execution_count": null,
   "id": "1fa99a88-3f3f-4891-ba6f-24ac6f499073",
   "metadata": {},
   "outputs": [],
   "source": [
    "logging.basicConfig(stream=sys.stderr, level=logging.ERROR)\n",
    "\n",
    "logger = logging.getLogger(__name__)"
   ]
  },
  {
   "cell_type": "markdown",
   "id": "ef1b0db3-d98b-4748-a903-85e02eb7ecf9",
   "metadata": {},
   "source": [
    "#### Configure Pandas to Show More Rows"
   ]
  },
  {
   "cell_type": "code",
   "execution_count": null,
   "id": "d3481908-726d-4ef2-995f-eeb33571faff",
   "metadata": {},
   "outputs": [],
   "source": [
    "pd.set_option(\"display.max_rows\", 40)\n",
    "pd.set_option(\"display.max_columns\", None)"
   ]
  },
  {
   "cell_type": "markdown",
   "id": "1d7cb8e9-aca9-4c6b-95ab-b4b80bc1b041",
   "metadata": {},
   "source": [
    "## Matching Country Names with `pycountry`"
   ]
  },
  {
   "cell_type": "code",
   "execution_count": null,
   "id": "f8095ab7-1b7a-4513-880d-40230ae4b1ca",
   "metadata": {},
   "outputs": [],
   "source": [
    "def match_country_names(country1: str, country2: str) -> Literal[0, 1]:\n",
    "    \"\"\"match_country_strings - compare and match varying country formats using pycountry\"\"\"\n",
    "\n",
    "    # Remove any punctuation from the country\n",
    "    def remove_punctuation(country: str) -> str:\n",
    "        # Use re.sub to replace all punctuation characters with an empty string\n",
    "        return re.sub(r\"[^\\w\\s]\", \"\", country)\n",
    "\n",
    "    def multi_lookup(**kwargs):\n",
    "        \"\"\"Try each key until we retrieve a result\"\"\"\n",
    "        for arg, value in kwargs.items():\n",
    "            result = pycountry.countries.get(**{arg: value})\n",
    "            if result:\n",
    "                return result\n",
    "\n",
    "    def get_args(country: str):\n",
    "        \"\"\"Compose pycountries.countries.get arguments dict based on length of country string\"\"\"\n",
    "        args = {}\n",
    "        if country and len(country) == 2:\n",
    "            args[\"alpha_2\"] = country\n",
    "        elif country and len(country) == 3:\n",
    "            args[\"alpha_3\"] = country\n",
    "        elif country:\n",
    "            args[\"name\"] = country\n",
    "            args[\"common_name\"] = country\n",
    "            args[\"official_name\"] = country\n",
    "        return args\n",
    "\n",
    "    try:\n",
    "        pycountry1 = multi_lookup(**get_args(remove_punctuation(country1)))\n",
    "        pycountry2 = multi_lookup(**get_args(remove_punctuation(country2)))\n",
    "\n",
    "        return 1 if pycountry1.name == pycountry2.name else 0\n",
    "    except AttributeError:\n",
    "        return 0"
   ]
  },
  {
   "cell_type": "code",
   "execution_count": null,
   "id": "a9917cc7-1993-4c3b-b22f-ca74d00c459f",
   "metadata": {},
   "outputs": [],
   "source": [
    "match_country_names(\"sg\", \"singapore\")"
   ]
  },
  {
   "cell_type": "code",
   "execution_count": null,
   "id": "657e3b1b-fe79-42e7-83e9-0940f95d41e2",
   "metadata": {},
   "outputs": [],
   "source": [
    "match_country_names(\"usa\", \"united states\")"
   ]
  },
  {
   "cell_type": "code",
   "execution_count": null,
   "id": "423ac991-a97f-4652-bcfa-d8cc02ba2fcf",
   "metadata": {},
   "outputs": [],
   "source": [
    "# Didn't match until I added and called remove_punctuation(country: str) -> str\n",
    "match_country_names(\"U.S.A.\", \"United States of America\")"
   ]
  },
  {
   "cell_type": "code",
   "execution_count": null,
   "id": "32defb21-1902-4fd0-b4b2-b9fa78c19928",
   "metadata": {},
   "outputs": [],
   "source": [
    "match_country_names(\"USA\", \"MEX\")"
   ]
  },
  {
   "cell_type": "code",
   "execution_count": null,
   "id": "69379858-22f0-4a9d-86bf-1dd427173ca7",
   "metadata": {},
   "outputs": [],
   "source": [
    "match_country_names(\"United States\", \"United Mexican States\")"
   ]
  },
  {
   "cell_type": "markdown",
   "id": "fa9b2600-bded-4b34-95a1-d5647dab599f",
   "metadata": {},
   "source": [
    "### Country Parsing in Structured Matching\n",
    "\n",
    "Let's use our new method `match_pycountry(country1: str, country2: str) -> Literal[0, 1]` matcher to improve our original structured matcher. This will allow it to contain varying country formats and still match. This makes the matcher more robust. \n",
    "\n",
    "In order to make this work we have to refactor our code to create matching functions for each field. Note that we are leaving out matching states, as they aren't required if the road name, number, unit and postal code match."
   ]
  },
  {
   "cell_type": "code",
   "execution_count": null,
   "id": "c3dc18ab-7fd0-4f41-b5cd-18e7b6176fc4",
   "metadata": {},
   "outputs": [],
   "source": [
    "def parse_match_address_country(address1: str, address2: str) -> Literal[0, 1]:\n",
    "    \"\"\"parse_match_address_country implements address matching like parse_match_address() but with pycountry country matching\"\"\"\n",
    "    address1 = to_dict(parse_address(address1))\n",
    "    address2 = to_dict(parse_address(address2))\n",
    "\n",
    "    def match_road(address1: str, address2: str) -> Literal[0, 1]:\n",
    "        \"\"\"match_road - literal road matching, negative if either lacks a road\"\"\"\n",
    "        if (\"road\" in address1) and (\"road\" in address2):\n",
    "            if address1[\"road\"] == address2[\"road\"]:\n",
    "                logger.debug(\"road match\")\n",
    "                return 1\n",
    "            else:\n",
    "                logger.debug(\"road mismatch\")\n",
    "                return 0\n",
    "        logger.debug(\"road mismatch\")\n",
    "        return 0\n",
    "\n",
    "    def match_house_number(address1: str, address2: str) -> Literal[0, 1]:\n",
    "        \"\"\"match_house_number - literal house number matching, negative if either lacks a house_number\"\"\"\n",
    "        if (\"house_number\" in address1) and (\"house_number\" in address2):\n",
    "            if address1[\"house_number\"] == address2[\"house_number\"]:\n",
    "                logger.debug(\"house_number match\")\n",
    "                return 1\n",
    "            else:\n",
    "                logger.debug(\"house_number mismatch\")\n",
    "                return 0\n",
    "        logger.debug(\"house_number mistmatch\")\n",
    "        return 0\n",
    "\n",
    "    def match_unit(address1: str, address2: str) -> Literal[0, 1]:\n",
    "        \"\"\"match_unit - note a missing unit in both is a match\"\"\"\n",
    "        if \"unit\" in address1:\n",
    "            if \"unit\" in address2:\n",
    "                logger.debug(\"unit match\")\n",
    "                return 1 if (address1[\"unit\"] == address2[\"unit\"]) else 0\n",
    "            else:\n",
    "                logger.debug(\"unit mismatch\")\n",
    "                return 0\n",
    "        if \"unit\" in address2:\n",
    "            if \"unit\" in address1:\n",
    "                logger.debug(\"unit match\")\n",
    "                return 1 if (address1[\"unit\"] == address2[\"unit\"]) else 0\n",
    "            else:\n",
    "                logger.debug(\"unit mismatch\")\n",
    "                return 0\n",
    "        # Neither address has a unit, which is a default match\n",
    "        return 1\n",
    "\n",
    "    def match_postcode(address1: str, address2: str) -> Literal[0, 1]:\n",
    "        \"\"\"match_postcode - literal matching, negative if either lacks a postal code\"\"\"\n",
    "        if (\"postcode\" in address1) and (\"postcode\" in address2):\n",
    "            if address1[\"postcode\"] == address2[\"postcode\"]:\n",
    "                logger.debug(\"postcode match\")\n",
    "                return 1\n",
    "            else:\n",
    "                logger.debug(\"postcode mismatch\")\n",
    "                return 0\n",
    "        logger.debug(\"postcode mismatch\")\n",
    "        return 0\n",
    "\n",
    "    def match_country(address1: str, address2: str) -> Literal[0, 1]:\n",
    "        \"\"\"match_country - semantic country matching with pycountry via match_country_names(country1, country2)\"\"\"\n",
    "        if (\"country\" in address1) and (\"country\" in address2):\n",
    "            if match_country_names(address1[\"country\"], address2[\"country\"]):\n",
    "                logger.debug(\"country match\")\n",
    "                return 1\n",
    "            else:\n",
    "                logger.debug(\"country mismatch\")\n",
    "                return 0\n",
    "        # One or none countries should match\n",
    "        logger.debug(\"country match\")\n",
    "        return 1\n",
    "\n",
    "    # Combine the above to get a complete address matcher\n",
    "    if (\n",
    "        match_road(address1, address2)\n",
    "        and match_house_number(address1, address2)\n",
    "        and match_unit(address1, address2)\n",
    "        and match_postcode(address1, address2)\n",
    "        # Our only non-exact match - default to 1, match\n",
    "        and match_country(address1, address2)\n",
    "    ):\n",
    "        logger.debug(\"overall match\")\n",
    "        return 1\n",
    "    else:\n",
    "        logger.debug(\"overall mismatch\")\n",
    "        return 0"
   ]
  },
  {
   "cell_type": "code",
   "execution_count": null,
   "id": "1deb926c-4076-4b8c-bb47-811b4d4fee63",
   "metadata": {},
   "outputs": [],
   "source": [
    "parse_match_address_country(\n",
    "    \"100 Roxas Blvd, Ermita, Manila, 1000 Metro Manila, PH\",\n",
    "    \"100 Roxas Blvd, Ermita, Manila, 1000 Metro Manila, Republic of the Philippines\"\n",
    ")"
   ]
  },
  {
   "cell_type": "code",
   "execution_count": null,
   "id": "613492d6-965a-4a71-bb02-1b12540249e9",
   "metadata": {},
   "outputs": [],
   "source": [
    "# Defaults to match if no countries are provided\n",
    "parse_match_address_country(\n",
    "    \"100 King St W, Toronto, ON M5X 1A9\",\n",
    "    \"100 King St W, Toronto, ON M5X 1A9\",\n",
    ")"
   ]
  },
  {
   "cell_type": "code",
   "execution_count": null,
   "id": "aa69ed71-65b7-4acc-b318-892ce3a56b9a",
   "metadata": {},
   "outputs": [],
   "source": [
    "# Defaults to match if only one address has country\n",
    "parse_match_address_country(\n",
    "    \"100 King St W, Toronto, ON M5X 1A9\",\n",
    "    \"100 King St W, Toronto, ON M5X 1A9, Canada\",\n",
    ")"
   ]
  },
  {
   "cell_type": "code",
   "execution_count": null,
   "id": "5618eaec-184c-475c-b383-e70a80e6d0e5",
   "metadata": {},
   "outputs": [],
   "source": [
    "# Verify mismatch\n",
    "parse_match_address_country(\n",
    "    \"Bosque de Chapultepec I Secc, Miguel Hidalgo, 11850 Ciudad de México, CDMX, Mexico\",\n",
    "    \"Bosque de Chapultepec I Secc, Miguel Hidalgo, 11850 Ciudad de México, CDMX, USA\"\n",
    ")"
   ]
  },
  {
   "cell_type": "markdown",
   "id": "2a483863-56c6-4b01-b28f-bccc0d277041",
   "metadata": {},
   "source": [
    "## Gold Label Validation\n",
    "\n",
    "We need to evaluate this new method against our gold labeled data previously defined in [Address Data Augmentation.ipynb](Address%20Data%20Augmentation.ipynb)."
   ]
  },
  {
   "cell_type": "code",
   "execution_count": null,
   "id": "a5e89e90-65e5-435c-bbf5-980c05e4314e",
   "metadata": {},
   "outputs": [],
   "source": [
    "gold_df = pd.read_csv(\"data/gold.csv\")"
   ]
  },
  {
   "cell_type": "code",
   "execution_count": null,
   "id": "d93ec700-eff8-4715-9442-4eb2d268cc28",
   "metadata": {},
   "outputs": [],
   "source": [
    "def strict_parse_match(row: pd.Series) -> pd.Series:\n",
    "    \"\"\"strict_parse_match Strict address matching\"\"\"\n",
    "    return parse_match_address(row[\"Address1\"], row[\"Address2\"])\n",
    "\n",
    "\n",
    "def parse_match_country(row: pd.Series) -> pd.Series:\n",
    "    \"\"\"parse_match Strict address matching\"\"\"\n",
    "    return parse_match_address_country(row[\"Address1\"], row[\"Address2\"])"
   ]
  },
  {
   "cell_type": "code",
   "execution_count": null,
   "id": "8843afcb-8554-4031-9885-412ed1225d38",
   "metadata": {},
   "outputs": [],
   "source": [
    "raw_df, grouped_df = gold_label_report(gold_df, [parse_match_country])"
   ]
  },
  {
   "cell_type": "code",
   "execution_count": null,
   "id": "a42c4c4f-afe8-4d8d-b3cd-d0b7be396ce3",
   "metadata": {},
   "outputs": [],
   "source": [
    "grouped_df"
   ]
  },
  {
   "cell_type": "code",
   "execution_count": null,
   "id": "dfd512bf-ea35-4e48-853f-b1cce10f6aed",
   "metadata": {},
   "outputs": [],
   "source": [
    "true_df = raw_df[raw_df[\"parse_match_country_correct\"]]\n",
    "print(f\"Total accurate matches for strict_parse_match: {len(true_df):,}\")\n",
    "\n",
    "true_df.sort_values(by=\"Description\").reset_index(drop=True)"
   ]
  },
  {
   "cell_type": "code",
   "execution_count": null,
   "id": "ba230831-f6b4-4238-b442-d7a2b9700cbf",
   "metadata": {},
   "outputs": [],
   "source": [
    "false_df = raw_df[raw_df[\"parse_match_country_correct\"] == False]\n",
    "print(f\"Total mismatches for strict_parse_match: {len(false_df):,}\")\n",
    "\n",
    "false_df.sort_values(by=\"Description\").reset_index(drop=True)"
   ]
  }
 ],
 "metadata": {
  "kernelspec": {
   "display_name": "Python 3 (ipykernel)",
   "language": "python",
   "name": "python3"
  },
  "language_info": {
   "codemirror_mode": {
    "name": "ipython",
    "version": 3
   },
   "file_extension": ".py",
   "mimetype": "text/x-python",
   "name": "python",
   "nbconvert_exporter": "python",
   "pygments_lexer": "ipython3",
   "version": "3.11.9"
  }
 },
 "nbformat": 4,
 "nbformat_minor": 5
}
