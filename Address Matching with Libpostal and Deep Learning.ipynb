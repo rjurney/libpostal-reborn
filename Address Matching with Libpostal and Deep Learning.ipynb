{
 "cells": [
  {
   "cell_type": "markdown",
   "id": "1d0f6845-e53f-4e9b-be24-0e376269f522",
   "metadata": {},
   "source": [
    "# Address Matching with Libpostal and Deep Learning\n",
    "\n",
    "This notebook matches addresses by parsing them with Libpostal and using that structure in a transformers deep learning model."
   ]
  },
  {
   "cell_type": "code",
   "execution_count": 1,
   "id": "8feab8c8-a116-40f9-a882-5a932140af26",
   "metadata": {},
   "outputs": [],
   "source": [
    "import json\n",
    "import logging\n",
    "import os\n",
    "import random\n",
    "import re\n",
    "import sys\n",
    "import time\n",
    "import warnings\n",
    "from numbers import Number\n",
    "from typing import Callable, Dict, List, Literal, Sequence, Tuple, Union\n",
    "\n",
    "import matplotlib.pyplot as plt\n",
    "import numpy as np\n",
    "import pandas as pd\n",
    "import pyarrow as pa\n",
    "import pyarrow.parquet as pq\n",
    "import pyarrow.dataset as ds\n",
    "import pytest\n",
    "import random\n",
    "import seaborn as sns\n",
    "import torch\n",
    "import torch.nn as nn\n",
    "import torch.nn.functional as F\n",
    "import wandb\n",
    "from datasets import Dataset\n",
    "from fuzzywuzzy import fuzz\n",
    "\n",
    "from postal.parser import parse_address\n",
    "from scipy.spatial import distance\n",
    "from sklearn.metrics import (\n",
    "    accuracy_score,\n",
    "    precision_recall_curve,\n",
    "    precision_recall_fscore_support,\n",
    "    precision_score,\n",
    "    recall_score,\n",
    "    f1_score,\n",
    "    roc_auc_score,\n",
    "    roc_curve,\n",
    "    auc\n",
    ")\n",
    "from sklearn.model_selection import train_test_split\n",
    "from sentence_transformers import InputExample, SentenceTransformer, SentencesDataset, SentenceTransformerTrainer, losses\n",
    "from sentence_transformers.evaluation import EmbeddingSimilarityEvaluator, SimilarityFunction, BinaryClassificationEvaluator\n",
    "from sentence_transformers.model_card import SentenceTransformerModelCardData\n",
    "from sentence_transformers.training_args import BatchSamplers, SentenceTransformerTrainingArguments\n",
    "from tenacity import retry\n",
    "from torch.utils.data import DataLoader\n",
    "from torch.optim import RAdam\n",
    "from tqdm.autonotebook import tqdm\n",
    "from transformers import AutoTokenizer, AutoModel, EarlyStoppingCallback, TrainingArguments, Trainer\n",
    "from transformers.integrations import WandbCallback\n",
    "\n",
    "from utils import (\n",
    "    augment_gold_labels,\n",
    "    compute_sbert_metrics,\n",
    "    compute_classifier_metrics,\n",
    "    format_dataset,\n",
    "    gold_label_report,\n",
    "    preprocess_logits_for_metrics,\n",
    "    structured_encode_address,\n",
    "    tokenize_function,\n",
    "    to_dict,\n",
    "    save_transformer,\n",
    "    load_transformer,\n",
    ")"
   ]
  },
  {
   "cell_type": "markdown",
   "id": "0578d26d-790c-4fe6-aed7-2529f155f7f6",
   "metadata": {},
   "source": [
    "#### Pin Random Seeds for Reproducibility"
   ]
  },
  {
   "cell_type": "code",
   "execution_count": 2,
   "id": "9b495c03-2aba-4d6b-889b-3b21b56f4d2e",
   "metadata": {},
   "outputs": [],
   "source": [
    "RANDOM_SEED = 31337\n",
    "\n",
    "random.seed(RANDOM_SEED)\n",
    "np.random.seed(RANDOM_SEED)\n",
    "torch.manual_seed(RANDOM_SEED)\n",
    "torch.mps.manual_seed(RANDOM_SEED)"
   ]
  },
  {
   "cell_type": "markdown",
   "id": "20e998da-0660-4274-b000-619b28c3c533",
   "metadata": {},
   "source": [
    "#### Setup Basic Logging"
   ]
  },
  {
   "cell_type": "code",
   "execution_count": 3,
   "id": "e508b00c-0011-4845-a4d6-cd131ec5b6e2",
   "metadata": {},
   "outputs": [],
   "source": [
    "logging.basicConfig(stream=sys.stderr, level=logging.ERROR)\n",
    "\n",
    "logger = logging.getLogger(__name__)"
   ]
  },
  {
   "cell_type": "markdown",
   "id": "2912a2be-9e56-4bf9-94fc-3dbcfd02ef17",
   "metadata": {},
   "source": [
    "#### Ignore Warnings"
   ]
  },
  {
   "cell_type": "code",
   "execution_count": 4,
   "id": "18cd4a2c-f1f5-4c82-8c15-a52dc87db947",
   "metadata": {},
   "outputs": [],
   "source": [
    "warnings.simplefilter(\"ignore\", FutureWarning)\n",
    "warnings.simplefilter(\"ignore\", UserWarning)"
   ]
  },
  {
   "cell_type": "markdown",
   "id": "78ba8945-a02c-4661-a865-c03ee6eecebe",
   "metadata": {},
   "source": [
    "#### Configure Weights & Biases\n",
    "\n",
    "`wandb` needs some environment variables to work."
   ]
  },
  {
   "cell_type": "code",
   "execution_count": 5,
   "id": "9491984a-c9fb-40d5-8fb0-743b77d15c21",
   "metadata": {},
   "outputs": [],
   "source": [
    "os.environ[\"WANDB_LOG_MODEL\"] = \"end\"\n",
    "os.environ[\"WANDB_WATCH\"] = \"gradients\"\n",
    "os.environ[\"WANDB_PROJECT\"] = \"libpostal-reborn\"\n",
    "os.environ[\"WANDB_DISABLED\"] = \"false\"\n",
    "os.environ[\"WANDB_IGNORE_GLOBS\"] = \".env\""
   ]
  },
  {
   "cell_type": "markdown",
   "id": "9006aa62-5aac-4bd2-900e-09b8107903e3",
   "metadata": {},
   "source": [
    "#### Optionally Disable `wandb` Uploads\n",
    "\n",
    "Weights and Biases can be slow..."
   ]
  },
  {
   "cell_type": "code",
   "execution_count": 6,
   "id": "17afaccb-e7db-48a5-aaff-561804821337",
   "metadata": {},
   "outputs": [],
   "source": [
    "os.environ[\"WANDB_MODE\"] = \"online\""
   ]
  },
  {
   "cell_type": "markdown",
   "id": "79e1d411-e2a5-4824-9309-ff50861a0e19",
   "metadata": {},
   "source": [
    "#### Configure Huggingface APIs"
   ]
  },
  {
   "cell_type": "code",
   "execution_count": 7,
   "id": "62d0d44b-c38a-48ca-a3b1-895b5b8c320b",
   "metadata": {},
   "outputs": [],
   "source": [
    "os.environ[\"HF_ENDPOINT\"] = \"https://huggingface.co/\""
   ]
  },
  {
   "cell_type": "markdown",
   "id": "ef7462e0-b3d1-4d76-bd7a-803cbd2f3446",
   "metadata": {},
   "source": [
    "#### Configure Huggingface APIs\n",
    "\n",
    "Squash any warnings..."
   ]
  },
  {
   "cell_type": "code",
   "execution_count": 8,
   "id": "5fcde550-79a6-4333-967e-c80d555de5b8",
   "metadata": {},
   "outputs": [],
   "source": [
    "os.environ[\"TOKENIZERS_PARALLELISM\"] = \"false\""
   ]
  },
  {
   "cell_type": "markdown",
   "id": "42913e46-e5db-4eff-9410-5a8449d4cbf6",
   "metadata": {},
   "source": [
    "#### Configure Pandas to Show More Rows"
   ]
  },
  {
   "cell_type": "code",
   "execution_count": 9,
   "id": "b2d4cb15-b201-4f34-8917-d292dd2a1876",
   "metadata": {},
   "outputs": [],
   "source": [
    "pd.set_option(\"display.max_rows\", 40)\n",
    "pd.set_option(\"display.max_columns\", None)"
   ]
  },
  {
   "cell_type": "markdown",
   "id": "aad42226-1abc-4c29-b68d-659d330ba1f9",
   "metadata": {},
   "source": [
    "### Use CUDA or MPS if Avaialable\n",
    "\n",
    "CPU training and even inference with sentence transformers and deep learning models is quite slow. Since all machine learning in this library is based on [PyTorch](https://pytorch.org/get-started/locally/), we can assign all ML operations to a GPU in this one block of code. Otherwise we default to CPU without acceleration. The notebook is still workable in this mode, you just may need to grab a cup of tea or coffee while you wait for it to train the Sentence-BERT model below."
   ]
  },
  {
   "cell_type": "code",
   "execution_count": 10,
   "id": "1051aa37-26b7-496a-8182-f10cfa1f5f6d",
   "metadata": {},
   "outputs": [
    {
     "data": {
      "text/plain": [
       "device(type='cuda')"
      ]
     },
     "execution_count": 10,
     "metadata": {},
     "output_type": "execute_result"
    }
   ],
   "source": [
    "# Check for CUDA or MPS availability and set the device\n",
    "if torch.backends.mps.is_available():\n",
    "    device = torch.device(\"mps\")\n",
    "    logger.debug(\"Using Apple GPU acceleration\")\n",
    "elif torch.cuda.is_available():\n",
    "    device = torch.device(\"cuda\")\n",
    "    logger.debug(\"Using NVIDIA CUDA GPU acceleration\")\n",
    "else:\n",
    "    device = \"cpu\"\n",
    "    logger.debug(\"Using CPU for ML\")\n",
    "\n",
    "device"
   ]
  },
  {
   "cell_type": "markdown",
   "id": "921a41eb-4e6b-4d64-a3b4-46013524e37c",
   "metadata": {},
   "source": [
    "### Use Weights & Biases for Logging Metrics\n",
    "\n",
    "Weights & Biases has a free account for individuals with public projects. Using it will produce charts during our training runs that anyone can view. You can create your own project for this notebook and login with that key to log your own training runs.\n",
    "\n",
    "You may need to run the following command from your shell before the next cell, otherwise you will have to paste your project key into the \n",
    "\n",
    "```bash\n",
    "wandb login\n",
    "```"
   ]
  },
  {
   "cell_type": "code",
   "execution_count": 11,
   "id": "d98cdf2f-fcb9-495e-9201-80f9e07d9070",
   "metadata": {},
   "outputs": [
    {
     "name": "stderr",
     "output_type": "stream",
     "text": [
      "\u001b[34m\u001b[1mwandb\u001b[0m: Currently logged in as: \u001b[33mrjurney\u001b[0m. Use \u001b[1m`wandb login --relogin`\u001b[0m to force relogin\n"
     ]
    },
    {
     "data": {
      "text/plain": [
       "True"
      ]
     },
     "execution_count": 11,
     "metadata": {},
     "output_type": "execute_result"
    }
   ],
   "source": [
    "# Login to wandb. Comment out if you already haven't via `wandb login` from a CLI\n",
    "wandb.login()"
   ]
  },
  {
   "cell_type": "markdown",
   "id": "15895b85-1d0f-441c-9d20-0849b3db3b22",
   "metadata": {},
   "source": [
    "## Data Augmentation with the OpenAI GPT4o API\n",
    "\n",
    "We need training data for our supervised learning approaches to addres matching. Open the sister notebook [Address Data Augmentation.ipynb](Address%20Matching%20Deep%20Dive.ipynb) before procceeding to further cells in order to create some training data via minimal manual labeling and programmatic data labeling for data augmentation. This will teach you programmatic data labeling, a critical skill that LLMs make MUCH EASIER because they understand things like the semantics of global addresses."
   ]
  },
  {
   "cell_type": "code",
   "execution_count": 12,
   "id": "833e8045-5cd3-4b5a-9cd3-afc65965062a",
   "metadata": {},
   "outputs": [],
   "source": [
    "gold_df = pd.read_csv(\"data/gold.csv\")"
   ]
  },
  {
   "cell_type": "code",
   "execution_count": 13,
   "id": "d6382fc3-ca84-4d17-9d74-354ab798d21c",
   "metadata": {},
   "outputs": [
    {
     "data": {
      "text/html": [
       "<div>\n",
       "<style scoped>\n",
       "    .dataframe tbody tr th:only-of-type {\n",
       "        vertical-align: middle;\n",
       "    }\n",
       "\n",
       "    .dataframe tbody tr th {\n",
       "        vertical-align: top;\n",
       "    }\n",
       "\n",
       "    .dataframe thead th {\n",
       "        text-align: right;\n",
       "    }\n",
       "</style>\n",
       "<table border=\"1\" class=\"dataframe\">\n",
       "  <thead>\n",
       "    <tr style=\"text-align: right;\">\n",
       "      <th></th>\n",
       "      <th>Address1</th>\n",
       "      <th>Address2</th>\n",
       "      <th>Description</th>\n",
       "      <th>Label</th>\n",
       "    </tr>\n",
       "  </thead>\n",
       "  <tbody>\n",
       "    <tr>\n",
       "      <th>0</th>\n",
       "      <td>123 E Main St, Springfield, IL 62701</td>\n",
       "      <td>123 East Main Street, Springfield, Illinois 62701</td>\n",
       "      <td>Different directional prefix formats for same ...</td>\n",
       "      <td>1.0</td>\n",
       "    </tr>\n",
       "    <tr>\n",
       "      <th>1</th>\n",
       "      <td>456 W Elm St, Boston, MA 02118</td>\n",
       "      <td>456 West Elm Street, Boston, Massachusetts 02118</td>\n",
       "      <td>Different directional prefix formats for same ...</td>\n",
       "      <td>1.0</td>\n",
       "    </tr>\n",
       "    <tr>\n",
       "      <th>2</th>\n",
       "      <td>789 S Oak St, Denver, CO 80203</td>\n",
       "      <td>789 South Oak Street, Denver, Colorado 80203</td>\n",
       "      <td>Different directional prefix formats for same ...</td>\n",
       "      <td>1.0</td>\n",
       "    </tr>\n",
       "    <tr>\n",
       "      <th>3</th>\n",
       "      <td>321 N Pine St, Seattle, WA 98101</td>\n",
       "      <td>321 North Pine Street, Seattle, Washington 98101</td>\n",
       "      <td>Different directional prefix formats for same ...</td>\n",
       "      <td>1.0</td>\n",
       "    </tr>\n",
       "    <tr>\n",
       "      <th>4</th>\n",
       "      <td>654 E Maple St, Austin, TX 73301</td>\n",
       "      <td>654 East Maple Street, Austin, Texas 73301</td>\n",
       "      <td>Different directional prefix formats for same ...</td>\n",
       "      <td>1.0</td>\n",
       "    </tr>\n",
       "    <tr>\n",
       "      <th>5</th>\n",
       "      <td>987 W Cedar St, San Francisco, CA 94102</td>\n",
       "      <td>987 West Cedar Street, San Francisco, Californ...</td>\n",
       "      <td>Different directional prefix formats for same ...</td>\n",
       "      <td>1.0</td>\n",
       "    </tr>\n",
       "    <tr>\n",
       "      <th>6</th>\n",
       "      <td>246 S Birch St, New York, NY 10001</td>\n",
       "      <td>246 South Birch Street, New York, New York 10001</td>\n",
       "      <td>Different directional prefix formats for same ...</td>\n",
       "      <td>1.0</td>\n",
       "    </tr>\n",
       "    <tr>\n",
       "      <th>7</th>\n",
       "      <td>135 N Cedar Ave, Chicago, IL 60601</td>\n",
       "      <td>135 North Cedar Avenue, Chicago, Illinois 60601</td>\n",
       "      <td>Different directional prefix formats for same ...</td>\n",
       "      <td>1.0</td>\n",
       "    </tr>\n",
       "    <tr>\n",
       "      <th>8</th>\n",
       "      <td>864 E Pine Ave, Los Angeles, CA 90001</td>\n",
       "      <td>864 East Pine Avenue, Los Angeles, California ...</td>\n",
       "      <td>Different directional prefix formats for same ...</td>\n",
       "      <td>1.0</td>\n",
       "    </tr>\n",
       "    <tr>\n",
       "      <th>9</th>\n",
       "      <td>753 W Spruce St, Houston, TX 77001</td>\n",
       "      <td>753 West Spruce Street, Houston, Texas 77001</td>\n",
       "      <td>Different directional prefix formats for same ...</td>\n",
       "      <td>1.0</td>\n",
       "    </tr>\n",
       "    <tr>\n",
       "      <th>10</th>\n",
       "      <td>159 S Maple Ave, Phoenix, AZ 85001</td>\n",
       "      <td>159 South Maple Avenue, Phoenix, Arizona 85001</td>\n",
       "      <td>Different directional prefix formats for same ...</td>\n",
       "      <td>1.0</td>\n",
       "    </tr>\n",
       "    <tr>\n",
       "      <th>11</th>\n",
       "      <td>357 N Oak St, Philadelphia, PA 19102</td>\n",
       "      <td>357 North Oak Street, Philadelphia, Pennsylvan...</td>\n",
       "      <td>Different directional prefix formats for same ...</td>\n",
       "      <td>1.0</td>\n",
       "    </tr>\n",
       "    <tr>\n",
       "      <th>12</th>\n",
       "      <td>468 E Birch Ave, San Antonio, TX 78201</td>\n",
       "      <td>468 East Birch Avenue, San Antonio, Texas 78201</td>\n",
       "      <td>Different directional prefix formats for same ...</td>\n",
       "      <td>1.0</td>\n",
       "    </tr>\n",
       "    <tr>\n",
       "      <th>13</th>\n",
       "      <td>579 W Cedar St, Dallas, TX 75201</td>\n",
       "      <td>579 West Cedar Street, Dallas, Texas 75201</td>\n",
       "      <td>Different directional prefix formats for same ...</td>\n",
       "      <td>1.0</td>\n",
       "    </tr>\n",
       "    <tr>\n",
       "      <th>14</th>\n",
       "      <td>681 S Pine Ave, San Jose, CA 95101</td>\n",
       "      <td>681 South Pine Avenue, San Jose, California 95101</td>\n",
       "      <td>Different directional prefix formats for same ...</td>\n",
       "      <td>1.0</td>\n",
       "    </tr>\n",
       "    <tr>\n",
       "      <th>15</th>\n",
       "      <td>792 N Maple St, Jacksonville, FL 32201</td>\n",
       "      <td>792 North Maple Street, Jacksonville, Florida ...</td>\n",
       "      <td>Different directional prefix formats for same ...</td>\n",
       "      <td>1.0</td>\n",
       "    </tr>\n",
       "    <tr>\n",
       "      <th>16</th>\n",
       "      <td>903 E Oak St, Columbus, OH 43201</td>\n",
       "      <td>903 East Oak Street, Columbus, Ohio 43201</td>\n",
       "      <td>Different directional prefix formats for same ...</td>\n",
       "      <td>1.0</td>\n",
       "    </tr>\n",
       "    <tr>\n",
       "      <th>17</th>\n",
       "      <td>104 W Elm Ave, Charlotte, NC 28201</td>\n",
       "      <td>104 West Elm Avenue, Charlotte, North Carolina...</td>\n",
       "      <td>Different directional prefix formats for same ...</td>\n",
       "      <td>1.0</td>\n",
       "    </tr>\n",
       "    <tr>\n",
       "      <th>18</th>\n",
       "      <td>215 S Cedar St, Indianapolis, IN 46201</td>\n",
       "      <td>215 South Cedar Street, Indianapolis, Indiana ...</td>\n",
       "      <td>Different directional prefix formats for same ...</td>\n",
       "      <td>1.0</td>\n",
       "    </tr>\n",
       "    <tr>\n",
       "      <th>19</th>\n",
       "      <td>326 N Pine Ave, Fort Worth, TX 76101</td>\n",
       "      <td>326 North Pine Avenue, Fort Worth, Texas 76101</td>\n",
       "      <td>Different directional prefix formats for same ...</td>\n",
       "      <td>1.0</td>\n",
       "    </tr>\n",
       "  </tbody>\n",
       "</table>\n",
       "</div>"
      ],
      "text/plain": [
       "                                   Address1  \\\n",
       "0      123 E Main St, Springfield, IL 62701   \n",
       "1            456 W Elm St, Boston, MA 02118   \n",
       "2            789 S Oak St, Denver, CO 80203   \n",
       "3          321 N Pine St, Seattle, WA 98101   \n",
       "4          654 E Maple St, Austin, TX 73301   \n",
       "5   987 W Cedar St, San Francisco, CA 94102   \n",
       "6        246 S Birch St, New York, NY 10001   \n",
       "7        135 N Cedar Ave, Chicago, IL 60601   \n",
       "8     864 E Pine Ave, Los Angeles, CA 90001   \n",
       "9        753 W Spruce St, Houston, TX 77001   \n",
       "10       159 S Maple Ave, Phoenix, AZ 85001   \n",
       "11     357 N Oak St, Philadelphia, PA 19102   \n",
       "12   468 E Birch Ave, San Antonio, TX 78201   \n",
       "13         579 W Cedar St, Dallas, TX 75201   \n",
       "14       681 S Pine Ave, San Jose, CA 95101   \n",
       "15   792 N Maple St, Jacksonville, FL 32201   \n",
       "16         903 E Oak St, Columbus, OH 43201   \n",
       "17       104 W Elm Ave, Charlotte, NC 28201   \n",
       "18   215 S Cedar St, Indianapolis, IN 46201   \n",
       "19     326 N Pine Ave, Fort Worth, TX 76101   \n",
       "\n",
       "                                             Address2  \\\n",
       "0   123 East Main Street, Springfield, Illinois 62701   \n",
       "1    456 West Elm Street, Boston, Massachusetts 02118   \n",
       "2        789 South Oak Street, Denver, Colorado 80203   \n",
       "3    321 North Pine Street, Seattle, Washington 98101   \n",
       "4          654 East Maple Street, Austin, Texas 73301   \n",
       "5   987 West Cedar Street, San Francisco, Californ...   \n",
       "6    246 South Birch Street, New York, New York 10001   \n",
       "7     135 North Cedar Avenue, Chicago, Illinois 60601   \n",
       "8   864 East Pine Avenue, Los Angeles, California ...   \n",
       "9        753 West Spruce Street, Houston, Texas 77001   \n",
       "10     159 South Maple Avenue, Phoenix, Arizona 85001   \n",
       "11  357 North Oak Street, Philadelphia, Pennsylvan...   \n",
       "12    468 East Birch Avenue, San Antonio, Texas 78201   \n",
       "13         579 West Cedar Street, Dallas, Texas 75201   \n",
       "14  681 South Pine Avenue, San Jose, California 95101   \n",
       "15  792 North Maple Street, Jacksonville, Florida ...   \n",
       "16          903 East Oak Street, Columbus, Ohio 43201   \n",
       "17  104 West Elm Avenue, Charlotte, North Carolina...   \n",
       "18  215 South Cedar Street, Indianapolis, Indiana ...   \n",
       "19     326 North Pine Avenue, Fort Worth, Texas 76101   \n",
       "\n",
       "                                          Description  Label  \n",
       "0   Different directional prefix formats for same ...    1.0  \n",
       "1   Different directional prefix formats for same ...    1.0  \n",
       "2   Different directional prefix formats for same ...    1.0  \n",
       "3   Different directional prefix formats for same ...    1.0  \n",
       "4   Different directional prefix formats for same ...    1.0  \n",
       "5   Different directional prefix formats for same ...    1.0  \n",
       "6   Different directional prefix formats for same ...    1.0  \n",
       "7   Different directional prefix formats for same ...    1.0  \n",
       "8   Different directional prefix formats for same ...    1.0  \n",
       "9   Different directional prefix formats for same ...    1.0  \n",
       "10  Different directional prefix formats for same ...    1.0  \n",
       "11  Different directional prefix formats for same ...    1.0  \n",
       "12  Different directional prefix formats for same ...    1.0  \n",
       "13  Different directional prefix formats for same ...    1.0  \n",
       "14  Different directional prefix formats for same ...    1.0  \n",
       "15  Different directional prefix formats for same ...    1.0  \n",
       "16  Different directional prefix formats for same ...    1.0  \n",
       "17  Different directional prefix formats for same ...    1.0  \n",
       "18  Different directional prefix formats for same ...    1.0  \n",
       "19  Different directional prefix formats for same ...    1.0  "
      ]
     },
     "execution_count": 13,
     "metadata": {},
     "output_type": "execute_result"
    }
   ],
   "source": [
    "# If you want to start from here and not run the data augmentation pipeline again...\n",
    "augment_results_df = pd.read_parquet(\"data/training.6.parquet\")\n",
    "\n",
    "augment_results_df.head(20)"
   ]
  },
  {
   "cell_type": "markdown",
   "id": "4c2b2e4e-0c28-47ce-8b3c-7c1dac0062f5",
   "metadata": {},
   "source": [
    "### Data Augmentation Complete!\n",
    "\n",
    "Starting by hand labeling under 100 records and iterating a few times on data augmentation instructions for GPT4o, we have multiplied them by many times to get almost 10,000 synthetic records! This is enough to fine-tune a `SentenceTransformer` or semantic text similarity classifier model. GPT4o is a powerful tool for data augmentation! This can work for a variety of problems.\n",
    "\n",
    "LLM based data augmentation is a powerful tool for your data labeling toolbox."
   ]
  },
  {
   "cell_type": "markdown",
   "id": "423992c9-bd0c-4e85-b5ce-cbf14a1d5356",
   "metadata": {},
   "source": [
    "# Comparing Different Approaches to Address Matching\n",
    "\n",
    "Now we're going to compare the following methods of address matching:\n",
    "\n",
    "1) Database Lookups - we'l use [pycountry](https://pypi.org/project/pycountry/) ([github](https://github.com/pycountry/pycountry)) to improve international address matching (see [PyCountry Nation Matching](PyCountry%20Nation%20Matching.ipynb)).\n",
    "2) Text Embeddings - we'll use transfer learning to load an existing [SentenceTransformer](https://sbert.net) model to sentence encode pairs of addresses to create fixed-length embeddings for each address and then compute a similarity score via [cosine similarity](https://en.wikipedia.org/wiki/Cosine_similarity). This won't work without fine-tuning, so we fine-tune the model to the task.\n",
    "3) Deep Matching Model - We'll train a deep semantic textual similarity classification model based on a Siamese BERT network as defined in [Sentence-BERT](https://arxiv.org/abs/1908.10084) to classify address pairs as matching or not matching."
   ]
  },
  {
   "cell_type": "markdown",
   "id": "ae7aa526-33e4-4705-a453-585ab7f3869a",
   "metadata": {},
   "source": [
    "# Machine Learning Approaches to Address Matching\n",
    "\n",
    "In this section we pursue two machine learning approaches to address matching, in order of sophistication. First we fine-tune a pre-trained embedding model to our task, try it on our data and search for a threshold similarity that results in good performance for our address matching problem. Second we build a Siamese BERT network model based on [Sentence-BERT](https://arxiv.org/abs/1908.10084) to classify pairs of addresses as match or mismatch. We will train it using the same dataset we use to fine-tune a sentence transformer, and if we have enough training data this will likely be a more powerful approach."
   ]
  },
  {
   "cell_type": "markdown",
   "id": "f67998e4-9729-4831-993d-aca757f9aa8c",
   "metadata": {},
   "source": [
    "# Parsed Address Matching with Libpostal, PyTorch and `Cosine-Sentence-BERT`\n",
    "\n",
    "Our next strategy will be to parse the addresses using Libpostal and then to encode them in a way that perserves the parsed staructure. We will use a deep network architecture called `Cosine-Sentence-BERT`, a derivative of `Sentence-BERT`, to build a classifier for pairs of addresses that can achieve better performance than fine-tuned sentence transformers and cosine similarity alone.\n",
    "\n",
    "Embeddings as a solution to this problem have a side-effect of optimizing an embedding for information retrieval... but they ignore the structure of parsed addresses. A deep network that is aware of it can perform better. Let's try out an implementation of the Sentence-BERT model, which was outlined by Nils Reimers and Iryna Gurevych in the original paper that created sentence tranformers, [Sentence-BERT: Sentence Embeddings using Siamese BERT-Networks\n",
    "](https://arxiv.org/abs/1908.10084)."
   ]
  },
  {
   "cell_type": "code",
   "execution_count": 14,
   "id": "02a8f5bc-c48d-4fe0-8bb6-91dac3db3609",
   "metadata": {},
   "outputs": [],
   "source": [
    "from typing import List, Tuple\n",
    "from collections import defaultdict\n",
    "\n",
    "def parse_standardize_address(address: str) -> str:\n",
    "    \"\"\"Parse with Libpostal, then stringify fields in standard order\"\"\"\n",
    "\n",
    "    # Libpostal parse the address\n",
    "    parsed_address: List[Tuple[str, str]] = parse_address(address)\n",
    "    \n",
    "    FIELD_ORDER = [\n",
    "        \"house_number\",\n",
    "        \"house\",\n",
    "        \"road\",\n",
    "        \"unit\",\n",
    "        \"level\",\n",
    "        \"staircase\",\n",
    "        \"entrance\",\n",
    "        \"category\",\n",
    "        \"near\",\n",
    "        \"suburb\",\n",
    "        \"city_district\",\n",
    "        \"city\",\n",
    "        \"island\",\n",
    "        \"state_district\",\n",
    "        \"state\",\n",
    "        \"postcode\",\n",
    "        \"po_box\",\n",
    "        \"country_region\",\n",
    "        \"country\",\n",
    "        \"world_region\"\n",
    "    ]\n",
    "    \n",
    "    # Fields that typically precede a comma in addresses\n",
    "    COMMA_AFTER = {\"road\", \"city\", \"state\", \"country_region\"}\n",
    "    \n",
    "    # Create a defaultdict to group values by field\n",
    "    address_dict = defaultdict(list)\n",
    "    for value, field in parsed_address:\n",
    "        if value.strip():\n",
    "            address_dict[field].append(value.strip())\n",
    "    \n",
    "    # Create a list of non-empty address components in the specified order\n",
    "    address_components = []\n",
    "    for field in FIELD_ORDER:\n",
    "        if field in address_dict:\n",
    "            component = ' '.join(address_dict[field])\n",
    "            if field in COMMA_AFTER and field != FIELD_ORDER[-1]:\n",
    "                component += ','\n",
    "            address_components.append(component)\n",
    "    \n",
    "    # Manually join the components with a space unless they are null\n",
    "    address_string = str()\n",
    "    for address_component in address_components:\n",
    "        if address_component and isinstance(address_component, str) and len(address_component) > 0 and address_component != \",\":\n",
    "            address_string += address_component + \" \"\n",
    "    \n",
    "    return address_string.strip()"
   ]
  },
  {
   "cell_type": "code",
   "execution_count": 15,
   "id": "75976b16-ca9d-4005-9a51-e76a975f876e",
   "metadata": {},
   "outputs": [
    {
     "name": "stdout",
     "output_type": "stream",
     "text": [
      "Training data:   8,024\n",
      "Validation data: 1,003\n",
      "Test data        1,003\n"
     ]
    }
   ],
   "source": [
    "train_df, tmp_df = train_test_split(augment_results_df, test_size=0.2, shuffle=True)\n",
    "eval_df, test_df = train_test_split(tmp_df, test_size=0.5, random_state=42, shuffle=True)\n",
    "\n",
    "# Encode the addresses using [COL] / [VAL] special characters\n",
    "parsed_train_dataset = Dataset.from_dict({\n",
    "    \"sentence1\": [parse_standardize_address(x) for x in train_df[\"Address1\"].tolist()],\n",
    "    \"sentence2\": [parse_standardize_address(x) for x in train_df[\"Address2\"].tolist()],\n",
    "    \"label\": train_df[\"Label\"].tolist(),\n",
    "})\n",
    "train_dataset = Dataset.from_dict({\n",
    "    \"sentence1\": train_df[\"Address1\"].tolist(),\n",
    "    \"sentence2\": train_df[\"Address2\"].tolist(),\n",
    "    \"label\": train_df[\"Label\"].tolist(),\n",
    "})\n",
    "\n",
    "# Encode the addresses using [COL] / [VAL] special characters\n",
    "parsed_eval_dataset = Dataset.from_dict({\n",
    "    \"sentence1\": [parse_standardize_address(x) for x in eval_df[\"Address1\"].tolist()],\n",
    "    \"sentence2\": [parse_standardize_address(x) for x in eval_df[\"Address2\"].tolist()],\n",
    "    \"label\": eval_df[\"Label\"].tolist(),\n",
    "})\n",
    "eval_dataset = Dataset.from_dict({\n",
    "    \"sentence1\": eval_df[\"Address1\"].tolist(),\n",
    "    \"sentence2\": eval_df[\"Address2\"].tolist(),\n",
    "    \"label\": eval_df[\"Label\"].tolist(),\n",
    "})\n",
    "\n",
    "# Encode the addresses using [COL] / [VAL] special characters\n",
    "parsed_test_dataset = Dataset.from_dict({\n",
    "    \"sentence1\": [parse_standardize_address(x) for x in test_df[\"Address1\"].tolist()],\n",
    "    \"sentence2\": [parse_standardize_address(x) for x in test_df[\"Address2\"].tolist()],\n",
    "    \"label\": test_df[\"Label\"].tolist(),\n",
    "})\n",
    "test_dataset = Dataset.from_dict({\n",
    "    \"sentence1\": test_df[\"Address1\"].tolist(),\n",
    "    \"sentence2\": test_df[\"Address2\"].tolist(),\n",
    "    \"label\": test_df[\"Label\"].tolist(),\n",
    "})\n",
    "\n",
    "print(f\"Training data:   {len(train_df):,}\")\n",
    "print(f\"Validation data: {len(eval_df):,}\")\n",
    "print(f\"Test data        {len(eval_df):,}\")"
   ]
  },
  {
   "cell_type": "code",
   "execution_count": 16,
   "id": "cc6f9841-6248-4e06-81b7-c5761fde354e",
   "metadata": {},
   "outputs": [],
   "source": [
    "SBERT_MODEL = \"sentence-transformers/paraphrase-multilingual-MiniLM-L12-v2\"\n",
    "VARIANT = \"raw-embeddings\"\n",
    "MODEL_SAVE_NAME = (\"Cosine-Sentence-BERT\" + \"-\" + VARIANT).replace(\"/\", \"-\")\n",
    "\n",
    "EPOCHS = 12\n",
    "BATCH_SIZE = 16\n",
    "PATIENCE = 2\n",
    "LEARNING_RATE = 3e-4\n",
    "WEIGHT_DECAY = 0.02\n",
    "MODEL_OUTPUT_FOLDER = f\"data/{MODEL_SAVE_NAME}\"\n",
    "SAVE_EVAL_STEPS = 100\n",
    "\n",
    "LIBPOSTAL = True"
   ]
  },
  {
   "cell_type": "markdown",
   "id": "c4bdbe34-9f5c-4d82-9f56-37612435439f",
   "metadata": {},
   "source": [
    "### Substitute Libpostal Parsed `Datasets`"
   ]
  },
  {
   "cell_type": "code",
   "execution_count": 17,
   "id": "9628f1e6-122e-4ea9-a084-afaba2f0a91b",
   "metadata": {},
   "outputs": [
    {
     "name": "stderr",
     "output_type": "stream",
     "text": [
      "ERROR:root:Using LIBPOSTAL dataset\n"
     ]
    }
   ],
   "source": [
    "if LIBPOSTAL:\n",
    "    logging.error(\"Using LIBPOSTAL dataset\")\n",
    "    train_dataset = parsed_train_dataset\n",
    "    eval_dataset = parsed_eval_dataset\n",
    "    test_dataset = parsed_test_dataset\n",
    "else:\n",
    "    logging.error(\"Using raw dataset\")"
   ]
  },
  {
   "cell_type": "code",
   "execution_count": 18,
   "id": "1dfb214a-2cbb-48d2-9e42-307aab992516",
   "metadata": {},
   "outputs": [
    {
     "data": {
      "text/html": [
       "wandb version 0.17.3 is available!  To upgrade, please run:\n",
       " $ pip install wandb --upgrade"
      ],
      "text/plain": [
       "<IPython.core.display.HTML object>"
      ]
     },
     "metadata": {},
     "output_type": "display_data"
    },
    {
     "data": {
      "text/html": [
       "Tracking run with wandb version 0.17.0"
      ],
      "text/plain": [
       "<IPython.core.display.HTML object>"
      ]
     },
     "metadata": {},
     "output_type": "display_data"
    },
    {
     "data": {
      "text/html": [
       "Run data is saved locally in <code>/home/rjurney/Software/libpostal-reborn/wandb/run-20240701_085331-6pzafejp</code>"
      ],
      "text/plain": [
       "<IPython.core.display.HTML object>"
      ]
     },
     "metadata": {},
     "output_type": "display_data"
    },
    {
     "data": {
      "text/html": [
       "Syncing run <strong><a href='https://wandb.ai/rjurney/libpostal-reborn/runs/6pzafejp' target=\"_blank\">skilled-wind-138</a></strong> to <a href='https://wandb.ai/rjurney/libpostal-reborn' target=\"_blank\">Weights & Biases</a> (<a href='https://wandb.me/run' target=\"_blank\">docs</a>)<br/>"
      ],
      "text/plain": [
       "<IPython.core.display.HTML object>"
      ]
     },
     "metadata": {},
     "output_type": "display_data"
    },
    {
     "data": {
      "text/html": [
       " View project at <a href='https://wandb.ai/rjurney/libpostal-reborn' target=\"_blank\">https://wandb.ai/rjurney/libpostal-reborn</a>"
      ],
      "text/plain": [
       "<IPython.core.display.HTML object>"
      ]
     },
     "metadata": {},
     "output_type": "display_data"
    },
    {
     "data": {
      "text/html": [
       " View run at <a href='https://wandb.ai/rjurney/libpostal-reborn/runs/6pzafejp' target=\"_blank\">https://wandb.ai/rjurney/libpostal-reborn/runs/6pzafejp</a>"
      ],
      "text/plain": [
       "<IPython.core.display.HTML object>"
      ]
     },
     "metadata": {},
     "output_type": "display_data"
    },
    {
     "data": {
      "text/html": [
       "<button onClick=\"this.nextSibling.style.display='block';this.style.display='none';\">Display W&B run</button><iframe src='https://wandb.ai/rjurney/libpostal-reborn/runs/6pzafejp?jupyter=true' style='border:none;width:100%;height:420px;display:none;'></iframe>"
      ],
      "text/plain": [
       "<wandb.sdk.wandb_run.Run at 0x7fc5a8189e90>"
      ]
     },
     "execution_count": 18,
     "metadata": {},
     "output_type": "execute_result"
    }
   ],
   "source": [
    "# Initialize Weights & Biases\n",
    "wandb.init(\n",
    "    entity=\"rjurney\",\n",
    "    # set the wandb project where this run will be logged\n",
    "    project=\"libpostal-reborn\",\n",
    "    # track hyperparameters and run metadata\n",
    "    config={\n",
    "        \"model\": \"Cosine-Sentence-BERT\",\n",
    "        \"variant\": VARIANT,\n",
    "        \"epochs\": EPOCHS,\n",
    "        \"batch_size\": BATCH_SIZE,\n",
    "        \"patience\": PATIENCE,\n",
    "        \"learning_rate\": LEARNING_RATE,\n",
    "        \"sbert_model\": SBERT_MODEL,\n",
    "        \"model_output_folder\": MODEL_OUTPUT_FOLDER,\n",
    "        \"save_eval_steps\": SAVE_EVAL_STEPS,\n",
    "        \"model_save_name\": MODEL_SAVE_NAME,\n",
    "        \"weight_decay\": WEIGHT_DECAY,\n",
    "        \"libpostal\": LIBPOSTAL,\n",
    "    },\n",
    "    save_code=True,\n",
    ")"
   ]
  },
  {
   "cell_type": "code",
   "execution_count": 19,
   "id": "2b7740e6-4a1b-4d5e-99bc-4eeb9d3f21c7",
   "metadata": {},
   "outputs": [],
   "source": [
    "import torch\n",
    "import torch.nn as nn\n",
    "import torch.nn.functional as F\n",
    "from transformers import AutoModel, AutoTokenizer\n",
    "\n",
    "\n",
    "class CosineSentenceBERT(nn.Module):\n",
    "    def __init__(self, model_name=SBERT_MODEL, dim=384):\n",
    "        super().__init__()\n",
    "        self.model_name = model_name\n",
    "        self.tokenizer = AutoTokenizer.from_pretrained(model_name)\n",
    "        self.model = AutoModel.from_pretrained(model_name)\n",
    "\n",
    "        # Update the FFNN to output embedding dimension\n",
    "        self.ffnn = nn.Sequential(\n",
    "            nn.Linear(dim, dim//2),\n",
    "            nn.GELU(),\n",
    "            nn.Dropout(0.1),\n",
    "        )\n",
    "\n",
    "    @staticmethod\n",
    "    def mean_pool(token_embeds, attention_mask):\n",
    "        in_mask = attention_mask.unsqueeze(-1).expand(token_embeds.size()).float()\n",
    "        pool = torch.sum(token_embeds * in_mask, 1) / torch.clamp(in_mask.sum(1), min=1e-9)\n",
    "        return pool\n",
    "\n",
    "    def encode(self, input_ids, attention_mask):\n",
    "        outputs = self.model(input_ids, attention_mask=attention_mask)[0]\n",
    "        embeddings = self.mean_pool(outputs, attention_mask)\n",
    "        return self.ffnn(embeddings)\n",
    "\n",
    "    def forward(self, input_ids_a, input_ids_b, attention_mask_a=None, attention_mask_b=None, labels=None, **kwargs):\n",
    "        # Encode both sentences\n",
    "        embed_a = self.encode(input_ids_a, attention_mask_a)\n",
    "        embed_b = self.encode(input_ids_b, attention_mask_b)\n",
    "\n",
    "        # Compute cosine similarity\n",
    "        cosine_sim = F.cosine_similarity(embed_a, embed_b)\n",
    "\n",
    "        loss = None\n",
    "        if labels is not None:\n",
    "            loss_fct = nn.CosineEmbeddingLoss()\n",
    "            # CosineEmbeddingLoss expects 1 for similar pairs and -1 for dissimilar pairs\n",
    "            loss = loss_fct(embed_a, embed_b, (labels * 2) - 1)\n",
    "\n",
    "        return {\"loss\": loss, \"similarity\": cosine_sim}\n",
    "\n",
    "    def predict(self, a: str, b: str):\n",
    "        encoded_a = self.tokenizer(a, padding=True, truncation=True, return_tensors=\"pt\")\n",
    "        encoded_b = self.tokenizer(b, padding=True, truncation=True, return_tensors=\"pt\")\n",
    "        \n",
    "        with torch.no_grad():\n",
    "            embed_a = self.encode(encoded_a[\"input_ids\"].to(self.model.device), \n",
    "                                  encoded_a[\"attention_mask\"].to(self.model.device))\n",
    "            embed_b = self.encode(encoded_b[\"input_ids\"].to(self.model.device), \n",
    "                                  encoded_b[\"attention_mask\"].to(self.model.device))\n",
    "            \n",
    "            similarity = F.cosine_similarity(embed_a, embed_b).item()\n",
    "            \n",
    "            return similarity"
   ]
  },
  {
   "cell_type": "code",
   "execution_count": 20,
   "id": "4d77c9e7-cee9-4821-8e2c-f7b30a3f0c2f",
   "metadata": {},
   "outputs": [],
   "source": [
    "classifier_model = CosineSentenceBERT()\n",
    "tokenizer = classifier_model.tokenizer"
   ]
  },
  {
   "cell_type": "code",
   "execution_count": 21,
   "id": "238b0455-144a-4924-bffa-d4a01f6fe99d",
   "metadata": {},
   "outputs": [
    {
     "data": {
      "application/vnd.jupyter.widget-view+json": {
       "model_id": "a8df692899fd48bd9fd50735c74fa9f3",
       "version_major": 2,
       "version_minor": 0
      },
      "text/plain": [
       "Map:   0%|          | 0/8024 [00:00<?, ? examples/s]"
      ]
     },
     "metadata": {},
     "output_type": "display_data"
    },
    {
     "data": {
      "application/vnd.jupyter.widget-view+json": {
       "model_id": "b16b33ccee064fa6a8a61ed194b70fca",
       "version_major": 2,
       "version_minor": 0
      },
      "text/plain": [
       "Map:   0%|          | 0/1003 [00:00<?, ? examples/s]"
      ]
     },
     "metadata": {},
     "output_type": "display_data"
    },
    {
     "data": {
      "application/vnd.jupyter.widget-view+json": {
       "model_id": "ecb48d10649845678abe7de2c7be5070",
       "version_major": 2,
       "version_minor": 0
      },
      "text/plain": [
       "Map:   0%|          | 0/1003 [00:00<?, ? examples/s]"
      ]
     },
     "metadata": {},
     "output_type": "display_data"
    }
   ],
   "source": [
    "tokenized_train_dataset = train_dataset.map(lambda x: tokenize_function(x, tokenizer), batched=True)\n",
    "tokenized_eval_dataset = eval_dataset.map(lambda x: tokenize_function(x, tokenizer), batched=True)\n",
    "tokenized_test_dataset = test_dataset.map(lambda x: tokenize_function(x, tokenizer), batched=True)\n",
    "\n",
    "tokenized_train_dataset = format_dataset(tokenized_train_dataset)\n",
    "tokenized_eval_dataset = format_dataset(tokenized_eval_dataset)\n",
    "tokenized_test_dataset = format_dataset(tokenized_test_dataset)"
   ]
  },
  {
   "cell_type": "code",
   "execution_count": 22,
   "id": "171c0469-a059-4932-8b03-52cd94d8cd93",
   "metadata": {},
   "outputs": [
    {
     "data": {
      "text/html": [
       "\n",
       "    <div>\n",
       "      \n",
       "      <progress value='1500' max='3012' style='width:300px; height:20px; vertical-align: middle;'></progress>\n",
       "      [1500/3012 33:26 < 33:45, 0.75 it/s, Epoch 5/12]\n",
       "    </div>\n",
       "    <table border=\"1\" class=\"dataframe\">\n",
       "  <thead>\n",
       " <tr style=\"text-align: left;\">\n",
       "      <th>Step</th>\n",
       "      <th>Training Loss</th>\n",
       "      <th>Validation Loss</th>\n",
       "      <th>Accuracy</th>\n",
       "      <th>F1</th>\n",
       "      <th>Precision</th>\n",
       "      <th>Recall</th>\n",
       "    </tr>\n",
       "  </thead>\n",
       "  <tbody>\n",
       "    <tr>\n",
       "      <td>100</td>\n",
       "      <td>No log</td>\n",
       "      <td>0.322040</td>\n",
       "      <td>0.687936</td>\n",
       "      <td>0.771031</td>\n",
       "      <td>0.641900</td>\n",
       "      <td>0.965201</td>\n",
       "    </tr>\n",
       "    <tr>\n",
       "      <td>200</td>\n",
       "      <td>No log</td>\n",
       "      <td>0.247582</td>\n",
       "      <td>0.774676</td>\n",
       "      <td>0.823713</td>\n",
       "      <td>0.717391</td>\n",
       "      <td>0.967033</td>\n",
       "    </tr>\n",
       "    <tr>\n",
       "      <td>300</td>\n",
       "      <td>No log</td>\n",
       "      <td>0.248989</td>\n",
       "      <td>0.775673</td>\n",
       "      <td>0.823529</td>\n",
       "      <td>0.720165</td>\n",
       "      <td>0.961538</td>\n",
       "    </tr>\n",
       "    <tr>\n",
       "      <td>400</td>\n",
       "      <td>No log</td>\n",
       "      <td>0.216575</td>\n",
       "      <td>0.806580</td>\n",
       "      <td>0.843296</td>\n",
       "      <td>0.754335</td>\n",
       "      <td>0.956044</td>\n",
       "    </tr>\n",
       "    <tr>\n",
       "      <td>500</td>\n",
       "      <td>0.314500</td>\n",
       "      <td>0.208765</td>\n",
       "      <td>0.812562</td>\n",
       "      <td>0.845140</td>\n",
       "      <td>0.767964</td>\n",
       "      <td>0.939560</td>\n",
       "    </tr>\n",
       "    <tr>\n",
       "      <td>600</td>\n",
       "      <td>0.314500</td>\n",
       "      <td>0.181350</td>\n",
       "      <td>0.837488</td>\n",
       "      <td>0.864505</td>\n",
       "      <td>0.791476</td>\n",
       "      <td>0.952381</td>\n",
       "    </tr>\n",
       "    <tr>\n",
       "      <td>700</td>\n",
       "      <td>0.314500</td>\n",
       "      <td>0.164052</td>\n",
       "      <td>0.851446</td>\n",
       "      <td>0.875105</td>\n",
       "      <td>0.806801</td>\n",
       "      <td>0.956044</td>\n",
       "    </tr>\n",
       "    <tr>\n",
       "      <td>800</td>\n",
       "      <td>0.314500</td>\n",
       "      <td>0.147107</td>\n",
       "      <td>0.870389</td>\n",
       "      <td>0.890388</td>\n",
       "      <td>0.825000</td>\n",
       "      <td>0.967033</td>\n",
       "    </tr>\n",
       "    <tr>\n",
       "      <td>900</td>\n",
       "      <td>0.314500</td>\n",
       "      <td>0.148835</td>\n",
       "      <td>0.864407</td>\n",
       "      <td>0.885522</td>\n",
       "      <td>0.819315</td>\n",
       "      <td>0.963370</td>\n",
       "    </tr>\n",
       "    <tr>\n",
       "      <td>1000</td>\n",
       "      <td>0.214300</td>\n",
       "      <td>0.140261</td>\n",
       "      <td>0.879362</td>\n",
       "      <td>0.897371</td>\n",
       "      <td>0.835703</td>\n",
       "      <td>0.968864</td>\n",
       "    </tr>\n",
       "    <tr>\n",
       "      <td>1100</td>\n",
       "      <td>0.214300</td>\n",
       "      <td>0.137607</td>\n",
       "      <td>0.877368</td>\n",
       "      <td>0.895674</td>\n",
       "      <td>0.834123</td>\n",
       "      <td>0.967033</td>\n",
       "    </tr>\n",
       "    <tr>\n",
       "      <td>1200</td>\n",
       "      <td>0.214300</td>\n",
       "      <td>0.133237</td>\n",
       "      <td>0.878365</td>\n",
       "      <td>0.897479</td>\n",
       "      <td>0.829193</td>\n",
       "      <td>0.978022</td>\n",
       "    </tr>\n",
       "    <tr>\n",
       "      <td>1300</td>\n",
       "      <td>0.214300</td>\n",
       "      <td>0.119802</td>\n",
       "      <td>0.895314</td>\n",
       "      <td>0.910638</td>\n",
       "      <td>0.850556</td>\n",
       "      <td>0.979853</td>\n",
       "    </tr>\n",
       "    <tr>\n",
       "      <td>1400</td>\n",
       "      <td>0.214300</td>\n",
       "      <td>0.121025</td>\n",
       "      <td>0.884347</td>\n",
       "      <td>0.901193</td>\n",
       "      <td>0.842357</td>\n",
       "      <td>0.968864</td>\n",
       "    </tr>\n",
       "    <tr>\n",
       "      <td>1500</td>\n",
       "      <td>0.172800</td>\n",
       "      <td>0.125457</td>\n",
       "      <td>0.884347</td>\n",
       "      <td>0.900855</td>\n",
       "      <td>0.844551</td>\n",
       "      <td>0.965201</td>\n",
       "    </tr>\n",
       "  </tbody>\n",
       "</table><p>"
      ],
      "text/plain": [
       "<IPython.core.display.HTML object>"
      ]
     },
     "metadata": {},
     "output_type": "display_data"
    },
    {
     "data": {
      "text/plain": [
       "TrainOutput(global_step=1500, training_loss=0.23386585489908854, metrics={'train_runtime': 2006.0948, 'train_samples_per_second': 47.998, 'train_steps_per_second': 1.501, 'total_flos': 0.0, 'train_loss': 0.23386585489908854, 'epoch': 5.9760956175298805})"
      ]
     },
     "execution_count": 22,
     "metadata": {},
     "output_type": "execute_result"
    }
   ],
   "source": [
    "from transformers import Trainer, TrainingArguments\n",
    "\n",
    "\n",
    "class CosineSimilarityTrainer(Trainer):\n",
    "    \"\"\"Trainer for Cosine-Sentence-BERT. Uses RAdam optimizer and custom loss function.\"\"\"\n",
    "    \n",
    "    def create_optimizer(self):\n",
    "        return RAdam(self.model.parameters(), lr=self.args.learning_rate)\n",
    "\n",
    "    def compute_loss(self, model, inputs, return_outputs=False):\n",
    "        outputs = model(**inputs)\n",
    "        loss = outputs[\"loss\"]\n",
    "        return (loss, outputs) if return_outputs else loss\n",
    "\n",
    "\n",
    "training_args = TrainingArguments(\n",
    "    output_dir=MODEL_OUTPUT_FOLDER,\n",
    "    learning_rate=LEARNING_RATE,\n",
    "    num_train_epochs=EPOCHS,\n",
    "    per_device_train_batch_size=BATCH_SIZE,\n",
    "    per_device_eval_batch_size=BATCH_SIZE,\n",
    "    run_name=MODEL_SAVE_NAME,\n",
    "    load_best_model_at_end=True,\n",
    "    save_steps=SAVE_EVAL_STEPS,\n",
    "    eval_steps=SAVE_EVAL_STEPS,\n",
    "    save_strategy=\"steps\",\n",
    "    eval_strategy=\"steps\",\n",
    "    greater_is_better=False,\n",
    "    metric_for_best_model=\"eval_loss\",\n",
    "    weight_decay=0.01,\n",
    "    logging_dir=\"./logs\",\n",
    "    optim=\"adamw_torch\",\n",
    "    fp16=True if device.type == \"cuda\" else False,\n",
    "    data_seed=RANDOM_SEED,\n",
    ")\n",
    "\n",
    "optimizer = RAdam(classifier_model.parameters(), lr=training_args.learning_rate)\n",
    "\n",
    "trainer = CosineSimilarityTrainer(\n",
    "    model=classifier_model,\n",
    "    args=training_args,\n",
    "    train_dataset=tokenized_train_dataset,\n",
    "    eval_dataset=tokenized_eval_dataset,\n",
    "    compute_metrics=compute_classifier_metrics,\n",
    "    callbacks=[EarlyStoppingCallback(early_stopping_patience=PATIENCE)],\n",
    "    optimizers=(optimizer, None),\n",
    ")\n",
    "\n",
    "trainer.train()"
   ]
  },
  {
   "cell_type": "code",
   "execution_count": 23,
   "id": "e0ce2275-6f76-4454-863a-1a3b8adcd829",
   "metadata": {},
   "outputs": [
    {
     "name": "stdout",
     "output_type": "stream",
     "text": [
      "Best model checkpoint path: data/Cosine-Sentence-BERT-raw-embeddings/checkpoint-1300\n"
     ]
    }
   ],
   "source": [
    "print(f\"Best model checkpoint path: {trainer.state.best_model_checkpoint}\")"
   ]
  },
  {
   "cell_type": "code",
   "execution_count": 24,
   "id": "693e3cc0-8844-43af-a738-cc25f7778ecd",
   "metadata": {},
   "outputs": [
    {
     "data": {
      "text/html": [
       "\n",
       "    <div>\n",
       "      \n",
       "      <progress value='32' max='32' style='width:300px; height:20px; vertical-align: middle;'></progress>\n",
       "      [32/32 00:07]\n",
       "    </div>\n",
       "    "
      ],
      "text/plain": [
       "<IPython.core.display.HTML object>"
      ]
     },
     "metadata": {},
     "output_type": "display_data"
    },
    {
     "data": {
      "text/html": [
       "<div>\n",
       "<style scoped>\n",
       "    .dataframe tbody tr th:only-of-type {\n",
       "        vertical-align: middle;\n",
       "    }\n",
       "\n",
       "    .dataframe tbody tr th {\n",
       "        vertical-align: top;\n",
       "    }\n",
       "\n",
       "    .dataframe thead th {\n",
       "        text-align: right;\n",
       "    }\n",
       "</style>\n",
       "<table border=\"1\" class=\"dataframe\">\n",
       "  <thead>\n",
       "    <tr style=\"text-align: right;\">\n",
       "      <th></th>\n",
       "      <th>eval_loss</th>\n",
       "      <th>eval_accuracy</th>\n",
       "      <th>eval_f1</th>\n",
       "      <th>eval_precision</th>\n",
       "      <th>eval_recall</th>\n",
       "      <th>eval_runtime</th>\n",
       "      <th>eval_samples_per_second</th>\n",
       "      <th>eval_steps_per_second</th>\n",
       "      <th>epoch</th>\n",
       "    </tr>\n",
       "  </thead>\n",
       "  <tbody>\n",
       "    <tr>\n",
       "      <th>0</th>\n",
       "      <td>0.119802</td>\n",
       "      <td>0.895314</td>\n",
       "      <td>0.910638</td>\n",
       "      <td>0.850556</td>\n",
       "      <td>0.979853</td>\n",
       "      <td>7.8665</td>\n",
       "      <td>127.502</td>\n",
       "      <td>4.068</td>\n",
       "      <td>5.976096</td>\n",
       "    </tr>\n",
       "  </tbody>\n",
       "</table>\n",
       "</div>"
      ],
      "text/plain": [
       "   eval_loss  eval_accuracy   eval_f1  eval_precision  eval_recall  \\\n",
       "0   0.119802       0.895314  0.910638        0.850556     0.979853   \n",
       "\n",
       "   eval_runtime  eval_samples_per_second  eval_steps_per_second     epoch  \n",
       "0        7.8665                  127.502                  4.068  5.976096  "
      ]
     },
     "execution_count": 24,
     "metadata": {},
     "output_type": "execute_result"
    }
   ],
   "source": [
    "# Evaluate the model\n",
    "pd.DataFrame([trainer.evaluate()])"
   ]
  },
  {
   "cell_type": "markdown",
   "id": "a393084f-aa67-48ad-ad08-93aaea71fb3b",
   "metadata": {},
   "source": [
    "### Save the Best Model\n",
    "\n",
    "Because we used `load_best_model_at_end=True`, our model is now the best one we fine-tuned. Save it."
   ]
  },
  {
   "cell_type": "code",
   "execution_count": 25,
   "id": "70abb3b9-a9e3-4280-a659-728aeec6c52d",
   "metadata": {},
   "outputs": [],
   "source": [
    "save_transformer(classifier_model, \"data/classifier_model\")"
   ]
  },
  {
   "cell_type": "code",
   "execution_count": 26,
   "id": "c22cd20c-61be-47c4-9eba-eac14a1cc23b",
   "metadata": {},
   "outputs": [
    {
     "data": {
      "application/vnd.jupyter.widget-view+json": {
       "model_id": "",
       "version_major": 2,
       "version_minor": 0
      },
      "text/plain": [
       "VBox(children=(Label(value='455.227 MB of 455.227 MB uploaded (0.057 MB deduped)\\r'), FloatProgress(value=1.0,…"
      ]
     },
     "metadata": {},
     "output_type": "display_data"
    },
    {
     "data": {
      "text/html": [
       "<style>\n",
       "    table.wandb td:nth-child(1) { padding: 0 10px; text-align: left ; width: auto;} td:nth-child(2) {text-align: left ; width: 100%}\n",
       "    .wandb-row { display: flex; flex-direction: row; flex-wrap: wrap; justify-content: flex-start; width: 100% }\n",
       "    .wandb-col { display: flex; flex-direction: column; flex-basis: 100%; flex: 1; padding: 10px; }\n",
       "    </style>\n",
       "<div class=\"wandb-row\"><div class=\"wandb-col\"><h3>Run history:</h3><br/><table class=\"wandb\"><tr><td>eval/accuracy</td><td>▁▄▄▅▅▆▇▇▇▇▇▇████</td></tr><tr><td>eval/f1</td><td>▁▄▄▅▅▆▆▇▇▇▇▇████</td></tr><tr><td>eval/loss</td><td>█▅▅▄▄▃▃▂▂▂▂▁▁▁▁▁</td></tr><tr><td>eval/precision</td><td>▁▄▄▅▅▆▇▇▇█▇▇████</td></tr><tr><td>eval/recall</td><td>▅▆▅▄▁▃▄▆▅▆▆██▆▅█</td></tr><tr><td>eval/runtime</td><td>▁▁▂▇███▆██▁▂▁▂▂▁</td></tr><tr><td>eval/samples_per_second</td><td>██▇▁▁▁▁▂▁▁▇▇▇▇▇▇</td></tr><tr><td>eval/steps_per_second</td><td>██▇▁▁▁▁▂▁▁▇▇▇▇▇▇</td></tr><tr><td>train/epoch</td><td>▁▂▂▃▃▃▄▄▅▅▆▆▆▇▇▇████</td></tr><tr><td>train/global_step</td><td>▁▁▂▃▃▃▃▄▅▅▅▅▆▇▇▇████</td></tr><tr><td>train/grad_norm</td><td>▁█▃</td></tr><tr><td>train/learning_rate</td><td>█▅▁</td></tr><tr><td>train/loss</td><td>█▃▁</td></tr></table><br/></div><div class=\"wandb-col\"><h3>Run summary:</h3><br/><table class=\"wandb\"><tr><td>eval/accuracy</td><td>0.89531</td></tr><tr><td>eval/f1</td><td>0.91064</td></tr><tr><td>eval/loss</td><td>0.1198</td></tr><tr><td>eval/precision</td><td>0.85056</td></tr><tr><td>eval/recall</td><td>0.97985</td></tr><tr><td>eval/runtime</td><td>7.8665</td></tr><tr><td>eval/samples_per_second</td><td>127.502</td></tr><tr><td>eval/steps_per_second</td><td>4.068</td></tr><tr><td>total_flos</td><td>0.0</td></tr><tr><td>train/epoch</td><td>5.9761</td></tr><tr><td>train/global_step</td><td>1500</td></tr><tr><td>train/grad_norm</td><td>173472.85938</td></tr><tr><td>train/learning_rate</td><td>0.00015</td></tr><tr><td>train/loss</td><td>0.1728</td></tr><tr><td>train_loss</td><td>0.23387</td></tr><tr><td>train_runtime</td><td>2006.0948</td></tr><tr><td>train_samples_per_second</td><td>47.998</td></tr><tr><td>train_steps_per_second</td><td>1.501</td></tr></table><br/></div></div>"
      ],
      "text/plain": [
       "<IPython.core.display.HTML object>"
      ]
     },
     "metadata": {},
     "output_type": "display_data"
    },
    {
     "data": {
      "text/html": [
       " View run <strong style=\"color:#cdcd00\">skilled-wind-138</strong> at: <a href='https://wandb.ai/rjurney/libpostal-reborn/runs/6pzafejp' target=\"_blank\">https://wandb.ai/rjurney/libpostal-reborn/runs/6pzafejp</a><br/> View project at: <a href='https://wandb.ai/rjurney/libpostal-reborn' target=\"_blank\">https://wandb.ai/rjurney/libpostal-reborn</a><br/>Synced 7 W&B file(s), 0 media file(s), 9 artifact file(s) and 1 other file(s)"
      ],
      "text/plain": [
       "<IPython.core.display.HTML object>"
      ]
     },
     "metadata": {},
     "output_type": "display_data"
    },
    {
     "data": {
      "text/html": [
       "Find logs at: <code>./wandb/run-20240701_085331-6pzafejp/logs</code>"
      ],
      "text/plain": [
       "<IPython.core.display.HTML object>"
      ]
     },
     "metadata": {},
     "output_type": "display_data"
    }
   ],
   "source": [
    "wandb.finish()"
   ]
  },
  {
   "cell_type": "markdown",
   "id": "1abab52e-f77c-4fe9-8c99-9bc8d77adcb9",
   "metadata": {},
   "source": [
    "### Testing the Model"
   ]
  },
  {
   "cell_type": "code",
   "execution_count": 27,
   "id": "d8112c70-6bbe-4ee1-bc0f-cacc51aa472c",
   "metadata": {},
   "outputs": [],
   "source": [
    "classifier_model = load_transformer(CosineSentenceBERT, \"data/classifier_model\", device=device)"
   ]
  },
  {
   "cell_type": "code",
   "execution_count": 28,
   "id": "35b6b68f-c85f-4753-ace8-0a74e3471d1e",
   "metadata": {},
   "outputs": [
    {
     "data": {
      "text/plain": [
       "0.9356346130371094"
      ]
     },
     "execution_count": 28,
     "metadata": {},
     "output_type": "execute_result"
    }
   ],
   "source": [
    "classifier_model.predict(\"3413 Sean Way, Lawrenceville, GA 30044\", \"3413 Sean Way, Lawrenceville, GA 30044\")"
   ]
  },
  {
   "cell_type": "code",
   "execution_count": 29,
   "id": "387a0065-5412-48e3-b5cb-d146aa4cd528",
   "metadata": {},
   "outputs": [
    {
     "data": {
      "text/plain": [
       "-0.019321702420711517"
      ]
     },
     "execution_count": 29,
     "metadata": {},
     "output_type": "execute_result"
    }
   ],
   "source": [
    "classifier_model.predict(\"101 Oak Ct.,\", \"101 Oak Street\")"
   ]
  },
  {
   "cell_type": "code",
   "execution_count": 30,
   "id": "a4265009-bf3e-467c-84fd-27d202cf5c0d",
   "metadata": {},
   "outputs": [
    {
     "data": {
      "text/plain": [
       "0.5062032341957092"
      ]
     },
     "execution_count": 30,
     "metadata": {},
     "output_type": "execute_result"
    }
   ],
   "source": [
    "classifier_model.predict(\"101 Oak Pl.\", \"101 Oak Place\")"
   ]
  },
  {
   "cell_type": "markdown",
   "id": "6c3d4025-ec9b-45cd-a3fd-b764ab1b9920",
   "metadata": {},
   "source": [
    "### Probability and Boolean Prediction Methods"
   ]
  },
  {
   "cell_type": "code",
   "execution_count": 31,
   "id": "808a4f57-c875-4ec2-9bf1-4fc2a1971afb",
   "metadata": {},
   "outputs": [],
   "source": [
    "def classifier_match(row: pd.Series) -> pd.Series:\n",
    "    \"\"\"classifier_match - Sentence-BERT address matching, float output\"\"\"\n",
    "    return classifier_model.predict(row[\"Address1\"], row[\"Address2\"])\n",
    "\n",
    "\n",
    "def classifier_match_boolean(row: pd.Series, threshold=0.5) -> pd.Series:\n",
    "    \"\"\"classifier_match_binary - Sentence-BERT address matching, boolean output\"\"\"\n",
    "    return 1 if classifier_model.predict(row[\"Address1\"], row[\"Address2\"]) > threshold else 0"
   ]
  },
  {
   "cell_type": "markdown",
   "id": "2f5f79c9-a93e-4d5c-ae1f-bc819e89847a",
   "metadata": {},
   "source": [
    "### Synthetic Data Evaluation"
   ]
  },
  {
   "cell_type": "code",
   "execution_count": 32,
   "id": "6b6d6951-b186-40f0-913b-2e209b376439",
   "metadata": {},
   "outputs": [],
   "source": [
    "y_true = test_df[\"Label\"]\n",
    "y_scores = test_df.apply(classifier_match, axis=1)"
   ]
  },
  {
   "cell_type": "code",
   "execution_count": 33,
   "id": "6d13decc-0983-4dac-936e-1c38c9e4eadb",
   "metadata": {},
   "outputs": [
    {
     "name": "stdout",
     "output_type": "stream",
     "text": [
      "Best Threshold: 0.514762282371521\n",
      "Best F1 Score: 0.8286919831223629\n",
      "AUC-ROC: 0.8391513752338494\n"
     ]
    }
   ],
   "source": [
    "# Compute precision-recall curve\n",
    "precision, recall, thresholds = precision_recall_curve(y_true, y_scores)\n",
    "\n",
    "# Compute F1 score for each threshold\n",
    "f1_scores = [f1_score(y_true, y_scores >= t) for t in thresholds]\n",
    "\n",
    "# Find the threshold that maximizes the F1 score\n",
    "best_threshold_index = np.argmax(f1_scores)\n",
    "best_threshold = thresholds[best_threshold_index]\n",
    "best_f1_score = f1_scores[best_threshold_index]\n",
    "\n",
    "print(f'Best Threshold: {best_threshold}')\n",
    "print(f'Best F1 Score: {best_f1_score}')\n",
    "\n",
    "roc_auc = roc_auc_score(y_true, y_scores)\n",
    "print(f'AUC-ROC: {roc_auc}')\n",
    "\n",
    "# Create a DataFrame for Seaborn\n",
    "pr_data = pd.DataFrame({\n",
    "    'Precision': precision[:-1],\n",
    "    'Recall': recall[:-1],\n",
    "    'F1 Score': f1_scores\n",
    "})"
   ]
  },
  {
   "cell_type": "code",
   "execution_count": 34,
   "id": "5b571184-2b27-4a40-9969-02fec11c4e4c",
   "metadata": {},
   "outputs": [
    {
     "data": {
      "image/png": "[encoded data removed]",
      "text/plain": [
       "<Figure size 640x480 with 1 Axes>"
      ]
     },
     "metadata": {},
     "output_type": "display_data"
    }
   ],
   "source": [
    "# Plot Precision-Recall curve using Seaborn\n",
    "sns.lineplot(data=pr_data, x='Recall', y='Precision', marker='o')\n",
    "plt.xlabel('Recall')\n",
    "plt.ylabel('Precision')\n",
    "plt.title('Augmented Test Set Precision-Recall Curve')\n",
    "plt.show()"
   ]
  },
  {
   "cell_type": "markdown",
   "id": "5f55d107-561c-4bf7-afe4-f78172c16ae2",
   "metadata": {},
   "source": [
    "### Gold Label Evaluation"
   ]
  },
  {
   "cell_type": "code",
   "execution_count": 35,
   "id": "31b262d8-346d-4d14-8947-7c3f61302c46",
   "metadata": {},
   "outputs": [],
   "source": [
    "y_true = gold_df[\"Label\"]\n",
    "y_scores = gold_df.apply(classifier_match, axis=1)"
   ]
  },
  {
   "cell_type": "code",
   "execution_count": 36,
   "id": "af49aa98-4a18-4389-bf00-ee6d10948dd2",
   "metadata": {},
   "outputs": [
    {
     "name": "stdout",
     "output_type": "stream",
     "text": [
      "Best Threshold: -0.03162895143032074\n",
      "Best F1 Score: 0.7592592592592593\n",
      "AUC-ROC: 0.6698841698841699\n"
     ]
    }
   ],
   "source": [
    "# Compute precision-recall curve\n",
    "precision, recall, thresholds = precision_recall_curve(y_true, y_scores)\n",
    "\n",
    "# Compute F1 score for each threshold\n",
    "f1_scores = [f1_score(y_true, y_scores >= t) for t in thresholds]\n",
    "\n",
    "# Find the threshold that maximizes the F1 score\n",
    "best_threshold_index = np.argmax(f1_scores)\n",
    "best_threshold = thresholds[best_threshold_index]\n",
    "best_f1_score = f1_scores[best_threshold_index]\n",
    "\n",
    "print(f'Best Threshold: {best_threshold}')\n",
    "print(f'Best F1 Score: {best_f1_score}')\n",
    "\n",
    "roc_auc = roc_auc_score(y_true, y_scores)\n",
    "print(f'AUC-ROC: {roc_auc}')\n",
    "\n",
    "# Create a DataFrame for Seaborn\n",
    "pr_data = pd.DataFrame({\n",
    "    'Precision': precision[:-1],\n",
    "    'Recall': recall[:-1],\n",
    "    'F1 Score': f1_scores\n",
    "})"
   ]
  },
  {
   "cell_type": "code",
   "execution_count": 37,
   "id": "6a31a400-8e76-4e34-9384-82c5cd2a68ca",
   "metadata": {},
   "outputs": [
    {
     "data": {
      "image/png": "[encoded data removed]",
      "text/plain": [
       "<Figure size 640x480 with 1 Axes>"
      ]
     },
     "metadata": {},
     "output_type": "display_data"
    }
   ],
   "source": [
    "# Plot Precision-Recall curve using Seaborn\n",
    "sns.lineplot(data=pr_data, x='Recall', y='Precision', marker='o')\n",
    "plt.xlabel('Recall')\n",
    "plt.ylabel('Precision')\n",
    "plt.title('Gold Label Precision-Recall Curve')\n",
    "plt.show()"
   ]
  },
  {
   "cell_type": "code",
   "execution_count": 38,
   "id": "e135a0db-3cdb-4d1e-a0ce-9ccf97ca2b19",
   "metadata": {},
   "outputs": [],
   "source": [
    "raw_df, grouped_df = gold_label_report(\n",
    "    gold_df,\n",
    "    [\n",
    "        # sbert_match_binary,\n",
    "        classifier_match_boolean,\n",
    "    ],\n",
    "    threshold=best_threshold\n",
    ")"
   ]
  },
  {
   "cell_type": "code",
   "execution_count": 39,
   "id": "087f4277-693a-44d1-b7b2-81895d7b4100",
   "metadata": {},
   "outputs": [
    {
     "data": {
      "text/html": [
       "<div>\n",
       "<style scoped>\n",
       "    .dataframe tbody tr th:only-of-type {\n",
       "        vertical-align: middle;\n",
       "    }\n",
       "\n",
       "    .dataframe tbody tr th {\n",
       "        vertical-align: top;\n",
       "    }\n",
       "\n",
       "    .dataframe thead th {\n",
       "        text-align: right;\n",
       "    }\n",
       "</style>\n",
       "<table border=\"1\" class=\"dataframe\">\n",
       "  <thead>\n",
       "    <tr style=\"text-align: right;\">\n",
       "      <th></th>\n",
       "      <th>classifier_match_boolean_acc</th>\n",
       "    </tr>\n",
       "    <tr>\n",
       "      <th>Description</th>\n",
       "      <th></th>\n",
       "    </tr>\n",
       "  </thead>\n",
       "  <tbody>\n",
       "    <tr>\n",
       "      <th>Abbreviated street type for same address should match</th>\n",
       "      <td>1.0</td>\n",
       "    </tr>\n",
       "    <tr>\n",
       "      <th>Abbreviated vs. full street names for same address should match</th>\n",
       "      <td>1.0</td>\n",
       "    </tr>\n",
       "    <tr>\n",
       "      <th>Addition of parenthetical details for same address should match</th>\n",
       "      <td>1.0</td>\n",
       "    </tr>\n",
       "    <tr>\n",
       "      <th>Addresses that match are often missing countries</th>\n",
       "      <td>1.0</td>\n",
       "    </tr>\n",
       "    <tr>\n",
       "      <th>Adjacent or nearby building numbers means different address</th>\n",
       "      <td>1.0</td>\n",
       "    </tr>\n",
       "    <tr>\n",
       "      <th>...</th>\n",
       "      <td>...</td>\n",
       "    </tr>\n",
       "    <tr>\n",
       "      <th>Typographical errors in city of same address should match</th>\n",
       "      <td>1.0</td>\n",
       "    </tr>\n",
       "    <tr>\n",
       "      <th>Typographical errors in same address with country should match</th>\n",
       "      <td>1.0</td>\n",
       "    </tr>\n",
       "    <tr>\n",
       "      <th>Typographical errors in street name of same address should match</th>\n",
       "      <td>1.0</td>\n",
       "    </tr>\n",
       "    <tr>\n",
       "      <th>Variant format of same address should match</th>\n",
       "      <td>0.0</td>\n",
       "    </tr>\n",
       "    <tr>\n",
       "      <th>Variant formats of same address should match</th>\n",
       "      <td>1.0</td>\n",
       "    </tr>\n",
       "  </tbody>\n",
       "</table>\n",
       "<p>61 rows × 1 columns</p>\n",
       "</div>"
      ],
      "text/plain": [
       "                                                    classifier_match_boolean_acc\n",
       "Description                                                                     \n",
       "Abbreviated street type for same address should...                           1.0\n",
       "Abbreviated vs. full street names for same addr...                           1.0\n",
       "Addition of parenthetical details for same addr...                           1.0\n",
       "Addresses that match are often missing countries                             1.0\n",
       "Adjacent or nearby building numbers means diffe...                           1.0\n",
       "...                                                                          ...\n",
       "Typographical errors in city of same address sh...                           1.0\n",
       "Typographical errors in same address with count...                           1.0\n",
       "Typographical errors in street name of same add...                           1.0\n",
       "Variant format of same address should match                                  0.0\n",
       "Variant formats of same address should match                                 1.0\n",
       "\n",
       "[61 rows x 1 columns]"
      ]
     },
     "execution_count": 39,
     "metadata": {},
     "output_type": "execute_result"
    }
   ],
   "source": [
    "grouped_df"
   ]
  },
  {
   "cell_type": "code",
   "execution_count": 40,
   "id": "c4cde90e-b2db-401a-8a7b-0dd3e24edb6a",
   "metadata": {},
   "outputs": [
    {
     "name": "stdout",
     "output_type": "stream",
     "text": [
      "Number correct: 49\n"
     ]
    },
    {
     "data": {
      "text/html": [
       "<div>\n",
       "<style scoped>\n",
       "    .dataframe tbody tr th:only-of-type {\n",
       "        vertical-align: middle;\n",
       "    }\n",
       "\n",
       "    .dataframe tbody tr th {\n",
       "        vertical-align: top;\n",
       "    }\n",
       "\n",
       "    .dataframe thead th {\n",
       "        text-align: right;\n",
       "    }\n",
       "</style>\n",
       "<table border=\"1\" class=\"dataframe\">\n",
       "  <thead>\n",
       "    <tr style=\"text-align: right;\">\n",
       "      <th></th>\n",
       "      <th>Description</th>\n",
       "      <th>Address1</th>\n",
       "      <th>Address2</th>\n",
       "      <th>Label</th>\n",
       "      <th>classifier_match_boolean</th>\n",
       "      <th>classifier_match_boolean_correct</th>\n",
       "    </tr>\n",
       "  </thead>\n",
       "  <tbody>\n",
       "    <tr>\n",
       "      <th>0</th>\n",
       "      <td>Different directional prefix formats for same ...</td>\n",
       "      <td>2024 NW 5th Ave, Miami, FL 33127</td>\n",
       "      <td>2024 Northwest 5th Avenue, Miami, Florida 33127</td>\n",
       "      <td>1</td>\n",
       "      <td>1</td>\n",
       "      <td>True</td>\n",
       "    </tr>\n",
       "    <tr>\n",
       "      <th>1</th>\n",
       "      <td>Abbreviated street type for same address shoul...</td>\n",
       "      <td>10200 NE 12th St, Bellevue, WA 98003</td>\n",
       "      <td>10200 NE 12th Street, Bellevue, WA 98003</td>\n",
       "      <td>1</td>\n",
       "      <td>1</td>\n",
       "      <td>True</td>\n",
       "    </tr>\n",
       "    <tr>\n",
       "      <th>2</th>\n",
       "      <td>Common misspellings for same address should match</td>\n",
       "      <td>1600 Pennsylvna Ave NW, Washington, DC 20500</td>\n",
       "      <td>1600 Pennsylvania Avenue NW, Washington, DC 20500</td>\n",
       "      <td>1</td>\n",
       "      <td>1</td>\n",
       "      <td>True</td>\n",
       "    </tr>\n",
       "    <tr>\n",
       "      <th>3</th>\n",
       "      <td>Different directional prefix formats for same ...</td>\n",
       "      <td>550 S Hill St, Los Angeles, CA</td>\n",
       "      <td>550 South Hill Street, Los Angeles, California</td>\n",
       "      <td>1</td>\n",
       "      <td>1</td>\n",
       "      <td>True</td>\n",
       "    </tr>\n",
       "    <tr>\n",
       "      <th>4</th>\n",
       "      <td>Numerical variations for same address should m...</td>\n",
       "      <td>Third Ave, New York, NY</td>\n",
       "      <td>3rd Avenue, New York, New York</td>\n",
       "      <td>1</td>\n",
       "      <td>1</td>\n",
       "      <td>True</td>\n",
       "    </tr>\n",
       "    <tr>\n",
       "      <th>5</th>\n",
       "      <td>Different character sets for same address shou...</td>\n",
       "      <td>北京市朝阳区建国路88号</td>\n",
       "      <td>Běijīng Shì Cháoyáng Qū Jiànguó Lù 88 Hào</td>\n",
       "      <td>1</td>\n",
       "      <td>1</td>\n",
       "      <td>True</td>\n",
       "    </tr>\n",
       "    <tr>\n",
       "      <th>6</th>\n",
       "      <td>Variant formats of same address should match</td>\n",
       "      <td>上海市黄浦区南京东路318号</td>\n",
       "      <td>上海黄浦南京东路318号</td>\n",
       "      <td>1</td>\n",
       "      <td>1</td>\n",
       "      <td>True</td>\n",
       "    </tr>\n",
       "    <tr>\n",
       "      <th>7</th>\n",
       "      <td>Variant formats of same address should match</td>\n",
       "      <td>Shànghǎi Shì Huángpǔ Qū Nánjīng Dōng Lù 318 Hào</td>\n",
       "      <td>Shànghǎi Huángpǔ Nánjīng Dōng Lù 318 Hào</td>\n",
       "      <td>1</td>\n",
       "      <td>1</td>\n",
       "      <td>True</td>\n",
       "    </tr>\n",
       "    <tr>\n",
       "      <th>8</th>\n",
       "      <td>Formal and localized format of same address sh...</td>\n",
       "      <td>B-14, Connaught Place, New Delhi, Delhi 110001...</td>\n",
       "      <td>B-14, CP, ND, DL 110001</td>\n",
       "      <td>1</td>\n",
       "      <td>1</td>\n",
       "      <td>True</td>\n",
       "    </tr>\n",
       "    <tr>\n",
       "      <th>9</th>\n",
       "      <td>Different character sets for same address shou...</td>\n",
       "      <td>16, MG Road, Bangalore, Karnataka 560001, India</td>\n",
       "      <td>16, एमजी रोड, बैंगलोर, कर्नाटक 560001</td>\n",
       "      <td>1</td>\n",
       "      <td>1</td>\n",
       "      <td>True</td>\n",
       "    </tr>\n",
       "    <tr>\n",
       "      <th>10</th>\n",
       "      <td>Missing state but has postal code and country ...</td>\n",
       "      <td>Pariser Platz 2, 10117 Berlin, Germany</td>\n",
       "      <td>Pariser Platz 2, 10117 Berlin, Berlin, Germany</td>\n",
       "      <td>1</td>\n",
       "      <td>1</td>\n",
       "      <td>True</td>\n",
       "    </tr>\n",
       "    <tr>\n",
       "      <th>11</th>\n",
       "      <td>Missing state but has postal code and country ...</td>\n",
       "      <td>Marienplatz 1, 80331 Munich, Germany</td>\n",
       "      <td>Marienplatz 1, 80331 Munich, Bavaria, Germany</td>\n",
       "      <td>1</td>\n",
       "      <td>1</td>\n",
       "      <td>True</td>\n",
       "    </tr>\n",
       "    <tr>\n",
       "      <th>12</th>\n",
       "      <td>Abbreviated vs. full street names for same add...</td>\n",
       "      <td>123 Main St, Springfield, IL</td>\n",
       "      <td>123 Main Street, Springfield, IL</td>\n",
       "      <td>1</td>\n",
       "      <td>1</td>\n",
       "      <td>True</td>\n",
       "    </tr>\n",
       "    <tr>\n",
       "      <th>13</th>\n",
       "      <td>Same address with and without country should m...</td>\n",
       "      <td>1600 Amphitheatre Parkway, Mountain View, CA 9...</td>\n",
       "      <td>1600 Amphitheatre Parkway, Mountain View, CA 9...</td>\n",
       "      <td>1</td>\n",
       "      <td>1</td>\n",
       "      <td>True</td>\n",
       "    </tr>\n",
       "    <tr>\n",
       "      <th>14</th>\n",
       "      <td>Same address with and without country should m...</td>\n",
       "      <td>3413 Sean Way, Lawrenceville, GA 30044, U.S.A.</td>\n",
       "      <td>3413 Sean Way, Lawrenceville, Georgia, 30044</td>\n",
       "      <td>1</td>\n",
       "      <td>1</td>\n",
       "      <td>True</td>\n",
       "    </tr>\n",
       "    <tr>\n",
       "      <th>15</th>\n",
       "      <td>Same address with and without district / neigh...</td>\n",
       "      <td>1600 Amphitheatre Parkway, Mountain View, CA 9...</td>\n",
       "      <td>1600 Amphitheatre Parkway, Shoreline, Mountain...</td>\n",
       "      <td>1</td>\n",
       "      <td>1</td>\n",
       "      <td>True</td>\n",
       "    </tr>\n",
       "    <tr>\n",
       "      <th>16</th>\n",
       "      <td>Floor bumbers included or excluded for same ad...</td>\n",
       "      <td>350 5th Ave, 86th Floor, New York, NY 10118</td>\n",
       "      <td>350 5th Ave, New York, NY 10118</td>\n",
       "      <td>1</td>\n",
       "      <td>1</td>\n",
       "      <td>True</td>\n",
       "    </tr>\n",
       "    <tr>\n",
       "      <th>17</th>\n",
       "      <td>Same address incorporates business name or not...</td>\n",
       "      <td>Google, 1600 Amphitheatre Parkway, Mountain Vi...</td>\n",
       "      <td>1600 Amphitheatre Parkway, Mountain View, CA 9...</td>\n",
       "      <td>1</td>\n",
       "      <td>1</td>\n",
       "      <td>True</td>\n",
       "    </tr>\n",
       "    <tr>\n",
       "      <th>18</th>\n",
       "      <td>Intersection vs addresss for same location sho...</td>\n",
       "      <td>1600 Amphitheatre Parkway at Charleston Road, ...</td>\n",
       "      <td>1600 Amphitheatre Parkway, Mountain View, CA 9...</td>\n",
       "      <td>1</td>\n",
       "      <td>1</td>\n",
       "      <td>True</td>\n",
       "    </tr>\n",
       "    <tr>\n",
       "      <th>19</th>\n",
       "      <td>Addition of parenthetical details for same add...</td>\n",
       "      <td>Building 4 (East Wing), 123 Tech Park, Silicon...</td>\n",
       "      <td>Building 4, 123 Tech Park, Silicon Valley, CA ...</td>\n",
       "      <td>1</td>\n",
       "      <td>1</td>\n",
       "      <td>True</td>\n",
       "    </tr>\n",
       "  </tbody>\n",
       "</table>\n",
       "</div>"
      ],
      "text/plain": [
       "                                          Description  \\\n",
       "0   Different directional prefix formats for same ...   \n",
       "1   Abbreviated street type for same address shoul...   \n",
       "2   Common misspellings for same address should match   \n",
       "3   Different directional prefix formats for same ...   \n",
       "4   Numerical variations for same address should m...   \n",
       "5   Different character sets for same address shou...   \n",
       "6        Variant formats of same address should match   \n",
       "7        Variant formats of same address should match   \n",
       "8   Formal and localized format of same address sh...   \n",
       "9   Different character sets for same address shou...   \n",
       "10  Missing state but has postal code and country ...   \n",
       "11  Missing state but has postal code and country ...   \n",
       "12  Abbreviated vs. full street names for same add...   \n",
       "13  Same address with and without country should m...   \n",
       "14  Same address with and without country should m...   \n",
       "15  Same address with and without district / neigh...   \n",
       "16  Floor bumbers included or excluded for same ad...   \n",
       "17  Same address incorporates business name or not...   \n",
       "18  Intersection vs addresss for same location sho...   \n",
       "19  Addition of parenthetical details for same add...   \n",
       "\n",
       "                                             Address1  \\\n",
       "0                    2024 NW 5th Ave, Miami, FL 33127   \n",
       "1                10200 NE 12th St, Bellevue, WA 98003   \n",
       "2        1600 Pennsylvna Ave NW, Washington, DC 20500   \n",
       "3                      550 S Hill St, Los Angeles, CA   \n",
       "4                             Third Ave, New York, NY   \n",
       "5                                        北京市朝阳区建国路88号   \n",
       "6                                      上海市黄浦区南京东路318号   \n",
       "7     Shànghǎi Shì Huángpǔ Qū Nánjīng Dōng Lù 318 Hào   \n",
       "8   B-14, Connaught Place, New Delhi, Delhi 110001...   \n",
       "9     16, MG Road, Bangalore, Karnataka 560001, India   \n",
       "10             Pariser Platz 2, 10117 Berlin, Germany   \n",
       "11               Marienplatz 1, 80331 Munich, Germany   \n",
       "12                       123 Main St, Springfield, IL   \n",
       "13  1600 Amphitheatre Parkway, Mountain View, CA 9...   \n",
       "14     3413 Sean Way, Lawrenceville, GA 30044, U.S.A.   \n",
       "15  1600 Amphitheatre Parkway, Mountain View, CA 9...   \n",
       "16        350 5th Ave, 86th Floor, New York, NY 10118   \n",
       "17  Google, 1600 Amphitheatre Parkway, Mountain Vi...   \n",
       "18  1600 Amphitheatre Parkway at Charleston Road, ...   \n",
       "19  Building 4 (East Wing), 123 Tech Park, Silicon...   \n",
       "\n",
       "                                             Address2  Label  \\\n",
       "0     2024 Northwest 5th Avenue, Miami, Florida 33127      1   \n",
       "1            10200 NE 12th Street, Bellevue, WA 98003      1   \n",
       "2   1600 Pennsylvania Avenue NW, Washington, DC 20500      1   \n",
       "3      550 South Hill Street, Los Angeles, California      1   \n",
       "4                      3rd Avenue, New York, New York      1   \n",
       "5           Běijīng Shì Cháoyáng Qū Jiànguó Lù 88 Hào      1   \n",
       "6                                        上海黄浦南京东路318号      1   \n",
       "7            Shànghǎi Huángpǔ Nánjīng Dōng Lù 318 Hào      1   \n",
       "8                             B-14, CP, ND, DL 110001      1   \n",
       "9               16, एमजी रोड, बैंगलोर, कर्नाटक 560001      1   \n",
       "10     Pariser Platz 2, 10117 Berlin, Berlin, Germany      1   \n",
       "11      Marienplatz 1, 80331 Munich, Bavaria, Germany      1   \n",
       "12                   123 Main Street, Springfield, IL      1   \n",
       "13  1600 Amphitheatre Parkway, Mountain View, CA 9...      1   \n",
       "14       3413 Sean Way, Lawrenceville, Georgia, 30044      1   \n",
       "15  1600 Amphitheatre Parkway, Shoreline, Mountain...      1   \n",
       "16                    350 5th Ave, New York, NY 10118      1   \n",
       "17  1600 Amphitheatre Parkway, Mountain View, CA 9...      1   \n",
       "18  1600 Amphitheatre Parkway, Mountain View, CA 9...      1   \n",
       "19  Building 4, 123 Tech Park, Silicon Valley, CA ...      1   \n",
       "\n",
       "    classifier_match_boolean  classifier_match_boolean_correct  \n",
       "0                          1                              True  \n",
       "1                          1                              True  \n",
       "2                          1                              True  \n",
       "3                          1                              True  \n",
       "4                          1                              True  \n",
       "5                          1                              True  \n",
       "6                          1                              True  \n",
       "7                          1                              True  \n",
       "8                          1                              True  \n",
       "9                          1                              True  \n",
       "10                         1                              True  \n",
       "11                         1                              True  \n",
       "12                         1                              True  \n",
       "13                         1                              True  \n",
       "14                         1                              True  \n",
       "15                         1                              True  \n",
       "16                         1                              True  \n",
       "17                         1                              True  \n",
       "18                         1                              True  \n",
       "19                         1                              True  "
      ]
     },
     "execution_count": 40,
     "metadata": {},
     "output_type": "execute_result"
    }
   ],
   "source": [
    "# Truthiness analysis\n",
    "correct_df = raw_df[raw_df[\"classifier_match_boolean_correct\"]].reset_index(drop=True)\n",
    "print(f\"Number correct: {len(correct_df):,}\")\n",
    "\n",
    "correct_df.head(20)"
   ]
  },
  {
   "cell_type": "code",
   "execution_count": 41,
   "id": "06ed830e-88ff-4c92-addb-ea73f60a5edf",
   "metadata": {},
   "outputs": [
    {
     "name": "stdout",
     "output_type": "stream",
     "text": [
      "Number wrong: 30\n"
     ]
    },
    {
     "data": {
      "text/html": [
       "<div>\n",
       "<style scoped>\n",
       "    .dataframe tbody tr th:only-of-type {\n",
       "        vertical-align: middle;\n",
       "    }\n",
       "\n",
       "    .dataframe tbody tr th {\n",
       "        vertical-align: top;\n",
       "    }\n",
       "\n",
       "    .dataframe thead th {\n",
       "        text-align: right;\n",
       "    }\n",
       "</style>\n",
       "<table border=\"1\" class=\"dataframe\">\n",
       "  <thead>\n",
       "    <tr style=\"text-align: right;\">\n",
       "      <th></th>\n",
       "      <th>index</th>\n",
       "      <th>Description</th>\n",
       "      <th>Address1</th>\n",
       "      <th>Address2</th>\n",
       "      <th>Label</th>\n",
       "      <th>classifier_match_boolean</th>\n",
       "      <th>classifier_match_boolean_correct</th>\n",
       "    </tr>\n",
       "  </thead>\n",
       "  <tbody>\n",
       "    <tr>\n",
       "      <th>0</th>\n",
       "      <td>4</td>\n",
       "      <td>Incomplete address vs full address may match</td>\n",
       "      <td>1020 SW 2nd Ave, Portland</td>\n",
       "      <td>1020 SW 2nd Ave, Portland, OR 97204</td>\n",
       "      <td>1</td>\n",
       "      <td>0</td>\n",
       "      <td>False</td>\n",
       "    </tr>\n",
       "    <tr>\n",
       "      <th>1</th>\n",
       "      <td>6</td>\n",
       "      <td>Variant format of same address should match</td>\n",
       "      <td>350 Fifth Avenue, New York, NY 10118</td>\n",
       "      <td>Empire State Bldg, 350 5th Ave, NY, NY 10118</td>\n",
       "      <td>1</td>\n",
       "      <td>0</td>\n",
       "      <td>False</td>\n",
       "    </tr>\n",
       "    <tr>\n",
       "      <th>2</th>\n",
       "      <td>7</td>\n",
       "      <td>Variant format of same address should match</td>\n",
       "      <td>Çırağan Caddesi No: 32, 34349 Beşiktaş, Istanb...</td>\n",
       "      <td>Ciragan Palace Hotel, Ciragan Street 32, Besik...</td>\n",
       "      <td>1</td>\n",
       "      <td>0</td>\n",
       "      <td>False</td>\n",
       "    </tr>\n",
       "    <tr>\n",
       "      <th>3</th>\n",
       "      <td>16</td>\n",
       "      <td>Different languages for same address should match</td>\n",
       "      <td>北京市东城区东长安街16号</td>\n",
       "      <td>16 Dongchang'an St, Dongcheng, Beijing, China</td>\n",
       "      <td>1</td>\n",
       "      <td>0</td>\n",
       "      <td>False</td>\n",
       "    </tr>\n",
       "    <tr>\n",
       "      <th>4</th>\n",
       "      <td>19</td>\n",
       "      <td>Different levels of detail for the same addres...</td>\n",
       "      <td>221B Baker Street, London, NW1 6XE, UK</td>\n",
       "      <td>221B Baker St, Marylebone, London NW1 6XE</td>\n",
       "      <td>1</td>\n",
       "      <td>0</td>\n",
       "      <td>False</td>\n",
       "    </tr>\n",
       "    <tr>\n",
       "      <th>5</th>\n",
       "      <td>21</td>\n",
       "      <td>Including and excluding building names for sam...</td>\n",
       "      <td>The Empire State Building, 350 5th Ave, New Yo...</td>\n",
       "      <td>350 5th Ave, New York, NY 10118</td>\n",
       "      <td>1</td>\n",
       "      <td>0</td>\n",
       "      <td>False</td>\n",
       "    </tr>\n",
       "    <tr>\n",
       "      <th>6</th>\n",
       "      <td>25</td>\n",
       "      <td>Local vs. international formatting for same ad...</td>\n",
       "      <td>221B Baker Street, London, NW1 6XE, UK</td>\n",
       "      <td>221B Baker Street, Marylebone, London, NW1 6XE...</td>\n",
       "      <td>1</td>\n",
       "      <td>0</td>\n",
       "      <td>False</td>\n",
       "    </tr>\n",
       "    <tr>\n",
       "      <th>7</th>\n",
       "      <td>30</td>\n",
       "      <td>Including a business name or not, in same addr...</td>\n",
       "      <td>123 Main St, Springfield, IL</td>\n",
       "      <td>Company ABC, 123 Main St, Springfield, IL</td>\n",
       "      <td>1</td>\n",
       "      <td>0</td>\n",
       "      <td>False</td>\n",
       "    </tr>\n",
       "    <tr>\n",
       "      <th>8</th>\n",
       "      <td>35</td>\n",
       "      <td>Common typographical errors in same address sh...</td>\n",
       "      <td>北京市东城区东长安街1号, 中国</td>\n",
       "      <td>北京市东城区东长安街1号, 中囯</td>\n",
       "      <td>1</td>\n",
       "      <td>0</td>\n",
       "      <td>False</td>\n",
       "    </tr>\n",
       "    <tr>\n",
       "      <th>9</th>\n",
       "      <td>42</td>\n",
       "      <td>Different street numbers means different address</td>\n",
       "      <td>101 Oak Lane, Marietta, GA 30008</td>\n",
       "      <td>102 Oak Lane, Marietta, GA 30008</td>\n",
       "      <td>0</td>\n",
       "      <td>1</td>\n",
       "      <td>False</td>\n",
       "    </tr>\n",
       "    <tr>\n",
       "      <th>10</th>\n",
       "      <td>43</td>\n",
       "      <td>Different street names means different address</td>\n",
       "      <td>101 Market Square, Seattle, WA 98039</td>\n",
       "      <td>101 Davis Place, Seattle, WA 98039</td>\n",
       "      <td>0</td>\n",
       "      <td>1</td>\n",
       "      <td>False</td>\n",
       "    </tr>\n",
       "    <tr>\n",
       "      <th>11</th>\n",
       "      <td>44</td>\n",
       "      <td>Different street name endings means different ...</td>\n",
       "      <td>100 Oak Lane, Atlanta, GA 30306</td>\n",
       "      <td>100 Oak Place, Atlanta, GA 30306</td>\n",
       "      <td>0</td>\n",
       "      <td>1</td>\n",
       "      <td>False</td>\n",
       "    </tr>\n",
       "    <tr>\n",
       "      <th>12</th>\n",
       "      <td>45</td>\n",
       "      <td>Different cities means different address</td>\n",
       "      <td>2754 Ralph McGill Blvd, Atlanta, GA</td>\n",
       "      <td>2754 Ralph McGill Blvd, Macon, GA</td>\n",
       "      <td>0</td>\n",
       "      <td>1</td>\n",
       "      <td>False</td>\n",
       "    </tr>\n",
       "    <tr>\n",
       "      <th>13</th>\n",
       "      <td>46</td>\n",
       "      <td>Different states means different address</td>\n",
       "      <td>361 Oakhurst Ave., Rome, GA 30149</td>\n",
       "      <td>361 Oakhurst Ave., Rome, NY, 13308</td>\n",
       "      <td>0</td>\n",
       "      <td>1</td>\n",
       "      <td>False</td>\n",
       "    </tr>\n",
       "    <tr>\n",
       "      <th>14</th>\n",
       "      <td>49</td>\n",
       "      <td>Similar street names with different directions...</td>\n",
       "      <td>200 1st Ave, Seattle, WA 98109</td>\n",
       "      <td>200 1st Ave N, Seattle, WA 98109</td>\n",
       "      <td>0</td>\n",
       "      <td>1</td>\n",
       "      <td>False</td>\n",
       "    </tr>\n",
       "    <tr>\n",
       "      <th>15</th>\n",
       "      <td>50</td>\n",
       "      <td>Adjacent or nearby building numbers means diff...</td>\n",
       "      <td>4800 Oak Street, Kansas City, MO 64112</td>\n",
       "      <td>4800 W Oak Street, Kansas City, MO 64112</td>\n",
       "      <td>0</td>\n",
       "      <td>1</td>\n",
       "      <td>False</td>\n",
       "    </tr>\n",
       "    <tr>\n",
       "      <th>16</th>\n",
       "      <td>53</td>\n",
       "      <td>Similar road names can be different addresses</td>\n",
       "      <td>北京市朝阳区朝阳门外大街6号</td>\n",
       "      <td>北京市朝阳区朝阳门内大街6号</td>\n",
       "      <td>0</td>\n",
       "      <td>1</td>\n",
       "      <td>False</td>\n",
       "    </tr>\n",
       "    <tr>\n",
       "      <th>17</th>\n",
       "      <td>54</td>\n",
       "      <td>Similar road names can be different addresses</td>\n",
       "      <td>Běijīng Shì Cháoyáng Qū Cháoyángmén Wài Dàjiē ...</td>\n",
       "      <td>Běijīng Shì Cháoyáng Qū Cháoyángmén Nèi Dàjiē ...</td>\n",
       "      <td>0</td>\n",
       "      <td>1</td>\n",
       "      <td>False</td>\n",
       "    </tr>\n",
       "    <tr>\n",
       "      <th>18</th>\n",
       "      <td>55</td>\n",
       "      <td>Similar building names can be different addresses</td>\n",
       "      <td>上海市徐汇区中山西路200号</td>\n",
       "      <td>上海市长宁区中山西路200号</td>\n",
       "      <td>0</td>\n",
       "      <td>1</td>\n",
       "      <td>False</td>\n",
       "    </tr>\n",
       "    <tr>\n",
       "      <th>19</th>\n",
       "      <td>56</td>\n",
       "      <td>Similar but different building names means dif...</td>\n",
       "      <td>Shànghǎi Shì Xúhuì Qū Zhōngshān Xī Lù 200 Hào</td>\n",
       "      <td>Shànghǎi Shì Chángníng Qū Zhōngshān Xī Lù 200 Hào</td>\n",
       "      <td>0</td>\n",
       "      <td>1</td>\n",
       "      <td>False</td>\n",
       "    </tr>\n",
       "  </tbody>\n",
       "</table>\n",
       "</div>"
      ],
      "text/plain": [
       "    index                                        Description  \\\n",
       "0       4       Incomplete address vs full address may match   \n",
       "1       6        Variant format of same address should match   \n",
       "2       7        Variant format of same address should match   \n",
       "3      16  Different languages for same address should match   \n",
       "4      19  Different levels of detail for the same addres...   \n",
       "5      21  Including and excluding building names for sam...   \n",
       "6      25  Local vs. international formatting for same ad...   \n",
       "7      30  Including a business name or not, in same addr...   \n",
       "8      35  Common typographical errors in same address sh...   \n",
       "9      42   Different street numbers means different address   \n",
       "10     43     Different street names means different address   \n",
       "11     44  Different street name endings means different ...   \n",
       "12     45           Different cities means different address   \n",
       "13     46           Different states means different address   \n",
       "14     49  Similar street names with different directions...   \n",
       "15     50  Adjacent or nearby building numbers means diff...   \n",
       "16     53      Similar road names can be different addresses   \n",
       "17     54      Similar road names can be different addresses   \n",
       "18     55  Similar building names can be different addresses   \n",
       "19     56  Similar but different building names means dif...   \n",
       "\n",
       "                                             Address1  \\\n",
       "0                           1020 SW 2nd Ave, Portland   \n",
       "1                350 Fifth Avenue, New York, NY 10118   \n",
       "2   Çırağan Caddesi No: 32, 34349 Beşiktaş, Istanb...   \n",
       "3                                       北京市东城区东长安街16号   \n",
       "4              221B Baker Street, London, NW1 6XE, UK   \n",
       "5   The Empire State Building, 350 5th Ave, New Yo...   \n",
       "6              221B Baker Street, London, NW1 6XE, UK   \n",
       "7                        123 Main St, Springfield, IL   \n",
       "8                                    北京市东城区东长安街1号, 中国   \n",
       "9                    101 Oak Lane, Marietta, GA 30008   \n",
       "10               101 Market Square, Seattle, WA 98039   \n",
       "11                    100 Oak Lane, Atlanta, GA 30306   \n",
       "12                2754 Ralph McGill Blvd, Atlanta, GA   \n",
       "13                  361 Oakhurst Ave., Rome, GA 30149   \n",
       "14                     200 1st Ave, Seattle, WA 98109   \n",
       "15             4800 Oak Street, Kansas City, MO 64112   \n",
       "16                                     北京市朝阳区朝阳门外大街6号   \n",
       "17  Běijīng Shì Cháoyáng Qū Cháoyángmén Wài Dàjiē ...   \n",
       "18                                     上海市徐汇区中山西路200号   \n",
       "19      Shànghǎi Shì Xúhuì Qū Zhōngshān Xī Lù 200 Hào   \n",
       "\n",
       "                                             Address2  Label  \\\n",
       "0                 1020 SW 2nd Ave, Portland, OR 97204      1   \n",
       "1        Empire State Bldg, 350 5th Ave, NY, NY 10118      1   \n",
       "2   Ciragan Palace Hotel, Ciragan Street 32, Besik...      1   \n",
       "3       16 Dongchang'an St, Dongcheng, Beijing, China      1   \n",
       "4           221B Baker St, Marylebone, London NW1 6XE      1   \n",
       "5                     350 5th Ave, New York, NY 10118      1   \n",
       "6   221B Baker Street, Marylebone, London, NW1 6XE...      1   \n",
       "7           Company ABC, 123 Main St, Springfield, IL      1   \n",
       "8                                    北京市东城区东长安街1号, 中囯      1   \n",
       "9                    102 Oak Lane, Marietta, GA 30008      0   \n",
       "10                 101 Davis Place, Seattle, WA 98039      0   \n",
       "11                   100 Oak Place, Atlanta, GA 30306      0   \n",
       "12                  2754 Ralph McGill Blvd, Macon, GA      0   \n",
       "13                 361 Oakhurst Ave., Rome, NY, 13308      0   \n",
       "14                   200 1st Ave N, Seattle, WA 98109      0   \n",
       "15           4800 W Oak Street, Kansas City, MO 64112      0   \n",
       "16                                     北京市朝阳区朝阳门内大街6号      0   \n",
       "17  Běijīng Shì Cháoyáng Qū Cháoyángmén Nèi Dàjiē ...      0   \n",
       "18                                     上海市长宁区中山西路200号      0   \n",
       "19  Shànghǎi Shì Chángníng Qū Zhōngshān Xī Lù 200 Hào      0   \n",
       "\n",
       "    classifier_match_boolean  classifier_match_boolean_correct  \n",
       "0                          0                             False  \n",
       "1                          0                             False  \n",
       "2                          0                             False  \n",
       "3                          0                             False  \n",
       "4                          0                             False  \n",
       "5                          0                             False  \n",
       "6                          0                             False  \n",
       "7                          0                             False  \n",
       "8                          0                             False  \n",
       "9                          1                             False  \n",
       "10                         1                             False  \n",
       "11                         1                             False  \n",
       "12                         1                             False  \n",
       "13                         1                             False  \n",
       "14                         1                             False  \n",
       "15                         1                             False  \n",
       "16                         1                             False  \n",
       "17                         1                             False  \n",
       "18                         1                             False  \n",
       "19                         1                             False  "
      ]
     },
     "execution_count": 41,
     "metadata": {},
     "output_type": "execute_result"
    }
   ],
   "source": [
    "# Error analysis\n",
    "wrong_df = raw_df[raw_df[\"classifier_match_boolean_correct\"] == False].reset_index()\n",
    "print(f\"Number wrong: {len(wrong_df):,}\")\n",
    "\n",
    "wrong_df.head(20)"
   ]
  },
  {
   "cell_type": "code",
   "execution_count": 42,
   "id": "54205060-4522-4bea-840a-fc0aede13d20",
   "metadata": {},
   "outputs": [
    {
     "data": {
      "text/plain": [
       "0.9794847369194031"
      ]
     },
     "execution_count": 42,
     "metadata": {},
     "output_type": "execute_result"
    }
   ],
   "source": [
    "classifier_model.predict(\n",
    "    \"101 Oak Lane, Atlanta, GA 30308\",\n",
    "    \"102 Oak Lane, Atlanta, GA 30308\",\n",
    ")"
   ]
  },
  {
   "cell_type": "code",
   "execution_count": 43,
   "id": "37beb453-3084-4e3f-b635-c4f9882f12e4",
   "metadata": {},
   "outputs": [
    {
     "data": {
      "text/plain": [
       "0.7906560301780701"
      ]
     },
     "execution_count": 43,
     "metadata": {},
     "output_type": "execute_result"
    }
   ],
   "source": [
    "classifier_model.predict(\n",
    "    \"101 Oak Lane, Macon, GA 30308\",\n",
    "    \"101 Oak Lane, Atlanta, GA 30408\",\n",
    ")"
   ]
  },
  {
   "cell_type": "code",
   "execution_count": 44,
   "id": "29452c9c-abb1-49b7-819e-b0a42ede9440",
   "metadata": {},
   "outputs": [
    {
     "data": {
      "text/plain": [
       "0.9257922172546387"
      ]
     },
     "execution_count": 44,
     "metadata": {},
     "output_type": "execute_result"
    }
   ],
   "source": [
    "classifier_model.predict(\n",
    "    \"101 Oak Lane, Atlanta, GA 30308\",\n",
    "    \"101 Oak Ln., Atlanta, GA 30308\",\n",
    ")"
   ]
  },
  {
   "cell_type": "code",
   "execution_count": 45,
   "id": "3d97d1c0-4e93-47a2-b52d-7c5be5ce555d",
   "metadata": {},
   "outputs": [
    {
     "data": {
      "text/plain": [
       "-0.19255906343460083"
      ]
     },
     "execution_count": 45,
     "metadata": {},
     "output_type": "execute_result"
    }
   ],
   "source": [
    "classifier_model.predict(\n",
    "    \"3413 Sean Way, Lawrenceville, GA 30044\",\n",
    "    \"1202 Oak Rd., Lawrenceville, GA 30304\",\n",
    ")"
   ]
  },
  {
   "cell_type": "code",
   "execution_count": 46,
   "id": "4972bc19-ba6b-4e0b-80cc-80baf013ce49",
   "metadata": {},
   "outputs": [
    {
     "data": {
      "text/plain": [
       "0.8544998168945312"
      ]
     },
     "execution_count": 46,
     "metadata": {},
     "output_type": "execute_result"
    }
   ],
   "source": [
    "classifier_model.predict(\n",
    "    \"3413 Sean Way, Lawrenceville, GA 30044\",\n",
    "    \"3413 Sean Way, Lawrenceville, GA 30044, USA\",\n",
    ")"
   ]
  },
  {
   "cell_type": "code",
   "execution_count": null,
   "id": "3b3a3f91-9a58-4a7b-986c-9d27d23dd98a",
   "metadata": {},
   "outputs": [],
   "source": []
  }
 ],
 "metadata": {
  "kernelspec": {
   "display_name": "Python 3 (ipykernel)",
   "language": "python",
   "name": "python3"
  },
  "language_info": {
   "codemirror_mode": {
    "name": "ipython",
    "version": 3
   },
   "file_extension": ".py",
   "mimetype": "text/x-python",
   "name": "python",
   "nbconvert_exporter": "python",
   "pygments_lexer": "ipython3",
   "version": "3.11.9"
  }
 },
 "nbformat": 4,
 "nbformat_minor": 5
}
